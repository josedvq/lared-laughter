{
 "cells": [
  {
   "cell_type": "code",
   "execution_count": 1,
   "metadata": {},
   "outputs": [],
   "source": [
    "%load_ext autoreload\n",
    "%autoreload 2"
   ]
  },
  {
   "cell_type": "code",
   "execution_count": 2,
   "metadata": {},
   "outputs": [],
   "source": [
    "import os\n",
    "import sys\n",
    "import logging"
   ]
  },
  {
   "cell_type": "code",
   "execution_count": 3,
   "metadata": {},
   "outputs": [],
   "source": [
    "import torch\n",
    "\n",
    "import numpy as np\n",
    "import pandas as pd\n",
    "from sklearn.model_selection import KFold, GroupKFold\n",
    "from IPython.display import clear_output\n",
    "import pytorch_lightning as pl\n",
    "logging.getLogger(\"pytorch_lightning\").setLevel(logging.WARNING)\n",
    "# set the cudnn\n",
    "torch.backends.cudnn.benchmark=False\n",
    "torch.backends.cudnn.deterministic=True"
   ]
  },
  {
   "cell_type": "code",
   "execution_count": 4,
   "metadata": {},
   "outputs": [],
   "source": [
    "from lared_laughter.fusion.dataset import FatherDataset, FatherDatasetSubset, CacheExtractor\n",
    "from lared_laughter.accel.dataset import AccelExtractor\n",
    "from lared_laughter.audio.dataset import AudioLaughterExtractor\n",
    "from lared_laughter.video.dataset import VideoExtractor\n",
    "from lared_laughter.audio.models.resnet import get_pretrained_body as get_audio_feature_extractor\n",
    "from lared_laughter.video.models.models import make_slow_pretrained_body as get_video_feature_extractor\n",
    "from lared_laughter.video.dataset.transforms import get_kinetics_val_transform\n",
    "from lared_laughter.constants import annot_exp_path, datasets_path\n",
    "from lared_laughter.utils import load_examples\n",
    "from lared_laughter.fusion.train import System, train, test\n",
    "from lared_laughter.fusion.utils import make_table"
   ]
  },
  {
   "cell_type": "code",
   "execution_count": 5,
   "metadata": {},
   "outputs": [],
   "source": [
    "def do_cross_validation(do_train, ds, input_modalities, model_label_modality, test_label_modality,\n",
    "    random_state, task='classification', prefix=None, first_fold_only=False, deterministic=False):\n",
    "    \n",
    "    cv_splits = list(GroupKFold(n_splits=10).split(range(len(ds)), groups=ds.get_groups()))\n",
    "    \n",
    "    if first_fold_only:\n",
    "        # only do first fold\n",
    "        cv_splits = [cv_splits[0]]\n",
    "    else:\n",
    "        # skip the first fold\n",
    "        cv_splits = cv_splits[1:]\n",
    "\n",
    "    all_results = []\n",
    "    for f, (train_idx, test_idx) in enumerate(cv_splits):\n",
    "        # load feature caches for fold f\n",
    "        ds.load_caches(f)\n",
    "        train_ds = FatherDatasetSubset(ds, train_idx, eval=False)\n",
    "        test_ds = FatherDatasetSubset(ds, test_idx, eval=True)\n",
    "\n",
    "        weights_path = os.path.join(\n",
    "            'weights',\n",
    "            f'I{\"-\".join(input_modalities)}_L{model_label_modality}_fold{f}.ckpt'\n",
    "        )\n",
    "\n",
    "        if do_train:\n",
    "            trainer = train(f, train_ds, test_ds, input_modalities,\n",
    "                prefix = prefix + f'_fold{f}' if prefix else None,\n",
    "                task=task,\n",
    "                eval_every_epoch=first_fold_only,\n",
    "                deterministic=deterministic,\n",
    "                weights_path=weights_path)\n",
    "            model = trainer.model\n",
    "        else:\n",
    "            model = System.load_from_checkpoint(checkpoint_path=weights_path)\n",
    "\n",
    "        fold_outputs = test(f, model, test_ds, prefix = prefix + f'_fold{f}' if prefix else None,)\n",
    "        all_results.append(fold_outputs)\n",
    "        \n",
    "        # store the cache to disk\n",
    "        ds.store_caches(clear=True)\n",
    "\n",
    "        clear_output(wait=False)\n",
    "\n",
    "    outputs = [r['proba'].numpy() for r in all_results]\n",
    "    indices = [r['index'].numpy() for r in all_results]\n",
    "    metrics = [r['metric'] for r in all_results]\n",
    "    return metrics, outputs, indices"
   ]
  },
  {
   "cell_type": "code",
   "execution_count": 6,
   "metadata": {},
   "outputs": [],
   "source": [
    "def do_run(examples, input_modalities, model_label_modality, test_label_modality,\n",
    "    do_train=True, regression=False, first_fold_only=False, prefix=''):\n",
    "    ''' train = True will train the models, and requires \n",
    "            model_label_modality = test_label_modality\n",
    "        train = False will load weights to test the models and does not require\n",
    "            model_label_modality = test_label_modality\n",
    "    '''\n",
    "    if do_train:\n",
    "        assert model_label_modality == test_label_modality\n",
    "\n",
    "    if regression:\n",
    "        examples.loc[examples['intensity'].isna(), 'intensity'] = 0\n",
    "        examples.loc[~examples['pressed_key'], 'intensity'] = 0\n",
    "        label_column = 'intensity'\n",
    "    else:\n",
    "        label_column = 'pressed_key'\n",
    "\n",
    "    print(f'Using {len(examples)} examples')\n",
    "\n",
    "    # create the feature datasets\n",
    "    extractors = {}\n",
    "    if 'audio' in input_modalities:\n",
    "        audios_path = os.path.join(datasets_path, \"loose\", \"lared_audios.pkl\")\n",
    "        extractors['audio'] = CacheExtractor(\n",
    "            enable=False,\n",
    "            model = get_audio_feature_extractor().cuda(),\n",
    "            extractor = AudioLaughterExtractor(audios_path, min_len=1.5, max_len=1.5, n_jobs=10),\n",
    "            cache_path=f'./cache/Iaudio_L{test_label_modality}_cache{\"_first\" if first_fold_only else \"\"}'\n",
    "        )\n",
    "    if 'video' in input_modalities:\n",
    "        videos_path = '/home/jose/data/lared_video/video'\n",
    "        extractors['video'] = CacheExtractor(\n",
    "            model = get_video_feature_extractor().cuda(),\n",
    "            extractor = VideoExtractor(videos_path, transform=get_kinetics_val_transform(8, 256, False), n_jobs=1),\n",
    "            cache_path=f'./cache/Ivideo_L{test_label_modality}_cache{\"_first\" if first_fold_only else \"\"}'\n",
    "        )\n",
    "    if 'accel' in input_modalities:\n",
    "        accel_ds_path = os.path.join(datasets_path, 'loose', 'accel_long.pkl')\n",
    "        extractors['accel'] = AccelExtractor(accel_ds_path, min_len=1.5, max_len=1.5)\n",
    "\n",
    "    ds = FatherDataset(examples, extractors, label_column=label_column, id_column='hash', )\n",
    "    assert len(ds) == 1318\n",
    "        \n",
    "    seed = 22\n",
    "    pl.utilities.seed.seed_everything(seed, workers=True)\n",
    "\n",
    "    metrics, probas, indices = do_cross_validation(\n",
    "        do_train,\n",
    "        ds,\n",
    "        first_fold_only=first_fold_only,\n",
    "        input_modalities=input_modalities,\n",
    "        model_label_modality = model_label_modality, \n",
    "        test_label_modality = test_label_modality,\n",
    "        task='regression' if regression else 'classification',\n",
    "        deterministic=True,\n",
    "        random_state=seed,\n",
    "        prefix=f'{prefix}I{\"-\".join(input_modalities)}_L{model_label_modality}_T{test_label_modality}')\n",
    "\n",
    "    torch.cuda.empty_cache()\n",
    "\n",
    "    return {\n",
    "        'metrics': metrics,\n",
    "        'probas': probas,\n",
    "        'indices': indices,\n",
    "        'seed': seed\n",
    "    }"
   ]
  },
  {
   "cell_type": "code",
   "execution_count": 12,
   "metadata": {},
   "outputs": [],
   "source": [
    "def get_table(regression=False, first_fold_only=False, do_train=True):\n",
    "    examples = load_examples(os.path.join(annot_exp_path, 'processed', 'examples_without_calibration.csv'))\n",
    "    \n",
    "\n",
    "    res = {}\n",
    "    for input_modalities in [('video',)]:#[('accel',), ('audio',), ('video',)]:\n",
    "        input_modality_res = {}\n",
    "\n",
    "        for label_modality in ['audio', 'video', 'av']:\n",
    "\n",
    "            filtered_examples = examples[examples['condition'] == label_modality].reset_index()\n",
    "            run_results = do_run(\n",
    "                filtered_examples, \n",
    "                input_modalities, \n",
    "                model_label_modality=label_modality,\n",
    "                test_label_modality=label_modality,\n",
    "                do_train=do_train,\n",
    "                first_fold_only=first_fold_only,\n",
    "                regression=regression,\n",
    "                prefix='')\n",
    "            input_modality_res[label_modality] = [run_results]\n",
    "\n",
    "        res['-'.join(input_modalities)] = input_modality_res\n",
    "    return res"
   ]
  },
  {
   "cell_type": "code",
   "execution_count": 13,
   "metadata": {},
   "outputs": [],
   "source": [
    "res = get_table(do_train=True)"
   ]
  },
  {
   "cell_type": "code",
   "execution_count": 14,
   "metadata": {},
   "outputs": [
    {
     "name": "stdout",
     "output_type": "stream",
     "text": [
      "\\begin{tabular}{llll}\n",
      "\\toprule\n",
      "             & \\multicolumn{3}{l}{Label Modality} \\\\\n",
      "       Input &          Audio &         Video &   Audiovisual \\\\\n",
      "\\midrule\n",
      "Acceleration &  0.704 (0.076) & 0.640 (0.036) & 0.667 (0.057) \\\\\n",
      "\\bottomrule\n",
      "\\end{tabular}\n",
      "\n"
     ]
    },
    {
     "name": "stderr",
     "output_type": "stream",
     "text": [
      "/mnt/c/Users/Jose/Documents/furnace/lared_laughter/fusion/utils.py:23: FutureWarning: The default dtype for empty Series will be 'object' instead of 'float64' in a future version. Specify a dtype explicitly to silence this warning.\n",
      "  row = pd.Series(index=index)\n",
      "/tmp/ipykernel_5521/3541248050.py:1: FutureWarning: In future versions `DataFrame.to_latex` is expected to utilise the base implementation of `Styler.to_latex` for formatting and rendering. The arguments signature may therefore change. It is recommended instead to use `DataFrame.style.to_latex` which also contains additional functionality.\n",
      "  print(make_table(res).to_latex(\n"
     ]
    }
   ],
   "source": [
    "print(make_table(res).to_latex(\n",
    "    index=False,\n",
    "))"
   ]
  },
  {
   "cell_type": "code",
   "execution_count": null,
   "metadata": {},
   "outputs": [],
   "source": []
  },
  {
   "cell_type": "code",
   "execution_count": null,
   "metadata": {},
   "outputs": [],
   "source": []
  },
  {
   "cell_type": "code",
   "execution_count": null,
   "metadata": {},
   "outputs": [],
   "source": []
  },
  {
   "cell_type": "code",
   "execution_count": null,
   "metadata": {},
   "outputs": [],
   "source": []
  },
  {
   "cell_type": "code",
   "execution_count": null,
   "metadata": {},
   "outputs": [],
   "source": []
  },
  {
   "cell_type": "code",
   "execution_count": null,
   "metadata": {},
   "outputs": [],
   "source": []
  },
  {
   "cell_type": "code",
   "execution_count": null,
   "metadata": {},
   "outputs": [],
   "source": []
  },
  {
   "cell_type": "code",
   "execution_count": null,
   "metadata": {},
   "outputs": [],
   "source": []
  },
  {
   "cell_type": "code",
   "execution_count": null,
   "metadata": {},
   "outputs": [],
   "source": []
  }
 ],
 "metadata": {
  "kernelspec": {
   "display_name": "Python 3.8.13 ('base')",
   "language": "python",
   "name": "python3"
  },
  "language_info": {
   "codemirror_mode": {
    "name": "ipython",
    "version": 3
   },
   "file_extension": ".py",
   "mimetype": "text/x-python",
   "name": "python",
   "nbconvert_exporter": "python",
   "pygments_lexer": "ipython3",
   "version": "3.8.13"
  },
  "orig_nbformat": 4,
  "vscode": {
   "interpreter": {
    "hash": "7ff63645dd16f55240e07095d3c46f4fac3f89ef16802cfaceca713f6cf38dfb"
   }
  }
 },
 "nbformat": 4,
 "nbformat_minor": 2
}
