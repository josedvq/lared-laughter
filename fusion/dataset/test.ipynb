{
 "cells": [
  {
   "cell_type": "code",
   "execution_count": 1,
   "metadata": {},
   "outputs": [],
   "source": [
    "%load_ext autoreload\n",
    "%autoreload 2"
   ]
  },
  {
   "cell_type": "code",
   "execution_count": 2,
   "metadata": {},
   "outputs": [],
   "source": [
    "import os\n",
    "import types\n",
    "from functools import partial"
   ]
  },
  {
   "cell_type": "code",
   "execution_count": 3,
   "metadata": {},
   "outputs": [],
   "source": [
    "import torch\n",
    "import torch.nn.functional as F\n",
    "import numpy as np\n",
    "import pandas as pd\n",
    "from sklearn.model_selection import KFold\n",
    "from sklearn.metrics import roc_auc_score\n",
    "from torch.utils.data import DataLoader, random_split, Subset\n",
    "from IPython.display import clear_output\n",
    "import pytorch_lightning as pl\n",
    "from pytorch_lightning.callbacks.early_stopping import EarlyStopping"
   ]
  },
  {
   "cell_type": "code",
   "execution_count": 4,
   "metadata": {},
   "outputs": [],
   "source": [
    "from lared_laughter.fusion.dataset import FatherDataset, LabelExtractor\n",
    "from lared_laughter.accel.dataset import AccelExtractor\n",
    "from lared_laughter.audio.dataset import AudioLaughterExtractor\n",
    "from lared_laughter.video.dataset import VideoExtractor\n",
    "from lared_laughter.video.dataset.transforms import get_kinetics_val_transform\n",
    "from lared_laughter.constants import annot_exp_path, datasets_path\n",
    "from lared_laughter.utils import get_metrics, load_examples\n",
    "from lared_laughter.fusion.model import FusionModel\n",
    "from lared_laughter.accel.system import System as AccelSystem"
   ]
  },
  {
   "cell_type": "code",
   "execution_count": 5,
   "metadata": {},
   "outputs": [],
   "source": [
    "examples = load_examples(os.path.join(annot_exp_path, 'processed', 'examples_without_calibration.csv'))"
   ]
  },
  {
   "cell_type": "code",
   "execution_count": 84,
   "metadata": {},
   "outputs": [],
   "source": [
    "extractors = {}\n",
    "# audios_path = os.path.join(datasets_path, \"loose\", \"lared_audios.pkl\")\n",
    "# extractors['audio'] = {\n",
    "#     'extractor': AudioLaughterExtractor(audios_path), \n",
    "#     'id_column': 'hash'\n",
    "# }\n",
    "# videos_path = os.path.join(datasets_path, 'loose', 'video')\n",
    "# extractors['video'] = {\n",
    "#     'extractor': VideoExtractor(videos_path,\n",
    "#         transform=get_kinetics_val_transform(8, 256, False)), \n",
    "#     'id_column': 'hash'\n",
    "# }\n",
    "accel_ds_path = os.path.join(datasets_path, 'loose', 'accel_long.pkl')\n",
    "extractors['accel'] = {\n",
    "    'extractor': AccelExtractor(accel_ds_path, min_len=30, max_len=30), \n",
    "    'id_column': 'hash'\n",
    "}\n",
    "ds = FatherDataset(examples, extractors, label_column='intensity', id_column='hash', eval=False)"
   ]
  },
  {
   "cell_type": "code",
   "execution_count": 85,
   "metadata": {},
   "outputs": [
    {
     "data": {
      "text/plain": [
       "[3.044595156848411, 4.544595156848411]"
      ]
     },
     "execution_count": 85,
     "metadata": {},
     "output_type": "execute_result"
    }
   ],
   "source": [
    "ds[100]['intval']"
   ]
  },
  {
   "cell_type": "code",
   "execution_count": 86,
   "metadata": {},
   "outputs": [
    {
     "data": {
      "text/plain": [
       "onset_times     []\n",
       "offset_times    []\n",
       "Name: 101, dtype: object"
      ]
     },
     "execution_count": 86,
     "metadata": {},
     "output_type": "execute_result"
    }
   ],
   "source": [
    "examples[['onset_times', 'offset_times']].iloc[101,:]"
   ]
  },
  {
   "cell_type": "code",
   "execution_count": 105,
   "metadata": {},
   "outputs": [
    {
     "data": {
      "text/plain": [
       "{'accel': array([[0., 0., 0., ..., 0., 0., 0.],\n",
       "        [0., 0., 0., ..., 0., 0., 0.],\n",
       "        [0., 0., 0., ..., 0., 0., 0.]], dtype=float32),\n",
       " 'label': 1.0,\n",
       " 'intval': [5.202356235357091, 6.210401340571025],\n",
       " 'index': 101}"
      ]
     },
     "execution_count": 105,
     "metadata": {},
     "output_type": "execute_result"
    }
   ],
   "source": [
    "ds[101]"
   ]
  },
  {
   "cell_type": "code",
   "execution_count": null,
   "metadata": {},
   "outputs": [],
   "source": []
  }
 ],
 "metadata": {
  "kernelspec": {
   "display_name": "Python 3.8.13 ('base')",
   "language": "python",
   "name": "python3"
  },
  "language_info": {
   "codemirror_mode": {
    "name": "ipython",
    "version": 3
   },
   "file_extension": ".py",
   "mimetype": "text/x-python",
   "name": "python",
   "nbconvert_exporter": "python",
   "pygments_lexer": "ipython3",
   "version": "3.8.13"
  },
  "orig_nbformat": 4,
  "vscode": {
   "interpreter": {
    "hash": "7ff63645dd16f55240e07095d3c46f4fac3f89ef16802cfaceca713f6cf38dfb"
   }
  }
 },
 "nbformat": 4,
 "nbformat_minor": 2
}
