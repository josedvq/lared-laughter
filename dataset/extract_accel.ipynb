{
 "cells": [
  {
   "cell_type": "code",
   "execution_count": 1,
   "metadata": {},
   "outputs": [],
   "source": [
    "%load_ext autoreload\n",
    "%autoreload 2"
   ]
  },
  {
   "cell_type": "code",
   "execution_count": 2,
   "metadata": {},
   "outputs": [],
   "source": [
    "import pickle\n",
    "import pathlib\n",
    "import numpy as np\n",
    "import pandas as pd\n",
    "from matplotlib import pyplot as plt\n",
    "from scipy.interpolate import interp1d\n",
    "from tqdm import tqdm\n",
    "from sklearn.preprocessing import StandardScaler"
   ]
  },
  {
   "cell_type": "code",
   "execution_count": 3,
   "metadata": {},
   "outputs": [],
   "source": [
    "import sys\n",
    "sys.path.append('../..')\n",
    "import lared.accel.constants.constants as const\n",
    "from lared.constants.laughter_constants import data_path, cloud_data_path\n",
    "from modules.accel.preproc import interpolate"
   ]
  },
  {
   "cell_type": "code",
   "execution_count": 4,
   "metadata": {},
   "outputs": [
    {
     "data": {
      "text/plain": [
       "'/mnt/c/Users/Jose/gdrive/data/lared_laughter'"
      ]
     },
     "execution_count": 4,
     "metadata": {},
     "output_type": "execute_result"
    }
   ],
   "source": [
    "cloud_data_path"
   ]
  },
  {
   "cell_type": "code",
   "execution_count": 5,
   "metadata": {},
   "outputs": [],
   "source": [
    "DATA_ROOT = pathlib.Path(\"/mnt/e/data/lared\")\n",
    "CHALCEDONY_ROOT = DATA_ROOT / \"accel\"\n",
    "MAPPING_FILE    = CHALCEDONY_ROOT / \"mapping.csv\"\n",
    "MASTER_PICKLE_PATH = CHALCEDONY_ROOT / \"master_data.pkl\"\n",
    "VALID_AUDIO_SEGMENTS_PATH = \"./valid_audio_segments.pkl\"\n",
    "\n",
    "accel_ds_path = os.path.join(cloud_data_path, 'accel', 'accel_ds_human.pkl')"
   ]
  },
  {
   "cell_type": "markdown",
   "metadata": {},
   "source": [
    "# Interpolation"
   ]
  },
  {
   "cell_type": "code",
   "execution_count": 6,
   "metadata": {},
   "outputs": [],
   "source": [
    "balloon_pop_1_video_frame = 23030 # to \n",
    "balloon_pop_1_accel_frame = 45977 + 19/34\n",
    "\n",
    "balloon_pop_2_video_frame = 74844\n",
    "balloon_pop_2_accel_frame = 47706 + 23/28\n",
    "\n",
    "balloon_pop_3_video_frame = 166836.5\n",
    "balloon_pop_3_accel_frame = 50776 + 30.5/32\n",
    "\n",
    "frame_to_accel = interp1d([balloon_pop_1_video_frame, balloon_pop_3_video_frame], [balloon_pop_1_accel_frame, balloon_pop_3_accel_frame], fill_value=\"extrapolate\")\n",
    "video_seconds_to_accel_sample = interp1d([balloon_pop_1_video_frame/29.97, balloon_pop_3_video_frame/29.97], [balloon_pop_1_accel_frame, balloon_pop_3_accel_frame], fill_value=\"extrapolate\")"
   ]
  },
  {
   "cell_type": "code",
   "execution_count": 7,
   "metadata": {},
   "outputs": [],
   "source": [
    "# load the array to map from PID to node ID\n",
    "mapping_arr = np.loadtxt(MAPPING_FILE, delimiter=',',dtype=int)\n",
    "keys = mapping_arr[:,1]\n",
    "vals = mapping_arr[:,0]\n",
    "mapping = dict(zip(keys,vals))"
   ]
  },
  {
   "cell_type": "code",
   "execution_count": 8,
   "metadata": {},
   "outputs": [],
   "source": [
    "# load the accel stuff\n",
    "master_df = pd.read_pickle(str(MASTER_PICKLE_PATH))"
   ]
  },
  {
   "cell_type": "code",
   "execution_count": 9,
   "metadata": {},
   "outputs": [],
   "source": [
    "valid_seg = pickle.load(open(VALID_AUDIO_SEGMENTS_PATH,'rb'))\n",
    "valid_seg = [el[1] for el in valid_seg]\n",
    "pid_to_valid_seg = {el[0]: (video_seconds_to_accel_sample(el[1]/1000).item(), video_seconds_to_accel_sample(el[2]/1000).item()) for el in valid_seg}"
   ]
  },
  {
   "cell_type": "markdown",
   "metadata": {},
   "source": [
    "# Extracting accel per subject\n",
    "Mapping from pid to accel"
   ]
  },
  {
   "cell_type": "code",
   "execution_count": 10,
   "metadata": {},
   "outputs": [
    {
     "name": "stdout",
     "output_type": "stream",
     "text": [
      "2 not in mapping\n",
      "(3, 21)\n",
      "failed accel for pid 21\n",
      "(4, 22)\n",
      "(88642, 88642)\n",
      "(5, 8)\n",
      "8 not in pid_to_valid_seg\n",
      "(7, 10)\n",
      "(112240, 112240)\n",
      "(9, 34)\n",
      "(64027, 64027)\n",
      "(12, 33)\n",
      "(48518, 48518)\n",
      "(13, 27)\n",
      "(49781, 49781)\n",
      "(14, 9)\n",
      "failed accel for pid 9\n",
      "16 not in mapping\n",
      "18 not in mapping\n",
      "(21, 5)\n",
      "(113188, 113188)\n",
      "(22, 15)\n",
      "(109084, 109084)\n",
      "23 not in mapping\n",
      "(24, 17)\n",
      "(103605, 103605)\n",
      "(25, 26)\n",
      "(90401, 90401)\n",
      "26 not in mapping\n",
      "(27, 24)\n",
      "(141050, 141170)\n",
      "29 not in mapping\n",
      "(30, 14)\n",
      "(104327, 104327)\n",
      "(32, 2)\n",
      "(121658, 121678)\n",
      "(33, 39)\n",
      "39 not in pid_to_valid_seg\n",
      "(34, 16)\n",
      "(26598, 26598)\n",
      "(43, 30)\n",
      "(96951, 97031)\n",
      "(44, 7)\n",
      "(144877, 144957)\n",
      "(46, 23)\n",
      "(150967, 151127)\n",
      "49 not in mapping\n",
      "(50, 1)\n",
      "failed accel for pid 1\n",
      "52 not in mapping\n",
      "54 not in mapping\n",
      "(55, 12)\n",
      "(83582, 83582)\n",
      "56 not in mapping\n",
      "57 not in mapping\n",
      "(62, 19)\n",
      "(40979, 40979)\n",
      "64 not in mapping\n",
      "(65, 38)\n",
      "38 not in pid_to_valid_seg\n",
      "(68, 11)\n",
      "(92457, 92457)\n",
      "73 not in mapping\n",
      "(75, 3)\n",
      "(122628, 122628)\n",
      "76 not in mapping\n",
      "78 not in mapping\n",
      "(79, 35)\n",
      "(98125, 98125)\n",
      "(80, 32)\n",
      "(83920, 84000)\n",
      "(81, 40)\n",
      "40 not in pid_to_valid_seg\n",
      "(82, 37)\n",
      "37 not in pid_to_valid_seg\n",
      "84 not in mapping\n",
      "(85, 18)\n",
      "(98119, 98119)\n",
      "(89, 31)\n",
      "(25511, 25511)\n",
      "91 not in mapping\n",
      "(98, 4)\n",
      "(104737, 104737)\n",
      "(106, 36)\n",
      "36 not in pid_to_valid_seg\n",
      "107 not in mapping\n"
     ]
    }
   ],
   "source": [
    "grouped_df = master_df.groupby('Node')\n",
    "subj_accel = dict()\n",
    "for name, group in grouped_df:\n",
    "    \n",
    "    if name not in mapping:\n",
    "        print('{:d} not in mapping'.format(name))\n",
    "        continue\n",
    "        \n",
    "    pid = mapping[name]\n",
    "    print((name, pid))\n",
    "    \n",
    "    if pid not in pid_to_valid_seg:\n",
    "        print('{:d} not in pid_to_valid_seg'.format(pid))\n",
    "        continue\n",
    "    subj_valid_seg = pid_to_valid_seg[pid]\n",
    "    \n",
    "    if name in const.FAILED_ACCEL:\n",
    "        print('failed accel for pid {:d}'.format(pid))\n",
    "        continue\n",
    "    \n",
    "    def assert_len(x):\n",
    "        assert len(x) == 20\n",
    "        \n",
    "    frame_nums = group['Frame_No'].to_numpy()\n",
    "    diffs = np.diff(frame_nums)\n",
    "#     print(diffs[~np.isclose(diffs,1)])\n",
    "    first_idx = np.argmax(diffs) # find when the sync jump occurs\n",
    "#     first_idx = np.argmax(frame_nums > 40000)\n",
    "        \n",
    "    group['x'].apply(assert_len)\n",
    "    group['y'].apply(assert_len)\n",
    "    group['z'].apply(assert_len)\n",
    "    \n",
    "    t = np.concatenate([np.arange(t, t+1, 0.05) for t in frame_nums])\n",
    "    x = np.concatenate(group['x'].tolist())\n",
    "    y = np.concatenate(group['y'].tolist())\n",
    "    z = np.concatenate(group['z'].tolist())\n",
    "        \n",
    "    accel = np.hstack([t[:,None],x[:,None],y[:,None],z[:,None]])[(first_idx+1)*20:,:]\n",
    "    accel = accel[(accel[:,0] > subj_valid_seg[0]) & (accel[:,0] < subj_valid_seg[1]), :] # filter out accel out of valid segment\n",
    "    \n",
    "    # Normalization per subject\n",
    "    accel[:,1:] = StandardScaler().fit_transform(accel[:,1:])\n",
    "    \n",
    "    interp_accel = interpolate(accel, 0.05)\n",
    "    print((len(accel), len(interp_accel)))\n",
    "    subj_accel[pid] = accel"
   ]
  },
  {
   "cell_type": "code",
   "execution_count": 11,
   "metadata": {},
   "outputs": [
    {
     "data": {
      "text/plain": [
       "dict_keys([22, 10, 34, 33, 27, 5, 15, 17, 26, 24, 14, 2, 16, 30, 7, 23, 12, 19, 11, 3, 35, 32, 18, 31, 4])"
      ]
     },
     "execution_count": 11,
     "metadata": {},
     "output_type": "execute_result"
    }
   ],
   "source": [
    "len(subj_accel)\n",
    "subj_accel.keys()"
   ]
  },
  {
   "cell_type": "code",
   "execution_count": 12,
   "metadata": {},
   "outputs": [
    {
     "data": {
      "text/plain": [
       "[<matplotlib.lines.Line2D at 0x7fca0454d6a0>]"
      ]
     },
     "execution_count": 12,
     "metadata": {},
     "output_type": "execute_result"
    },
    {
     "data": {
      "image/png": "[encoded data removed]",
      "text/plain": [
       "<Figure size 432x288 with 1 Axes>"
      ]
     },
     "metadata": {
      "needs_background": "light"
     },
     "output_type": "display_data"
    }
   ],
   "source": [
    "a = subj_accel[22]\n",
    "plt.plot(a[50000: 51000, 1])"
   ]
  },
  {
   "cell_type": "markdown",
   "metadata": {},
   "source": [
    "# Extracting accel for examples"
   ]
  },
  {
   "cell_type": "code",
   "execution_count": 13,
   "metadata": {},
   "outputs": [],
   "source": [
    "examples = pd.read_csv('../annotation/analysis/annotation_results.csv')\n",
    "examples = examples.groupby('hash').agg({\n",
    "    'hash': 'first',\n",
    "    'cam': 'first',\n",
    "    'person': 'first',\n",
    "    'ini_time': 'first',\n",
    "    'end_time': 'first',\n",
    "    '_ini_time': 'first',\n",
    "    '_end_time': 'first',\n",
    "})"
   ]
  },
  {
   "cell_type": "code",
   "execution_count": 14,
   "metadata": {},
   "outputs": [
    {
     "data": {
      "text/html": [
       "<div>\n",
       "<style scoped>\n",
       "    .dataframe tbody tr th:only-of-type {\n",
       "        vertical-align: middle;\n",
       "    }\n",
       "\n",
       "    .dataframe tbody tr th {\n",
       "        vertical-align: top;\n",
       "    }\n",
       "\n",
       "    .dataframe thead th {\n",
       "        text-align: right;\n",
       "    }\n",
       "</style>\n",
       "<table border=\"1\" class=\"dataframe\">\n",
       "  <thead>\n",
       "    <tr style=\"text-align: right;\">\n",
       "      <th></th>\n",
       "      <th>hash</th>\n",
       "      <th>cam</th>\n",
       "      <th>person</th>\n",
       "      <th>ini_time</th>\n",
       "      <th>end_time</th>\n",
       "    </tr>\n",
       "    <tr>\n",
       "      <th>hash</th>\n",
       "      <th></th>\n",
       "      <th></th>\n",
       "      <th></th>\n",
       "      <th></th>\n",
       "      <th></th>\n",
       "    </tr>\n",
       "  </thead>\n",
       "  <tbody>\n",
       "    <tr>\n",
       "      <th>002043005fa746f076c845dc38dd1bd97327bde09e17fcb953102c7ff0b277ac</th>\n",
       "      <td>002043005fa746f076c845dc38dd1bd97327bde09e17fc...</td>\n",
       "      <td>2</td>\n",
       "      <td>9</td>\n",
       "      <td>7963.610000</td>\n",
       "      <td>7965.490000</td>\n",
       "    </tr>\n",
       "    <tr>\n",
       "      <th>006f74addfc99845bf6c9f80d13d52ccc189341031525530762bb83dd8b713af</th>\n",
       "      <td>006f74addfc99845bf6c9f80d13d52ccc1893410315255...</td>\n",
       "      <td>4</td>\n",
       "      <td>30</td>\n",
       "      <td>8289.657000</td>\n",
       "      <td>8292.107000</td>\n",
       "    </tr>\n",
       "    <tr>\n",
       "      <th>0070b1ba6e8de828aea5c6d3b9d1c3662959fb5f032a679cac78e5ca98fcb1ff</th>\n",
       "      <td>0070b1ba6e8de828aea5c6d3b9d1c3662959fb5f032a67...</td>\n",
       "      <td>1</td>\n",
       "      <td>22</td>\n",
       "      <td>1996.955000</td>\n",
       "      <td>2000.122000</td>\n",
       "    </tr>\n",
       "    <tr>\n",
       "      <th>00bcb7cfe796c64cf5fa4195248553f4a5937897650cee2e2bc2d80fba782667</th>\n",
       "      <td>00bcb7cfe796c64cf5fa4195248553f4a5937897650cee...</td>\n",
       "      <td>3</td>\n",
       "      <td>22</td>\n",
       "      <td>3700.565000</td>\n",
       "      <td>3701.599000</td>\n",
       "    </tr>\n",
       "    <tr>\n",
       "      <th>0160da1890b3fc4a923586e460bb781ada3bc56ea9908aea299ce3828a629c42</th>\n",
       "      <td>0160da1890b3fc4a923586e460bb781ada3bc56ea9908a...</td>\n",
       "      <td>1</td>\n",
       "      <td>4</td>\n",
       "      <td>3526.003181</td>\n",
       "      <td>3532.905657</td>\n",
       "    </tr>\n",
       "  </tbody>\n",
       "</table>\n",
       "</div>"
      ],
      "text/plain": [
       "                                                                                                 hash  \\\n",
       "hash                                                                                                    \n",
       "002043005fa746f076c845dc38dd1bd97327bde09e17fcb...  002043005fa746f076c845dc38dd1bd97327bde09e17fc...   \n",
       "006f74addfc99845bf6c9f80d13d52ccc18934103152553...  006f74addfc99845bf6c9f80d13d52ccc1893410315255...   \n",
       "0070b1ba6e8de828aea5c6d3b9d1c3662959fb5f032a679...  0070b1ba6e8de828aea5c6d3b9d1c3662959fb5f032a67...   \n",
       "00bcb7cfe796c64cf5fa4195248553f4a5937897650cee2...  00bcb7cfe796c64cf5fa4195248553f4a5937897650cee...   \n",
       "0160da1890b3fc4a923586e460bb781ada3bc56ea9908ae...  0160da1890b3fc4a923586e460bb781ada3bc56ea9908a...   \n",
       "\n",
       "                                                    cam  person     ini_time  \\\n",
       "hash                                                                           \n",
       "002043005fa746f076c845dc38dd1bd97327bde09e17fcb...    2       9  7963.610000   \n",
       "006f74addfc99845bf6c9f80d13d52ccc18934103152553...    4      30  8289.657000   \n",
       "0070b1ba6e8de828aea5c6d3b9d1c3662959fb5f032a679...    1      22  1996.955000   \n",
       "00bcb7cfe796c64cf5fa4195248553f4a5937897650cee2...    3      22  3700.565000   \n",
       "0160da1890b3fc4a923586e460bb781ada3bc56ea9908ae...    1       4  3526.003181   \n",
       "\n",
       "                                                       end_time  \n",
       "hash                                                             \n",
       "002043005fa746f076c845dc38dd1bd97327bde09e17fcb...  7965.490000  \n",
       "006f74addfc99845bf6c9f80d13d52ccc18934103152553...  8292.107000  \n",
       "0070b1ba6e8de828aea5c6d3b9d1c3662959fb5f032a679...  2000.122000  \n",
       "00bcb7cfe796c64cf5fa4195248553f4a5937897650cee2...  3701.599000  \n",
       "0160da1890b3fc4a923586e460bb781ada3bc56ea9908ae...  3532.905657  "
      ]
     },
     "execution_count": 14,
     "metadata": {},
     "output_type": "execute_result"
    }
   ],
   "source": [
    "examples.head()"
   ]
  },
  {
   "cell_type": "code",
   "execution_count": 15,
   "metadata": {},
   "outputs": [],
   "source": [
    "def extract_accel(ex):\n",
    "    correction = -14 # accel error, obtained from visual check\n",
    "    \n",
    "    cam2_correction = 0\n",
    "    if ex['cam'] == 2:\n",
    "        cam2_correction = 5 # cam 2 is ahead by 0.25s (5 samples @ 20Hz)\n",
    "    \n",
    "    if ex['person'] not in subj_accel:\n",
    "        return None\n",
    "        \n",
    "    my_subj_accel = subj_accel[ex['person']]\n",
    "    \n",
    "    accel_ini = video_seconds_to_accel_sample(ex['_ini_time'])\n",
    "    accel_fin = video_seconds_to_accel_sample(ex['_end_time'])\n",
    "\n",
    "    # number of the first accel sample\n",
    "    ini_idx = np.argmax(my_subj_accel[:,0] > accel_ini)\n",
    "    fin_idx = np.argmax(my_subj_accel[:,0] > accel_fin)\n",
    "    if ini_idx == 0:\n",
    "        print('out of bounds. pid={:d}, accel_ini={:.2f}'.format(ex['person'], accel_ini))\n",
    "    \n",
    "    ini_idx += (correction + cam2_correction)\n",
    "    fin_idx += (correction + cam2_correction)\n",
    "\n",
    "    accel = my_subj_accel[ini_idx: fin_idx, 1:]\n",
    "    return accel"
   ]
  },
  {
   "cell_type": "code",
   "execution_count": 16,
   "metadata": {},
   "outputs": [
    {
     "name": "stderr",
     "output_type": "stream",
     "text": [
      "1it [00:00, 1859.18it/s]\n"
     ]
    },
    {
     "ename": "KeyError",
     "evalue": "'_ini_time'",
     "output_type": "error",
     "traceback": [
      "\u001b[0;31m---------------------------------------------------------------------------\u001b[0m",
      "\u001b[0;31mKeyError\u001b[0m                                  Traceback (most recent call last)",
      "\u001b[1;32m/mnt/c/Users/Jose/Documents/furnace/lared-laughter/dataset/extract_accel.ipynb Cell 19'\u001b[0m in \u001b[0;36m<module>\u001b[0;34m\u001b[0m\n\u001b[1;32m      <a href='vscode-notebook-cell://wsl%2Bubuntu/mnt/c/Users/Jose/Documents/furnace/lared-laughter/dataset/extract_accel.ipynb#ch0000018vscode-remote?line=1'>2</a>\u001b[0m \u001b[39mfor\u001b[39;00m index, ex \u001b[39min\u001b[39;00m tqdm(examples\u001b[39m.\u001b[39miterrows()):\n\u001b[1;32m      <a href='vscode-notebook-cell://wsl%2Bubuntu/mnt/c/Users/Jose/Documents/furnace/lared-laughter/dataset/extract_accel.ipynb#ch0000018vscode-remote?line=2'>3</a>\u001b[0m     ex \u001b[39m=\u001b[39m ex\u001b[39m.\u001b[39mto_dict()\n\u001b[0;32m----> <a href='vscode-notebook-cell://wsl%2Bubuntu/mnt/c/Users/Jose/Documents/furnace/lared-laughter/dataset/extract_accel.ipynb#ch0000018vscode-remote?line=3'>4</a>\u001b[0m     accel \u001b[39m=\u001b[39m extract_accel(ex)\n\u001b[1;32m      <a href='vscode-notebook-cell://wsl%2Bubuntu/mnt/c/Users/Jose/Documents/furnace/lared-laughter/dataset/extract_accel.ipynb#ch0000018vscode-remote?line=4'>5</a>\u001b[0m     \u001b[39mif\u001b[39;00m accel \u001b[39mis\u001b[39;00m \u001b[39mnot\u001b[39;00m \u001b[39mNone\u001b[39;00m:\n\u001b[1;32m      <a href='vscode-notebook-cell://wsl%2Bubuntu/mnt/c/Users/Jose/Documents/furnace/lared-laughter/dataset/extract_accel.ipynb#ch0000018vscode-remote?line=5'>6</a>\u001b[0m         all_accel[ex[\u001b[39m'\u001b[39m\u001b[39mhash\u001b[39m\u001b[39m'\u001b[39m]] \u001b[39m=\u001b[39m accel\n",
      "\u001b[1;32m/mnt/c/Users/Jose/Documents/furnace/lared-laughter/dataset/extract_accel.ipynb Cell 18'\u001b[0m in \u001b[0;36mextract_accel\u001b[0;34m(ex)\u001b[0m\n\u001b[1;32m      <a href='vscode-notebook-cell://wsl%2Bubuntu/mnt/c/Users/Jose/Documents/furnace/lared-laughter/dataset/extract_accel.ipynb#ch0000017vscode-remote?line=8'>9</a>\u001b[0m     \u001b[39mreturn\u001b[39;00m \u001b[39mNone\u001b[39;00m\n\u001b[1;32m     <a href='vscode-notebook-cell://wsl%2Bubuntu/mnt/c/Users/Jose/Documents/furnace/lared-laughter/dataset/extract_accel.ipynb#ch0000017vscode-remote?line=10'>11</a>\u001b[0m my_subj_accel \u001b[39m=\u001b[39m subj_accel[ex[\u001b[39m'\u001b[39m\u001b[39mperson\u001b[39m\u001b[39m'\u001b[39m]]\n\u001b[0;32m---> <a href='vscode-notebook-cell://wsl%2Bubuntu/mnt/c/Users/Jose/Documents/furnace/lared-laughter/dataset/extract_accel.ipynb#ch0000017vscode-remote?line=12'>13</a>\u001b[0m accel_ini \u001b[39m=\u001b[39m video_seconds_to_accel_sample(ex[\u001b[39m'\u001b[39;49m\u001b[39m_ini_time\u001b[39;49m\u001b[39m'\u001b[39;49m])\n\u001b[1;32m     <a href='vscode-notebook-cell://wsl%2Bubuntu/mnt/c/Users/Jose/Documents/furnace/lared-laughter/dataset/extract_accel.ipynb#ch0000017vscode-remote?line=13'>14</a>\u001b[0m accel_fin \u001b[39m=\u001b[39m video_seconds_to_accel_sample(ex[\u001b[39m'\u001b[39m\u001b[39m_end_time\u001b[39m\u001b[39m'\u001b[39m])\n\u001b[1;32m     <a href='vscode-notebook-cell://wsl%2Bubuntu/mnt/c/Users/Jose/Documents/furnace/lared-laughter/dataset/extract_accel.ipynb#ch0000017vscode-remote?line=15'>16</a>\u001b[0m \u001b[39m# number of the first accel sample\u001b[39;00m\n",
      "\u001b[0;31mKeyError\u001b[0m: '_ini_time'"
     ]
    }
   ],
   "source": [
    "all_accel = dict()\n",
    "for index, ex in tqdm(examples.iterrows()):\n",
    "    ex = ex.to_dict()\n",
    "    accel = extract_accel(ex)\n",
    "    if accel is not None:\n",
    "        all_accel[ex['hash']] = accel"
   ]
  },
  {
   "cell_type": "code",
   "execution_count": 35,
   "metadata": {},
   "outputs": [
    {
     "ename": "FileNotFoundError",
     "evalue": "[Errno 2] No such file or directory: '/home/jose/drive/data/lared_laughter/accel/accel_ds.pkl'",
     "output_type": "error",
     "traceback": [
      "\u001b[0;31m---------------------------------------------------------------------------\u001b[0m",
      "\u001b[0;31mFileNotFoundError\u001b[0m                         Traceback (most recent call last)",
      "\u001b[1;32m/mnt/c/Users/Jose/Documents/furnace/lared-laughter/dataset/extract_accel.ipynb Cell 20'\u001b[0m in \u001b[0;36m<module>\u001b[0;34m\u001b[0m\n\u001b[0;32m----> <a href='vscode-notebook-cell://wsl%2Bubuntu/mnt/c/Users/Jose/Documents/furnace/lared-laughter/dataset/extract_accel.ipynb#ch0000018vscode-remote?line=0'>1</a>\u001b[0m pickle\u001b[39m.\u001b[39mdump(all_accel, \u001b[39mopen\u001b[39;49m(accel_ds_path, \u001b[39m'\u001b[39;49m\u001b[39mwb\u001b[39;49m\u001b[39m'\u001b[39;49m))\n",
      "\u001b[0;31mFileNotFoundError\u001b[0m: [Errno 2] No such file or directory: '/home/jose/drive/data/lared_laughter/accel/accel_ds.pkl'"
     ]
    }
   ],
   "source": [
    "pickle.dump(all_accel, open(accel_ds_path, 'wb'))"
   ]
  },
  {
   "cell_type": "code",
   "execution_count": 39,
   "metadata": {},
   "outputs": [
    {
     "name": "stdout",
     "output_type": "stream",
     "text": [
      "340/510\n"
     ]
    }
   ],
   "source": [
    "# proportion of examples with accel\n",
    "print(f'{len(all_accel)}/{len(examples)}')"
   ]
  },
  {
   "cell_type": "code",
   "execution_count": 47,
   "metadata": {},
   "outputs": [
    {
     "data": {
      "text/plain": [
       "['006f74addfc99845bf6c9f80d13d52ccc189341031525530762bb83dd8b713af',\n",
       " '0070b1ba6e8de828aea5c6d3b9d1c3662959fb5f032a679cac78e5ca98fcb1ff',\n",
       " '00bcb7cfe796c64cf5fa4195248553f4a5937897650cee2e2bc2d80fba782667',\n",
       " '0160da1890b3fc4a923586e460bb781ada3bc56ea9908aea299ce3828a629c42',\n",
       " '017d69fa136cb8b968493ef41d4adca5c53ab7d8e19a9de15baf6e306bbf7243',\n",
       " '01baf1c42d3d4d3d03cab574792d89e237d97f335967d1313a54dbb008e0c9ed',\n",
       " '02552dd5348e6ebc1cda6f9107de083e9ca3c43e989a3d2ea4613abd9d94001c',\n",
       " '027109a099ea636ab9e7f919555f6f8e4299b198d92c21256a7f58ff21f3c3c4',\n",
       " '0321dc67813525489bc6c44a938271a6c6a4f96fab14b044ea11e7b045edec72',\n",
       " '03af3c2bbd844ebf18ecb821c8eb2224e0cab6dcefde7819f1e6c435738ea6c5']"
      ]
     },
     "execution_count": 47,
     "metadata": {},
     "output_type": "execute_result"
    }
   ],
   "source": [
    "list(all_accel.keys())[:10]"
   ]
  },
  {
   "cell_type": "code",
   "execution_count": 53,
   "metadata": {},
   "outputs": [
    {
     "data": {
      "text/html": [
       "<div>\n",
       "<style scoped>\n",
       "    .dataframe tbody tr th:only-of-type {\n",
       "        vertical-align: middle;\n",
       "    }\n",
       "\n",
       "    .dataframe tbody tr th {\n",
       "        vertical-align: top;\n",
       "    }\n",
       "\n",
       "    .dataframe thead th {\n",
       "        text-align: right;\n",
       "    }\n",
       "</style>\n",
       "<table border=\"1\" class=\"dataframe\">\n",
       "  <thead>\n",
       "    <tr style=\"text-align: right;\">\n",
       "      <th></th>\n",
       "      <th>hash</th>\n",
       "      <th>cam</th>\n",
       "      <th>person</th>\n",
       "      <th>ini_time</th>\n",
       "      <th>end_time</th>\n",
       "    </tr>\n",
       "    <tr>\n",
       "      <th>hash</th>\n",
       "      <th></th>\n",
       "      <th></th>\n",
       "      <th></th>\n",
       "      <th></th>\n",
       "      <th></th>\n",
       "    </tr>\n",
       "  </thead>\n",
       "  <tbody>\n",
       "    <tr>\n",
       "      <th>0321dc67813525489bc6c44a938271a6c6a4f96fab14b044ea11e7b045edec72</th>\n",
       "      <td>0321dc67813525489bc6c44a938271a6c6a4f96fab14b0...</td>\n",
       "      <td>1</td>\n",
       "      <td>23</td>\n",
       "      <td>8276.869</td>\n",
       "      <td>8278.819</td>\n",
       "    </tr>\n",
       "  </tbody>\n",
       "</table>\n",
       "</div>"
      ],
      "text/plain": [
       "                                                                                                 hash  \\\n",
       "hash                                                                                                    \n",
       "0321dc67813525489bc6c44a938271a6c6a4f96fab14b04...  0321dc67813525489bc6c44a938271a6c6a4f96fab14b0...   \n",
       "\n",
       "                                                    cam  person  ini_time  \\\n",
       "hash                                                                        \n",
       "0321dc67813525489bc6c44a938271a6c6a4f96fab14b04...    1      23  8276.869   \n",
       "\n",
       "                                                    end_time  \n",
       "hash                                                          \n",
       "0321dc67813525489bc6c44a938271a6c6a4f96fab14b04...  8278.819  "
      ]
     },
     "execution_count": 53,
     "metadata": {},
     "output_type": "execute_result"
    }
   ],
   "source": [
    "examples[examples['hash'] == '0321dc67813525489bc6c44a938271a6c6a4f96fab14b044ea11e7b045edec72']"
   ]
  },
  {
   "cell_type": "code",
   "execution_count": 54,
   "metadata": {},
   "outputs": [
    {
     "data": {
      "text/plain": [
       "(39, 3)"
      ]
     },
     "execution_count": 54,
     "metadata": {},
     "output_type": "execute_result"
    }
   ],
   "source": [
    "all_accel['0321dc67813525489bc6c44a938271a6c6a4f96fab14b044ea11e7b045edec72'].shape"
   ]
  },
  {
   "cell_type": "code",
   "execution_count": null,
   "metadata": {},
   "outputs": [],
   "source": []
  }
 ],
 "metadata": {
  "interpreter": {
   "hash": "916dbcbb3f70747c44a77c7bcd40155683ae19c65e1c03b4aa3499c5328201f1"
  },
  "kernelspec": {
   "display_name": "Python 3.8.10 64-bit",
   "language": "python",
   "name": "python3"
  },
  "language_info": {
   "codemirror_mode": {
    "name": "ipython",
    "version": 3
   },
   "file_extension": ".py",
   "mimetype": "text/x-python",
   "name": "python",
   "nbconvert_exporter": "python",
   "pygments_lexer": "ipython3",
   "version": "3.8.10"
  },
  "orig_nbformat": 4
 },
 "nbformat": 4,
 "nbformat_minor": 2
}
