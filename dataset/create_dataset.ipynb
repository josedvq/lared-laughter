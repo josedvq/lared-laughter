{
 "cells": [
  {
   "cell_type": "code",
   "execution_count": 1,
   "metadata": {},
   "outputs": [],
   "source": [
    "import os"
   ]
  },
  {
   "cell_type": "code",
   "execution_count": 2,
   "metadata": {},
   "outputs": [],
   "source": [
    "import pandas as pd\n",
    "from tqdm.notebook import tqdm"
   ]
  },
  {
   "cell_type": "code",
   "execution_count": 3,
   "metadata": {},
   "outputs": [],
   "source": [
    "from lared_laughter.annotation.coco_reader import CocoReader\n",
    "from lared.dataset.example import VideoExample, AudioExample, FullExample\n",
    "from lared.data_loading.utils import get_video_caps, AudioFiles\n",
    "from lared_laughter.constants import raw_audio_path, raw_video_path, processed_data_path, annot_exp_path, datasets_path"
   ]
  },
  {
   "cell_type": "code",
   "execution_count": 4,
   "metadata": {},
   "outputs": [],
   "source": [
    "VideoExample.init_caps(get_video_caps(raw_video_path))\n",
    "VideoExample.init_camera_annotation(os.path.join(processed_data_path, 'elan_out/camera.txt'))\n",
    "AudioExample.init_dataset(AudioFiles(raw_audio_path))"
   ]
  },
  {
   "cell_type": "markdown",
   "metadata": {},
   "source": [
    "# Laughter examples: loading\n",
    "load a previously generated set of examples"
   ]
  },
  {
   "cell_type": "code",
   "execution_count": 5,
   "metadata": {},
   "outputs": [
    {
     "ename": "FileNotFoundError",
     "evalue": "[Errno 2] No such file or directory: '/mnt/c/Users/Jose/gdrive/data/lared_laughter/annotation_experiment_2/speech_examples/cvat.json'",
     "output_type": "error",
     "traceback": [
      "\u001b[0;31m---------------------------------------------------------------------------\u001b[0m",
      "\u001b[0;31mFileNotFoundError\u001b[0m                         Traceback (most recent call last)",
      "\u001b[1;32m/mnt/c/Users/Jose/Documents/furnace/lared_laughter/dataset/create_dataset.ipynb Cell 6'\u001b[0m in \u001b[0;36m<cell line: 8>\u001b[0;34m()\u001b[0m\n\u001b[1;32m      <a href='vscode-notebook-cell://wsl%2Bubuntu/mnt/c/Users/Jose/Documents/furnace/lared_laughter/dataset/create_dataset.ipynb#ch0000008vscode-remote?line=0'>1</a>\u001b[0m \u001b[39m# read the inputs\u001b[39;00m\n\u001b[1;32m      <a href='vscode-notebook-cell://wsl%2Bubuntu/mnt/c/Users/Jose/Documents/furnace/lared_laughter/dataset/create_dataset.ipynb#ch0000008vscode-remote?line=1'>2</a>\u001b[0m \u001b[39m# laughter_examples_df = pd.read_csv(os.path.join(cloud_data_path, 'laughter_data', 'laughter_examples', 'examples.csv'), index_col=0)\u001b[39;00m\n\u001b[1;32m      <a href='vscode-notebook-cell://wsl%2Bubuntu/mnt/c/Users/Jose/Documents/furnace/lared_laughter/dataset/create_dataset.ipynb#ch0000008vscode-remote?line=2'>3</a>\u001b[0m \u001b[39m# laughter_examples = {ex[1].hash: FullExample(**ex[1].to_dict()) for ex in laughter_examples_df.iterrows()}\u001b[39;00m\n\u001b[1;32m      <a href='vscode-notebook-cell://wsl%2Bubuntu/mnt/c/Users/Jose/Documents/furnace/lared_laughter/dataset/create_dataset.ipynb#ch0000008vscode-remote?line=3'>4</a>\u001b[0m \u001b[39m# speech_examples_df = pd.read_csv(os.path.join(cloud_data_path, 'laughter_data', 'speech_examples', 'examples.csv'), index_col=0)\u001b[39;00m\n\u001b[1;32m      <a href='vscode-notebook-cell://wsl%2Bubuntu/mnt/c/Users/Jose/Documents/furnace/lared_laughter/dataset/create_dataset.ipynb#ch0000008vscode-remote?line=4'>5</a>\u001b[0m \u001b[39m# speech_examples = {ex[1].hash: FullExample(**ex[1].to_dict()) for ex in speech_examples_df.iterrows()}\u001b[39;00m\n\u001b[1;32m      <a href='vscode-notebook-cell://wsl%2Bubuntu/mnt/c/Users/Jose/Documents/furnace/lared_laughter/dataset/create_dataset.ipynb#ch0000008vscode-remote?line=6'>7</a>\u001b[0m laughter_bbs \u001b[39m=\u001b[39m CocoReader(os\u001b[39m.\u001b[39mpath\u001b[39m.\u001b[39mjoin(annot_exp_path, \u001b[39m'\u001b[39m\u001b[39mlaughter_examples\u001b[39m\u001b[39m'\u001b[39m, \u001b[39m'\u001b[39m\u001b[39mcvat.json\u001b[39m\u001b[39m'\u001b[39m))\n\u001b[0;32m----> <a href='vscode-notebook-cell://wsl%2Bubuntu/mnt/c/Users/Jose/Documents/furnace/lared_laughter/dataset/create_dataset.ipynb#ch0000008vscode-remote?line=7'>8</a>\u001b[0m speech_bbs \u001b[39m=\u001b[39m CocoReader(os\u001b[39m.\u001b[39;49mpath\u001b[39m.\u001b[39;49mjoin(annot_exp_path, \u001b[39m'\u001b[39;49m\u001b[39mspeech_examples\u001b[39;49m\u001b[39m'\u001b[39;49m, \u001b[39m'\u001b[39;49m\u001b[39mcvat.json\u001b[39;49m\u001b[39m'\u001b[39;49m))\n",
      "File \u001b[0;32m/mnt/c/Users/Jose/Documents/furnace/lared_laughter/annotation/coco_reader.py:8\u001b[0m, in \u001b[0;36mCocoReader.__init__\u001b[0;34m(self, fpath)\u001b[0m\n\u001b[1;32m      7\u001b[0m \u001b[39mdef\u001b[39;00m \u001b[39m__init__\u001b[39m(\u001b[39mself\u001b[39m, fpath):\n\u001b[0;32m----> 8\u001b[0m     \u001b[39mwith\u001b[39;00m \u001b[39mopen\u001b[39;49m(fpath) \u001b[39mas\u001b[39;00m json_file:\n\u001b[1;32m      9\u001b[0m         \u001b[39mself\u001b[39m\u001b[39m.\u001b[39mcoco_json \u001b[39m=\u001b[39m json\u001b[39m.\u001b[39mload(json_file)\n\u001b[1;32m     11\u001b[0m     \u001b[39mself\u001b[39m\u001b[39m.\u001b[39mimgs_dict \u001b[39m=\u001b[39m \u001b[39mdict\u001b[39m()\n",
      "\u001b[0;31mFileNotFoundError\u001b[0m: [Errno 2] No such file or directory: '/mnt/c/Users/Jose/gdrive/data/lared_laughter/annotation_experiment_2/speech_examples/cvat.json'"
     ]
    }
   ],
   "source": [
    "# read the inputs\n",
    "# laughter_examples_df = pd.read_csv(os.path.join(cloud_data_path, 'laughter_data', 'laughter_examples', 'examples.csv'), index_col=0)\n",
    "# laughter_examples = {ex[1].hash: FullExample(**ex[1].to_dict()) for ex in laughter_examples_df.iterrows()}\n",
    "# speech_examples_df = pd.read_csv(os.path.join(cloud_data_path, 'laughter_data', 'speech_examples', 'examples.csv'), index_col=0)\n",
    "# speech_examples = {ex[1].hash: FullExample(**ex[1].to_dict()) for ex in speech_examples_df.iterrows()}\n",
    "\n",
    "laughter_bbs = CocoReader(os.path.join(annot_exp_path, 'laughter_examples', 'cvat.json'))\n",
    "speech_bbs = CocoReader(os.path.join(annot_exp_path, 'speech_examples', 'cvat.json'))"
   ]
  },
  {
   "cell_type": "code",
   "execution_count": 14,
   "metadata": {},
   "outputs": [],
   "source": [
    "examples_df = pd.read_csv(os.path.join(annot_exp_path, 'processed', 'examples_without_calibration.csv'))"
   ]
  },
  {
   "cell_type": "code",
   "execution_count": 25,
   "metadata": {},
   "outputs": [
    {
     "data": {
      "text/html": [
       "<div>\n",
       "<style scoped>\n",
       "    .dataframe tbody tr th:only-of-type {\n",
       "        vertical-align: middle;\n",
       "    }\n",
       "\n",
       "    .dataframe tbody tr th {\n",
       "        vertical-align: top;\n",
       "    }\n",
       "\n",
       "    .dataframe thead th {\n",
       "        text-align: right;\n",
       "    }\n",
       "</style>\n",
       "<table border=\"1\" class=\"dataframe\">\n",
       "  <thead>\n",
       "    <tr style=\"text-align: right;\">\n",
       "      <th></th>\n",
       "      <th>Unnamed: 0</th>\n",
       "      <th>person</th>\n",
       "      <th>cam</th>\n",
       "      <th>rect</th>\n",
       "      <th>instance_id</th>\n",
       "      <th>condition</th>\n",
       "      <th>calibration</th>\n",
       "      <th>hash</th>\n",
       "      <th>ini_time</th>\n",
       "      <th>end_time</th>\n",
       "      <th>...</th>\n",
       "      <th>is_laughter</th>\n",
       "      <th>confidence</th>\n",
       "      <th>intensity</th>\n",
       "      <th>has_continuous</th>\n",
       "      <th>attempt</th>\n",
       "      <th>pressed_key</th>\n",
       "      <th>onset</th>\n",
       "      <th>offset</th>\n",
       "      <th>G</th>\n",
       "      <th>N</th>\n",
       "    </tr>\n",
       "  </thead>\n",
       "  <tbody>\n",
       "    <tr>\n",
       "      <th>420</th>\n",
       "      <td>3840</td>\n",
       "      <td>25</td>\n",
       "      <td>1</td>\n",
       "      <td>[1460, 702, 186, 238]</td>\n",
       "      <td>2_c9c20f2eee48c8f1f8120bb25055b3bbb167d1f9284f...</td>\n",
       "      <td>video</td>\n",
       "      <td>False</td>\n",
       "      <td>0a8b94fbb8407ed3f108f84008be0579946af245a11e65...</td>\n",
       "      <td>2329.000869</td>\n",
       "      <td>2338.546822</td>\n",
       "      <td>...</td>\n",
       "      <td>False</td>\n",
       "      <td>5.0</td>\n",
       "      <td>4.0</td>\n",
       "      <td>True</td>\n",
       "      <td>0</td>\n",
       "      <td>False</td>\n",
       "      <td>NaN</td>\n",
       "      <td>NaN</td>\n",
       "      <td>5</td>\n",
       "      <td>3</td>\n",
       "    </tr>\n",
       "  </tbody>\n",
       "</table>\n",
       "<p>1 rows × 25 columns</p>\n",
       "</div>"
      ],
      "text/plain": [
       "     Unnamed: 0  person  cam                   rect  \\\n",
       "420        3840      25    1  [1460, 702, 186, 238]   \n",
       "\n",
       "                                           instance_id condition  calibration  \\\n",
       "420  2_c9c20f2eee48c8f1f8120bb25055b3bbb167d1f9284f...     video        False   \n",
       "\n",
       "                                                  hash     ini_time  \\\n",
       "420  0a8b94fbb8407ed3f108f84008be0579946af245a11e65...  2329.000869   \n",
       "\n",
       "        end_time  ...  is_laughter  confidence  intensity  has_continuous  \\\n",
       "420  2338.546822  ...        False         5.0        4.0            True   \n",
       "\n",
       "     attempt  pressed_key  onset  offset  G  N  \n",
       "420        0        False    NaN     NaN  5  3  \n",
       "\n",
       "[1 rows x 25 columns]"
      ]
     },
     "execution_count": 25,
     "metadata": {},
     "output_type": "execute_result"
    }
   ],
   "source": [
    "examples_df[examples_df['hash'] == '0a8b94fbb8407ed3f108f84008be0579946af245a11e656a57458a9e6db69b71'].head(1)"
   ]
  },
  {
   "cell_type": "code",
   "execution_count": 16,
   "metadata": {},
   "outputs": [],
   "source": [
    "examples = examples_df.groupby('hash').agg({\n",
    "    'hash': 'first',\n",
    "    'cam': 'first',\n",
    "    'rect': 'first',\n",
    "    'person': 'first',\n",
    "    'ini_time': 'first',\n",
    "    'end_time': 'first',\n",
    "    '_ini_time': 'first',\n",
    "    '_end_time': 'first'\n",
    "}).rename(columns={'person':'pid'})"
   ]
  },
  {
   "cell_type": "code",
   "execution_count": 17,
   "metadata": {},
   "outputs": [],
   "source": [
    "examples = {ex[1].hash: FullExample(**ex[1].to_dict()) for ex in examples.iterrows()}"
   ]
  },
  {
   "cell_type": "code",
   "execution_count": 20,
   "metadata": {},
   "outputs": [],
   "source": [
    "def write_dataset():\n",
    "    # output paths\n",
    "    out_path = os.path.join(datasets_path, 'tight')\n",
    "    audio_path = os.path.join(out_path, 'audio')\n",
    "    video_path = os.path.join(out_path, 'video')\n",
    "    av_path = os.path.join(out_path, 'av')\n",
    "    if not os.path.exists(audio_path): os.makedirs(audio_path)\n",
    "    if not os.path.exists(video_path): os.makedirs(video_path)\n",
    "    if not os.path.exists(av_path): os.makedirs(av_path)\n",
    "\n",
    "    for hash, ex in tqdm(examples.items()):\n",
    "        # if hash not in laughter_bbs and hash not in speech_bbs:\n",
    "        #     continue\n",
    "        # ex.rect = laughter_bbs[hash] if hash in laughter_bbs else speech_bbs[hash]\n",
    "        # if not ex.rect:\n",
    "        #     continue\n",
    "        ex.write_audio(audio_path, fname=hash, padded=False)\n",
    "        ex.write_video(video_path, fname=hash, padded=False, enlarge_perc=0)\n",
    "        # ex.write_audiovisual(video_path, audio_path, av_path, fname=hash)"
   ]
  },
  {
   "cell_type": "code",
   "execution_count": 21,
   "metadata": {},
   "outputs": [
    {
     "data": {
      "application/vnd.jupyter.widget-view+json": {
       "model_id": "c13c9bd9e33e4c8188ce71054f0283f7",
       "version_major": 2,
       "version_minor": 0
      },
      "text/plain": [
       "  0%|          | 0/628 [00:00<?, ?it/s]"
      ]
     },
     "metadata": {},
     "output_type": "display_data"
    }
   ],
   "source": [
    "write_dataset()"
   ]
  },
  {
   "cell_type": "code",
   "execution_count": null,
   "metadata": {},
   "outputs": [],
   "source": []
  },
  {
   "cell_type": "code",
   "execution_count": null,
   "metadata": {},
   "outputs": [],
   "source": []
  },
  {
   "cell_type": "code",
   "execution_count": null,
   "metadata": {},
   "outputs": [],
   "source": []
  },
  {
   "cell_type": "markdown",
   "metadata": {},
   "source": []
  }
 ],
 "metadata": {
  "kernelspec": {
   "display_name": "Python 3.8.13 ('base')",
   "language": "python",
   "name": "python3"
  },
  "language_info": {
   "codemirror_mode": {
    "name": "ipython",
    "version": 3
   },
   "file_extension": ".py",
   "mimetype": "text/x-python",
   "name": "python",
   "nbconvert_exporter": "python",
   "pygments_lexer": "ipython3",
   "version": "3.8.13"
  },
  "metadata": {
   "interpreter": {
    "hash": "916dbcbb3f70747c44a77c7bcd40155683ae19c65e1c03b4aa3499c5328201f1"
   }
  },
  "vscode": {
   "interpreter": {
    "hash": "7ff63645dd16f55240e07095d3c46f4fac3f89ef16802cfaceca713f6cf38dfb"
   }
  }
 },
 "nbformat": 4,
 "nbformat_minor": 4
}
