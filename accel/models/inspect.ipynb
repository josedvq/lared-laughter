{
 "cells": [
  {
   "cell_type": "code",
   "execution_count": 1,
   "metadata": {},
   "outputs": [],
   "source": [
    "from tsai.models.ResNet import ResNet\n",
    "from torchinfo import summary\n",
    "from lared_laughter.accel.models.cnn import MyAlexNet\n",
    "from lared_laughter.accel.models.resnet import SegmentationResnet"
   ]
  },
  {
   "cell_type": "code",
   "execution_count": 2,
   "metadata": {},
   "outputs": [],
   "source": [
    "# r = ResNet(3,1)\n",
    "# a = MyAlexNet()\n",
    "s= SegmentationResnet(3, 1)"
   ]
  },
  {
   "cell_type": "code",
   "execution_count": 4,
   "metadata": {},
   "outputs": [
    {
     "data": {
      "text/plain": [
       "==========================================================================================\n",
       "Layer (type:depth-idx)                   Output Shape              Param #\n",
       "==========================================================================================\n",
       "SegmentationResnet                       [100, 1, 60]              --\n",
       "├─ResBlock: 1-1                          [100, 64, 60]             --\n",
       "│    └─ConvBlock: 2-1                    [100, 64, 60]             --\n",
       "│    │    └─Conv1d: 3-1                  [100, 64, 60]             1,344\n",
       "│    │    └─BatchNorm1d: 3-2             [100, 64, 60]             128\n",
       "│    │    └─ReLU: 3-3                    [100, 64, 60]             --\n",
       "│    └─ConvBlock: 2-2                    [100, 64, 60]             --\n",
       "│    │    └─Conv1d: 3-4                  [100, 64, 60]             20,480\n",
       "│    │    └─BatchNorm1d: 3-5             [100, 64, 60]             128\n",
       "│    │    └─ReLU: 3-6                    [100, 64, 60]             --\n",
       "│    └─ConvBlock: 2-3                    [100, 64, 60]             --\n",
       "│    │    └─Conv1d: 3-7                  [100, 64, 60]             12,288\n",
       "│    │    └─BatchNorm1d: 3-8             [100, 64, 60]             128\n",
       "│    └─ConvBlock: 2-4                    [100, 64, 60]             --\n",
       "│    │    └─Conv1d: 3-9                  [100, 64, 60]             192\n",
       "│    │    └─BatchNorm1d: 3-10            [100, 64, 60]             128\n",
       "│    └─Add: 2-5                          [100, 64, 60]             --\n",
       "│    └─ReLU: 2-6                         [100, 64, 60]             --\n",
       "├─ResBlock: 1-2                          [100, 128, 60]            --\n",
       "│    └─ConvBlock: 2-7                    [100, 128, 60]            --\n",
       "│    │    └─Conv1d: 3-11                 [100, 128, 60]            57,344\n",
       "│    │    └─BatchNorm1d: 3-12            [100, 128, 60]            256\n",
       "│    │    └─ReLU: 3-13                   [100, 128, 60]            --\n",
       "│    └─ConvBlock: 2-8                    [100, 128, 60]            --\n",
       "│    │    └─Conv1d: 3-14                 [100, 128, 60]            81,920\n",
       "│    │    └─BatchNorm1d: 3-15            [100, 128, 60]            256\n",
       "│    │    └─ReLU: 3-16                   [100, 128, 60]            --\n",
       "│    └─ConvBlock: 2-9                    [100, 128, 60]            --\n",
       "│    │    └─Conv1d: 3-17                 [100, 128, 60]            49,152\n",
       "│    │    └─BatchNorm1d: 3-18            [100, 128, 60]            256\n",
       "│    └─ConvBlock: 2-10                   [100, 128, 60]            --\n",
       "│    │    └─Conv1d: 3-19                 [100, 128, 60]            8,192\n",
       "│    │    └─BatchNorm1d: 3-20            [100, 128, 60]            256\n",
       "│    └─Add: 2-11                         [100, 128, 60]            --\n",
       "│    └─ReLU: 2-12                        [100, 128, 60]            --\n",
       "├─ResBlock: 1-3                          [100, 128, 60]            --\n",
       "│    └─ConvBlock: 2-13                   [100, 128, 60]            --\n",
       "│    │    └─Conv1d: 3-21                 [100, 128, 60]            114,688\n",
       "│    │    └─BatchNorm1d: 3-22            [100, 128, 60]            256\n",
       "│    │    └─ReLU: 3-23                   [100, 128, 60]            --\n",
       "│    └─ConvBlock: 2-14                   [100, 128, 60]            --\n",
       "│    │    └─Conv1d: 3-24                 [100, 128, 60]            81,920\n",
       "│    │    └─BatchNorm1d: 3-25            [100, 128, 60]            256\n",
       "│    │    └─ReLU: 3-26                   [100, 128, 60]            --\n",
       "│    └─ConvBlock: 2-15                   [100, 128, 60]            --\n",
       "│    │    └─Conv1d: 3-27                 [100, 128, 60]            49,152\n",
       "│    │    └─BatchNorm1d: 3-28            [100, 128, 60]            256\n",
       "│    └─BatchNorm1d: 2-16                 [100, 128, 60]            256\n",
       "│    └─Add: 2-17                         [100, 128, 60]            --\n",
       "│    └─ReLU: 2-18                        [100, 128, 60]            --\n",
       "├─SegmentationHead: 1-4                  [100, 1, 60]              --\n",
       "│    └─ConvBlock: 2-19                   [100, 64, 60]             --\n",
       "│    │    └─Conv1d: 3-29                 [100, 64, 60]             24,576\n",
       "│    │    └─BatchNorm1d: 3-30            [100, 64, 60]             128\n",
       "│    │    └─ReLU: 3-31                   [100, 64, 60]             --\n",
       "│    └─ConvBlock: 2-20                   [100, 64, 60]             --\n",
       "│    │    └─Conv1d: 3-32                 [100, 64, 60]             12,288\n",
       "│    │    └─BatchNorm1d: 3-33            [100, 64, 60]             128\n",
       "│    │    └─ReLU: 3-34                   [100, 64, 60]             --\n",
       "│    └─ConvBlock: 2-21                   [100, 1, 60]              --\n",
       "│    │    └─Conv1d: 3-35                 [100, 1, 60]              192\n",
       "│    │    └─BatchNorm1d: 3-36            [100, 1, 60]              2\n",
       "==========================================================================================\n",
       "Total params: 516,546\n",
       "Trainable params: 516,546\n",
       "Non-trainable params: 0\n",
       "Total mult-adds (G): 3.08\n",
       "==========================================================================================\n",
       "Input size (MB): 0.07\n",
       "Forward/backward pass size (MB): 129.12\n",
       "Params size (MB): 2.07\n",
       "Estimated Total Size (MB): 131.26\n",
       "=========================================================================================="
      ]
     },
     "execution_count": 4,
     "metadata": {},
     "output_type": "execute_result"
    }
   ],
   "source": [
    "summary(s, input_size=(100, 3, 60), device='cpu')"
   ]
  },
  {
   "cell_type": "code",
   "execution_count": null,
   "metadata": {},
   "outputs": [],
   "source": []
  }
 ],
 "metadata": {
  "kernelspec": {
   "display_name": "Python 3.8.13 ('base')",
   "language": "python",
   "name": "python3"
  },
  "language_info": {
   "codemirror_mode": {
    "name": "ipython",
    "version": 3
   },
   "file_extension": ".py",
   "mimetype": "text/x-python",
   "name": "python",
   "nbconvert_exporter": "python",
   "pygments_lexer": "ipython3",
   "version": "3.8.13"
  },
  "orig_nbformat": 4,
  "vscode": {
   "interpreter": {
    "hash": "7ff63645dd16f55240e07095d3c46f4fac3f89ef16802cfaceca713f6cf38dfb"
   }
  }
 },
 "nbformat": 4,
 "nbformat_minor": 2
}
