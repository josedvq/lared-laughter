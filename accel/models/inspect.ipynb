{
 "cells": [
  {
   "cell_type": "code",
   "execution_count": null,
   "metadata": {},
   "outputs": [],
   "source": [
    "from tsai.models.ResNet import ResNet\n",
    "from torchsummary import summary\n",
    "from lared_laughter.accel.models.cnn import MyAlexNet\n",
    "from lared_laughter.accel.models.resnet import ResNetBaseline"
   ]
  },
  {
   "cell_type": "code",
   "execution_count": null,
   "metadata": {},
   "outputs": [],
   "source": [
    "r = ResNet(3,1)\n",
    "a = MyAlexNet()\n",
    "b= ResNetBaseline(3, 64, 1)"
   ]
  },
  {
   "cell_type": "code",
   "execution_count": null,
   "metadata": {},
   "outputs": [],
   "source": [
    "summary(r, input_size=(3, 60), device='cpu')"
   ]
  }
 ],
 "metadata": {
  "language_info": {
   "name": "python"
  },
  "orig_nbformat": 4
 },
 "nbformat": 4,
 "nbformat_minor": 2
}
