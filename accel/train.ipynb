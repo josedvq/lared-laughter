{
 "cells": [
  {
   "cell_type": "code",
   "execution_count": 1,
   "metadata": {},
   "outputs": [],
   "source": [
    "%load_ext autoreload\n",
    "%autoreload 2"
   ]
  },
  {
   "cell_type": "code",
   "execution_count": 2,
   "metadata": {},
   "outputs": [],
   "source": [
    "import pickle\n",
    "import os\n",
    "import sys\n",
    "sys.path.append('..')"
   ]
  },
  {
   "cell_type": "code",
   "execution_count": 3,
   "metadata": {},
   "outputs": [],
   "source": [
    "import numpy as np\n",
    "import pandas as pd\n",
    "import torch\n",
    "from torch.utils.data import Subset\n",
    "from tqdm import tqdm, trange"
   ]
  },
  {
   "cell_type": "code",
   "execution_count": 4,
   "metadata": {},
   "outputs": [],
   "source": [
    "from sklearn.model_selection import train_test_split\n",
    "from sklearn.metrics import roc_auc_score\n",
    "from sklearn.model_selection import KFold\n",
    "from sklearn.linear_model import LogisticRegressionCV"
   ]
  },
  {
   "cell_type": "code",
   "execution_count": 5,
   "metadata": {},
   "outputs": [],
   "source": [
    "from models.cnn import MyAlexNet\n",
    "from modules.my_torch.helpers import train_one_epoch, eval, test\n",
    "from modules.eval.eval import dataset_train_test\n",
    "from dataset import AccelLaughterDataset"
   ]
  },
  {
   "cell_type": "code",
   "execution_count": 23,
   "metadata": {},
   "outputs": [
    {
     "name": "stdout",
     "output_type": "stream",
     "text": [
      "loaded 672 examples\n",
      "442 have accel\n"
     ]
    }
   ],
   "source": [
    "examples = pd.read_csv('../dataset/computational_examples.csv')\n",
    "examples = examples[examples['condition'] == 'video']\n",
    "ds = AccelLaughterDataset(examples, '../dataset/accel_ds.pkl')"
   ]
  },
  {
   "cell_type": "code",
   "execution_count": 24,
   "metadata": {},
   "outputs": [
    {
     "data": {
      "text/plain": [
       "442"
      ]
     },
     "execution_count": 24,
     "metadata": {},
     "output_type": "execute_result"
    }
   ],
   "source": [
    "len(ds)"
   ]
  },
  {
   "cell_type": "code",
   "execution_count": 26,
   "metadata": {},
   "outputs": [],
   "source": [
    "seed = 22\n",
    "cv_splits = KFold(n_splits=4,\n",
    "                         random_state=seed,\n",
    "                         shuffle=True).split(range(len(ds)))"
   ]
  },
  {
   "cell_type": "code",
   "execution_count": null,
   "metadata": {},
   "outputs": [],
   "source": [
    "def do_fold(i):\n",
    "    train_idx, test_idx = cv_splits[i]\n",
    "    # leave only examples with accel\n",
    "    train_idx = [idx for idx in train_idx if idx in ds.get_ids_with_data()]\n",
    "    test_idx = [idx for idx in test_idx if idx in ds.get_ids_with_data()]\n",
    "    \n",
    "    # create datasets    \n",
    "    train_ds = Subset(ds, train_idx)\n",
    "    test_ds = Subset(ds, test_idx)\n",
    "    \n",
    "    # data loaders\n",
    "    data_loader = torch.utils.data.DataLoader(\n",
    "        train_ds, batch_size=100, shuffle=True, num_workers=0,\n",
    "        collate_fn=None)\n",
    "    data_loader_val = torch.utils.data.DataLoader(\n",
    "        test_ds, batch_size=100, shuffle=False, num_workers=0,\n",
    "        collate_fn=None)\n",
    "    \n",
    "    model = MyAlexNet()\n",
    "    loss_fn = torch.nn.BCEWithLogitsLoss(reduction='sum')\n",
    "    optimizer = torch.optim.Adam(model.parameters(), lr=.001)\n",
    "    \n",
    "    device = torch.device('cpu')\n",
    "    model = model.to(device)\n",
    "    \n",
    "    for epoch in range(10):\n",
    "        try:\n",
    "            train_one_epoch(model, loss_fn, device, data_loader, optimizer, epoch)\n",
    "#             eval(model, loss_fn, device, data_loader_val)\n",
    "        except KeyboardInterrupt:\n",
    "            pass\n",
    "        \n",
    "    # testing\n",
    "    val_y_true, val_proba, test_stats = test(model, loss_fn, device, data_loader_val)\n",
    "    test_auc = roc_auc_score(val_y_true, val_proba)\n",
    "    print(test_auc)\n",
    "    return val_proba"
   ]
  },
  {
   "cell_type": "code",
   "execution_count": null,
   "metadata": {},
   "outputs": [],
   "source": [
    "for f in range(0,4):\n",
    "    fold_proba = do_fold(f)\n",
    "    train_idx, test_idx = cv_splits[f]\n",
    "    test_idx = [idx for idx in test_idx if idx in ds.get_ids_with_data()]\n",
    "    proba[test_idx] = fold_proba"
   ]
  },
  {
   "cell_type": "code",
   "execution_count": null,
   "metadata": {},
   "outputs": [],
   "source": [
    "np.savetxt('../analysis/cnn_proba.csv', proba)"
   ]
  },
  {
   "cell_type": "code",
   "execution_count": null,
   "metadata": {},
   "outputs": [],
   "source": []
  },
  {
   "cell_type": "code",
   "execution_count": null,
   "metadata": {},
   "outputs": [],
   "source": []
  }
 ],
 "metadata": {
  "kernelspec": {
   "display_name": "Python 3",
   "language": "python",
   "name": "python3"
  },
  "language_info": {
   "codemirror_mode": {
    "name": "ipython",
    "version": 3
   },
   "file_extension": ".py",
   "mimetype": "text/x-python",
   "name": "python",
   "nbconvert_exporter": "python",
   "pygments_lexer": "ipython3",
   "version": "3.8.10"
  }
 },
 "nbformat": 4,
 "nbformat_minor": 4
}
