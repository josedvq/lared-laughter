{
 "cells": [
  {
   "cell_type": "code",
   "execution_count": 1,
   "metadata": {},
   "outputs": [],
   "source": [
    "%load_ext autoreload\n",
    "%autoreload 2"
   ]
  },
  {
   "cell_type": "code",
   "execution_count": 2,
   "metadata": {},
   "outputs": [],
   "source": [
    "import pickle\n",
    "import os\n",
    "import sys\n",
    "sys.path.append('..')"
   ]
  },
  {
   "cell_type": "code",
   "execution_count": 3,
   "metadata": {},
   "outputs": [],
   "source": [
    "import numpy as np\n",
    "import pandas as pd\n",
    "import torch\n",
    "from torch.utils.data import Subset\n",
    "from tqdm import tqdm, trange"
   ]
  },
  {
   "cell_type": "code",
   "execution_count": 4,
   "metadata": {},
   "outputs": [],
   "source": [
    "from sklearn.model_selection import train_test_split\n",
    "from sklearn.metrics import roc_auc_score\n",
    "from sklearn.model_selection import KFold\n",
    "from sklearn.linear_model import LogisticRegressionCV"
   ]
  },
  {
   "cell_type": "code",
   "execution_count": 5,
   "metadata": {},
   "outputs": [],
   "source": [
    "from models.cnn import MyAlexNet\n",
    "from models.resnet import ResNetBaseline\n",
    "from modules.my_torch.helpers import train_one_epoch, eval, test, test_binary, test_regression, _test\n",
    "from modules.eval.eval import dataset_train_test\n",
    "from dataset import AccelLaughterDataset\n",
    "from constants import cloud_data_path"
   ]
  },
  {
   "cell_type": "code",
   "execution_count": 6,
   "metadata": {},
   "outputs": [
    {
     "name": "stdout",
     "output_type": "stream",
     "text": [
      "loaded 672 examples\n",
      "467 have accel\n"
     ]
    }
   ],
   "source": [
    "examples = pd.read_csv('../dataset/computational_examples.csv')\n",
    "examples = examples[examples['condition'] == 'video']\n",
    "accel_ds_path = os.path.join(cloud_data_path, 'accel', 'accel_ds.pkl')\n",
    "ds = AccelLaughterDataset(examples, accel_ds_path, label='intensity', example_len=60)"
   ]
  },
  {
   "cell_type": "code",
   "execution_count": 7,
   "metadata": {},
   "outputs": [
    {
     "data": {
      "text/html": [
       "<div>\n",
       "<style scoped>\n",
       "    .dataframe tbody tr th:only-of-type {\n",
       "        vertical-align: middle;\n",
       "    }\n",
       "\n",
       "    .dataframe tbody tr th {\n",
       "        vertical-align: top;\n",
       "    }\n",
       "\n",
       "    .dataframe thead th {\n",
       "        text-align: right;\n",
       "    }\n",
       "</style>\n",
       "<table border=\"1\" class=\"dataframe\">\n",
       "  <thead>\n",
       "    <tr style=\"text-align: right;\">\n",
       "      <th></th>\n",
       "      <th>Unnamed: 0.1</th>\n",
       "      <th>Unnamed: 0</th>\n",
       "      <th>person</th>\n",
       "      <th>cam</th>\n",
       "      <th>hit_id</th>\n",
       "      <th>condition</th>\n",
       "      <th>calibration</th>\n",
       "      <th>hash</th>\n",
       "      <th>ini_time</th>\n",
       "      <th>end_time</th>\n",
       "      <th>...</th>\n",
       "      <th>gt_offset</th>\n",
       "      <th>gt_laughter</th>\n",
       "      <th>is_laughter</th>\n",
       "      <th>confidence</th>\n",
       "      <th>intensity</th>\n",
       "      <th>attempt</th>\n",
       "      <th>pressed_key</th>\n",
       "      <th>onset</th>\n",
       "      <th>offset</th>\n",
       "      <th>rating_hash</th>\n",
       "    </tr>\n",
       "  </thead>\n",
       "  <tbody>\n",
       "    <tr>\n",
       "      <th>0</th>\n",
       "      <td>0</td>\n",
       "      <td>0</td>\n",
       "      <td>25</td>\n",
       "      <td>1</td>\n",
       "      <td>9c45e4f0c5442e796eb93e73e94dc6c2dfca7b9c4c54ff...</td>\n",
       "      <td>video</td>\n",
       "      <td>False</td>\n",
       "      <td>1170917790b51bc5a8dacacc4d8ed8c410b7ea6bb7ea4b...</td>\n",
       "      <td>7360.29</td>\n",
       "      <td>7361.54</td>\n",
       "      <td>...</td>\n",
       "      <td>4.420238</td>\n",
       "      <td>True</td>\n",
       "      <td>True</td>\n",
       "      <td>7</td>\n",
       "      <td>4</td>\n",
       "      <td>0</td>\n",
       "      <td>True</td>\n",
       "      <td>3.336670</td>\n",
       "      <td>6.639973</td>\n",
       "      <td>7af591213b827db95c12c56e76e0b1fe518f2088d11aad...</td>\n",
       "    </tr>\n",
       "    <tr>\n",
       "      <th>1</th>\n",
       "      <td>1947</td>\n",
       "      <td>1947</td>\n",
       "      <td>25</td>\n",
       "      <td>1</td>\n",
       "      <td>bff9b86d833a595e6fe5a54f45093fa168cda45db1143e...</td>\n",
       "      <td>video</td>\n",
       "      <td>False</td>\n",
       "      <td>1170917790b51bc5a8dacacc4d8ed8c410b7ea6bb7ea4b...</td>\n",
       "      <td>7360.29</td>\n",
       "      <td>7361.54</td>\n",
       "      <td>...</td>\n",
       "      <td>4.420238</td>\n",
       "      <td>True</td>\n",
       "      <td>True</td>\n",
       "      <td>1</td>\n",
       "      <td>6</td>\n",
       "      <td>0</td>\n",
       "      <td>True</td>\n",
       "      <td>2.569236</td>\n",
       "      <td>6.639973</td>\n",
       "      <td>25df21dc0f25e11a7c4aba77e502269d42a7bb548044f2...</td>\n",
       "    </tr>\n",
       "    <tr>\n",
       "      <th>6</th>\n",
       "      <td>979</td>\n",
       "      <td>979</td>\n",
       "      <td>35</td>\n",
       "      <td>3</td>\n",
       "      <td>f4c9842cec7be99eeaaea36d0c7d077c4d5d94596dc731...</td>\n",
       "      <td>video</td>\n",
       "      <td>False</td>\n",
       "      <td>11bc9d8aca57ab2aef4c5305b080fa49c08665d9e94190...</td>\n",
       "      <td>2216.02</td>\n",
       "      <td>2216.54</td>\n",
       "      <td>...</td>\n",
       "      <td>3.928860</td>\n",
       "      <td>True</td>\n",
       "      <td>False</td>\n",
       "      <td>3</td>\n",
       "      <td>4</td>\n",
       "      <td>0</td>\n",
       "      <td>False</td>\n",
       "      <td>NaN</td>\n",
       "      <td>NaN</td>\n",
       "      <td>e56c0edb6a0870ea94b570507d246cb56c9ab3b1919a05...</td>\n",
       "    </tr>\n",
       "    <tr>\n",
       "      <th>7</th>\n",
       "      <td>2744</td>\n",
       "      <td>2744</td>\n",
       "      <td>35</td>\n",
       "      <td>3</td>\n",
       "      <td>eecc0cf5d634ce45a98cbbda30c922f2a2cfcb1877124c...</td>\n",
       "      <td>video</td>\n",
       "      <td>False</td>\n",
       "      <td>11bc9d8aca57ab2aef4c5305b080fa49c08665d9e94190...</td>\n",
       "      <td>2216.02</td>\n",
       "      <td>2216.54</td>\n",
       "      <td>...</td>\n",
       "      <td>3.928860</td>\n",
       "      <td>True</td>\n",
       "      <td>False</td>\n",
       "      <td>5</td>\n",
       "      <td>4</td>\n",
       "      <td>0</td>\n",
       "      <td>False</td>\n",
       "      <td>NaN</td>\n",
       "      <td>NaN</td>\n",
       "      <td>4c6a7bdcbec4e912d140f9a9ae4a196e0b55f0e5eff6b3...</td>\n",
       "    </tr>\n",
       "    <tr>\n",
       "      <th>12</th>\n",
       "      <td>2</td>\n",
       "      <td>2</td>\n",
       "      <td>1</td>\n",
       "      <td>4</td>\n",
       "      <td>9c45e4f0c5442e796eb93e73e94dc6c2dfca7b9c4c54ff...</td>\n",
       "      <td>video</td>\n",
       "      <td>False</td>\n",
       "      <td>c1d181e74dbdbce1e51d7d0bfd6e036913896dd1f22856...</td>\n",
       "      <td>3346.30</td>\n",
       "      <td>3347.70</td>\n",
       "      <td>...</td>\n",
       "      <td>3.255518</td>\n",
       "      <td>True</td>\n",
       "      <td>True</td>\n",
       "      <td>2</td>\n",
       "      <td>2</td>\n",
       "      <td>0</td>\n",
       "      <td>True</td>\n",
       "      <td>2.736069</td>\n",
       "      <td>3.203203</td>\n",
       "      <td>07d4ee10402ea059d0a3791fd35fbaab20149aeb6ffb99...</td>\n",
       "    </tr>\n",
       "  </tbody>\n",
       "</table>\n",
       "<p>5 rows × 23 columns</p>\n",
       "</div>"
      ],
      "text/plain": [
       "    Unnamed: 0.1  Unnamed: 0  person  cam  \\\n",
       "0              0           0      25    1   \n",
       "1           1947        1947      25    1   \n",
       "6            979         979      35    3   \n",
       "7           2744        2744      35    3   \n",
       "12             2           2       1    4   \n",
       "\n",
       "                                               hit_id condition  calibration  \\\n",
       "0   9c45e4f0c5442e796eb93e73e94dc6c2dfca7b9c4c54ff...     video        False   \n",
       "1   bff9b86d833a595e6fe5a54f45093fa168cda45db1143e...     video        False   \n",
       "6   f4c9842cec7be99eeaaea36d0c7d077c4d5d94596dc731...     video        False   \n",
       "7   eecc0cf5d634ce45a98cbbda30c922f2a2cfcb1877124c...     video        False   \n",
       "12  9c45e4f0c5442e796eb93e73e94dc6c2dfca7b9c4c54ff...     video        False   \n",
       "\n",
       "                                                 hash  ini_time  end_time  \\\n",
       "0   1170917790b51bc5a8dacacc4d8ed8c410b7ea6bb7ea4b...   7360.29   7361.54   \n",
       "1   1170917790b51bc5a8dacacc4d8ed8c410b7ea6bb7ea4b...   7360.29   7361.54   \n",
       "6   11bc9d8aca57ab2aef4c5305b080fa49c08665d9e94190...   2216.02   2216.54   \n",
       "7   11bc9d8aca57ab2aef4c5305b080fa49c08665d9e94190...   2216.02   2216.54   \n",
       "12  c1d181e74dbdbce1e51d7d0bfd6e036913896dd1f22856...   3346.30   3347.70   \n",
       "\n",
       "    ...  gt_offset  gt_laughter  is_laughter  confidence  intensity  attempt  \\\n",
       "0   ...   4.420238         True         True           7          4        0   \n",
       "1   ...   4.420238         True         True           1          6        0   \n",
       "6   ...   3.928860         True        False           3          4        0   \n",
       "7   ...   3.928860         True        False           5          4        0   \n",
       "12  ...   3.255518         True         True           2          2        0   \n",
       "\n",
       "    pressed_key     onset    offset  \\\n",
       "0          True  3.336670  6.639973   \n",
       "1          True  2.569236  6.639973   \n",
       "6         False       NaN       NaN   \n",
       "7         False       NaN       NaN   \n",
       "12         True  2.736069  3.203203   \n",
       "\n",
       "                                          rating_hash  \n",
       "0   7af591213b827db95c12c56e76e0b1fe518f2088d11aad...  \n",
       "1   25df21dc0f25e11a7c4aba77e502269d42a7bb548044f2...  \n",
       "6   e56c0edb6a0870ea94b570507d246cb56c9ab3b1919a05...  \n",
       "7   4c6a7bdcbec4e912d140f9a9ae4a196e0b55f0e5eff6b3...  \n",
       "12  07d4ee10402ea059d0a3791fd35fbaab20149aeb6ffb99...  \n",
       "\n",
       "[5 rows x 23 columns]"
      ]
     },
     "execution_count": 7,
     "metadata": {},
     "output_type": "execute_result"
    }
   ],
   "source": [
    "examples.head()"
   ]
  },
  {
   "cell_type": "code",
   "execution_count": 8,
   "metadata": {},
   "outputs": [
    {
     "data": {
      "text/plain": [
       "(467, 359)"
      ]
     },
     "execution_count": 8,
     "metadata": {},
     "output_type": "execute_result"
    }
   ],
   "source": [
    "(len(ds.examples_df), len(ds.accel))"
   ]
  },
  {
   "cell_type": "code",
   "execution_count": 9,
   "metadata": {},
   "outputs": [
    {
     "data": {
      "text/plain": [
       "(49, 3)"
      ]
     },
     "execution_count": 9,
     "metadata": {},
     "output_type": "execute_result"
    }
   ],
   "source": [
    "ds.accel['006f74addfc99845bf6c9f80d13d52ccc189341031525530762bb83dd8b713af'].shape"
   ]
  },
  {
   "cell_type": "code",
   "execution_count": 10,
   "metadata": {},
   "outputs": [],
   "source": [
    "def get_metrics(outputs, labels, model):\n",
    "    if model in ['bce']:\n",
    "        proba = torch.sigmoid(outputs)\n",
    "        pred = (proba > 0.5)\n",
    "\n",
    "        correct = pred.eq(outputs.bool()).sum().item()\n",
    "        return {\n",
    "            'auc': roc_auc_score(labels, proba),\n",
    "            'correct': correct\n",
    "        }\n",
    "    elif model in ['l1', 'mse', 'mean_baseline']:\n",
    "        return {\n",
    "            'mse': torch.nn.functional.mse_loss(outputs, labels, reduction='mean'),\n",
    "            'l1': torch.nn.functional.l1_loss(outputs, labels, reduction='mean')\n",
    "        }"
   ]
  },
  {
   "cell_type": "code",
   "execution_count": 23,
   "metadata": {},
   "outputs": [],
   "source": [
    "def do_fold(train_idx, test_idx, model='bce', logfile=None):\n",
    "    # create datasets    \n",
    "    train_ds = Subset(ds, train_idx)\n",
    "    test_ds = Subset(ds, test_idx)\n",
    "    \n",
    "    # data loaders\n",
    "    data_loader = torch.utils.data.DataLoader(\n",
    "        train_ds, batch_size=100, shuffle=True, num_workers=0,\n",
    "        collate_fn=None)\n",
    "    data_loader_val = torch.utils.data.DataLoader(\n",
    "        test_ds, batch_size=100, shuffle=False, num_workers=0,\n",
    "        collate_fn=None)\n",
    "\n",
    "    if model in ['bce', 'l1', 'mse']:\n",
    "        return do_fold_cnn(data_loader, data_loader_val, model, logfile)\n",
    "    elif model in ['mean_baseline']:\n",
    "        return do_fold_mean_baseline(data_loader, data_loader_val)\n",
    "\n",
    "def do_fold_mean_baseline(train_dl, test_dl):\n",
    "    labels = []\n",
    "    for batch_idx, (X, Y) in enumerate(train_dl):\n",
    "        Y = Y.float()\n",
    "        labels.append(Y.reshape(-1))\n",
    "\n",
    "    labels = torch.cat(labels)\n",
    "    return torch.full((len(test_dl.dataset),), labels.mean().item())\n",
    "\n",
    "def do_fold_cnn(train_dl, test_dl, loss='bce', logfile=None):\n",
    "    \n",
    "    # model = MyAlexNet()\n",
    "    model = ResNetBaseline(in_channels = 3)\n",
    "    if loss == 'bce':\n",
    "        loss_fn = torch.nn.BCEWithLogitsLoss(reduction='sum')\n",
    "    elif loss == 'mse':\n",
    "        loss_fn = torch.nn.MSELoss(reduction='sum')\n",
    "    elif loss == 'l1':\n",
    "        loss_fn = torch.nn.L1Loss(reduction='sum')\n",
    "    else:\n",
    "        raise Exception('unknown loss')\n",
    "    optimizer = torch.optim.Adam(model.parameters(), lr=.001)\n",
    "    \n",
    "    device = torch.device('cpu')\n",
    "    model = model.to(device)\n",
    "    \n",
    "    for epoch in range(50):\n",
    "        try:\n",
    "            train_one_epoch(model, loss_fn, device, train_dl, optimizer, epoch)\n",
    "            eval_labels, eval_output, stats = _test(model, loss_fn, device, test_dl)\n",
    "            eval_metrics = get_metrics(eval_output, eval_labels, loss)\n",
    "            if logfile is not None:\n",
    "                logfile.write(str(eval_metrics)+'\\n')\n",
    "        except KeyboardInterrupt:\n",
    "            pass\n",
    "        \n",
    "    # testing\n",
    "    all_labels, all_output, stats = _test(model, loss_fn, device, test_dl)\n",
    "\n",
    "    metrics = get_metrics(all_output, all_labels, loss)\n",
    "    return all_output"
   ]
  },
  {
   "cell_type": "code",
   "execution_count": 24,
   "metadata": {},
   "outputs": [],
   "source": [
    "\n",
    "def do_run(model):\n",
    "    seed = 22\n",
    "    cv_splits = KFold(n_splits=4, random_state=seed, shuffle=True).split(range(len(ds)))\n",
    "\n",
    "    fh = open('run_logs.log', 'w')\n",
    "\n",
    "    outputs = torch.empty((len(ds),))\n",
    "    for f, (train_idx, test_idx) in enumerate(cv_splits):\n",
    "        fold_outputs = do_fold(train_idx, test_idx, model, logfile=fh)\n",
    "        outputs[test_idx] = fold_outputs\n",
    "\n",
    "    labels = torch.Tensor(ds.get_all_labels())\n",
    "    run_metrics = get_metrics(outputs, labels, model)\n",
    "    fh.close()\n",
    "    print(run_metrics)\n",
    "\n",
    "    return outputs"
   ]
  },
  {
   "cell_type": "code",
   "execution_count": 25,
   "metadata": {},
   "outputs": [
    {
     "name": "stdout",
     "output_type": "stream",
     "text": [
      "{'mse': tensor(2.5420), 'l1': tensor(1.2098)}\n"
     ]
    }
   ],
   "source": [
    "_=do_run('mse')"
   ]
  },
  {
   "cell_type": "code",
   "execution_count": 26,
   "metadata": {},
   "outputs": [
    {
     "name": "stdout",
     "output_type": "stream",
     "text": [
      "{'mse': tensor(2.2997), 'l1': tensor(1.1001)}\n"
     ]
    }
   ],
   "source": [
    "_=do_run('l1')"
   ]
  },
  {
   "cell_type": "code",
   "execution_count": 33,
   "metadata": {},
   "outputs": [
    {
     "name": "stdout",
     "output_type": "stream",
     "text": [
      "{'mse': tensor(1.7031), 'l1': tensor(0.9845)}\n"
     ]
    }
   ],
   "source": [
    "_=do_run('mean_baseline')"
   ]
  },
  {
   "cell_type": "code",
   "execution_count": null,
   "metadata": {},
   "outputs": [],
   "source": []
  }
 ],
 "metadata": {
  "interpreter": {
   "hash": "916dbcbb3f70747c44a77c7bcd40155683ae19c65e1c03b4aa3499c5328201f1"
  },
  "kernelspec": {
   "display_name": "Python 3.8.10 64-bit",
   "language": "python",
   "name": "python3"
  },
  "language_info": {
   "codemirror_mode": {
    "name": "ipython",
    "version": 3
   },
   "file_extension": ".py",
   "mimetype": "text/x-python",
   "name": "python",
   "nbconvert_exporter": "python",
   "pygments_lexer": "ipython3",
   "version": "3.8.10"
  }
 },
 "nbformat": 4,
 "nbformat_minor": 4
}
