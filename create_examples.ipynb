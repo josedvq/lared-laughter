{
 "metadata": {
  "language_info": {
   "codemirror_mode": {
    "name": "ipython",
    "version": 3
   },
   "file_extension": ".py",
   "mimetype": "text/x-python",
   "name": "python",
   "nbconvert_exporter": "python",
   "pygments_lexer": "ipython3",
   "version": "3.7.5-final"
  },
  "orig_nbformat": 2,
  "kernelspec": {
   "name": "python3",
   "display_name": "Python 3.7.5 64-bit",
   "metadata": {
    "interpreter": {
     "hash": "e774977668b7c0ae8309835a5187aa7fbf7669e7d0bb59755bc63e573643edcd"
    }
   }
  }
 },
 "nbformat": 4,
 "nbformat_minor": 2,
 "cells": [
  {
   "cell_type": "code",
   "execution_count": 1,
   "metadata": {},
   "outputs": [],
   "source": [
    "%load_ext autoreload\n",
    "%autoreload 2"
   ]
  },
  {
   "cell_type": "code",
   "execution_count": 2,
   "metadata": {},
   "outputs": [],
   "source": [
    "from pathlib import Path\n",
    "import os\n",
    "import sys\n",
    "import json\n",
    "import copy\n",
    "import pickle\n",
    "from hashlib import sha256\n",
    "import random"
   ]
  },
  {
   "cell_type": "code",
   "execution_count": 3,
   "metadata": {},
   "outputs": [],
   "source": [
    "import pandas as pd\n",
    "import pandas as pd\n",
    "import numpy as np\n",
    "import cv2\n",
    "from tqdm.notebook import tqdm"
   ]
  },
  {
   "cell_type": "code",
   "execution_count": 4,
   "metadata": {},
   "outputs": [],
   "source": [
    "sys.path.append('../lared')\n",
    "from helpers import file_functions\n",
    "from dataset.example import VideoExample, AudioExample, FullExample\n",
    "from constants.laughter_constants import data_path, cloud_data_path\n",
    "from data_loading.utils import get_video_caps, AudioFiles"
   ]
  },
  {
   "cell_type": "code",
   "execution_count": 23,
   "metadata": {},
   "outputs": [],
   "source": [
    "VideoExample.init_caps(get_video_caps('/mnt/hdd/data/lared/concat'))"
   ]
  },
  {
   "cell_type": "code",
   "execution_count": 6,
   "metadata": {},
   "outputs": [],
   "source": [
    "laughter_ann_path = os.path.join(cloud_data_path, 'laughter.txt')\n",
    "camera_ann_path = os.path.join(cloud_data_path, 'camera.txt')\n",
    "out_path = os.path.join(cloud_data_path, 'examples')\n",
    "images_path = os.path.join(out_path, 'images')\n",
    "\n",
    "\n",
    "laughter_ann = pd.read_csv(laughter_ann_path, sep='\\t',names=['name','participant','ini','fin','dur','type'],header=None)\n",
    "camera_ann = pd.read_csv(camera_ann_path, sep='\\t',names=['name','participant','ini','fin','dur','camera'],header=None)"
   ]
  },
  {
   "cell_type": "code",
   "execution_count": 7,
   "metadata": {},
   "outputs": [
    {
     "output_type": "execute_result",
     "data": {
      "text/plain": [
       "       name  participant       ini       fin     dur  camera\n",
       "0  camera30         32.0     0.000    10.000  10.000       0\n",
       "1   camera3          3.0   866.280   882.440  16.160       1\n",
       "2   camera3          3.0   883.150   884.490   1.340      12\n",
       "3   camera3          3.0   884.600   888.860   4.260     123\n",
       "4   camera3          3.0  4300.139  4300.956   0.817       4"
      ],
      "text/html": "<div>\n<style scoped>\n    .dataframe tbody tr th:only-of-type {\n        vertical-align: middle;\n    }\n\n    .dataframe tbody tr th {\n        vertical-align: top;\n    }\n\n    .dataframe thead th {\n        text-align: right;\n    }\n</style>\n<table border=\"1\" class=\"dataframe\">\n  <thead>\n    <tr style=\"text-align: right;\">\n      <th></th>\n      <th>name</th>\n      <th>participant</th>\n      <th>ini</th>\n      <th>fin</th>\n      <th>dur</th>\n      <th>camera</th>\n    </tr>\n  </thead>\n  <tbody>\n    <tr>\n      <th>0</th>\n      <td>camera30</td>\n      <td>32.0</td>\n      <td>0.000</td>\n      <td>10.000</td>\n      <td>10.000</td>\n      <td>0</td>\n    </tr>\n    <tr>\n      <th>1</th>\n      <td>camera3</td>\n      <td>3.0</td>\n      <td>866.280</td>\n      <td>882.440</td>\n      <td>16.160</td>\n      <td>1</td>\n    </tr>\n    <tr>\n      <th>2</th>\n      <td>camera3</td>\n      <td>3.0</td>\n      <td>883.150</td>\n      <td>884.490</td>\n      <td>1.340</td>\n      <td>12</td>\n    </tr>\n    <tr>\n      <th>3</th>\n      <td>camera3</td>\n      <td>3.0</td>\n      <td>884.600</td>\n      <td>888.860</td>\n      <td>4.260</td>\n      <td>123</td>\n    </tr>\n    <tr>\n      <th>4</th>\n      <td>camera3</td>\n      <td>3.0</td>\n      <td>4300.139</td>\n      <td>4300.956</td>\n      <td>0.817</td>\n      <td>4</td>\n    </tr>\n  </tbody>\n</table>\n</div>"
     },
     "metadata": {},
     "execution_count": 7
    }
   ],
   "source": [
    "camera_ann.head()"
   ]
  },
  {
   "cell_type": "code",
   "execution_count": 8,
   "metadata": {},
   "outputs": [],
   "source": [
    "df_camera_by_participant = camera_ann.groupby('participant')\n",
    "df_laughter_by_participant = laughter_ann.groupby('participant')"
   ]
  },
  {
   "cell_type": "code",
   "execution_count": 9,
   "metadata": {},
   "outputs": [],
   "source": [
    "dfs_camera = []\n",
    "for i in df_camera_by_participant.groups:\n",
    "    dfs_camera.append(df_camera_by_participant.get_group(i))\n",
    "dfs_laughter = []\n",
    "for i in df_laughter_by_participant.groups:\n",
    "    dfs_laughter.append(df_laughter_by_participant.get_group(i))\n",
    "participant_ids = df_camera_by_participant.groups.keys()\n",
    "participant_ids = [int(id) for id in participant_ids]"
   ]
  },
  {
   "cell_type": "code",
   "execution_count": 10,
   "metadata": {},
   "outputs": [],
   "source": [
    "def get_camera(camerastr):\n",
    "    if int(camerastr) == 0:\n",
    "        return []\n",
    "    \n",
    "    return [int(c) for c in str(camerastr)]"
   ]
  },
  {
   "cell_type": "code",
   "execution_count": 11,
   "metadata": {},
   "outputs": [],
   "source": [
    "# find the camera where a person is seen\n",
    "def find_cameras(cam, t):\n",
    "    previous = cam[cam['fin'] < t]\n",
    "    if len(previous) == 0:\n",
    "        return []\n",
    "    \n",
    "    row = previous.iloc[-1]\n",
    "    cameras = row.tail()['camera']\n",
    "    return get_camera(cameras)"
   ]
  },
  {
   "source": [
    "# Laughter examples"
   ],
   "cell_type": "markdown",
   "metadata": {}
  },
  {
   "cell_type": "code",
   "execution_count": 68,
   "metadata": {},
   "outputs": [
    {
     "output_type": "error",
     "ename": "NameError",
     "evalue": "name 'pid' is not defined",
     "traceback": [
      "\u001b[0;31m---------------------------------------------------------------------------\u001b[0m",
      "\u001b[0;31mNameError\u001b[0m                                 Traceback (most recent call last)",
      "\u001b[0;32m<ipython-input-68-d8cf216d4325>\u001b[0m in \u001b[0;36m<module>\u001b[0;34m\u001b[0m\n\u001b[1;32m     20\u001b[0m             })\n\u001b[1;32m     21\u001b[0m \u001b[0;34m\u001b[0m\u001b[0m\n\u001b[0;32m---> 22\u001b[0;31m             \u001b[0mexamples\u001b[0m\u001b[0;34m[\u001b[0m\u001b[0mhashid\u001b[0m\u001b[0;34m]\u001b[0m\u001b[0;34m.\u001b[0m\u001b[0mwrite_full_first_image\u001b[0m\u001b[0;34m(\u001b[0m\u001b[0mimages_path\u001b[0m\u001b[0;34m)\u001b[0m\u001b[0;34m\u001b[0m\u001b[0;34m\u001b[0m\u001b[0m\n\u001b[0m",
      "\u001b[0;32m~/furnace/lared/dataset/example.py\u001b[0m in \u001b[0;36mwrite_full_first_image\u001b[0;34m(self, fout_path)\u001b[0m\n\u001b[1;32m    106\u001b[0m \u001b[0;34m\u001b[0m\u001b[0m\n\u001b[1;32m    107\u001b[0m     \u001b[0;32mdef\u001b[0m \u001b[0mwrite_full_first_image\u001b[0m\u001b[0;34m(\u001b[0m\u001b[0mself\u001b[0m\u001b[0;34m,\u001b[0m \u001b[0mfout_path\u001b[0m\u001b[0;34m)\u001b[0m\u001b[0;34m:\u001b[0m\u001b[0;34m\u001b[0m\u001b[0;34m\u001b[0m\u001b[0m\n\u001b[0;32m--> 108\u001b[0;31m         \u001b[0mfout_path\u001b[0m \u001b[0;34m=\u001b[0m \u001b[0mos\u001b[0m\u001b[0;34m.\u001b[0m\u001b[0mpath\u001b[0m\u001b[0;34m.\u001b[0m\u001b[0mjoin\u001b[0m\u001b[0;34m(\u001b[0m\u001b[0mfout_path\u001b[0m\u001b[0;34m,\u001b[0m \u001b[0;34m'{:d}_{:d}_cam_{:d}.jpeg'\u001b[0m\u001b[0;34m.\u001b[0m\u001b[0mformat\u001b[0m\u001b[0;34m(\u001b[0m\u001b[0mpid\u001b[0m\u001b[0;34m,\u001b[0m \u001b[0mindex\u001b[0m\u001b[0;34m,\u001b[0m \u001b[0mcam\u001b[0m\u001b[0;34m)\u001b[0m\u001b[0;34m)\u001b[0m\u001b[0;34m\u001b[0m\u001b[0;34m\u001b[0m\u001b[0m\n\u001b[0m\u001b[1;32m    109\u001b[0m \u001b[0;34m\u001b[0m\u001b[0m\n\u001b[1;32m    110\u001b[0m         \u001b[0mcap\u001b[0m \u001b[0;34m=\u001b[0m \u001b[0mVideoExample\u001b[0m\u001b[0;34m.\u001b[0m\u001b[0mvideo_caps\u001b[0m\u001b[0;34m[\u001b[0m\u001b[0mself\u001b[0m\u001b[0;34m.\u001b[0m\u001b[0mcam\u001b[0m\u001b[0;34m]\u001b[0m\u001b[0;34m\u001b[0m\u001b[0;34m\u001b[0m\u001b[0m\n",
      "\u001b[0;31mNameError\u001b[0m: name 'pid' is not defined"
     ]
    }
   ],
   "source": [
    "# Create examples and first images\n",
    "examples = dict()\n",
    "for pid, df_laughter, df_camera in zip(participant_ids, dfs_laughter, dfs_camera):\n",
    "    for index,row in df_laughter.iterrows():\n",
    "        cameras = find_cameras(df_camera, row['ini'])\n",
    "        ini_time = (row['ini'])\n",
    "        fin_time = (row['fin'])\n",
    "\n",
    "        for cam in cameras:\n",
    "\n",
    "            hashstr = '_'.join([str(pid), str(cam), str(ini_time), str(fin_time)])\n",
    "            hashid = sha256(hashstr.encode()).hexdigest()\n",
    "            \n",
    "            examples[hashid] = FullExample({\n",
    "                'id': hashid,\n",
    "                'pid': pid,\n",
    "                'cam': cam,\n",
    "                'ini_time': ini_time,\n",
    "                'fin_time': fin_time\n",
    "            })\n",
    "\n",
    "            examples[hashid].write_full_first_image(images_path)"
   ]
  },
  {
   "cell_type": "code",
   "execution_count": null,
   "metadata": {},
   "outputs": [],
   "source": []
  },
  {
   "cell_type": "code",
   "execution_count": 13,
   "metadata": {},
   "outputs": [
    {
     "output_type": "execute_result",
     "data": {
      "text/plain": [
       "        name  participant       ini       fin    dur  camera\n",
       "174  camera1          1.0  1017.745  1018.411  0.666     234\n",
       "175  camera1          1.0  1670.398  1672.232  1.834       0\n",
       "176  camera1          1.0  1736.616  1737.432  0.816       4\n",
       "177  camera1          1.0  1756.332  1757.149  0.817     134\n",
       "178  camera1          1.0  1954.694  1955.244  0.550      14\n",
       "179  camera1          1.0  2702.593  2703.410  0.817      14\n",
       "180  camera1          1.0  2809.378  2810.578  1.200     134\n",
       "181  camera1          1.0  3018.330  3018.880  0.550      13\n",
       "182  camera1          1.0  3140.367  3141.201  0.834       1\n",
       "183  camera1          1.0  3253.484  3254.017  0.533      13\n",
       "184  camera1          1.0  3327.454  3328.537  1.083      14\n",
       "185  camera1          1.0  3379.494  3380.661  1.167       4\n",
       "186  camera1          1.0  4029.488  4030.088  0.600       0\n",
       "187  camera1          1.0  4055.858  4056.508  0.650       4\n",
       "188  camera1          1.0  4241.667  4242.600  0.933      14\n",
       "189  camera1          1.0  4567.503  4568.469  0.966    1234\n",
       "190  camera1          1.0  6575.647  6576.530  0.883       0\n",
       "191  camera1          1.0  6590.321  6590.955  0.634     123\n",
       "192  camera1          1.0  6624.849  6625.299  0.450       1"
      ],
      "text/html": "<div>\n<style scoped>\n    .dataframe tbody tr th:only-of-type {\n        vertical-align: middle;\n    }\n\n    .dataframe tbody tr th {\n        vertical-align: top;\n    }\n\n    .dataframe thead th {\n        text-align: right;\n    }\n</style>\n<table border=\"1\" class=\"dataframe\">\n  <thead>\n    <tr style=\"text-align: right;\">\n      <th></th>\n      <th>name</th>\n      <th>participant</th>\n      <th>ini</th>\n      <th>fin</th>\n      <th>dur</th>\n      <th>camera</th>\n    </tr>\n  </thead>\n  <tbody>\n    <tr>\n      <th>174</th>\n      <td>camera1</td>\n      <td>1.0</td>\n      <td>1017.745</td>\n      <td>1018.411</td>\n      <td>0.666</td>\n      <td>234</td>\n    </tr>\n    <tr>\n      <th>175</th>\n      <td>camera1</td>\n      <td>1.0</td>\n      <td>1670.398</td>\n      <td>1672.232</td>\n      <td>1.834</td>\n      <td>0</td>\n    </tr>\n    <tr>\n      <th>176</th>\n      <td>camera1</td>\n      <td>1.0</td>\n      <td>1736.616</td>\n      <td>1737.432</td>\n      <td>0.816</td>\n      <td>4</td>\n    </tr>\n    <tr>\n      <th>177</th>\n      <td>camera1</td>\n      <td>1.0</td>\n      <td>1756.332</td>\n      <td>1757.149</td>\n      <td>0.817</td>\n      <td>134</td>\n    </tr>\n    <tr>\n      <th>178</th>\n      <td>camera1</td>\n      <td>1.0</td>\n      <td>1954.694</td>\n      <td>1955.244</td>\n      <td>0.550</td>\n      <td>14</td>\n    </tr>\n    <tr>\n      <th>179</th>\n      <td>camera1</td>\n      <td>1.0</td>\n      <td>2702.593</td>\n      <td>2703.410</td>\n      <td>0.817</td>\n      <td>14</td>\n    </tr>\n    <tr>\n      <th>180</th>\n      <td>camera1</td>\n      <td>1.0</td>\n      <td>2809.378</td>\n      <td>2810.578</td>\n      <td>1.200</td>\n      <td>134</td>\n    </tr>\n    <tr>\n      <th>181</th>\n      <td>camera1</td>\n      <td>1.0</td>\n      <td>3018.330</td>\n      <td>3018.880</td>\n      <td>0.550</td>\n      <td>13</td>\n    </tr>\n    <tr>\n      <th>182</th>\n      <td>camera1</td>\n      <td>1.0</td>\n      <td>3140.367</td>\n      <td>3141.201</td>\n      <td>0.834</td>\n      <td>1</td>\n    </tr>\n    <tr>\n      <th>183</th>\n      <td>camera1</td>\n      <td>1.0</td>\n      <td>3253.484</td>\n      <td>3254.017</td>\n      <td>0.533</td>\n      <td>13</td>\n    </tr>\n    <tr>\n      <th>184</th>\n      <td>camera1</td>\n      <td>1.0</td>\n      <td>3327.454</td>\n      <td>3328.537</td>\n      <td>1.083</td>\n      <td>14</td>\n    </tr>\n    <tr>\n      <th>185</th>\n      <td>camera1</td>\n      <td>1.0</td>\n      <td>3379.494</td>\n      <td>3380.661</td>\n      <td>1.167</td>\n      <td>4</td>\n    </tr>\n    <tr>\n      <th>186</th>\n      <td>camera1</td>\n      <td>1.0</td>\n      <td>4029.488</td>\n      <td>4030.088</td>\n      <td>0.600</td>\n      <td>0</td>\n    </tr>\n    <tr>\n      <th>187</th>\n      <td>camera1</td>\n      <td>1.0</td>\n      <td>4055.858</td>\n      <td>4056.508</td>\n      <td>0.650</td>\n      <td>4</td>\n    </tr>\n    <tr>\n      <th>188</th>\n      <td>camera1</td>\n      <td>1.0</td>\n      <td>4241.667</td>\n      <td>4242.600</td>\n      <td>0.933</td>\n      <td>14</td>\n    </tr>\n    <tr>\n      <th>189</th>\n      <td>camera1</td>\n      <td>1.0</td>\n      <td>4567.503</td>\n      <td>4568.469</td>\n      <td>0.966</td>\n      <td>1234</td>\n    </tr>\n    <tr>\n      <th>190</th>\n      <td>camera1</td>\n      <td>1.0</td>\n      <td>6575.647</td>\n      <td>6576.530</td>\n      <td>0.883</td>\n      <td>0</td>\n    </tr>\n    <tr>\n      <th>191</th>\n      <td>camera1</td>\n      <td>1.0</td>\n      <td>6590.321</td>\n      <td>6590.955</td>\n      <td>0.634</td>\n      <td>123</td>\n    </tr>\n    <tr>\n      <th>192</th>\n      <td>camera1</td>\n      <td>1.0</td>\n      <td>6624.849</td>\n      <td>6625.299</td>\n      <td>0.450</td>\n      <td>1</td>\n    </tr>\n  </tbody>\n</table>\n</div>"
     },
     "metadata": {},
     "execution_count": 13
    }
   ],
   "source": [
    "dfs_camera[0]"
   ]
  },
  {
   "cell_type": "code",
   "execution_count": 12,
   "metadata": {},
   "outputs": [],
   "source": [
    "def create_random_segments(df_camera, pid, segment_len=10):\n",
    "    examples = list()\n",
    "    it = df_camera.iterrows()\n",
    "    prev = next(it)[1]\n",
    "    for index, row in it:\n",
    "        ini = prev.loc['ini'] + 10\n",
    "        fin = row.loc['fin'] - 10\n",
    "        cameras = get_camera(row.loc['camera'])\n",
    "\n",
    "        for cam in cameras:\n",
    "            t = ini\n",
    "            while t < fin:\n",
    "                hashstr = '_'.join([str(pid), str(cam), str(y), str(t+segment_len)])\n",
    "                hashid = sha256(hashstr.encode()).hexdigest()\n",
    "\n",
    "                examples.append(FullExample({\n",
    "                    'id': hashid,\n",
    "                    'pid': pid,\n",
    "                    'cam': cam,\n",
    "                    'ini_time': t,\n",
    "                    'fin_time': t + segment_len\n",
    "                }))\n",
    "                t += segment_len\n",
    "        prev = row\n",
    "    return examples"
   ]
  },
  {
   "cell_type": "code",
   "execution_count": 13,
   "metadata": {},
   "outputs": [],
   "source": [
    "random_examples = [create_random_segments(df, pid) for pid, df in zip(participant_ids, dfs_camera)]"
   ]
  },
  {
   "cell_type": "code",
   "execution_count": 14,
   "metadata": {},
   "outputs": [],
   "source": [
    "random_examples = [ex for e in random_examples for ex in e]"
   ]
  },
  {
   "cell_type": "code",
   "execution_count": 15,
   "metadata": {},
   "outputs": [],
   "source": [
    "# sample examples and put them in order of pid (for easy labeling)\n",
    "random.seed(22)\n",
    "chosen_examples = random.sample(random_examples, 2000)\n",
    "chosen_examples = sorted(chosen_examples, key=lambda ex: ex.pid)"
   ]
  },
  {
   "cell_type": "code",
   "execution_count": 16,
   "metadata": {},
   "outputs": [
    {
     "output_type": "execute_result",
     "data": {
      "text/plain": [
       "2000"
      ]
     },
     "metadata": {},
     "execution_count": 16
    }
   ],
   "source": [
    "len(chosen_examples)"
   ]
  },
  {
   "cell_type": "code",
   "execution_count": 17,
   "metadata": {},
   "outputs": [
    {
     "output_type": "execute_result",
     "data": {
      "text/plain": [
       "{'id': 'ee57c0f864fdf320f358bae8daf1dcca3a6a0d3f1ac322eb4e462e54b6ec1d0c', 'pid': 35, 'cam': 3, 'valid': None, 'ini_time': 3177.52, 'fin_time': 3187.52, 'labels': {'vad': None, 'label': None, 'vad_seg': None}, 'rect': None, 'ini': None, 'len': None}"
      ]
     },
     "metadata": {},
     "execution_count": 17
    }
   ],
   "source": [
    "chosen_examples[-1]"
   ]
  },
  {
   "source": [
    "# Write images"
   ],
   "cell_type": "markdown",
   "metadata": {}
  },
  {
   "cell_type": "code",
   "execution_count": 28,
   "metadata": {},
   "outputs": [
    {
     "output_type": "display_data",
     "data": {
      "text/plain": "HBox(children=(FloatProgress(value=0.0, max=2000.0), HTML(value='')))",
      "application/vnd.jupyter.widget-view+json": {
       "version_major": 2,
       "version_minor": 0,
       "model_id": "130fa158147541909a95883182dff4bd"
      }
     },
     "metadata": {}
    },
    {
     "output_type": "stream",
     "name": "stdout",
     "text": [
      "\n"
     ]
    }
   ],
   "source": [
    "for ex in tqdm(chosen_examples[:2000]):\n",
    "    ex.write_full_first_image(images_path)"
   ]
  },
  {
   "cell_type": "code",
   "execution_count": 27,
   "metadata": {},
   "outputs": [
    {
     "output_type": "execute_result",
     "data": {
      "text/plain": [
       "'/home/jose/drive/data/lared_laughter/examples/images'"
      ]
     },
     "metadata": {},
     "execution_count": 27
    }
   ],
   "source": [
    "images_path"
   ]
  },
  {
   "cell_type": "code",
   "execution_count": null,
   "metadata": {},
   "outputs": [],
   "source": []
  },
  {
   "cell_type": "code",
   "execution_count": null,
   "metadata": {},
   "outputs": [],
   "source": []
  },
  {
   "cell_type": "code",
   "execution_count": null,
   "metadata": {},
   "outputs": [],
   "source": []
  },
  {
   "cell_type": "code",
   "execution_count": null,
   "metadata": {},
   "outputs": [],
   "source": []
  },
  {
   "cell_type": "code",
   "execution_count": null,
   "metadata": {},
   "outputs": [],
   "source": []
  },
  {
   "cell_type": "code",
   "execution_count": null,
   "metadata": {},
   "outputs": [],
   "source": []
  }
 ]
}