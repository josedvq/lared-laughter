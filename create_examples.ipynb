{
 "cells": [
  {
   "cell_type": "code",
   "execution_count": 1,
   "metadata": {},
   "outputs": [],
   "source": [
    "%load_ext autoreload\n",
    "%autoreload 2"
   ]
  },
  {
   "cell_type": "code",
   "execution_count": 2,
   "metadata": {},
   "outputs": [],
   "source": [
    "from pathlib import Path\n",
    "import os\n",
    "import sys\n",
    "import json\n",
    "import copy\n",
    "import pickle\n",
    "from hashlib import sha256\n",
    "import random"
   ]
  },
  {
   "cell_type": "code",
   "execution_count": 3,
   "metadata": {},
   "outputs": [],
   "source": [
    "import pandas as pd\n",
    "import pandas as pd\n",
    "import numpy as np\n",
    "from matplotlib import pyplot as plt\n",
    "import cv2\n",
    "from tqdm.notebook import tqdm"
   ]
  },
  {
   "cell_type": "code",
   "execution_count": 4,
   "metadata": {},
   "outputs": [],
   "source": [
    "sys.path.append('../lared')\n",
    "from helpers import file_functions\n",
    "from dataset.example import VideoExample, AudioExample, FullExample\n",
    "from constants.laughter_constants import data_path, cloud_data_path\n",
    "from data_loading.utils import get_video_caps, AudioFiles"
   ]
  },
  {
   "cell_type": "code",
   "execution_count": 5,
   "metadata": {},
   "outputs": [],
   "source": [
    "VideoExample.init_caps(get_video_caps('/media/jose/HDD/data/lared/concat'))\n",
    "VideoExample.init_camera_annotation(os.path.join(cloud_data_path, 'camera.txt'))\n",
    "AudioExample.init_dataset(AudioFiles('/media/jose/HDD/data/lared/audio/normalized'))"
   ]
  },
  {
   "cell_type": "code",
   "execution_count": 6,
   "metadata": {},
   "outputs": [],
   "source": [
    "# load ELAN annotations\n",
    "laughter_ann_path = os.path.join(cloud_data_path, 'laughter.txt')\n",
    "# path for output images\n",
    "out_path = os.path.join(cloud_data_path, 'pilot2')\n",
    "images_path = os.path.join(out_path, 'images')\n",
    "\n",
    "\n",
    "laughter_ann = pd.read_csv(laughter_ann_path, sep='\\t',names=['name','participant','ini','fin','dur','type'],header=None)\n",
    "df_laughter_by_participant = laughter_ann.groupby('participant')"
   ]
  },
  {
   "cell_type": "code",
   "execution_count": 7,
   "metadata": {},
   "outputs": [],
   "source": [
    "dfs_laughter = []\n",
    "for i in df_laughter_by_participant.groups:\n",
    "    dfs_laughter.append(df_laughter_by_participant.get_group(i))\n",
    "participant_ids = df_laughter_by_participant.groups.keys()\n",
    "participant_ids = [int(id) for id in participant_ids]"
   ]
  },
  {
   "cell_type": "code",
   "execution_count": 8,
   "metadata": {},
   "outputs": [
    {
     "data": {
      "text/plain": [
       "1838"
      ]
     },
     "execution_count": 8,
     "metadata": {},
     "output_type": "execute_result"
    }
   ],
   "source": [
    "sum([len(df) for df in dfs_laughter])"
   ]
  },
  {
   "cell_type": "markdown",
   "metadata": {},
   "source": [
    "# Apply episode threshold"
   ]
  },
  {
   "cell_type": "code",
   "execution_count": 9,
   "metadata": {},
   "outputs": [
    {
     "data": {
      "text/html": [
       "<div>\n",
       "<style scoped>\n",
       "    .dataframe tbody tr th:only-of-type {\n",
       "        vertical-align: middle;\n",
       "    }\n",
       "\n",
       "    .dataframe tbody tr th {\n",
       "        vertical-align: top;\n",
       "    }\n",
       "\n",
       "    .dataframe thead th {\n",
       "        text-align: right;\n",
       "    }\n",
       "</style>\n",
       "<table border=\"1\" class=\"dataframe\">\n",
       "  <thead>\n",
       "    <tr style=\"text-align: right;\">\n",
       "      <th></th>\n",
       "      <th>name</th>\n",
       "      <th>participant</th>\n",
       "      <th>ini</th>\n",
       "      <th>fin</th>\n",
       "      <th>dur</th>\n",
       "      <th>type</th>\n",
       "    </tr>\n",
       "  </thead>\n",
       "  <tbody>\n",
       "    <tr>\n",
       "      <th>62</th>\n",
       "      <td>laughter1</td>\n",
       "      <td>1</td>\n",
       "      <td>6364.76</td>\n",
       "      <td>6365.40</td>\n",
       "      <td>0.64</td>\n",
       "      <td>laughter</td>\n",
       "    </tr>\n",
       "    <tr>\n",
       "      <th>63</th>\n",
       "      <td>laughter1</td>\n",
       "      <td>1</td>\n",
       "      <td>6366.04</td>\n",
       "      <td>6366.60</td>\n",
       "      <td>0.56</td>\n",
       "      <td>laughter</td>\n",
       "    </tr>\n",
       "    <tr>\n",
       "      <th>64</th>\n",
       "      <td>laughter1</td>\n",
       "      <td>1</td>\n",
       "      <td>6592.00</td>\n",
       "      <td>6593.56</td>\n",
       "      <td>1.56</td>\n",
       "      <td>laughter</td>\n",
       "    </tr>\n",
       "    <tr>\n",
       "      <th>65</th>\n",
       "      <td>laughter1</td>\n",
       "      <td>1</td>\n",
       "      <td>6628.40</td>\n",
       "      <td>6629.84</td>\n",
       "      <td>1.44</td>\n",
       "      <td>laughter</td>\n",
       "    </tr>\n",
       "    <tr>\n",
       "      <th>66</th>\n",
       "      <td>laughter1</td>\n",
       "      <td>1</td>\n",
       "      <td>6630.84</td>\n",
       "      <td>6631.88</td>\n",
       "      <td>1.04</td>\n",
       "      <td>laughter</td>\n",
       "    </tr>\n",
       "  </tbody>\n",
       "</table>\n",
       "</div>"
      ],
      "text/plain": [
       "         name  participant      ini      fin   dur      type\n",
       "62  laughter1            1  6364.76  6365.40  0.64  laughter\n",
       "63  laughter1            1  6366.04  6366.60  0.56  laughter\n",
       "64  laughter1            1  6592.00  6593.56  1.56  laughter\n",
       "65  laughter1            1  6628.40  6629.84  1.44  laughter\n",
       "66  laughter1            1  6630.84  6631.88  1.04  laughter"
      ]
     },
     "execution_count": 9,
     "metadata": {},
     "output_type": "execute_result"
    }
   ],
   "source": [
    "dfs_laughter[0].tail()"
   ]
  },
  {
   "cell_type": "code",
   "execution_count": 10,
   "metadata": {},
   "outputs": [
    {
     "name": "stderr",
     "output_type": "stream",
     "text": [
      "/home/jose/.local/lib/python3.8/site-packages/pandas/core/indexing.py:1720: SettingWithCopyWarning: \n",
      "A value is trying to be set on a copy of a slice from a DataFrame.\n",
      "Try using .loc[row_indexer,col_indexer] = value instead\n",
      "\n",
      "See the caveats in the documentation: https://pandas.pydata.org/pandas-docs/stable/user_guide/indexing.html#returning-a-view-versus-a-copy\n",
      "  self._setitem_single_column(loc, value, pi)\n",
      "/home/jose/.local/lib/python3.8/site-packages/pandas/core/frame.py:4308: SettingWithCopyWarning: \n",
      "A value is trying to be set on a copy of a slice from a DataFrame\n",
      "\n",
      "See the caveats in the documentation: https://pandas.pydata.org/pandas-docs/stable/user_guide/indexing.html#returning-a-view-versus-a-copy\n",
      "  return super().drop(\n"
     ]
    }
   ],
   "source": [
    "threshold = 1\n",
    "num_deleted = 0\n",
    "for df in dfs_laughter:\n",
    "    df.reset_index(inplace=True)\n",
    "    to_delete = []\n",
    "    for i, row in enumerate(df.iterrows()):\n",
    "        if i == len(df)-1: \n",
    "            continue\n",
    "        if (df.loc[i+1, 'ini'] - df.loc[i, 'fin']) < 1:\n",
    "            df.loc[i+1, 'ini'] = df.loc[i, 'ini']\n",
    "            to_delete.append(i)\n",
    "    num_deleted += len(to_delete)\n",
    "    df.drop(to_delete, inplace=True)"
   ]
  },
  {
   "cell_type": "code",
   "execution_count": 11,
   "metadata": {},
   "outputs": [],
   "source": [
    "# add prev_fin and next_ini\n",
    "for df in dfs_laughter:\n",
    "    df.reset_index(inplace=True)\n",
    "    prev_fin = []\n",
    "    next_ini = []\n",
    "    for i, row in enumerate(df.iterrows()):\n",
    "        prev_fin.append(0 if i == 0 else df.loc[i-1, 'fin'])\n",
    "        next_ini.append(1000000 if i == len(df)-1 else df.loc[i+1, 'ini'])\n",
    "    df.insert(6, 'prev_fin', prev_fin)\n",
    "    df.insert(7, 'next_ini', next_ini)"
   ]
  },
  {
   "cell_type": "code",
   "execution_count": 12,
   "metadata": {},
   "outputs": [
    {
     "data": {
      "text/plain": [
       "1810"
      ]
     },
     "execution_count": 12,
     "metadata": {},
     "output_type": "execute_result"
    }
   ],
   "source": [
    "sum([len(df) for df in dfs_laughter])"
   ]
  },
  {
   "cell_type": "code",
   "execution_count": 13,
   "metadata": {},
   "outputs": [
    {
     "data": {
      "text/html": [
       "<div>\n",
       "<style scoped>\n",
       "    .dataframe tbody tr th:only-of-type {\n",
       "        vertical-align: middle;\n",
       "    }\n",
       "\n",
       "    .dataframe tbody tr th {\n",
       "        vertical-align: top;\n",
       "    }\n",
       "\n",
       "    .dataframe thead th {\n",
       "        text-align: right;\n",
       "    }\n",
       "</style>\n",
       "<table border=\"1\" class=\"dataframe\">\n",
       "  <thead>\n",
       "    <tr style=\"text-align: right;\">\n",
       "      <th></th>\n",
       "      <th>level_0</th>\n",
       "      <th>index</th>\n",
       "      <th>name</th>\n",
       "      <th>participant</th>\n",
       "      <th>ini</th>\n",
       "      <th>fin</th>\n",
       "      <th>prev_fin</th>\n",
       "      <th>next_ini</th>\n",
       "      <th>dur</th>\n",
       "      <th>type</th>\n",
       "    </tr>\n",
       "  </thead>\n",
       "  <tbody>\n",
       "    <tr>\n",
       "      <th>0</th>\n",
       "      <td>0</td>\n",
       "      <td>0</td>\n",
       "      <td>laughter1</td>\n",
       "      <td>1</td>\n",
       "      <td>1028.28</td>\n",
       "      <td>1030.08</td>\n",
       "      <td>0.00</td>\n",
       "      <td>1049.98</td>\n",
       "      <td>1.80</td>\n",
       "      <td>laughter</td>\n",
       "    </tr>\n",
       "    <tr>\n",
       "      <th>1</th>\n",
       "      <td>1</td>\n",
       "      <td>1</td>\n",
       "      <td>laughter1</td>\n",
       "      <td>1</td>\n",
       "      <td>1049.98</td>\n",
       "      <td>1051.30</td>\n",
       "      <td>1030.08</td>\n",
       "      <td>1099.88</td>\n",
       "      <td>1.32</td>\n",
       "      <td>laughter</td>\n",
       "    </tr>\n",
       "    <tr>\n",
       "      <th>2</th>\n",
       "      <td>2</td>\n",
       "      <td>2</td>\n",
       "      <td>laughter1</td>\n",
       "      <td>1</td>\n",
       "      <td>1099.88</td>\n",
       "      <td>1100.84</td>\n",
       "      <td>1051.30</td>\n",
       "      <td>1140.28</td>\n",
       "      <td>0.96</td>\n",
       "      <td>laughter</td>\n",
       "    </tr>\n",
       "    <tr>\n",
       "      <th>3</th>\n",
       "      <td>3</td>\n",
       "      <td>3</td>\n",
       "      <td>laughter1</td>\n",
       "      <td>1</td>\n",
       "      <td>1140.28</td>\n",
       "      <td>1142.08</td>\n",
       "      <td>1100.84</td>\n",
       "      <td>1167.02</td>\n",
       "      <td>1.80</td>\n",
       "      <td>laughter</td>\n",
       "    </tr>\n",
       "    <tr>\n",
       "      <th>4</th>\n",
       "      <td>4</td>\n",
       "      <td>4</td>\n",
       "      <td>laughter1</td>\n",
       "      <td>1</td>\n",
       "      <td>1167.02</td>\n",
       "      <td>1168.70</td>\n",
       "      <td>1142.08</td>\n",
       "      <td>1242.46</td>\n",
       "      <td>1.68</td>\n",
       "      <td>laughter</td>\n",
       "    </tr>\n",
       "  </tbody>\n",
       "</table>\n",
       "</div>"
      ],
      "text/plain": [
       "   level_0  index       name  participant      ini      fin  prev_fin  \\\n",
       "0        0      0  laughter1            1  1028.28  1030.08      0.00   \n",
       "1        1      1  laughter1            1  1049.98  1051.30   1030.08   \n",
       "2        2      2  laughter1            1  1099.88  1100.84   1051.30   \n",
       "3        3      3  laughter1            1  1140.28  1142.08   1100.84   \n",
       "4        4      4  laughter1            1  1167.02  1168.70   1142.08   \n",
       "\n",
       "   next_ini   dur      type  \n",
       "0   1049.98  1.80  laughter  \n",
       "1   1099.88  1.32  laughter  \n",
       "2   1140.28  0.96  laughter  \n",
       "3   1167.02  1.80  laughter  \n",
       "4   1242.46  1.68  laughter  "
      ]
     },
     "execution_count": 13,
     "metadata": {},
     "output_type": "execute_result"
    }
   ],
   "source": [
    "dfs_laughter[0].head()"
   ]
  },
  {
   "cell_type": "markdown",
   "metadata": {},
   "source": [
    "# Laughter examples"
   ]
  },
  {
   "cell_type": "code",
   "execution_count": 16,
   "metadata": {},
   "outputs": [],
   "source": [
    "random.seed(22)\n",
    "np.random.seed(22)"
   ]
  },
  {
   "cell_type": "code",
   "execution_count": 15,
   "metadata": {
    "collapsed": true,
    "jupyter": {
     "outputs_hidden": true
    },
    "tags": []
   },
   "outputs": [
    {
     "data": {
      "application/vnd.jupyter.widget-view+json": {
       "model_id": "c21f25cf78f04cd7aa4587b32eedb363",
       "version_major": 2,
       "version_minor": 0
      },
      "text/plain": [
       "0it [00:00, ?it/s]"
      ]
     },
     "metadata": {},
     "output_type": "display_data"
    }
   ],
   "source": [
    "# Create images\n",
    "laughter_examples = dict()\n",
    "pid_distrib = {pid: 0 for pid in participant_ids}\n",
    "for i, (pid, df_laughter) in tqdm(enumerate(zip(participant_ids, dfs_laughter))):\n",
    "    for index,row in df_laughter.iterrows():\n",
    "        pid_distrib[pid] += 1\n",
    "\n",
    "        ex = FullExample(\n",
    "            pid= pid,\n",
    "            ini_time= row['ini'],\n",
    "            end_time= row['fin'])\n",
    "        ex.set_camera()\n",
    "        ex.random_pad(1.5, 3.5, min_ini=row['prev_fin'], max_end=row['next_ini'])\n",
    "        exs = ex.split_by_camera()\n",
    "        for example in exs:\n",
    "            laughter_examples[example.get_hash()] = example"
   ]
  },
  {
   "cell_type": "code",
   "execution_count": 16,
   "metadata": {},
   "outputs": [
    {
     "data": {
      "text/plain": [
       "2191"
      ]
     },
     "execution_count": 16,
     "metadata": {},
     "output_type": "execute_result"
    }
   ],
   "source": [
    "len(laughter_examples)"
   ]
  },
  {
   "cell_type": "code",
   "execution_count": 17,
   "metadata": {},
   "outputs": [
    {
     "data": {
      "text/plain": [
       "<BarContainer object of 33 artists>"
      ]
     },
     "execution_count": 17,
     "metadata": {},
     "output_type": "execute_result"
    },
    {
     "data": {
      "image/png": "[encoded data removed]",
      "text/plain": [
       "<Figure size 432x288 with 1 Axes>"
      ]
     },
     "metadata": {
      "needs_background": "light"
     },
     "output_type": "display_data"
    }
   ],
   "source": [
    "# distribution of num examples among subject IDs\n",
    "plt.bar(pid_distrib.keys(), pid_distrib.values())"
   ]
  },
  {
   "cell_type": "code",
   "execution_count": 59,
   "metadata": {},
   "outputs": [
    {
     "name": "stderr",
     "output_type": "stream",
     "text": [
      "100%|██████████| 120/120 [00:13<00:00,  8.68it/s]\n"
     ]
    },
    {
     "data": {
      "text/plain": [
       "(120, 2191)"
      ]
     },
     "execution_count": 59,
     "metadata": {},
     "output_type": "execute_result"
    }
   ],
   "source": [
    "# write images for laughter examples\n",
    "laughter_images_path = os.path.join(out_path, 'laughter_examples', 'images2')\n",
    "pilot_examples = random.sample(list(laughter_examples.values()), 120)\n",
    "for ex in tqdm(pilot_examples):\n",
    "    ex.write_full_first_image(laughter_images_path)\n",
    "(len(pilot_examples), len(laughter_examples))"
   ]
  },
  {
   "cell_type": "code",
   "execution_count": 61,
   "metadata": {},
   "outputs": [],
   "source": [
    "from coco_reader import CocoReader"
   ]
  },
  {
   "cell_type": "code",
   "execution_count": 66,
   "metadata": {},
   "outputs": [],
   "source": [
    "audio_path = os.path.join(out_path, 'laughter_examples', 'audio')\n",
    "video_path = os.path.join(out_path, 'laughter_examples', 'video')\n",
    "av_path = os.path.join(out_path, 'laughter_examples', 'av')\n",
    "aiv_path = os.path.join(out_path, 'laughter_examples', 'aiv')\n",
    "if not os.path.exists(audio_path): os.makedirs(audio_path)\n",
    "if not os.path.exists(video_path): os.makedirs(video_path)\n",
    "if not os.path.exists(av_path): os.makedirs(av_path)\n",
    "if not os.path.exists(aiv_path): os.makedirs(aiv_path)"
   ]
  },
  {
   "cell_type": "code",
   "execution_count": 63,
   "metadata": {},
   "outputs": [],
   "source": [
    "coco_reader = CocoReader(os.path.join(out_path, 'laughter_examples', 'cvat.json'))"
   ]
  },
  {
   "cell_type": "code",
   "execution_count": 68,
   "metadata": {},
   "outputs": [
    {
     "name": "stderr",
     "output_type": "stream",
     "text": [
      "100%|██████████| 2191/2191 [04:17<00:00,  8.52it/s]\n"
     ]
    }
   ],
   "source": [
    "# write back the bbs\n",
    "for hash, ex in tqdm(laughter_examples.items()):\n",
    "    \n",
    "    if hash not in coco_reader:\n",
    "        continue\n",
    "    ex.rect = coco_reader[hash]\n",
    "    ex.write_audio(audio_path)\n",
    "    ex.write_audio_video(audio_path, './audio.png', aiv_path)\n",
    "    ex.write_video(video_path)\n",
    "    ex.write_audiovisual(video_path, audio_path, av_path)"
   ]
  },
  {
   "cell_type": "code",
   "execution_count": null,
   "metadata": {},
   "outputs": [],
   "source": []
  },
  {
   "cell_type": "code",
   "execution_count": 24,
   "metadata": {},
   "outputs": [],
   "source": [
    "examples_dicts = [ex.to_dict() for ex in laughter_examples.values()]\n",
    "pd.DataFrame(examples_dicts).to_csv(os.path.join(cloud_data_path, 'pilot/laughter_examples/examples.csv'))"
   ]
  },
  {
   "cell_type": "code",
   "execution_count": null,
   "metadata": {},
   "outputs": [],
   "source": []
  },
  {
   "cell_type": "code",
   "execution_count": null,
   "metadata": {},
   "outputs": [],
   "source": []
  },
  {
   "cell_type": "markdown",
   "metadata": {},
   "source": [
    "# Speech / nonspeech segments"
   ]
  },
  {
   "cell_type": "code",
   "execution_count": 17,
   "metadata": {},
   "outputs": [
    {
     "name": "stdout",
     "output_type": "stream",
     "text": [
      "The autoreload extension is already loaded. To reload it, use:\n",
      "  %reload_ext autoreload\n"
     ]
    }
   ],
   "source": [
    "%load_ext autoreload\n",
    "%autoreload 2\n",
    "import pickle\n",
    "import random\n",
    "\n",
    "import numpy as np\n",
    "import pandas as pd\n",
    "\n",
    "sys.path.append('../lared')\n",
    "from dataset.subject import Subject\n",
    "from tqdm import tqdm"
   ]
  },
  {
   "cell_type": "code",
   "execution_count": 51,
   "metadata": {},
   "outputs": [],
   "source": [
    "random.seed(22)\n",
    "np.random.seed(22)"
   ]
  },
  {
   "cell_type": "code",
   "execution_count": 52,
   "metadata": {},
   "outputs": [],
   "source": [
    "vad_out = '/media/jose/HDD/data/lared/audio/vad'\n",
    "audio_path = '/media/jose/HDD/data/lared/audio/normalized/'"
   ]
  },
  {
   "cell_type": "code",
   "execution_count": 53,
   "metadata": {},
   "outputs": [
    {
     "data": {
      "text/html": [
       "<div>\n",
       "<style scoped>\n",
       "    .dataframe tbody tr th:only-of-type {\n",
       "        vertical-align: middle;\n",
       "    }\n",
       "\n",
       "    .dataframe tbody tr th {\n",
       "        vertical-align: top;\n",
       "    }\n",
       "\n",
       "    .dataframe thead th {\n",
       "        text-align: right;\n",
       "    }\n",
       "</style>\n",
       "<table border=\"1\" class=\"dataframe\">\n",
       "  <thead>\n",
       "    <tr style=\"text-align: right;\">\n",
       "      <th></th>\n",
       "      <th>suffix</th>\n",
       "      <th>ini</th>\n",
       "      <th>end</th>\n",
       "    </tr>\n",
       "    <tr>\n",
       "      <th>id</th>\n",
       "      <th></th>\n",
       "      <th></th>\n",
       "      <th></th>\n",
       "    </tr>\n",
       "  </thead>\n",
       "  <tbody>\n",
       "    <tr>\n",
       "      <th>1</th>\n",
       "      <td>01_2</td>\n",
       "      <td>0</td>\n",
       "      <td>6652313</td>\n",
       "    </tr>\n",
       "    <tr>\n",
       "      <th>2</th>\n",
       "      <td>02_2</td>\n",
       "      <td>0</td>\n",
       "      <td>6082616</td>\n",
       "    </tr>\n",
       "    <tr>\n",
       "      <th>3</th>\n",
       "      <td>03_2</td>\n",
       "      <td>0</td>\n",
       "      <td>6130061</td>\n",
       "    </tr>\n",
       "    <tr>\n",
       "      <th>4</th>\n",
       "      <td>04_2</td>\n",
       "      <td>817914</td>\n",
       "      <td>6053613</td>\n",
       "    </tr>\n",
       "    <tr>\n",
       "      <th>5</th>\n",
       "      <td>05_2</td>\n",
       "      <td>772051</td>\n",
       "      <td>6430197</td>\n",
       "    </tr>\n",
       "  </tbody>\n",
       "</table>\n",
       "</div>"
      ],
      "text/plain": [
       "   suffix     ini      end\n",
       "id                        \n",
       "1    01_2       0  6652313\n",
       "2    02_2       0  6082616\n",
       "3    03_2       0  6130061\n",
       "4    04_2  817914  6053613\n",
       "5    05_2  772051  6430197"
      ]
     },
     "execution_count": 53,
     "metadata": {},
     "output_type": "execute_result"
    }
   ],
   "source": [
    "audiofile_map = pd.read_csv('../lared/dataset/audiofile_map.csv', index_col=0)\n",
    "audiofile_map.head()"
   ]
  },
  {
   "cell_type": "code",
   "execution_count": 54,
   "metadata": {},
   "outputs": [],
   "source": [
    "subjects=list(audiofile_map.index)"
   ]
  },
  {
   "cell_type": "code",
   "execution_count": 55,
   "metadata": {},
   "outputs": [],
   "source": [
    "# calculate the pid distribution to get the same proportion of non-laughter segments\n",
    "df_distrib = pd.DataFrame(pid_distrib.items(), columns=['pid', 'num'])\n",
    "df_distrib = df_distrib.set_index('pid')\n",
    "df_distrib['num'] = 180 * 0.3 * 2 * df_distrib['num'] / df_distrib['num'].sum()\n",
    "df_distrib['num'] = df_distrib['num'].round()\n",
    "df_distrib = df_distrib.astype('uint16')"
   ]
  },
  {
   "cell_type": "code",
   "execution_count": 56,
   "metadata": {},
   "outputs": [
    {
     "name": "stderr",
     "output_type": "stream",
     "text": [
      "100%|██████████| 33/33 [00:45<00:00,  1.37s/it]\n"
     ]
    }
   ],
   "source": [
    "# for each subject in the dataset\n",
    "speech_examples = {}\n",
    "for pid, row in tqdm(audiofile_map.iterrows(), total=audiofile_map.shape[0]):\n",
    "    pid = int(pid)\n",
    "\n",
    "    subj = Subject(pid)\n",
    "    subj.set_audio_path(f'/media/jose/HDD/data/lared/audio/normalized/chan_{row[\"suffix\"]}.wav')\n",
    "    subj.set_vad_path(f'/media/jose/HDD/data/lared/audio/vad/chan_{row[\"suffix\"]}.vad')\n",
    "    # subj.load_audio()\n",
    "    subj.load_vad(row['ini'], row['end'])\n",
    "\n",
    "    examples = subj.create_speech_thin_slices(df_distrib.loc[pid, 'num'], df_laughter_by_participant.get_group(pid), min_pad=1.5, max_pad=3.5)\n",
    "    for ex in examples:\n",
    "        ex.set_camera()\n",
    "        exs = ex.split_by_camera()\n",
    "        for e in exs:\n",
    "            speech_examples[e.get_hash()] = e"
   ]
  },
  {
   "cell_type": "code",
   "execution_count": 57,
   "metadata": {},
   "outputs": [
    {
     "data": {
      "text/plain": [
       "{'id': None, 'pid': 1, 'cam': 2, 'valid': True, 'hash': None, 'ini_time': 1293.853381417019, 'end_time': 1300.9482600257234, 'labels': {'vad': None, 'label': None, 'vad_seg': None}, 'rect': None, 'ini': None, 'len': None}"
      ]
     },
     "execution_count": 57,
     "metadata": {},
     "output_type": "execute_result"
    }
   ],
   "source": [
    "next(iter(speech_examples.values()))"
   ]
  },
  {
   "cell_type": "code",
   "execution_count": 58,
   "metadata": {},
   "outputs": [
    {
     "name": "stderr",
     "output_type": "stream",
     "text": [
      "100%|██████████| 60/60 [00:05<00:00, 10.79it/s]\n"
     ]
    },
    {
     "data": {
      "text/plain": [
       "(60, 109)"
      ]
     },
     "execution_count": 58,
     "metadata": {},
     "output_type": "execute_result"
    }
   ],
   "source": [
    "# write images for speech examples\n",
    "speech_images_path = os.path.join(out_path, 'speech_examples', 'images')\n",
    "pilot_examples = random.sample(list(speech_examples.values()), 60)\n",
    "for ex in tqdm(pilot_examples):\n",
    "    ex.write_full_first_image(speech_images_path)\n",
    "(len(pilot_examples), len(speech_examples))"
   ]
  },
  {
   "cell_type": "code",
   "execution_count": null,
   "metadata": {},
   "outputs": [],
   "source": []
  },
  {
   "cell_type": "markdown",
   "metadata": {},
   "source": [
    "# Read CVAT annotations"
   ]
  },
  {
   "cell_type": "code",
   "execution_count": 62,
   "metadata": {},
   "outputs": [],
   "source": [
    "from coco_reader import CocoReader"
   ]
  },
  {
   "cell_type": "code",
   "execution_count": 63,
   "metadata": {},
   "outputs": [],
   "source": [
    "audio_path = os.path.join(out_path, 'speech_examples', 'audio')\n",
    "video_path = os.path.join(out_path, 'speech_examples', 'video')\n",
    "av_path = os.path.join(out_path, 'speech_examples', 'av')\n",
    "aiv_path = os.path.join(out_path, 'speech_examples', 'aiv')\n",
    "if not os.path.exists(audio_path): os.makedirs(audio_path)\n",
    "if not os.path.exists(video_path): os.makedirs(video_path)\n",
    "if not os.path.exists(av_path): os.makedirs(av_path)\n",
    "if not os.path.exists(aiv_path): os.makedirs(aiv_path)\n",
    "img_path = './audio.png'"
   ]
  },
  {
   "cell_type": "code",
   "execution_count": 64,
   "metadata": {},
   "outputs": [],
   "source": [
    "coco_reader = CocoReader(os.path.join(out_path, 'speech_examples', 'cvat.json'))"
   ]
  },
  {
   "cell_type": "code",
   "execution_count": 65,
   "metadata": {},
   "outputs": [],
   "source": [
    "# write back the bbs\n",
    "for hash, ex in speech_examples.items():\n",
    "    if hash not in coco_reader:\n",
    "        continue\n",
    "    ex.rect = coco_reader[hash]\n",
    "    ex.random_pad(1.5, 3.5)\n",
    "    ex.write_audio(audio_path)\n",
    "    ex.write_audio_video(audio_path, img_path, aiv_path)\n",
    "    ex.write_video(video_path)\n",
    "    ex.write_audiovisual(video_path, audio_path, av_path)"
   ]
  },
  {
   "cell_type": "code",
   "execution_count": 27,
   "metadata": {},
   "outputs": [],
   "source": [
    "examples_dicts = [ex.to_dict() for ex in speech_examples.values()]\n",
    "pd.DataFrame(example_dicts).to_csv(os.path.join(cloud_data_path, 'pilot/speech_examples.csv'))"
   ]
  },
  {
   "cell_type": "code",
   "execution_count": null,
   "metadata": {},
   "outputs": [],
   "source": []
  },
  {
   "cell_type": "code",
   "execution_count": null,
   "metadata": {},
   "outputs": [],
   "source": []
  },
  {
   "cell_type": "code",
   "execution_count": null,
   "metadata": {},
   "outputs": [],
   "source": []
  },
  {
   "cell_type": "markdown",
   "metadata": {},
   "source": []
  }
 ],
 "metadata": {
  "kernelspec": {
   "display_name": "Python 3.8.5 64-bit",
   "name": "python38564bit078609b3e8e34b03a3286d68786f0bdd"
  },
  "language_info": {
   "codemirror_mode": {
    "name": "ipython",
    "version": 3
   },
   "file_extension": ".py",
   "mimetype": "text/x-python",
   "name": "python",
   "nbconvert_exporter": "python",
   "pygments_lexer": "ipython3",
   "version": "3.8.5"
  },
  "metadata": {
   "interpreter": {
    "hash": "916dbcbb3f70747c44a77c7bcd40155683ae19c65e1c03b4aa3499c5328201f1"
   }
  }
 },
 "nbformat": 4,
 "nbformat_minor": 4
}