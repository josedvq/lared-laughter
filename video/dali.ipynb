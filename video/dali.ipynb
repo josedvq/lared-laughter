{
 "cells": [
  {
   "cell_type": "code",
   "execution_count": 1,
   "metadata": {},
   "outputs": [],
   "source": [
    "import os\n",
    "import random"
   ]
  },
  {
   "cell_type": "code",
   "execution_count": 2,
   "metadata": {},
   "outputs": [],
   "source": [
    "import torch\n",
    "import torchvision\n",
    "from torch.nn import functional as F\n",
    "from torch import nn\n",
    "from pytorch_lightning.core.lightning import LightningModule\n",
    "from pytorch_lightning import Trainer\n",
    "from torch.optim import Adam\n",
    "from torchvision.datasets import MNIST\n",
    "from torchvision import datasets, transforms\n",
    "from torch.utils.data import DataLoader\n",
    "import matplotlib.pyplot as plt\n",
    "import pandas as pd"
   ]
  },
  {
   "cell_type": "code",
   "execution_count": 3,
   "metadata": {},
   "outputs": [],
   "source": [
    "import numpy as np\n",
    "from nvidia.dali import pipeline_def\n",
    "import nvidia.dali.fn as fn\n",
    "import nvidia.dali.types as types\n",
    "from nvidia.dali.plugin.pytorch import DALIClassificationIterator, DALIGenericIterator, LastBatchPolicy"
   ]
  },
  {
   "cell_type": "code",
   "execution_count": 4,
   "metadata": {},
   "outputs": [],
   "source": [
    "videos_path = '/mnt/e/data/mnm/video'\n",
    "bounding_boxes_path = '/mnt/e/data/mnm/annotations/my_data.csv'\n",
    "cameras_path = '/mnt/e/data/mnm/annotations/my_camera.csv'"
   ]
  },
  {
   "cell_type": "code",
   "execution_count": 5,
   "metadata": {},
   "outputs": [],
   "source": [
    "@pipeline_def\n",
    "def video_pipe(filenames):\n",
    "    videos, labels, start_frame_num, timestamps = fn.readers.video(\n",
    "        device=\"gpu\", \n",
    "        filenames=filenames, \n",
    "        labels=[],\n",
    "        sequence_length=1,\n",
    "        shard_id=0, \n",
    "        num_shards=1, \n",
    "        random_shuffle=True, \n",
    "        initial_fill=32,\n",
    "        enable_frame_num=True,\n",
    "        enable_timestamps=True,\n",
    "        seed=22)\n",
    "    return videos, labels, start_frame_num, timestamps"
   ]
  },
  {
   "cell_type": "code",
   "execution_count": 6,
   "metadata": {},
   "outputs": [],
   "source": [
    "class MnmDataloader(DALIGenericIterator):\n",
    "    def __init__(self, videos_path, bounding_boxes_path, cameras_path, batch_size=2, spatial_res=244, *kargs, **kvargs):\n",
    "\n",
    "        video_files=[videos_path + '/' + f for f in os.listdir(videos_path)]\n",
    "\n",
    "        pipe = video_pipe(\n",
    "            batch_size=batch_size,\n",
    "            num_threads=2,\n",
    "            device_id=0,\n",
    "            filenames=video_files,\n",
    "            seed=123456)\n",
    "            \n",
    "        super().__init__(pipe, ['videos', 'labels', 'start_frame_num', 'timestamps'], *kargs, **kvargs)\n",
    "        self.batch_size = batch_size\n",
    "        self.spatial_res = spatial_res\n",
    "\n",
    "        # load bbs\n",
    "        self.bbs = pd.read_csv(bounding_boxes_path, header=None, dtype=int)*2\n",
    "        self.cam = pd.read_csv(cameras_path, header=None, dtype=int).to_numpy()\n",
    "        self.num_subjects = len(self.bbs.columns) // 7\n",
    "\n",
    "    def _video_frame_to_annot_frame(self, video_frame_number):\n",
    "        return round(video_frame_number * 20 / 29.97)\n",
    "\n",
    "    def _get_bbs_for_video_frame(self, video_frame_number, cam_number, num_bbs=1):\n",
    "        fn = self._video_frame_to_annot_frame(video_frame_number)\n",
    "        subjects = np.where(self.cam[fn, :] == cam_number)[0].tolist()\n",
    "        subjects = random.sample(subjects, num_bbs)\n",
    "\n",
    "        print(f'fn= {fn}')\n",
    "\n",
    "        bbs = []\n",
    "        for s in subjects:\n",
    "            bb = self.bbs.iloc[fn, s*4: s*4+4].to_list()\n",
    "            bbs.append([bb[1], bb[0], bb[3], bb[2]])\n",
    "\n",
    "        return bbs\n",
    "\n",
    "    def __next__(self):\n",
    "        out = super().__next__()\n",
    "        # DDP is used so only one pipeline per process\n",
    "        # also we need to transform dict returned by DALIClassificationIterator to iterable\n",
    "        # and squeeze the lables\n",
    "        # return out\n",
    "\n",
    "        start_frames = out[0]['start_frame_num'].cpu()\n",
    "        labels = out[0]['labels'].cpu()\n",
    "        videos = out[0]['videos'].cpu().permute(0,1,4,2,3)\n",
    "\n",
    "        out_videos = torch.empty((self.batch_size, 3, self.spatial_res, self.spatial_res), dtype=int)\n",
    "        for i in range(self.batch_size):\n",
    "            bb = self._get_bbs_for_video_frame(start_frames[i].item(), labels[i].item())[0]\n",
    "            print(bb)\n",
    "            out_videos[i] = torchvision.transforms.functional.resized_crop(videos[i].squeeze(), *bb, \n",
    "                size=[self.spatial_res, self.spatial_res])\n",
    "        \n",
    "        return {'videos': out_videos}\n",
    "        out = out[0]\n",
    "        return [out[k] if k != \"label\" else torch.squeeze(out[k]) for k in self.output_map]"
   ]
  },
  {
   "cell_type": "code",
   "execution_count": 7,
   "metadata": {},
   "outputs": [
    {
     "name": "stderr",
     "output_type": "stream",
     "text": [
      "[/opt/dali/dali/operators/reader/loader/video_loader.h:178] ``file_list_include_preceding_frame`` is set to False (or not set at all). In future releases, the default behavior would be changed to True.\n"
     ]
    }
   ],
   "source": [
    "dl = MnmDataloader(videos_path,bounding_boxes_path,cameras_path, batch_size=8)"
   ]
  },
  {
   "cell_type": "code",
   "execution_count": 8,
   "metadata": {},
   "outputs": [
    {
     "name": "stdout",
     "output_type": "stream",
     "text": [
      "fn= 28216\n",
      "[326, 1276, 350, 486]\n",
      "fn= 29993\n",
      "[874, 948, 200, 222]\n",
      "fn= 21985\n",
      "[0, 912, 358, 510]\n",
      "fn= 4015\n",
      "[932, 1272, 146, 220]\n",
      "fn= 8067\n",
      "[366, 160, 218, 330]\n",
      "fn= 33231\n",
      "[44, 1352, 230, 392]\n",
      "fn= 3452\n",
      "[354, 938, 342, 340]\n",
      "fn= 15909\n",
      "[376, 1154, 302, 496]\n"
     ]
    }
   ],
   "source": [
    "samples = next(iter(dl))['videos']"
   ]
  },
  {
   "cell_type": "code",
   "execution_count": 9,
   "metadata": {},
   "outputs": [
    {
     "data": {
      "text/plain": [
       "torch.Size([8, 3, 244, 244])"
      ]
     },
     "execution_count": 9,
     "metadata": {},
     "output_type": "execute_result"
    }
   ],
   "source": [
    "samples.shape"
   ]
  },
  {
   "cell_type": "code",
   "execution_count": 10,
   "metadata": {},
   "outputs": [
    {
     "data": {
      "text/plain": [
       "<matplotlib.image.AxesImage at 0x7f275c037820>"
      ]
     },
     "execution_count": 10,
     "metadata": {},
     "output_type": "execute_result"
    },
    {
     "data": {
      "image/png": "[encoded data removed]",
      "text/plain": [
       "<Figure size 432x288 with 1 Axes>"
      ]
     },
     "metadata": {
      "needs_background": "light"
     },
     "output_type": "display_data"
    }
   ],
   "source": [
    "plt.imshow(samples[7,:,:,:].squeeze().permute(1,2,0))"
   ]
  },
  {
   "cell_type": "code",
   "execution_count": null,
   "metadata": {},
   "outputs": [],
   "source": []
  },
  {
   "cell_type": "code",
   "execution_count": null,
   "metadata": {},
   "outputs": [],
   "source": []
  },
  {
   "cell_type": "code",
   "execution_count": 37,
   "metadata": {},
   "outputs": [
    {
     "data": {
      "text/plain": [
       "torch.Size([2, 8, 1080, 1920, 3])"
      ]
     },
     "execution_count": 37,
     "metadata": {},
     "output_type": "execute_result"
    }
   ],
   "source": []
  },
  {
   "cell_type": "code",
   "execution_count": 38,
   "metadata": {},
   "outputs": [
    {
     "ename": "TypeError",
     "evalue": "list indices must be integers or slices, not tuple",
     "output_type": "error",
     "traceback": [
      "\u001b[0;31m---------------------------------------------------------------------------\u001b[0m",
      "\u001b[0;31mTypeError\u001b[0m                                 Traceback (most recent call last)",
      "\u001b[1;32m/mnt/c/Users/Jose/Documents/furnace/lared-laughter/video/dali.ipynb Cell 11'\u001b[0m in \u001b[0;36m<module>\u001b[0;34m\u001b[0m\n\u001b[0;32m----> <a href='vscode-notebook-cell://wsl%2Bubuntu/mnt/c/Users/Jose/Documents/furnace/lared-laughter/video/dali.ipynb#ch0000042vscode-remote?line=0'>1</a>\u001b[0m plt\u001b[39m.\u001b[39mimshow(samples[\u001b[39m0\u001b[39;49m,\u001b[39m0\u001b[39;49m,:,:,:]\u001b[39m.\u001b[39msqueeze()\u001b[39m.\u001b[39mpermute(\u001b[39m1\u001b[39m,\u001b[39m2\u001b[39m,\u001b[39m0\u001b[39m))\n",
      "\u001b[0;31mTypeError\u001b[0m: list indices must be integers or slices, not tuple"
     ]
    }
   ],
   "source": []
  },
  {
   "cell_type": "code",
   "execution_count": null,
   "metadata": {},
   "outputs": [],
   "source": []
  },
  {
   "cell_type": "code",
   "execution_count": null,
   "metadata": {},
   "outputs": [],
   "source": []
  },
  {
   "cell_type": "code",
   "execution_count": null,
   "metadata": {},
   "outputs": [],
   "source": []
  },
  {
   "cell_type": "code",
   "execution_count": 25,
   "metadata": {},
   "outputs": [],
   "source": []
  },
  {
   "cell_type": "code",
   "execution_count": 26,
   "metadata": {},
   "outputs": [
    {
     "name": "stderr",
     "output_type": "stream",
     "text": [
      "[/opt/dali/dali/operators/reader/loader/video_loader.h:178] ``file_list_include_preceding_frame`` is set to False (or not set at all). In future releases, the default behavior would be changed to True.\n"
     ]
    },
    {
     "ename": "IndexError",
     "evalue": "list index out of range",
     "output_type": "error",
     "traceback": [
      "\u001b[0;31m---------------------------------------------------------------------------\u001b[0m",
      "\u001b[0;31mIndexError\u001b[0m                                Traceback (most recent call last)",
      "\u001b[1;32m/mnt/c/Users/Jose/Documents/furnace/lared-laughter/video/dali.ipynb Cell 8'\u001b[0m in \u001b[0;36m<module>\u001b[0;34m\u001b[0m\n\u001b[0;32m----> <a href='vscode-notebook-cell://wsl%2Bubuntu/mnt/c/Users/Jose/Documents/furnace/lared-laughter/video/dali.ipynb#ch0000030vscode-remote?line=0'>1</a>\u001b[0m dl \u001b[39m=\u001b[39m MnmDataloader(pipe)\n",
      "\u001b[1;32m/mnt/c/Users/Jose/Documents/furnace/lared-laughter/video/dali.ipynb Cell 6'\u001b[0m in \u001b[0;36mMnmDataloader.__init__\u001b[0;34m(self, *kargs, **kvargs)\u001b[0m\n\u001b[1;32m      <a href='vscode-notebook-cell://wsl%2Bubuntu/mnt/c/Users/Jose/Documents/furnace/lared-laughter/video/dali.ipynb#ch0000020vscode-remote?line=1'>2</a>\u001b[0m \u001b[39mdef\u001b[39;00m \u001b[39m__init__\u001b[39m(\u001b[39mself\u001b[39m, \u001b[39m*\u001b[39mkargs, \u001b[39m*\u001b[39m\u001b[39m*\u001b[39mkvargs):\n\u001b[0;32m----> <a href='vscode-notebook-cell://wsl%2Bubuntu/mnt/c/Users/Jose/Documents/furnace/lared-laughter/video/dali.ipynb#ch0000020vscode-remote?line=2'>3</a>\u001b[0m     \u001b[39msuper\u001b[39;49m()\u001b[39m.\u001b[39;49m\u001b[39m__init__\u001b[39;49m(\u001b[39m*\u001b[39;49mkargs, \u001b[39m*\u001b[39;49m\u001b[39m*\u001b[39;49mkvargs)\n",
      "File \u001b[0;32m~/.local/lib/python3.8/site-packages/nvidia/dali/plugin/pytorch.py:362\u001b[0m, in \u001b[0;36mDALIClassificationIterator.__init__\u001b[0;34m(self, pipelines, size, reader_name, auto_reset, fill_last_batch, dynamic_shape, last_batch_padded, last_batch_policy, prepare_first_batch)\u001b[0m\n\u001b[1;32m    <a href='file:///home/jose/.local/lib/python3.8/site-packages/nvidia/dali/plugin/pytorch.py?line=351'>352</a>\u001b[0m \u001b[39mdef\u001b[39;00m \u001b[39m__init__\u001b[39m(\u001b[39mself\u001b[39m,\n\u001b[1;32m    <a href='file:///home/jose/.local/lib/python3.8/site-packages/nvidia/dali/plugin/pytorch.py?line=352'>353</a>\u001b[0m              pipelines,\n\u001b[1;32m    <a href='file:///home/jose/.local/lib/python3.8/site-packages/nvidia/dali/plugin/pytorch.py?line=353'>354</a>\u001b[0m              size\u001b[39m=\u001b[39m\u001b[39m-\u001b[39m\u001b[39m1\u001b[39m,\n\u001b[0;32m   (...)\u001b[0m\n\u001b[1;32m    <a href='file:///home/jose/.local/lib/python3.8/site-packages/nvidia/dali/plugin/pytorch.py?line=359'>360</a>\u001b[0m              last_batch_policy\u001b[39m=\u001b[39mLastBatchPolicy\u001b[39m.\u001b[39mFILL,\n\u001b[1;32m    <a href='file:///home/jose/.local/lib/python3.8/site-packages/nvidia/dali/plugin/pytorch.py?line=360'>361</a>\u001b[0m              prepare_first_batch\u001b[39m=\u001b[39m\u001b[39mTrue\u001b[39;00m):\n\u001b[0;32m--> <a href='file:///home/jose/.local/lib/python3.8/site-packages/nvidia/dali/plugin/pytorch.py?line=361'>362</a>\u001b[0m     \u001b[39msuper\u001b[39;49m(DALIClassificationIterator, \u001b[39mself\u001b[39;49m)\u001b[39m.\u001b[39;49m\u001b[39m__init__\u001b[39;49m(pipelines, [\u001b[39m\"\u001b[39;49m\u001b[39mdata\u001b[39;49m\u001b[39m\"\u001b[39;49m, \u001b[39m\"\u001b[39;49m\u001b[39mlabel\u001b[39;49m\u001b[39m\"\u001b[39;49m],\n\u001b[1;32m    <a href='file:///home/jose/.local/lib/python3.8/site-packages/nvidia/dali/plugin/pytorch.py?line=362'>363</a>\u001b[0m                                                      size,\n\u001b[1;32m    <a href='file:///home/jose/.local/lib/python3.8/site-packages/nvidia/dali/plugin/pytorch.py?line=363'>364</a>\u001b[0m                                                      reader_name\u001b[39m=\u001b[39;49mreader_name,\n\u001b[1;32m    <a href='file:///home/jose/.local/lib/python3.8/site-packages/nvidia/dali/plugin/pytorch.py?line=364'>365</a>\u001b[0m                                                      auto_reset\u001b[39m=\u001b[39;49mauto_reset,\n\u001b[1;32m    <a href='file:///home/jose/.local/lib/python3.8/site-packages/nvidia/dali/plugin/pytorch.py?line=365'>366</a>\u001b[0m                                                      fill_last_batch\u001b[39m=\u001b[39;49mfill_last_batch,\n\u001b[1;32m    <a href='file:///home/jose/.local/lib/python3.8/site-packages/nvidia/dali/plugin/pytorch.py?line=366'>367</a>\u001b[0m                                                      dynamic_shape\u001b[39m=\u001b[39;49mdynamic_shape,\n\u001b[1;32m    <a href='file:///home/jose/.local/lib/python3.8/site-packages/nvidia/dali/plugin/pytorch.py?line=367'>368</a>\u001b[0m                                                      last_batch_padded\u001b[39m=\u001b[39;49mlast_batch_padded,\n\u001b[1;32m    <a href='file:///home/jose/.local/lib/python3.8/site-packages/nvidia/dali/plugin/pytorch.py?line=368'>369</a>\u001b[0m                                                      last_batch_policy\u001b[39m=\u001b[39;49mlast_batch_policy,\n\u001b[1;32m    <a href='file:///home/jose/.local/lib/python3.8/site-packages/nvidia/dali/plugin/pytorch.py?line=369'>370</a>\u001b[0m                                                      prepare_first_batch\u001b[39m=\u001b[39;49mprepare_first_batch)\n",
      "File \u001b[0;32m~/.local/lib/python3.8/site-packages/nvidia/dali/plugin/pytorch.py:174\u001b[0m, in \u001b[0;36mDALIGenericIterator.__init__\u001b[0;34m(self, pipelines, output_map, size, reader_name, auto_reset, fill_last_batch, dynamic_shape, last_batch_padded, last_batch_policy, prepare_first_batch)\u001b[0m\n\u001b[1;32m    <a href='file:///home/jose/.local/lib/python3.8/site-packages/nvidia/dali/plugin/pytorch.py?line=171'>172</a>\u001b[0m \u001b[39mif\u001b[39;00m \u001b[39mself\u001b[39m\u001b[39m.\u001b[39m_prepare_first_batch:\n\u001b[1;32m    <a href='file:///home/jose/.local/lib/python3.8/site-packages/nvidia/dali/plugin/pytorch.py?line=172'>173</a>\u001b[0m     \u001b[39mtry\u001b[39;00m:\n\u001b[0;32m--> <a href='file:///home/jose/.local/lib/python3.8/site-packages/nvidia/dali/plugin/pytorch.py?line=173'>174</a>\u001b[0m         \u001b[39mself\u001b[39m\u001b[39m.\u001b[39m_first_batch \u001b[39m=\u001b[39m DALIGenericIterator\u001b[39m.\u001b[39;49m\u001b[39m__next__\u001b[39;49m(\u001b[39mself\u001b[39;49m)\n\u001b[1;32m    <a href='file:///home/jose/.local/lib/python3.8/site-packages/nvidia/dali/plugin/pytorch.py?line=174'>175</a>\u001b[0m     \u001b[39mexcept\u001b[39;00m \u001b[39mStopIteration\u001b[39;00m:\n\u001b[1;32m    <a href='file:///home/jose/.local/lib/python3.8/site-packages/nvidia/dali/plugin/pytorch.py?line=175'>176</a>\u001b[0m         \u001b[39massert\u001b[39;00m \u001b[39mFalse\u001b[39;00m, \u001b[39m\"\u001b[39m\u001b[39mIt seems that there is no data in the pipeline. This may happen if `last_batch_policy` is set to PARTIAL and the requested batch size is greater than the shard size.\u001b[39m\u001b[39m\"\u001b[39m\n",
      "File \u001b[0;32m~/.local/lib/python3.8/site-packages/nvidia/dali/plugin/pytorch.py:194\u001b[0m, in \u001b[0;36mDALIGenericIterator.__next__\u001b[0;34m(self)\u001b[0m\n\u001b[1;32m    <a href='file:///home/jose/.local/lib/python3.8/site-packages/nvidia/dali/plugin/pytorch.py?line=191'>192</a>\u001b[0m \u001b[39m# segregate outputs into categories\u001b[39;00m\n\u001b[1;32m    <a href='file:///home/jose/.local/lib/python3.8/site-packages/nvidia/dali/plugin/pytorch.py?line=192'>193</a>\u001b[0m \u001b[39mfor\u001b[39;00m j, out \u001b[39min\u001b[39;00m \u001b[39menumerate\u001b[39m(outputs[i]):\n\u001b[0;32m--> <a href='file:///home/jose/.local/lib/python3.8/site-packages/nvidia/dali/plugin/pytorch.py?line=193'>194</a>\u001b[0m     category_outputs[\u001b[39mself\u001b[39;49m\u001b[39m.\u001b[39;49moutput_map[j]] \u001b[39m=\u001b[39m out\n\u001b[1;32m    <a href='file:///home/jose/.local/lib/python3.8/site-packages/nvidia/dali/plugin/pytorch.py?line=195'>196</a>\u001b[0m \u001b[39m# Change DALI TensorLists into Tensors\u001b[39;00m\n\u001b[1;32m    <a href='file:///home/jose/.local/lib/python3.8/site-packages/nvidia/dali/plugin/pytorch.py?line=196'>197</a>\u001b[0m category_tensors \u001b[39m=\u001b[39m \u001b[39mdict\u001b[39m()\n",
      "\u001b[0;31mIndexError\u001b[0m: list index out of range"
     ]
    }
   ],
   "source": []
  },
  {
   "cell_type": "code",
   "execution_count": null,
   "metadata": {},
   "outputs": [],
   "source": []
  },
  {
   "cell_type": "code",
   "execution_count": null,
   "metadata": {},
   "outputs": [],
   "source": []
  },
  {
   "cell_type": "code",
   "execution_count": 14,
   "metadata": {},
   "outputs": [
    {
     "ename": "AttributeError",
     "evalue": "'function' object has no attribute 'max_batch_size'",
     "output_type": "error",
     "traceback": [
      "\u001b[0;31m---------------------------------------------------------------------------\u001b[0m",
      "\u001b[0;31mAttributeError\u001b[0m                            Traceback (most recent call last)",
      "\u001b[1;32m/mnt/c/Users/Jose/Documents/furnace/lared-laughter/video/dali.ipynb Cell 7'\u001b[0m in \u001b[0;36m<module>\u001b[0;34m\u001b[0m\n\u001b[0;32m----> <a href='vscode-notebook-cell://wsl%2Bubuntu/mnt/c/Users/Jose/Documents/furnace/lared-laughter/video/dali.ipynb#ch0000022vscode-remote?line=0'>1</a>\u001b[0m dl \u001b[39m=\u001b[39m DALIGenericIterator(video_pipe, [\u001b[39m'\u001b[39;49m\u001b[39mvideos\u001b[39;49m\u001b[39m'\u001b[39;49m, \u001b[39m'\u001b[39;49m\u001b[39mlabels\u001b[39;49m\u001b[39m'\u001b[39;49m, \u001b[39m'\u001b[39;49m\u001b[39mstart_frame_num\u001b[39;49m\u001b[39m'\u001b[39;49m, \u001b[39m'\u001b[39;49m\u001b[39mtimestamps\u001b[39;49m\u001b[39m'\u001b[39;49m])\n",
      "File \u001b[0;32m~/.local/lib/python3.8/site-packages/nvidia/dali/plugin/pytorch.py:161\u001b[0m, in \u001b[0;36mDALIGenericIterator.__init__\u001b[0;34m(self, pipelines, output_map, size, reader_name, auto_reset, fill_last_batch, dynamic_shape, last_batch_padded, last_batch_policy, prepare_first_batch)\u001b[0m\n\u001b[1;32m    <a href='file:///home/jose/.local/lib/python3.8/site-packages/nvidia/dali/plugin/pytorch.py?line=157'>158</a>\u001b[0m \u001b[39mself\u001b[39m\u001b[39m.\u001b[39m_output_categories \u001b[39m=\u001b[39m \u001b[39mset\u001b[39m(output_map)\n\u001b[1;32m    <a href='file:///home/jose/.local/lib/python3.8/site-packages/nvidia/dali/plugin/pytorch.py?line=158'>159</a>\u001b[0m \u001b[39mself\u001b[39m\u001b[39m.\u001b[39moutput_map \u001b[39m=\u001b[39m output_map\n\u001b[0;32m--> <a href='file:///home/jose/.local/lib/python3.8/site-packages/nvidia/dali/plugin/pytorch.py?line=160'>161</a>\u001b[0m _DaliBaseIterator\u001b[39m.\u001b[39;49m\u001b[39m__init__\u001b[39;49m(\u001b[39mself\u001b[39;49m,\n\u001b[1;32m    <a href='file:///home/jose/.local/lib/python3.8/site-packages/nvidia/dali/plugin/pytorch.py?line=161'>162</a>\u001b[0m                            pipelines,\n\u001b[1;32m    <a href='file:///home/jose/.local/lib/python3.8/site-packages/nvidia/dali/plugin/pytorch.py?line=162'>163</a>\u001b[0m                            size,\n\u001b[1;32m    <a href='file:///home/jose/.local/lib/python3.8/site-packages/nvidia/dali/plugin/pytorch.py?line=163'>164</a>\u001b[0m                            reader_name,\n\u001b[1;32m    <a href='file:///home/jose/.local/lib/python3.8/site-packages/nvidia/dali/plugin/pytorch.py?line=164'>165</a>\u001b[0m                            auto_reset,\n\u001b[1;32m    <a href='file:///home/jose/.local/lib/python3.8/site-packages/nvidia/dali/plugin/pytorch.py?line=165'>166</a>\u001b[0m                            fill_last_batch,\n\u001b[1;32m    <a href='file:///home/jose/.local/lib/python3.8/site-packages/nvidia/dali/plugin/pytorch.py?line=166'>167</a>\u001b[0m                            last_batch_padded,\n\u001b[1;32m    <a href='file:///home/jose/.local/lib/python3.8/site-packages/nvidia/dali/plugin/pytorch.py?line=167'>168</a>\u001b[0m                            last_batch_policy,\n\u001b[1;32m    <a href='file:///home/jose/.local/lib/python3.8/site-packages/nvidia/dali/plugin/pytorch.py?line=168'>169</a>\u001b[0m                            prepare_first_batch\u001b[39m=\u001b[39;49mprepare_first_batch)\n\u001b[1;32m    <a href='file:///home/jose/.local/lib/python3.8/site-packages/nvidia/dali/plugin/pytorch.py?line=170'>171</a>\u001b[0m \u001b[39mself\u001b[39m\u001b[39m.\u001b[39m_first_batch \u001b[39m=\u001b[39m \u001b[39mNone\u001b[39;00m\n\u001b[1;32m    <a href='file:///home/jose/.local/lib/python3.8/site-packages/nvidia/dali/plugin/pytorch.py?line=171'>172</a>\u001b[0m \u001b[39mif\u001b[39;00m \u001b[39mself\u001b[39m\u001b[39m.\u001b[39m_prepare_first_batch:\n",
      "File \u001b[0;32m~/.local/lib/python3.8/site-packages/nvidia/dali/plugin/base_iterator.py:134\u001b[0m, in \u001b[0;36m_DaliBaseIterator.__init__\u001b[0;34m(self, pipelines, size, reader_name, auto_reset, fill_last_batch, last_batch_padded, last_batch_policy, prepare_first_batch)\u001b[0m\n\u001b[1;32m    <a href='file:///home/jose/.local/lib/python3.8/site-packages/nvidia/dali/plugin/base_iterator.py?line=130'>131</a>\u001b[0m \u001b[39mself\u001b[39m\u001b[39m.\u001b[39m_num_gpus \u001b[39m=\u001b[39m \u001b[39mlen\u001b[39m(pipelines)\n\u001b[1;32m    <a href='file:///home/jose/.local/lib/python3.8/site-packages/nvidia/dali/plugin/base_iterator.py?line=131'>132</a>\u001b[0m \u001b[39m# frameworks expect from its data iterators to have batch_size field,\u001b[39;00m\n\u001b[1;32m    <a href='file:///home/jose/.local/lib/python3.8/site-packages/nvidia/dali/plugin/base_iterator.py?line=132'>133</a>\u001b[0m \u001b[39m# so it is not possible to use _batch_size instead\u001b[39;00m\n\u001b[0;32m--> <a href='file:///home/jose/.local/lib/python3.8/site-packages/nvidia/dali/plugin/base_iterator.py?line=133'>134</a>\u001b[0m \u001b[39mself\u001b[39m\u001b[39m.\u001b[39mbatch_size \u001b[39m=\u001b[39m pipelines[\u001b[39m0\u001b[39;49m]\u001b[39m.\u001b[39;49mmax_batch_size\n\u001b[1;32m    <a href='file:///home/jose/.local/lib/python3.8/site-packages/nvidia/dali/plugin/base_iterator.py?line=134'>135</a>\u001b[0m \u001b[39massert\u001b[39;00m np\u001b[39m.\u001b[39mall(np\u001b[39m.\u001b[39mequal([pipe\u001b[39m.\u001b[39mmax_batch_size \u001b[39mfor\u001b[39;00m pipe \u001b[39min\u001b[39;00m pipelines], \u001b[39mself\u001b[39m\u001b[39m.\u001b[39mbatch_size)), \\\n\u001b[1;32m    <a href='file:///home/jose/.local/lib/python3.8/site-packages/nvidia/dali/plugin/base_iterator.py?line=135'>136</a>\u001b[0m         \u001b[39m\"\u001b[39m\u001b[39mAll pipelines should have the same batch size set\u001b[39m\u001b[39m\"\u001b[39m\n\u001b[1;32m    <a href='file:///home/jose/.local/lib/python3.8/site-packages/nvidia/dali/plugin/base_iterator.py?line=137'>138</a>\u001b[0m \u001b[39mself\u001b[39m\u001b[39m.\u001b[39m_size \u001b[39m=\u001b[39m \u001b[39mint\u001b[39m(size)\n",
      "\u001b[0;31mAttributeError\u001b[0m: 'function' object has no attribute 'max_batch_size'"
     ]
    }
   ],
   "source": [
    "dl = DALIGenericIterator(video_pipe, ['videos', 'labels', 'start_frame_num', 'timestamps'])"
   ]
  },
  {
   "cell_type": "code",
   "execution_count": null,
   "metadata": {},
   "outputs": [],
   "source": []
  },
  {
   "cell_type": "code",
   "execution_count": null,
   "metadata": {},
   "outputs": [],
   "source": []
  },
  {
   "cell_type": "code",
   "execution_count": null,
   "metadata": {},
   "outputs": [],
   "source": []
  },
  {
   "cell_type": "code",
   "execution_count": null,
   "metadata": {},
   "outputs": [],
   "source": []
  },
  {
   "cell_type": "code",
   "execution_count": null,
   "metadata": {},
   "outputs": [],
   "source": []
  },
  {
   "cell_type": "code",
   "execution_count": null,
   "metadata": {},
   "outputs": [],
   "source": [
    "self.train_loader = LightningWrapper(mnist_pipeline, reader_name=\"Reader\", last_batch_policy=LastBatchPolicy.PARTIAL, auto_reset=True)"
   ]
  },
  {
   "cell_type": "code",
   "execution_count": null,
   "metadata": {},
   "outputs": [],
   "source": [
    "class (DataLoader):\n",
    "    def __init__(self):\n",
    "        super().__init__()\n",
    "        self.train_loader = DALIClassificationIterator(\n",
    "            video_pipe,\n",
    "            reader_name=\"Reader\",\n",
    "            auto_reset=True)\n",
    "    "
   ]
  },
  {
   "cell_type": "code",
   "execution_count": 38,
   "metadata": {},
   "outputs": [],
   "source": [
    "pipe = video_pipe(batch_size=batch_size, num_threads=2, device_id=0, filenames=video_files, seed=123456)"
   ]
  },
  {
   "cell_type": "code",
   "execution_count": 39,
   "metadata": {},
   "outputs": [
    {
     "name": "stderr",
     "output_type": "stream",
     "text": [
      "[/opt/dali/dali/operators/reader/loader/video_loader.h:178] ``file_list_include_preceding_frame`` is set to False (or not set at all). In future releases, the default behavior would be changed to True.\n"
     ]
    }
   ],
   "source": [
    "pipe.build()"
   ]
  },
  {
   "cell_type": "code",
   "execution_count": 44,
   "metadata": {},
   "outputs": [],
   "source": [
    "res = pipe.run()"
   ]
  },
  {
   "cell_type": "code",
   "execution_count": 46,
   "metadata": {},
   "outputs": [],
   "source": [
    "all_res = []\n",
    "for i in range(10):\n",
    "    res = pipe.run()\n",
    "    all_res.append(res[-2])"
   ]
  },
  {
   "cell_type": "code",
   "execution_count": 47,
   "metadata": {},
   "outputs": [
    {
     "data": {
      "text/plain": [
       "[TensorListGPU(\n",
       "     [[ 4176]\n",
       "      [21656]],\n",
       "     dtype=DALIDataType.INT32,\n",
       "     num_samples=2,\n",
       "     shape=[(1,), (1,)]),\n",
       " TensorListGPU(\n",
       "     [[22104]\n",
       "      [ 4232]],\n",
       "     dtype=DALIDataType.INT32,\n",
       "     num_samples=2,\n",
       "     shape=[(1,), (1,)]),\n",
       " TensorListGPU(\n",
       "     [[ 4176]\n",
       "      [21656]],\n",
       "     dtype=DALIDataType.INT32,\n",
       "     num_samples=2,\n",
       "     shape=[(1,), (1,)]),\n",
       " TensorListGPU(\n",
       "     [[22104]\n",
       "      [ 4232]],\n",
       "     dtype=DALIDataType.INT32,\n",
       "     num_samples=2,\n",
       "     shape=[(1,), (1,)]),\n",
       " TensorListGPU(\n",
       "     [[ 4176]\n",
       "      [21656]],\n",
       "     dtype=DALIDataType.INT32,\n",
       "     num_samples=2,\n",
       "     shape=[(1,), (1,)]),\n",
       " TensorListGPU(\n",
       "     [[22104]\n",
       "      [ 4232]],\n",
       "     dtype=DALIDataType.INT32,\n",
       "     num_samples=2,\n",
       "     shape=[(1,), (1,)]),\n",
       " TensorListGPU(\n",
       "     [[ 4176]\n",
       "      [21656]],\n",
       "     dtype=DALIDataType.INT32,\n",
       "     num_samples=2,\n",
       "     shape=[(1,), (1,)]),\n",
       " TensorListGPU(\n",
       "     [[22104]\n",
       "      [ 4232]],\n",
       "     dtype=DALIDataType.INT32,\n",
       "     num_samples=2,\n",
       "     shape=[(1,), (1,)]),\n",
       " TensorListGPU(\n",
       "     [[ 4176]\n",
       "      [21656]],\n",
       "     dtype=DALIDataType.INT32,\n",
       "     num_samples=2,\n",
       "     shape=[(1,), (1,)]),\n",
       " TensorListGPU(\n",
       "     [[22104]\n",
       "      [ 4232]],\n",
       "     dtype=DALIDataType.INT32,\n",
       "     num_samples=2,\n",
       "     shape=[(1,), (1,)])]"
      ]
     },
     "execution_count": 47,
     "metadata": {},
     "output_type": "execute_result"
    }
   ],
   "source": [
    "all_res"
   ]
  },
  {
   "cell_type": "code",
   "execution_count": null,
   "metadata": {},
   "outputs": [],
   "source": []
  },
  {
   "cell_type": "code",
   "execution_count": null,
   "metadata": {},
   "outputs": [],
   "source": []
  },
  {
   "cell_type": "code",
   "execution_count": 41,
   "metadata": {},
   "outputs": [
    {
     "data": {
      "text/plain": [
       "tuple"
      ]
     },
     "execution_count": 41,
     "metadata": {},
     "output_type": "execute_result"
    }
   ],
   "source": [
    "type(res)"
   ]
  },
  {
   "cell_type": "code",
   "execution_count": 42,
   "metadata": {},
   "outputs": [
    {
     "data": {
      "text/plain": [
       "TensorListGPU(\n",
       "    [[ 9712]\n",
       "     [16352]],\n",
       "    dtype=DALIDataType.INT32,\n",
       "    num_samples=2,\n",
       "    shape=[(1,), (1,)])"
      ]
     },
     "execution_count": 42,
     "metadata": {},
     "output_type": "execute_result"
    }
   ],
   "source": []
  },
  {
   "cell_type": "code",
   "execution_count": null,
   "metadata": {},
   "outputs": [],
   "source": []
  }
 ],
 "metadata": {
  "interpreter": {
   "hash": "916dbcbb3f70747c44a77c7bcd40155683ae19c65e1c03b4aa3499c5328201f1"
  },
  "kernelspec": {
   "display_name": "Python 3.8.10 64-bit",
   "language": "python",
   "name": "python3"
  },
  "language_info": {
   "codemirror_mode": {
    "name": "ipython",
    "version": 3
   },
   "file_extension": ".py",
   "mimetype": "text/x-python",
   "name": "python",
   "nbconvert_exporter": "python",
   "pygments_lexer": "ipython3",
   "version": "3.8.10"
  },
  "orig_nbformat": 4
 },
 "nbformat": 4,
 "nbformat_minor": 2
}
