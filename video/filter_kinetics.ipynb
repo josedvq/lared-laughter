{
 "cells": [
  {
   "cell_type": "code",
   "execution_count": 1,
   "metadata": {},
   "outputs": [],
   "source": [
    "import os\n",
    "import csv\n",
    "import sys\n",
    "sys.path.append('..')\n",
    "import json\n",
    "import random"
   ]
  },
  {
   "cell_type": "code",
   "execution_count": 2,
   "metadata": {},
   "outputs": [],
   "source": [
    "from matplotlib import pyplot as plt\n",
    "import pandas as pd"
   ]
  },
  {
   "cell_type": "code",
   "execution_count": 3,
   "metadata": {},
   "outputs": [],
   "source": [
    "from constants import kinetics_data_path"
   ]
  },
  {
   "cell_type": "code",
   "execution_count": 4,
   "metadata": {},
   "outputs": [],
   "source": [
    "an_train = pd.read_csv('./ActivityNet/Crawler/Kinetics/data/kinetics-400_train.csv')\n",
    "an_test  = pd.read_csv('./ActivityNet/Crawler/Kinetics/data/kinetics-400_test.csv')\n",
    "an_val   = pd.read_csv('./ActivityNet/Crawler/Kinetics/data/kinetics-400_val.csv')"
   ]
  },
  {
   "cell_type": "code",
   "execution_count": 5,
   "metadata": {},
   "outputs": [],
   "source": [
    "labels = list(an_train['label'].unique())"
   ]
  },
  {
   "cell_type": "code",
   "execution_count": 6,
   "metadata": {},
   "outputs": [],
   "source": [
    "# pick 5 labels\n",
    "random.seed(22)\n",
    "chosen_labels = random.sample(labels, 2)"
   ]
  },
  {
   "cell_type": "code",
   "execution_count": 7,
   "metadata": {},
   "outputs": [
    {
     "data": {
      "text/html": [
       "<div>\n",
       "<style scoped>\n",
       "    .dataframe tbody tr th:only-of-type {\n",
       "        vertical-align: middle;\n",
       "    }\n",
       "\n",
       "    .dataframe tbody tr th {\n",
       "        vertical-align: top;\n",
       "    }\n",
       "\n",
       "    .dataframe thead th {\n",
       "        text-align: right;\n",
       "    }\n",
       "</style>\n",
       "<table border=\"1\" class=\"dataframe\">\n",
       "  <thead>\n",
       "    <tr style=\"text-align: right;\">\n",
       "      <th></th>\n",
       "      <th>label</th>\n",
       "      <th>youtube_id</th>\n",
       "      <th>time_start</th>\n",
       "      <th>time_end</th>\n",
       "      <th>split</th>\n",
       "    </tr>\n",
       "  </thead>\n",
       "  <tbody>\n",
       "    <tr>\n",
       "      <th>0</th>\n",
       "      <td>drinking beer</td>\n",
       "      <td>--6bJUbfpnQ</td>\n",
       "      <td>17</td>\n",
       "      <td>27</td>\n",
       "      <td>test</td>\n",
       "    </tr>\n",
       "    <tr>\n",
       "      <th>1</th>\n",
       "      <td>climbing tree</td>\n",
       "      <td>--8YXc8iCt8</td>\n",
       "      <td>2</td>\n",
       "      <td>12</td>\n",
       "      <td>test</td>\n",
       "    </tr>\n",
       "    <tr>\n",
       "      <th>2</th>\n",
       "      <td>surfing water</td>\n",
       "      <td>--coBvtS-eQ</td>\n",
       "      <td>57</td>\n",
       "      <td>67</td>\n",
       "      <td>test</td>\n",
       "    </tr>\n",
       "    <tr>\n",
       "      <th>3</th>\n",
       "      <td>stomping grapes</td>\n",
       "      <td>--q6ElFyVq0</td>\n",
       "      <td>148</td>\n",
       "      <td>158</td>\n",
       "      <td>test</td>\n",
       "    </tr>\n",
       "    <tr>\n",
       "      <th>4</th>\n",
       "      <td>tai chi</td>\n",
       "      <td>--q_mvQ8zP8</td>\n",
       "      <td>67</td>\n",
       "      <td>77</td>\n",
       "      <td>test</td>\n",
       "    </tr>\n",
       "  </tbody>\n",
       "</table>\n",
       "</div>"
      ],
      "text/plain": [
       "             label   youtube_id  time_start  time_end split\n",
       "0    drinking beer  --6bJUbfpnQ          17        27  test\n",
       "1    climbing tree  --8YXc8iCt8           2        12  test\n",
       "2    surfing water  --coBvtS-eQ          57        67  test\n",
       "3  stomping grapes  --q6ElFyVq0         148       158  test\n",
       "4          tai chi  --q_mvQ8zP8          67        77  test"
      ]
     },
     "execution_count": 7,
     "metadata": {},
     "output_type": "execute_result"
    }
   ],
   "source": [
    "an_test.head()"
   ]
  },
  {
   "cell_type": "code",
   "execution_count": 8,
   "metadata": {},
   "outputs": [],
   "source": [
    "examples_train = an_train[an_train['label'].isin(chosen_labels)]\n",
    "examples_test = an_test[an_test['label'].isin(chosen_labels)]\n",
    "examples_val = an_val[an_val['label'].isin(chosen_labels)]\n",
    "examples_train = examples_train.loc[:,['youtube_id', 'time_start', 'time_end', 'label']]\n",
    "examples_test = examples_test.loc[:,['youtube_id', 'time_start', 'time_end', 'label']]\n",
    "examples_val = examples_val.loc[:,['youtube_id', 'time_start', 'time_end', 'label']]"
   ]
  },
  {
   "cell_type": "code",
   "execution_count": 9,
   "metadata": {},
   "outputs": [
    {
     "data": {
      "text/html": [
       "<div>\n",
       "<style scoped>\n",
       "    .dataframe tbody tr th:only-of-type {\n",
       "        vertical-align: middle;\n",
       "    }\n",
       "\n",
       "    .dataframe tbody tr th {\n",
       "        vertical-align: top;\n",
       "    }\n",
       "\n",
       "    .dataframe thead th {\n",
       "        text-align: right;\n",
       "    }\n",
       "</style>\n",
       "<table border=\"1\" class=\"dataframe\">\n",
       "  <thead>\n",
       "    <tr style=\"text-align: right;\">\n",
       "      <th></th>\n",
       "      <th>youtube_id</th>\n",
       "      <th>time_start</th>\n",
       "      <th>time_end</th>\n",
       "      <th>label</th>\n",
       "    </tr>\n",
       "  </thead>\n",
       "  <tbody>\n",
       "    <tr>\n",
       "      <th>95</th>\n",
       "      <td>-BfA5d412Fc</td>\n",
       "      <td>21</td>\n",
       "      <td>31</td>\n",
       "      <td>feeding fish</td>\n",
       "    </tr>\n",
       "    <tr>\n",
       "      <th>166</th>\n",
       "      <td>-Kq1xajBxPw</td>\n",
       "      <td>350</td>\n",
       "      <td>360</td>\n",
       "      <td>cooking egg</td>\n",
       "    </tr>\n",
       "    <tr>\n",
       "      <th>198</th>\n",
       "      <td>-PhpwXdflY4</td>\n",
       "      <td>95</td>\n",
       "      <td>105</td>\n",
       "      <td>cooking egg</td>\n",
       "    </tr>\n",
       "    <tr>\n",
       "      <th>442</th>\n",
       "      <td>-tutrdjNtoU</td>\n",
       "      <td>194</td>\n",
       "      <td>204</td>\n",
       "      <td>cooking egg</td>\n",
       "    </tr>\n",
       "    <tr>\n",
       "      <th>584</th>\n",
       "      <td>0BCtCUXWuEs</td>\n",
       "      <td>80</td>\n",
       "      <td>90</td>\n",
       "      <td>cooking egg</td>\n",
       "    </tr>\n",
       "  </tbody>\n",
       "</table>\n",
       "</div>"
      ],
      "text/plain": [
       "      youtube_id  time_start  time_end         label\n",
       "95   -BfA5d412Fc          21        31  feeding fish\n",
       "166  -Kq1xajBxPw         350       360   cooking egg\n",
       "198  -PhpwXdflY4          95       105   cooking egg\n",
       "442  -tutrdjNtoU         194       204   cooking egg\n",
       "584  0BCtCUXWuEs          80        90   cooking egg"
      ]
     },
     "execution_count": 9,
     "metadata": {},
     "output_type": "execute_result"
    }
   ],
   "source": [
    "examples_test.head()"
   ]
  },
  {
   "cell_type": "code",
   "execution_count": 10,
   "metadata": {},
   "outputs": [
    {
     "data": {
      "text/plain": [
       "(1293, 172, 99)"
      ]
     },
     "execution_count": 10,
     "metadata": {},
     "output_type": "execute_result"
    }
   ],
   "source": [
    "len(examples_train), len(examples_test), len(examples_val)"
   ]
  },
  {
   "cell_type": "code",
   "execution_count": 24,
   "metadata": {},
   "outputs": [],
   "source": [
    "examples_train.to_csv('my_kinetics_train.csv', index=False)\n",
    "examples_test.to_csv('my_kinetics_test.csv', index=False)\n",
    "examples_val.to_csv('my_kinetics_val.csv', index=False)"
   ]
  },
  {
   "cell_type": "code",
   "execution_count": 29,
   "metadata": {},
   "outputs": [
    {
     "name": "stdout",
     "output_type": "stream",
     "text": [
      "Traceback (most recent call last):\n",
      "  File \"./ActivityNet/Crawler/Kinetics/download.py\", line 221, in <module>\n",
      "    main(**vars(p.parse_args()))\n",
      "  File \"./ActivityNet/Crawler/Kinetics/download.py\", line 201, in main\n",
      "    fobj.write(json.dumps(status_lst))\n",
      "  File \"/usr/lib/python3.8/json/__init__.py\", line 231, in dumps\n",
      "    return _default_encoder.encode(obj)\n",
      "  File \"/usr/lib/python3.8/json/encoder.py\", line 199, in encode\n",
      "    chunks = self.iterencode(o, _one_shot=True)\n",
      "  File \"/usr/lib/python3.8/json/encoder.py\", line 257, in iterencode\n",
      "    return _iterencode(o, 0)\n",
      "  File \"/usr/lib/python3.8/json/encoder.py\", line 179, in default\n",
      "    raise TypeError(f'Object of type {o.__class__.__name__} '\n",
      "TypeError: Object of type bytes is not JSON serializable\n"
     ]
    }
   ],
   "source": [
    "!python3 ./ActivityNet/Crawler/Kinetics/download.py ./my_kinetics.csv $RAW_DATA_PATH/kinetics/data --num-jobs=10"
   ]
  },
  {
   "cell_type": "code",
   "execution_count": 25,
   "metadata": {},
   "outputs": [
    {
     "name": "stdout",
     "output_type": "stream",
     "text": [
      "Traceback (most recent call last):\n",
      "  File \"./ActivityNet/Crawler/Kinetics/download.py\", line 221, in <module>\n",
      "    main(**vars(p.parse_args()))\n",
      "  File \"./ActivityNet/Crawler/Kinetics/download.py\", line 201, in main\n",
      "    fobj.write(json.dumps(status_lst))\n",
      "  File \"/usr/lib/python3.8/json/__init__.py\", line 231, in dumps\n",
      "    return _default_encoder.encode(obj)\n",
      "  File \"/usr/lib/python3.8/json/encoder.py\", line 199, in encode\n",
      "    chunks = self.iterencode(o, _one_shot=True)\n",
      "  File \"/usr/lib/python3.8/json/encoder.py\", line 257, in iterencode\n",
      "    return _iterencode(o, 0)\n",
      "  File \"/usr/lib/python3.8/json/encoder.py\", line 179, in default\n",
      "    raise TypeError(f'Object of type {o.__class__.__name__} '\n",
      "TypeError: Object of type bytes is not JSON serializable\n"
     ]
    }
   ],
   "source": [
    "!python3 ./ActivityNet/Crawler/Kinetics/download.py ./my_kinetics_test.csv $RAW_DATA_PATH/kinetics/data --num-jobs=10"
   ]
  },
  {
   "cell_type": "code",
   "execution_count": 26,
   "metadata": {},
   "outputs": [
    {
     "name": "stdout",
     "output_type": "stream",
     "text": [
      "Traceback (most recent call last):\n",
      "  File \"./ActivityNet/Crawler/Kinetics/download.py\", line 221, in <module>\n",
      "    main(**vars(p.parse_args()))\n",
      "  File \"./ActivityNet/Crawler/Kinetics/download.py\", line 201, in main\n",
      "    fobj.write(json.dumps(status_lst))\n",
      "  File \"/usr/lib/python3.8/json/__init__.py\", line 231, in dumps\n",
      "    return _default_encoder.encode(obj)\n",
      "  File \"/usr/lib/python3.8/json/encoder.py\", line 199, in encode\n",
      "    chunks = self.iterencode(o, _one_shot=True)\n",
      "  File \"/usr/lib/python3.8/json/encoder.py\", line 257, in iterencode\n",
      "    return _iterencode(o, 0)\n",
      "  File \"/usr/lib/python3.8/json/encoder.py\", line 179, in default\n",
      "    raise TypeError(f'Object of type {o.__class__.__name__} '\n",
      "TypeError: Object of type bytes is not JSON serializable\n"
     ]
    }
   ],
   "source": [
    "!python3 ./ActivityNet/Crawler/Kinetics/download.py ./my_kinetics_val.csv $RAW_DATA_PATH/kinetics/data --num-jobs=10"
   ]
  },
  {
   "cell_type": "code",
   "execution_count": 11,
   "metadata": {},
   "outputs": [],
   "source": [
    "# prepare the files with video paths and labels\n",
    "train_files = []\n",
    "test_files = []\n",
    "val_files = []\n",
    "notfound = []\n",
    "directory = f'{os.environ[\"RAW_DATA_PATH\"]}/kinetics/data'\n",
    "class_dirs = [d for d in os.listdir(directory) if os.path.isdir(os.path.join(directory,d))]\n",
    "for i, folder_name in enumerate(class_dirs):\n",
    "    folder_path = os.path.join(directory, folder_name)\n",
    "    for file_name in  os.listdir(folder_path):\n",
    "        file_path = os.path.join(folder_path, file_name)\n",
    "        \n",
    "        ytid = file_name[:-18]\n",
    "\n",
    "        if ytid in examples_train['youtube_id'].to_list():\n",
    "            train_files.append((file_path, i))\n",
    "        elif ytid in examples_test['youtube_id'].to_list():\n",
    "            test_files.append((file_path, i))\n",
    "        elif ytid in examples_val['youtube_id'].to_list():\n",
    "            val_files.append((file_path, i))\n",
    "        else:\n",
    "            notfound.append(ytid)"
   ]
  },
  {
   "cell_type": "code",
   "execution_count": 13,
   "metadata": {},
   "outputs": [],
   "source": [
    "pd.DataFrame(train_files).to_csv(os.path.join(os.environ[\"RAW_DATA_PATH\"], 'kinetics', 'data', 'train.csv'), index=False, header=False, sep=' ')\n",
    "pd.DataFrame(test_files).to_csv(os.path.join(os.environ[\"RAW_DATA_PATH\"], 'kinetics', 'data', 'test.csv'), index=False, header=False, sep=' ')\n",
    "pd.DataFrame(val_files).to_csv(os.path.join(os.environ[\"RAW_DATA_PATH\"], 'kinetics', 'data', 'val.csv'), index=False, header=False, sep=' ')"
   ]
  },
  {
   "cell_type": "code",
   "execution_count": null,
   "metadata": {},
   "outputs": [],
   "source": []
  },
  {
   "cell_type": "code",
   "execution_count": null,
   "metadata": {},
   "outputs": [],
   "source": [
    "# https://github.com/facebookresearch/SlowFast/issues/149#issuecomment-723265461\n",
    "\n",
    "# https://pytorchvideo.org/docs/tutorial_classification"
   ]
  }
 ],
 "metadata": {
  "interpreter": {
   "hash": "916dbcbb3f70747c44a77c7bcd40155683ae19c65e1c03b4aa3499c5328201f1"
  },
  "kernelspec": {
   "display_name": "Python 3.8.10 64-bit",
   "language": "python",
   "name": "python3"
  },
  "language_info": {
   "codemirror_mode": {
    "name": "ipython",
    "version": 3
   },
   "file_extension": ".py",
   "mimetype": "text/x-python",
   "name": "python",
   "nbconvert_exporter": "python",
   "pygments_lexer": "ipython3",
   "version": "3.8.10"
  },
  "orig_nbformat": 4
 },
 "nbformat": 4,
 "nbformat_minor": 2
}
