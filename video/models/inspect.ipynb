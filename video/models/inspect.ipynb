{
 "cells": [
  {
   "cell_type": "code",
   "execution_count": 1,
   "metadata": {},
   "outputs": [],
   "source": [
    "import os\n",
    "import torch\n",
    "\n",
    "from torchinfo import summary"
   ]
  },
  {
   "cell_type": "code",
   "execution_count": 2,
   "metadata": {},
   "outputs": [
    {
     "ename": "",
     "evalue": "",
     "output_type": "error",
     "traceback": [
      "\u001b[1;31mCanceled future for execute_request message before replies were done"
     ]
    },
    {
     "ename": "",
     "evalue": "",
     "output_type": "error",
     "traceback": [
      "\u001b[1;31mThe Kernel crashed while executing code in the the current cell or a previous cell. Please review the code in the cell(s) to identify a possible cause of the failure. Click <a href='https://aka.ms/vscodeJupyterKernelCrash'>here</a> for more info. View Jupyter <a href='command:jupyter.viewOutput'>log</a> for further details."
     ]
    }
   ],
   "source": [
    "from models import make_resnet_pretrained_classifier"
   ]
  },
  {
   "cell_type": "code",
   "execution_count": 3,
   "metadata": {},
   "outputs": [],
   "source": [
    "from lared_laughter.constants import models_path"
   ]
  },
  {
   "cell_type": "code",
   "execution_count": 4,
   "metadata": {},
   "outputs": [],
   "source": [
    "chckpt = torch.load(os.path.join(models_path, 'SLOW_4x16_R50.pyth'))"
   ]
  },
  {
   "cell_type": "code",
   "execution_count": 2,
   "metadata": {},
   "outputs": [
    {
     "ename": "RuntimeError",
     "evalue": "Error(s) in loading state_dict for Net:\n\tsize mismatch for blocks.0.conv.weight: copying a param with shape torch.Size([64, 3, 1, 7, 7]) from checkpoint, the shape in current model is torch.Size([64, 3, 3, 7, 7]).",
     "output_type": "error",
     "traceback": [
      "\u001b[0;31m---------------------------------------------------------------------------\u001b[0m",
      "\u001b[0;31mRuntimeError\u001b[0m                              Traceback (most recent call last)",
      "\u001b[1;32m/mnt/c/Users/Jose/Documents/furnace/lared_laughter/video/models/inspect.ipynb Cell 2'\u001b[0m in \u001b[0;36m<module>\u001b[0;34m\u001b[0m\n\u001b[0;32m----> <a href='vscode-notebook-cell://wsl%2Bubuntu/mnt/c/Users/Jose/Documents/furnace/lared_laughter/video/models/inspect.ipynb#ch0000001vscode-remote?line=0'>1</a>\u001b[0m pretrained \u001b[39m=\u001b[39m make_resnet_pretrained_classifier()\n",
      "File \u001b[0;32m/mnt/c/Users/Jose/Documents/furnace/lared_laughter/video/models/slowfast.py:19\u001b[0m, in \u001b[0;36mmake_resnet_pretrained_classifier\u001b[0;34m()\u001b[0m\n\u001b[1;32m     <a href='file:///mnt/c/Users/Jose/Documents/furnace/lared_laughter/video/models/slowfast.py?line=14'>15</a>\u001b[0m model \u001b[39m=\u001b[39m pytorchvideo\u001b[39m.\u001b[39mmodels\u001b[39m.\u001b[39mresnet\u001b[39m.\u001b[39mcreate_resnet()\n\u001b[1;32m     <a href='file:///mnt/c/Users/Jose/Documents/furnace/lared_laughter/video/models/slowfast.py?line=16'>17</a>\u001b[0m chckpt \u001b[39m=\u001b[39m torch\u001b[39m.\u001b[39mload(os\u001b[39m.\u001b[39mpath\u001b[39m.\u001b[39mjoin(models_path, \u001b[39m'\u001b[39m\u001b[39mSLOW_4x16_R50.pyth\u001b[39m\u001b[39m'\u001b[39m))\n\u001b[0;32m---> <a href='file:///mnt/c/Users/Jose/Documents/furnace/lared_laughter/video/models/slowfast.py?line=18'>19</a>\u001b[0m model\u001b[39m.\u001b[39;49mload_state_dict(chckpt[\u001b[39m'\u001b[39;49m\u001b[39mmodel_state\u001b[39;49m\u001b[39m'\u001b[39;49m])\n\u001b[1;32m     <a href='file:///mnt/c/Users/Jose/Documents/furnace/lared_laughter/video/models/slowfast.py?line=19'>20</a>\u001b[0m \u001b[39mfor\u001b[39;00m param \u001b[39min\u001b[39;00m model\u001b[39m.\u001b[39mparameters():\n\u001b[1;32m     <a href='file:///mnt/c/Users/Jose/Documents/furnace/lared_laughter/video/models/slowfast.py?line=20'>21</a>\u001b[0m     param\u001b[39m.\u001b[39mrequires_grad \u001b[39m=\u001b[39m \u001b[39mFalse\u001b[39;00m\n",
      "File \u001b[0;32m~/.local/lib/python3.8/site-packages/torch/nn/modules/module.py:1497\u001b[0m, in \u001b[0;36mModule.load_state_dict\u001b[0;34m(self, state_dict, strict)\u001b[0m\n\u001b[1;32m   <a href='file:///home/jose/.local/lib/python3.8/site-packages/torch/nn/modules/module.py?line=1491'>1492</a>\u001b[0m         error_msgs\u001b[39m.\u001b[39minsert(\n\u001b[1;32m   <a href='file:///home/jose/.local/lib/python3.8/site-packages/torch/nn/modules/module.py?line=1492'>1493</a>\u001b[0m             \u001b[39m0\u001b[39m, \u001b[39m'\u001b[39m\u001b[39mMissing key(s) in state_dict: \u001b[39m\u001b[39m{}\u001b[39;00m\u001b[39m. \u001b[39m\u001b[39m'\u001b[39m\u001b[39m.\u001b[39mformat(\n\u001b[1;32m   <a href='file:///home/jose/.local/lib/python3.8/site-packages/torch/nn/modules/module.py?line=1493'>1494</a>\u001b[0m                 \u001b[39m'\u001b[39m\u001b[39m, \u001b[39m\u001b[39m'\u001b[39m\u001b[39m.\u001b[39mjoin(\u001b[39m'\u001b[39m\u001b[39m\"\u001b[39m\u001b[39m{}\u001b[39;00m\u001b[39m\"\u001b[39m\u001b[39m'\u001b[39m\u001b[39m.\u001b[39mformat(k) \u001b[39mfor\u001b[39;00m k \u001b[39min\u001b[39;00m missing_keys)))\n\u001b[1;32m   <a href='file:///home/jose/.local/lib/python3.8/site-packages/torch/nn/modules/module.py?line=1495'>1496</a>\u001b[0m \u001b[39mif\u001b[39;00m \u001b[39mlen\u001b[39m(error_msgs) \u001b[39m>\u001b[39m \u001b[39m0\u001b[39m:\n\u001b[0;32m-> <a href='file:///home/jose/.local/lib/python3.8/site-packages/torch/nn/modules/module.py?line=1496'>1497</a>\u001b[0m     \u001b[39mraise\u001b[39;00m \u001b[39mRuntimeError\u001b[39;00m(\u001b[39m'\u001b[39m\u001b[39mError(s) in loading state_dict for \u001b[39m\u001b[39m{}\u001b[39;00m\u001b[39m:\u001b[39m\u001b[39m\\n\u001b[39;00m\u001b[39m\\t\u001b[39;00m\u001b[39m{}\u001b[39;00m\u001b[39m'\u001b[39m\u001b[39m.\u001b[39mformat(\n\u001b[1;32m   <a href='file:///home/jose/.local/lib/python3.8/site-packages/torch/nn/modules/module.py?line=1497'>1498</a>\u001b[0m                        \u001b[39mself\u001b[39m\u001b[39m.\u001b[39m\u001b[39m__class__\u001b[39m\u001b[39m.\u001b[39m\u001b[39m__name__\u001b[39m, \u001b[39m\"\u001b[39m\u001b[39m\\n\u001b[39;00m\u001b[39m\\t\u001b[39;00m\u001b[39m\"\u001b[39m\u001b[39m.\u001b[39mjoin(error_msgs)))\n\u001b[1;32m   <a href='file:///home/jose/.local/lib/python3.8/site-packages/torch/nn/modules/module.py?line=1498'>1499</a>\u001b[0m \u001b[39mreturn\u001b[39;00m _IncompatibleKeys(missing_keys, unexpected_keys)\n",
      "\u001b[0;31mRuntimeError\u001b[0m: Error(s) in loading state_dict for Net:\n\tsize mismatch for blocks.0.conv.weight: copying a param with shape torch.Size([64, 3, 1, 7, 7]) from checkpoint, the shape in current model is torch.Size([64, 3, 3, 7, 7])."
     ]
    }
   ],
   "source": [
    "pretrained = make_resnet_pretrained_classifier()"
   ]
  },
  {
   "cell_type": "code",
   "execution_count": 15,
   "metadata": {},
   "outputs": [],
   "source": [
    "input = [\n",
    "    torch.rand((8, 3, 8, 256, 256)), # slow\n",
    "    torch.rand((8, 3, 32, 256, 256)) # fast\n",
    "]"
   ]
  },
  {
   "cell_type": "code",
   "execution_count": 16,
   "metadata": {},
   "outputs": [
    {
     "ename": "RuntimeError",
     "evalue": "Failed to run torchinfo. See above stack traces for more details. Executed layers up to: [ResNetBasicStem: 4, Conv3d: 5, BatchNorm3d: 5, ReLU: 5, MaxPool3d: 5, ResNetBasicStem: 4, Conv3d: 5, BatchNorm3d: 5, ReLU: 5, MaxPool3d: 5, Conv3d: 4, BatchNorm3d: 4, ReLU: 4]",
     "output_type": "error",
     "traceback": [
      "\u001b[0;31m---------------------------------------------------------------------------\u001b[0m",
      "\u001b[0;31mAttributeError\u001b[0m                            Traceback (most recent call last)",
      "File \u001b[0;32m~/.local/lib/python3.8/site-packages/torchinfo/torchinfo.py:290\u001b[0m, in \u001b[0;36mforward_pass\u001b[0;34m(model, x, batch_dim, cache_forward_pass, device, mode, **kwargs)\u001b[0m\n\u001b[1;32m    <a href='file:///home/jose/.local/lib/python3.8/site-packages/torchinfo/torchinfo.py?line=288'>289</a>\u001b[0m \u001b[39mif\u001b[39;00m \u001b[39misinstance\u001b[39m(x, (\u001b[39mlist\u001b[39m, \u001b[39mtuple\u001b[39m)):\n\u001b[0;32m--> <a href='file:///home/jose/.local/lib/python3.8/site-packages/torchinfo/torchinfo.py?line=289'>290</a>\u001b[0m     _ \u001b[39m=\u001b[39m model\u001b[39m.\u001b[39;49mto(device)(\u001b[39m*\u001b[39;49mx, \u001b[39m*\u001b[39;49m\u001b[39m*\u001b[39;49mkwargs)\n\u001b[1;32m    <a href='file:///home/jose/.local/lib/python3.8/site-packages/torchinfo/torchinfo.py?line=290'>291</a>\u001b[0m \u001b[39melif\u001b[39;00m \u001b[39misinstance\u001b[39m(x, \u001b[39mdict\u001b[39m):\n",
      "File \u001b[0;32m~/.local/lib/python3.8/site-packages/torch/nn/modules/module.py:1128\u001b[0m, in \u001b[0;36mModule._call_impl\u001b[0;34m(self, *input, **kwargs)\u001b[0m\n\u001b[1;32m   <a href='file:///home/jose/.local/lib/python3.8/site-packages/torch/nn/modules/module.py?line=1125'>1126</a>\u001b[0m     \u001b[39minput\u001b[39m \u001b[39m=\u001b[39m bw_hook\u001b[39m.\u001b[39msetup_input_hook(\u001b[39minput\u001b[39m)\n\u001b[0;32m-> <a href='file:///home/jose/.local/lib/python3.8/site-packages/torch/nn/modules/module.py?line=1127'>1128</a>\u001b[0m result \u001b[39m=\u001b[39m forward_call(\u001b[39m*\u001b[39;49m\u001b[39minput\u001b[39;49m, \u001b[39m*\u001b[39;49m\u001b[39m*\u001b[39;49mkwargs)\n\u001b[1;32m   <a href='file:///home/jose/.local/lib/python3.8/site-packages/torch/nn/modules/module.py?line=1128'>1129</a>\u001b[0m \u001b[39mif\u001b[39;00m _global_forward_hooks \u001b[39mor\u001b[39;00m \u001b[39mself\u001b[39m\u001b[39m.\u001b[39m_forward_hooks:\n",
      "File \u001b[0;32m~/.local/lib/python3.8/site-packages/pytorchvideo/models/net.py:43\u001b[0m, in \u001b[0;36mNet.forward\u001b[0;34m(self, x)\u001b[0m\n\u001b[1;32m     <a href='file:///home/jose/.local/lib/python3.8/site-packages/pytorchvideo/models/net.py?line=41'>42</a>\u001b[0m \u001b[39mfor\u001b[39;00m idx \u001b[39min\u001b[39;00m \u001b[39mrange\u001b[39m(\u001b[39mlen\u001b[39m(\u001b[39mself\u001b[39m\u001b[39m.\u001b[39mblocks)):\n\u001b[0;32m---> <a href='file:///home/jose/.local/lib/python3.8/site-packages/pytorchvideo/models/net.py?line=42'>43</a>\u001b[0m     x \u001b[39m=\u001b[39m \u001b[39mself\u001b[39;49m\u001b[39m.\u001b[39;49mblocks[idx](x)\n\u001b[1;32m     <a href='file:///home/jose/.local/lib/python3.8/site-packages/pytorchvideo/models/net.py?line=43'>44</a>\u001b[0m \u001b[39mreturn\u001b[39;00m x\n",
      "File \u001b[0;32m~/.local/lib/python3.8/site-packages/torch/nn/modules/module.py:1128\u001b[0m, in \u001b[0;36mModule._call_impl\u001b[0;34m(self, *input, **kwargs)\u001b[0m\n\u001b[1;32m   <a href='file:///home/jose/.local/lib/python3.8/site-packages/torch/nn/modules/module.py?line=1125'>1126</a>\u001b[0m     \u001b[39minput\u001b[39m \u001b[39m=\u001b[39m bw_hook\u001b[39m.\u001b[39msetup_input_hook(\u001b[39minput\u001b[39m)\n\u001b[0;32m-> <a href='file:///home/jose/.local/lib/python3.8/site-packages/torch/nn/modules/module.py?line=1127'>1128</a>\u001b[0m result \u001b[39m=\u001b[39m forward_call(\u001b[39m*\u001b[39;49m\u001b[39minput\u001b[39;49m, \u001b[39m*\u001b[39;49m\u001b[39m*\u001b[39;49mkwargs)\n\u001b[1;32m   <a href='file:///home/jose/.local/lib/python3.8/site-packages/torch/nn/modules/module.py?line=1128'>1129</a>\u001b[0m \u001b[39mif\u001b[39;00m _global_forward_hooks \u001b[39mor\u001b[39;00m \u001b[39mself\u001b[39m\u001b[39m.\u001b[39m_forward_hooks:\n",
      "File \u001b[0;32m~/.local/lib/python3.8/site-packages/pytorchvideo/models/net.py:121\u001b[0m, in \u001b[0;36mMultiPathWayWithFuse.forward\u001b[0;34m(self, x)\u001b[0m\n\u001b[1;32m    <a href='file:///home/jose/.local/lib/python3.8/site-packages/pytorchvideo/models/net.py?line=119'>120</a>\u001b[0m \u001b[39mif\u001b[39;00m \u001b[39mself\u001b[39m\u001b[39m.\u001b[39mmultipathway_fusion \u001b[39mis\u001b[39;00m \u001b[39mnot\u001b[39;00m \u001b[39mNone\u001b[39;00m:\n\u001b[0;32m--> <a href='file:///home/jose/.local/lib/python3.8/site-packages/pytorchvideo/models/net.py?line=120'>121</a>\u001b[0m     x_out \u001b[39m=\u001b[39m \u001b[39mself\u001b[39;49m\u001b[39m.\u001b[39;49mmultipathway_fusion(x_out)\n\u001b[1;32m    <a href='file:///home/jose/.local/lib/python3.8/site-packages/pytorchvideo/models/net.py?line=121'>122</a>\u001b[0m \u001b[39mreturn\u001b[39;00m x_out\n",
      "File \u001b[0;32m~/.local/lib/python3.8/site-packages/torch/nn/modules/module.py:1131\u001b[0m, in \u001b[0;36mModule._call_impl\u001b[0;34m(self, *input, **kwargs)\u001b[0m\n\u001b[1;32m   <a href='file:///home/jose/.local/lib/python3.8/site-packages/torch/nn/modules/module.py?line=1129'>1130</a>\u001b[0m \u001b[39mfor\u001b[39;00m hook \u001b[39min\u001b[39;00m (\u001b[39m*\u001b[39m_global_forward_hooks\u001b[39m.\u001b[39mvalues(), \u001b[39m*\u001b[39m\u001b[39mself\u001b[39m\u001b[39m.\u001b[39m_forward_hooks\u001b[39m.\u001b[39mvalues()):\n\u001b[0;32m-> <a href='file:///home/jose/.local/lib/python3.8/site-packages/torch/nn/modules/module.py?line=1130'>1131</a>\u001b[0m     hook_result \u001b[39m=\u001b[39m hook(\u001b[39mself\u001b[39;49m, \u001b[39minput\u001b[39;49m, result)\n\u001b[1;32m   <a href='file:///home/jose/.local/lib/python3.8/site-packages/torch/nn/modules/module.py?line=1131'>1132</a>\u001b[0m     \u001b[39mif\u001b[39;00m hook_result \u001b[39mis\u001b[39;00m \u001b[39mnot\u001b[39;00m \u001b[39mNone\u001b[39;00m:\n",
      "File \u001b[0;32m~/.local/lib/python3.8/site-packages/torchsummary/torchsummary.py:19\u001b[0m, in \u001b[0;36msummary.<locals>.register_hook.<locals>.hook\u001b[0;34m(module, input, output)\u001b[0m\n\u001b[1;32m     <a href='file:///home/jose/.local/lib/python3.8/site-packages/torchsummary/torchsummary.py?line=17'>18</a>\u001b[0m summary[m_key] \u001b[39m=\u001b[39m OrderedDict()\n\u001b[0;32m---> <a href='file:///home/jose/.local/lib/python3.8/site-packages/torchsummary/torchsummary.py?line=18'>19</a>\u001b[0m summary[m_key][\u001b[39m\"\u001b[39m\u001b[39minput_shape\u001b[39m\u001b[39m\"\u001b[39m] \u001b[39m=\u001b[39m \u001b[39mlist\u001b[39m(\u001b[39minput\u001b[39;49m[\u001b[39m0\u001b[39;49m]\u001b[39m.\u001b[39;49msize())\n\u001b[1;32m     <a href='file:///home/jose/.local/lib/python3.8/site-packages/torchsummary/torchsummary.py?line=19'>20</a>\u001b[0m summary[m_key][\u001b[39m\"\u001b[39m\u001b[39minput_shape\u001b[39m\u001b[39m\"\u001b[39m][\u001b[39m0\u001b[39m] \u001b[39m=\u001b[39m batch_size\n",
      "\u001b[0;31mAttributeError\u001b[0m: 'list' object has no attribute 'size'",
      "\nThe above exception was the direct cause of the following exception:\n",
      "\u001b[0;31mRuntimeError\u001b[0m                              Traceback (most recent call last)",
      "\u001b[1;32m/mnt/c/Users/Jose/Documents/furnace/lared_laughter/video/models/inspect.ipynb Cell 5'\u001b[0m in \u001b[0;36m<module>\u001b[0;34m\u001b[0m\n\u001b[0;32m----> <a href='vscode-notebook-cell://wsl%2Bubuntu/mnt/c/Users/Jose/Documents/furnace/lared_laughter/video/models/inspect.ipynb#ch0000002vscode-remote?line=0'>1</a>\u001b[0m summary(pretrained, input_data\u001b[39m=\u001b[39;49m[\u001b[39minput\u001b[39;49m], device\u001b[39m=\u001b[39;49m\u001b[39m'\u001b[39;49m\u001b[39mcpu\u001b[39;49m\u001b[39m'\u001b[39;49m)\n",
      "File \u001b[0;32m~/.local/lib/python3.8/site-packages/torchinfo/torchinfo.py:218\u001b[0m, in \u001b[0;36msummary\u001b[0;34m(model, input_size, input_data, batch_dim, cache_forward_pass, col_names, col_width, depth, device, dtypes, mode, row_settings, verbose, **kwargs)\u001b[0m\n\u001b[1;32m    <a href='file:///home/jose/.local/lib/python3.8/site-packages/torchinfo/torchinfo.py?line=210'>211</a>\u001b[0m validate_user_params(\n\u001b[1;32m    <a href='file:///home/jose/.local/lib/python3.8/site-packages/torchinfo/torchinfo.py?line=211'>212</a>\u001b[0m     input_data, input_size, columns, col_width, device, dtypes, verbose\n\u001b[1;32m    <a href='file:///home/jose/.local/lib/python3.8/site-packages/torchinfo/torchinfo.py?line=212'>213</a>\u001b[0m )\n\u001b[1;32m    <a href='file:///home/jose/.local/lib/python3.8/site-packages/torchinfo/torchinfo.py?line=214'>215</a>\u001b[0m x, correct_input_size \u001b[39m=\u001b[39m process_input(\n\u001b[1;32m    <a href='file:///home/jose/.local/lib/python3.8/site-packages/torchinfo/torchinfo.py?line=215'>216</a>\u001b[0m     input_data, input_size, batch_dim, device, dtypes\n\u001b[1;32m    <a href='file:///home/jose/.local/lib/python3.8/site-packages/torchinfo/torchinfo.py?line=216'>217</a>\u001b[0m )\n\u001b[0;32m--> <a href='file:///home/jose/.local/lib/python3.8/site-packages/torchinfo/torchinfo.py?line=217'>218</a>\u001b[0m summary_list \u001b[39m=\u001b[39m forward_pass(\n\u001b[1;32m    <a href='file:///home/jose/.local/lib/python3.8/site-packages/torchinfo/torchinfo.py?line=218'>219</a>\u001b[0m     model, x, batch_dim, cache_forward_pass, device, model_mode, \u001b[39m*\u001b[39;49m\u001b[39m*\u001b[39;49mkwargs\n\u001b[1;32m    <a href='file:///home/jose/.local/lib/python3.8/site-packages/torchinfo/torchinfo.py?line=219'>220</a>\u001b[0m )\n\u001b[1;32m    <a href='file:///home/jose/.local/lib/python3.8/site-packages/torchinfo/torchinfo.py?line=220'>221</a>\u001b[0m formatting \u001b[39m=\u001b[39m FormattingOptions(depth, verbose, columns, col_width, rows)\n\u001b[1;32m    <a href='file:///home/jose/.local/lib/python3.8/site-packages/torchinfo/torchinfo.py?line=221'>222</a>\u001b[0m results \u001b[39m=\u001b[39m ModelStatistics(\n\u001b[1;32m    <a href='file:///home/jose/.local/lib/python3.8/site-packages/torchinfo/torchinfo.py?line=222'>223</a>\u001b[0m     summary_list, correct_input_size, get_total_memory_used(x), formatting\n\u001b[1;32m    <a href='file:///home/jose/.local/lib/python3.8/site-packages/torchinfo/torchinfo.py?line=223'>224</a>\u001b[0m )\n",
      "File \u001b[0;32m~/.local/lib/python3.8/site-packages/torchinfo/torchinfo.py:299\u001b[0m, in \u001b[0;36mforward_pass\u001b[0;34m(model, x, batch_dim, cache_forward_pass, device, mode, **kwargs)\u001b[0m\n\u001b[1;32m    <a href='file:///home/jose/.local/lib/python3.8/site-packages/torchinfo/torchinfo.py?line=296'>297</a>\u001b[0m \u001b[39mexcept\u001b[39;00m \u001b[39mException\u001b[39;00m \u001b[39mas\u001b[39;00m e:\n\u001b[1;32m    <a href='file:///home/jose/.local/lib/python3.8/site-packages/torchinfo/torchinfo.py?line=297'>298</a>\u001b[0m     executed_layers \u001b[39m=\u001b[39m [layer \u001b[39mfor\u001b[39;00m layer \u001b[39min\u001b[39;00m summary_list \u001b[39mif\u001b[39;00m layer\u001b[39m.\u001b[39mexecuted]\n\u001b[0;32m--> <a href='file:///home/jose/.local/lib/python3.8/site-packages/torchinfo/torchinfo.py?line=298'>299</a>\u001b[0m     \u001b[39mraise\u001b[39;00m \u001b[39mRuntimeError\u001b[39;00m(\n\u001b[1;32m    <a href='file:///home/jose/.local/lib/python3.8/site-packages/torchinfo/torchinfo.py?line=299'>300</a>\u001b[0m         \u001b[39m\"\u001b[39m\u001b[39mFailed to run torchinfo. See above stack traces for more details. \u001b[39m\u001b[39m\"\u001b[39m\n\u001b[1;32m    <a href='file:///home/jose/.local/lib/python3.8/site-packages/torchinfo/torchinfo.py?line=300'>301</a>\u001b[0m         \u001b[39mf\u001b[39m\u001b[39m\"\u001b[39m\u001b[39mExecuted layers up to: \u001b[39m\u001b[39m{\u001b[39;00mexecuted_layers\u001b[39m}\u001b[39;00m\u001b[39m\"\u001b[39m\n\u001b[1;32m    <a href='file:///home/jose/.local/lib/python3.8/site-packages/torchinfo/torchinfo.py?line=301'>302</a>\u001b[0m     ) \u001b[39mfrom\u001b[39;00m \u001b[39me\u001b[39;00m\n\u001b[1;32m    <a href='file:///home/jose/.local/lib/python3.8/site-packages/torchinfo/torchinfo.py?line=302'>303</a>\u001b[0m \u001b[39mfinally\u001b[39;00m:\n\u001b[1;32m    <a href='file:///home/jose/.local/lib/python3.8/site-packages/torchinfo/torchinfo.py?line=303'>304</a>\u001b[0m     \u001b[39mif\u001b[39;00m hooks:\n",
      "\u001b[0;31mRuntimeError\u001b[0m: Failed to run torchinfo. See above stack traces for more details. Executed layers up to: [ResNetBasicStem: 4, Conv3d: 5, BatchNorm3d: 5, ReLU: 5, MaxPool3d: 5, ResNetBasicStem: 4, Conv3d: 5, BatchNorm3d: 5, ReLU: 5, MaxPool3d: 5, Conv3d: 4, BatchNorm3d: 4, ReLU: 4]"
     ]
    }
   ],
   "source": [
    "summary(pretrained, input_data=[input], device='cpu')"
   ]
  },
  {
   "cell_type": "code",
   "execution_count": null,
   "metadata": {},
   "outputs": [],
   "source": []
  }
 ],
 "metadata": {
  "interpreter": {
   "hash": "916dbcbb3f70747c44a77c7bcd40155683ae19c65e1c03b4aa3499c5328201f1"
  },
  "kernelspec": {
   "display_name": "Python 3.8.10 64-bit",
   "language": "python",
   "name": "python3"
  },
  "language_info": {
   "codemirror_mode": {
    "name": "ipython",
    "version": 3
   },
   "file_extension": ".py",
   "mimetype": "text/x-python",
   "name": "python",
   "nbconvert_exporter": "python",
   "pygments_lexer": "ipython3",
   "version": "3.8.10"
  },
  "orig_nbformat": 4
 },
 "nbformat": 4,
 "nbformat_minor": 2
}
