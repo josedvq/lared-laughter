{
 "cells": [
  {
   "cell_type": "code",
   "execution_count": 1,
   "metadata": {},
   "outputs": [],
   "source": [
    "import os\n",
    "import torch\n",
    "import pickle\n",
    "\n",
    "from torchinfo import summary"
   ]
  },
  {
   "cell_type": "code",
   "execution_count": 2,
   "metadata": {},
   "outputs": [],
   "source": [
    "from models import (\n",
    "    make_slow_pretrained_body,\n",
    "    make_slow_pretrained_classifier,\n",
    "    make_slow_pretrained_segmenter)\n",
    "from lared_laughter.constants import models_path"
   ]
  },
  {
   "cell_type": "code",
   "execution_count": 3,
   "metadata": {},
   "outputs": [
    {
     "name": "stdout",
     "output_type": "stream",
     "text": [
      "loaded pre-trained model\n",
      "missing keys []\n",
      "unexpected keys ['model.blocks.5.proj.weight', 'model.blocks.5.proj.bias']\n"
     ]
    }
   ],
   "source": [
    "pretrained = make_slow_pretrained_body()\n",
    "# pretrained = make_slowfast_pretrained_classifier()"
   ]
  },
  {
   "cell_type": "code",
   "execution_count": 4,
   "metadata": {},
   "outputs": [],
   "source": [
    "input = [\n",
    "    torch.rand((8, 3, 8, 256, 256)), # slow\n",
    "    torch.rand((8, 3, 32, 256, 256)) # fast\n",
    "]"
   ]
  },
  {
   "cell_type": "code",
   "execution_count": 5,
   "metadata": {},
   "outputs": [
    {
     "data": {
      "text/plain": [
       "=========================================================================================================\n",
       "Layer (type:depth-idx)                                  Output Shape              Param #\n",
       "=========================================================================================================\n",
       "PTVResNet                                               [8, 2048, 1, 2, 2]        --\n",
       "├─AvgPool3d: 1-3                                        [8, 2048, 1, 2, 2]        --\n",
       "├─Net: 1-2                                              [8, 2048, 8, 8, 8]        --\n",
       "│    └─ModuleList: 2-1                                  --                        --\n",
       "│    │    └─ResNetBasicStem: 3-1                        [8, 64, 8, 64, 64]        --\n",
       "│    │    │    └─Conv3d: 4-1                            [8, 64, 8, 128, 128]      (9,408)\n",
       "│    │    │    └─BatchNorm3d: 4-2                       [8, 64, 8, 128, 128]      (128)\n",
       "│    │    │    └─ReLU: 4-3                              [8, 64, 8, 128, 128]      --\n",
       "│    │    │    └─MaxPool3d: 4-4                         [8, 64, 8, 64, 64]        --\n",
       "│    │    └─ResStage: 3-2                               [8, 256, 8, 64, 64]       --\n",
       "│    │    │    └─ModuleList: 4                          --                        --\n",
       "│    │    │    │    └─ResBlock: 5-1                     [8, 256, 8, 64, 64]       (75,008)\n",
       "│    │    │    │    └─ResBlock: 5-2                     [8, 256, 8, 64, 64]       (70,400)\n",
       "│    │    │    │    └─ResBlock: 5-3                     [8, 256, 8, 64, 64]       (70,400)\n",
       "│    │    └─ResStage: 3-3                               [8, 512, 8, 32, 32]       --\n",
       "│    │    │    └─ModuleList: 4                          --                        --\n",
       "│    │    │    │    └─ResBlock: 5-4                     [8, 512, 8, 32, 32]       (379,392)\n",
       "│    │    │    │    └─ResBlock: 5-5                     [8, 512, 8, 32, 32]       (280,064)\n",
       "│    │    │    │    └─ResBlock: 5-6                     [8, 512, 8, 32, 32]       (280,064)\n",
       "│    │    │    │    └─ResBlock: 5-7                     [8, 512, 8, 32, 32]       (280,064)\n",
       "│    │    └─ResStage: 3-4                               [8, 1024, 8, 16, 16]      --\n",
       "│    │    │    └─ModuleList: 4                          --                        --\n",
       "│    │    │    │    └─ResBlock: 5-8                     [8, 1024, 8, 16, 16]      (1,774,592)\n",
       "│    │    │    │    └─ResBlock: 5-9                     [8, 1024, 8, 16, 16]      (1,641,472)\n",
       "│    │    │    │    └─ResBlock: 5-10                    [8, 1024, 8, 16, 16]      (1,641,472)\n",
       "│    │    │    │    └─ResBlock: 5-11                    [8, 1024, 8, 16, 16]      (1,641,472)\n",
       "│    │    │    │    └─ResBlock: 5-12                    [8, 1024, 8, 16, 16]      (1,641,472)\n",
       "│    │    │    │    └─ResBlock: 5-13                    [8, 1024, 8, 16, 16]      (1,641,472)\n",
       "│    │    └─ResStage: 3-5                               [8, 2048, 8, 8, 8]        --\n",
       "│    │    │    └─ModuleList: 4                          --                        --\n",
       "│    │    │    │    └─ResBlock: 5-14                    [8, 2048, 8, 8, 8]        (7,088,128)\n",
       "│    │    │    │    └─ResBlock: 5-15                    [8, 2048, 8, 8, 8]        (6,559,744)\n",
       "│    │    │    │    └─ResBlock: 5-16                    [8, 2048, 8, 8, 8]        (6,559,744)\n",
       "├─AvgPool3d: 1-3                                        [8, 2048, 1, 2, 2]        --\n",
       "=========================================================================================================\n",
       "Total params: 31,634,496\n",
       "Trainable params: 0\n",
       "Non-trainable params: 31,634,496\n",
       "Total mult-adds (G): 436.14\n",
       "=========================================================================================================\n",
       "Input size (MB): 50.33\n",
       "Forward/backward pass size (MB): 14864.61\n",
       "Params size (MB): 126.54\n",
       "Estimated Total Size (MB): 15041.48\n",
       "========================================================================================================="
      ]
     },
     "execution_count": 5,
     "metadata": {},
     "output_type": "execute_result"
    }
   ],
   "source": [
    "# summary(pretrained, input_data=input, device='cuda', depth=5)\n",
    "summary(pretrained, input_size=(8, 3, 8, 256, 256), device='cuda', depth=5)"
   ]
  },
  {
   "cell_type": "code",
   "execution_count": 13,
   "metadata": {},
   "outputs": [
    {
     "data": {
      "text/plain": [
       "AvgPool3d(kernel_size=(8, 7, 7), stride=(1, 1, 1), padding=(0, 0, 0))"
      ]
     },
     "execution_count": 13,
     "metadata": {},
     "output_type": "execute_result"
    }
   ],
   "source": [
    "pretrained.model.blocks[-1].pool"
   ]
  },
  {
   "cell_type": "code",
   "execution_count": null,
   "metadata": {},
   "outputs": [],
   "source": []
  }
 ],
 "metadata": {
  "interpreter": {
   "hash": "7ff63645dd16f55240e07095d3c46f4fac3f89ef16802cfaceca713f6cf38dfb"
  },
  "kernelspec": {
   "display_name": "Python 3.8.13 ('base')",
   "language": "python",
   "name": "python3"
  },
  "language_info": {
   "codemirror_mode": {
    "name": "ipython",
    "version": 3
   },
   "file_extension": ".py",
   "mimetype": "text/x-python",
   "name": "python",
   "nbconvert_exporter": "python",
   "pygments_lexer": "ipython3",
   "version": "3.8.13"
  },
  "orig_nbformat": 4
 },
 "nbformat": 4,
 "nbformat_minor": 2
}
