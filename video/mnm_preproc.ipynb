{
 "cells": [
  {
   "cell_type": "code",
   "execution_count": 1,
   "metadata": {},
   "outputs": [],
   "source": [
    "import sys\n",
    "import os\n",
    "sys.path.append('..')"
   ]
  },
  {
   "cell_type": "code",
   "execution_count": 2,
   "metadata": {},
   "outputs": [],
   "source": [
    "import pandas as pd\n",
    "import numpy as np"
   ]
  },
  {
   "cell_type": "code",
   "execution_count": 3,
   "metadata": {},
   "outputs": [],
   "source": [
    "from constants import mnm_data_path"
   ]
  },
  {
   "cell_type": "code",
   "execution_count": 14,
   "metadata": {},
   "outputs": [],
   "source": [
    "annot_path = os.path.join(mnm_data_path, 'annotations', 'DATA.csv')\n",
    "camera_path = os.path.join(mnm_data_path, 'annotations', 'CAMERA.csv')\n",
    "out_path = os.path.join(mnm_data_path, 'annotations', 'my_data.csv')\n",
    "out_camera_path = os.path.join(mnm_data_path, 'annotations', 'my_camera.csv')"
   ]
  },
  {
   "cell_type": "code",
   "execution_count": 5,
   "metadata": {},
   "outputs": [],
   "source": [
    "df = pd.read_csv(annot_path, header=None).to_numpy()"
   ]
  },
  {
   "cell_type": "code",
   "execution_count": 6,
   "metadata": {},
   "outputs": [
    {
     "name": "stderr",
     "output_type": "stream",
     "text": [
      "/tmp/ipykernel_8088/1999824248.py:1: DeprecationWarning: `np.int` is a deprecated alias for the builtin `int`. To silence this warning, use `int` by itself. Doing this will not modify any behavior and is safe. When replacing `np.int`, you may wish to use e.g. `np.int64` or `np.int32` to specify the precision. If you wish to review your current use, check the release note link for additional information.\n",
      "Deprecated in NumPy 1.20; for more details and guidance: https://numpy.org/devdocs/release/1.20.0-notes.html#deprecations\n",
      "  new = np.empty((36000, 92*4), dtype=np.int)\n"
     ]
    }
   ],
   "source": [
    "new = np.empty((36000, 92*4), dtype=np.int)"
   ]
  },
  {
   "cell_type": "code",
   "execution_count": 7,
   "metadata": {},
   "outputs": [],
   "source": [
    "for i in range(92):\n",
    "    new[:,i*4] = df[:,i*7+1]\n",
    "    new[:,i*4+1] = df[:,i*7+2]\n",
    "\n",
    "    new[:,i*4+2] = df[:,i*7+3] - df[:,i*7+1]\n",
    "    new[:,i*4+3] = df[:,i*7+4] - df[:,i*7+2]"
   ]
  },
  {
   "cell_type": "code",
   "execution_count": 8,
   "metadata": {},
   "outputs": [],
   "source": [
    "pd.DataFrame(new).to_csv(out_path,header=False,index=False)"
   ]
  },
  {
   "cell_type": "code",
   "execution_count": 9,
   "metadata": {},
   "outputs": [],
   "source": [
    "# camera processing\n",
    "cam = pd.read_csv(camera_path, header=None, dtype=float).to_numpy()\n",
    "cam[cam==0] = np.nan"
   ]
  },
  {
   "cell_type": "code",
   "execution_count": 10,
   "metadata": {},
   "outputs": [],
   "source": [
    "new_cam = np.zeros(cam.shape)"
   ]
  },
  {
   "cell_type": "code",
   "execution_count": 11,
   "metadata": {},
   "outputs": [],
   "source": [
    "new_cam[:,:32] = cam[:,:32] -1\n",
    "new_cam[:,32:62] = cam[:,32:62] + 2\n",
    "new_cam[:,62:] = cam[:,62:] + 5"
   ]
  },
  {
   "cell_type": "code",
   "execution_count": 12,
   "metadata": {},
   "outputs": [],
   "source": [
    "new_cam = np.nan_to_num(new_cam, nan=-1)\n",
    "new_cam = new_cam.astype(int)"
   ]
  },
  {
   "cell_type": "code",
   "execution_count": 13,
   "metadata": {},
   "outputs": [
    {
     "data": {
      "text/plain": [
       "array([[ 1,  0,  2,  1,  1,  1, -1,  0,  0,  0, -1,  0,  0,  0,  0,  1,\n",
       "         0,  0, -1,  0,  0,  1,  0,  1,  1,  1,  1,  0,  2,  0,  0,  1,\n",
       "         3,  5,  4,  5,  3,  5, -1,  3,  4,  3,  4, -1,  3,  5,  3,  3,\n",
       "         3,  3,  4,  4, -1,  5,  5, -1,  4,  4,  3,  4,  4,  5,  7,  7,\n",
       "         6,  7,  7,  6,  7,  7,  7,  6,  8,  7,  6,  7,  7,  7,  7,  7,\n",
       "         7,  8,  7,  6,  6,  6,  8, -1,  7,  8,  6,  6],\n",
       "       [ 1,  0,  2,  1,  1,  1, -1,  0,  0,  0, -1,  0,  0,  0,  0,  1,\n",
       "         0,  0, -1,  0,  0,  1,  0,  1,  1,  1,  1,  0,  2,  0,  0,  1,\n",
       "         3,  5,  4,  5,  3,  5, -1,  3,  4,  3,  4, -1,  3,  5,  3,  3,\n",
       "         3,  3,  4,  4, -1,  5,  5, -1,  4,  4,  3,  4,  4,  5,  7,  7,\n",
       "         6,  7,  7,  6,  7,  7,  7,  6,  8,  7,  6,  7,  7,  7,  7,  7,\n",
       "         7,  8,  7,  6,  6,  6,  8, -1,  7,  8,  6,  6],\n",
       "       [ 1,  0,  2,  1,  1,  1, -1,  0,  0,  0, -1,  0,  0,  0,  0,  1,\n",
       "         0,  0, -1,  0,  0,  1,  0,  1,  1,  1,  1,  0,  2,  0,  0,  1,\n",
       "         3,  5,  4,  5,  3,  5, -1,  3,  4,  3,  4, -1,  3,  5,  3,  3,\n",
       "         3,  3,  4,  4, -1,  5,  5, -1,  4,  4,  3,  4,  4,  5,  7,  7,\n",
       "         6,  7,  7,  6,  7,  7,  7,  6,  8,  7,  6,  7,  7,  7,  7,  7,\n",
       "         7,  8,  7,  6,  6,  6,  8, -1,  7,  8,  6,  6],\n",
       "       [ 1,  0,  2,  1,  1,  1, -1,  0,  0,  0, -1,  0,  0,  0,  0,  1,\n",
       "         0,  0, -1,  0,  0,  1,  0,  1,  1,  1,  1,  0,  2,  0,  0,  1,\n",
       "         3,  5,  4,  5,  3,  5, -1,  3,  4,  3,  4, -1,  3,  5,  3,  3,\n",
       "         3,  3,  4,  4, -1,  5,  5, -1,  4,  4,  3,  4,  4,  5,  7,  7,\n",
       "         6,  7,  7,  6,  7,  7,  7,  6,  8,  7,  6,  7,  7,  7,  7,  7,\n",
       "         7,  8,  7,  6,  6,  6,  8, -1,  7,  8,  6,  6],\n",
       "       [ 1,  0,  2,  1,  1,  1, -1,  0,  0,  0, -1,  0,  0,  0,  0,  1,\n",
       "         0,  0, -1,  0,  0,  1,  0,  1,  1,  1,  1,  0,  2,  0,  0,  1,\n",
       "         3,  5,  4,  5,  3,  5, -1,  3,  4,  3,  4, -1,  3,  5,  3,  3,\n",
       "         3,  3,  4,  4, -1,  5,  5, -1,  4,  4,  3,  4,  4,  5,  7,  7,\n",
       "         6,  7,  7,  6,  7,  7,  7,  6,  8,  7,  6,  7,  7,  7,  7,  7,\n",
       "         7,  8,  7,  6,  6,  6,  8, -1,  7,  8,  6,  6],\n",
       "       [ 1,  0,  2,  1,  1,  1, -1,  0,  0,  0, -1,  0,  0,  0,  0,  1,\n",
       "         0,  0, -1,  0,  0,  1,  0,  1,  1,  1,  1,  0,  2,  0,  0,  1,\n",
       "         3,  5,  4,  5,  3,  5, -1,  3,  4,  3,  4, -1,  3,  5,  3,  3,\n",
       "         3,  3,  4,  4, -1,  5,  5, -1,  4,  4,  3,  4,  4,  5,  7,  7,\n",
       "         6,  7,  7,  6,  7,  7,  7,  6,  8,  7,  6,  7,  7,  7,  7,  7,\n",
       "         7,  8,  7,  6,  6,  6,  8, -1,  7,  8,  6,  6],\n",
       "       [ 1,  0,  2,  1,  1,  1, -1,  0,  0,  0, -1,  0,  0,  0,  0,  1,\n",
       "         0,  0, -1,  0,  0,  1,  0,  1,  1,  1,  1,  0,  2,  0,  0,  1,\n",
       "         3,  5,  4,  5,  3,  5, -1,  3,  4,  3,  4, -1,  3,  5,  3,  3,\n",
       "         3,  3,  4,  4, -1,  5,  5, -1,  4,  4,  3,  4,  4,  5,  7,  7,\n",
       "         6,  7,  7,  6,  7,  7,  7,  6,  8,  7,  6,  7,  7,  7,  7,  7,\n",
       "         7,  8,  7,  6,  6,  6,  8, -1,  7,  8,  6,  6],\n",
       "       [ 1,  0,  2,  1,  1,  1, -1,  0,  0,  0, -1,  0,  0,  0,  0,  1,\n",
       "         0,  0, -1,  0,  0,  1,  0,  1,  1,  1,  1,  0,  2,  0,  0,  1,\n",
       "         3,  5,  4,  5,  3,  5, -1,  3,  4,  3,  4, -1,  3,  5,  3,  3,\n",
       "         3,  3,  4,  4, -1,  5,  5, -1,  4,  4,  3,  4,  4,  5,  7,  7,\n",
       "         6,  7,  7,  6,  7,  7,  7,  6,  8,  7,  6,  7,  7,  7,  7,  7,\n",
       "         7,  8,  7,  6,  6,  6,  8, -1,  7,  8,  6,  6],\n",
       "       [ 1,  0,  2,  1,  1,  1, -1,  0,  0,  0, -1,  0,  0,  0,  0,  1,\n",
       "         0,  0, -1,  0,  0,  1,  0,  1,  1,  1,  1,  0,  2,  0,  0,  1,\n",
       "         3,  5,  4,  5,  3,  5, -1,  3,  4,  3,  4, -1,  3,  5,  3,  3,\n",
       "         3,  3,  4,  4, -1,  5,  5, -1,  4,  4,  3,  4,  4,  5,  7,  7,\n",
       "         6,  7,  7,  6,  7,  7,  7,  6,  8,  7,  6,  7,  7,  7,  7,  7,\n",
       "         7,  8,  7,  6,  6,  6,  8,  8,  7,  8,  6,  6],\n",
       "       [ 1,  0,  2,  1,  1,  1, -1,  0,  0,  0, -1,  0,  0,  0,  0,  1,\n",
       "         0,  0, -1,  0,  0,  1,  0,  1,  1,  1,  1,  0,  2,  0,  0,  1,\n",
       "         3,  5,  4,  5,  3,  5, -1,  3,  4,  3,  4, -1,  3,  5,  3,  3,\n",
       "         3,  3,  4,  4, -1,  5,  5, -1,  4,  4,  3,  4,  4,  5,  7,  7,\n",
       "         6,  7,  7,  6,  7,  7,  7,  6,  8,  7,  6,  7,  7,  7,  7,  7,\n",
       "         7,  8,  7,  6,  6,  6,  8,  8,  7,  8,  6,  6]])"
      ]
     },
     "execution_count": 13,
     "metadata": {},
     "output_type": "execute_result"
    }
   ],
   "source": [
    "new_cam[-10:]"
   ]
  },
  {
   "cell_type": "code",
   "execution_count": 15,
   "metadata": {},
   "outputs": [],
   "source": [
    "pd.DataFrame(new_cam).to_csv(out_camera_path,header=False,index=False)"
   ]
  },
  {
   "cell_type": "code",
   "execution_count": null,
   "metadata": {},
   "outputs": [],
   "source": []
  }
 ],
 "metadata": {
  "interpreter": {
   "hash": "916dbcbb3f70747c44a77c7bcd40155683ae19c65e1c03b4aa3499c5328201f1"
  },
  "kernelspec": {
   "display_name": "Python 3.8.10 64-bit",
   "language": "python",
   "name": "python3"
  },
  "language_info": {
   "codemirror_mode": {
    "name": "ipython",
    "version": 3
   },
   "file_extension": ".py",
   "mimetype": "text/x-python",
   "name": "python",
   "nbconvert_exporter": "python",
   "pygments_lexer": "ipython3",
   "version": "3.8.10"
  },
  "orig_nbformat": 4
 },
 "nbformat": 4,
 "nbformat_minor": 2
}
