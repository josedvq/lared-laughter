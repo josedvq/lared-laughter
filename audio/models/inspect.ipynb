{
 "cells": [
  {
   "cell_type": "code",
   "execution_count": 13,
   "metadata": {},
   "outputs": [],
   "source": [
    "import torch\n",
    "from resnet import ResNetBigger\n",
    "from segmentation import AudioSegmentationResnet\n",
    "from torchsummary import summary"
   ]
  },
  {
   "cell_type": "code",
   "execution_count": 7,
   "metadata": {},
   "outputs": [
    {
     "name": "stdout",
     "output_type": "stream",
     "text": [
      "training with dropout=0.5\n"
     ]
    }
   ],
   "source": [
    "r = ResNetBigger(linear_layer_size=64, filter_sizes=[64,32,16,16])\n",
    "s = AudioSegmentationResnet(linear_layer_size=64, filter_sizes=[64,32,16,16])"
   ]
  },
  {
   "cell_type": "code",
   "execution_count": 8,
   "metadata": {},
   "outputs": [
    {
     "name": "stdout",
     "output_type": "stream",
     "text": [
      "----------------------------------------------------------------\n",
      "        Layer (type)               Output Shape         Param #\n",
      "================================================================\n",
      "            Conv2d-1         [-1, 64, 130, 128]             576\n",
      "       BatchNorm2d-2         [-1, 64, 130, 128]             128\n",
      "            Conv2d-3         [-1, 64, 130, 128]          36,928\n",
      "       BatchNorm2d-4         [-1, 64, 130, 128]             128\n",
      "            Conv2d-5         [-1, 64, 130, 128]          36,928\n",
      "       BatchNorm2d-6         [-1, 64, 130, 128]             128\n",
      "     ResidualBlock-7         [-1, 64, 130, 128]               0\n",
      "            Conv2d-8         [-1, 64, 130, 128]          36,928\n",
      "       BatchNorm2d-9         [-1, 64, 130, 128]             128\n",
      "           Conv2d-10         [-1, 64, 130, 128]          36,928\n",
      "      BatchNorm2d-11         [-1, 64, 130, 128]             128\n",
      "    ResidualBlock-12         [-1, 64, 130, 128]               0\n",
      "           Conv2d-13           [-1, 32, 65, 64]          18,464\n",
      "      BatchNorm2d-14           [-1, 32, 65, 64]              64\n",
      "           Conv2d-15           [-1, 32, 65, 64]           9,248\n",
      "      BatchNorm2d-16           [-1, 32, 65, 64]              64\n",
      "           Conv2d-17           [-1, 32, 65, 64]           2,048\n",
      "      BatchNorm2d-18           [-1, 32, 65, 64]              64\n",
      "    ResidualBlock-19           [-1, 32, 65, 64]               0\n",
      "           Conv2d-20           [-1, 32, 65, 64]           9,248\n",
      "      BatchNorm2d-21           [-1, 32, 65, 64]              64\n",
      "           Conv2d-22           [-1, 32, 65, 64]           9,248\n",
      "      BatchNorm2d-23           [-1, 32, 65, 64]              64\n",
      "    ResidualBlock-24           [-1, 32, 65, 64]               0\n",
      "           Conv2d-25           [-1, 16, 33, 32]           4,624\n",
      "      BatchNorm2d-26           [-1, 16, 33, 32]              32\n",
      "           Conv2d-27           [-1, 16, 33, 32]           2,320\n",
      "      BatchNorm2d-28           [-1, 16, 33, 32]              32\n",
      "           Conv2d-29           [-1, 16, 33, 32]             512\n",
      "      BatchNorm2d-30           [-1, 16, 33, 32]              32\n",
      "    ResidualBlock-31           [-1, 16, 33, 32]               0\n",
      "           Conv2d-32           [-1, 16, 33, 32]           2,320\n",
      "      BatchNorm2d-33           [-1, 16, 33, 32]              32\n",
      "           Conv2d-34           [-1, 16, 33, 32]           2,320\n",
      "      BatchNorm2d-35           [-1, 16, 33, 32]              32\n",
      "    ResidualBlock-36           [-1, 16, 33, 32]               0\n",
      "           Conv2d-37           [-1, 16, 17, 16]           2,320\n",
      "      BatchNorm2d-38           [-1, 16, 17, 16]              32\n",
      "           Conv2d-39           [-1, 16, 17, 16]           2,320\n",
      "      BatchNorm2d-40           [-1, 16, 17, 16]              32\n",
      "           Conv2d-41           [-1, 16, 17, 16]             256\n",
      "      BatchNorm2d-42           [-1, 16, 17, 16]              32\n",
      "    ResidualBlock-43           [-1, 16, 17, 16]               0\n",
      "           Conv2d-44           [-1, 16, 17, 16]           2,320\n",
      "      BatchNorm2d-45           [-1, 16, 17, 16]              32\n",
      "           Conv2d-46           [-1, 16, 17, 16]           2,320\n",
      "      BatchNorm2d-47           [-1, 16, 17, 16]              32\n",
      "    ResidualBlock-48           [-1, 16, 17, 16]               0\n",
      "           Conv2d-49             [-1, 8, 17, 8]           1,160\n",
      "      BatchNorm2d-50             [-1, 8, 17, 8]              16\n",
      "           Conv2d-51             [-1, 8, 17, 8]             584\n",
      "      BatchNorm2d-52             [-1, 8, 17, 8]              16\n",
      "           Conv2d-53             [-1, 8, 17, 8]             128\n",
      "      BatchNorm2d-54             [-1, 8, 17, 8]              16\n",
      "    ResidualBlock-55             [-1, 8, 17, 8]               0\n",
      "           Conv2d-56             [-1, 1, 17, 4]              73\n",
      "      BatchNorm2d-57             [-1, 1, 17, 4]               2\n",
      "           Conv2d-58             [-1, 1, 17, 4]              10\n",
      "      BatchNorm2d-59             [-1, 1, 17, 4]               2\n",
      "           Conv2d-60             [-1, 1, 17, 4]               8\n",
      "      BatchNorm2d-61             [-1, 1, 17, 4]               2\n",
      "    ResidualBlock-62             [-1, 1, 17, 4]               0\n",
      "        AvgPool2d-63             [-1, 1, 17, 1]               0\n",
      "          Flatten-64                [-1, 1, 17]               0\n",
      "         Upsample-65                [-1, 1, 90]               0\n",
      "================================================================\n",
      "Total params: 221,473\n",
      "Trainable params: 221,473\n",
      "Non-trainable params: 0\n",
      "----------------------------------------------------------------\n",
      "Input size (MB): 0.06\n",
      "Forward/backward pass size (MB): 111.70\n",
      "Params size (MB): 0.84\n",
      "Estimated Total Size (MB): 112.60\n",
      "----------------------------------------------------------------\n"
     ]
    }
   ],
   "source": [
    "summary(s, input_size=(1, 130, 128), device='cpu')\n",
    "# input is (batch_size, time, num_features)"
   ]
  },
  {
   "cell_type": "code",
   "execution_count": null,
   "metadata": {},
   "outputs": [],
   "source": []
  },
  {
   "cell_type": "code",
   "execution_count": null,
   "metadata": {},
   "outputs": [],
   "source": []
  },
  {
   "cell_type": "code",
   "execution_count": null,
   "metadata": {},
   "outputs": [],
   "source": []
  }
 ],
 "metadata": {
  "interpreter": {
   "hash": "916dbcbb3f70747c44a77c7bcd40155683ae19c65e1c03b4aa3499c5328201f1"
  },
  "kernelspec": {
   "display_name": "Python 3.8.10 64-bit",
   "language": "python",
   "name": "python3"
  },
  "language_info": {
   "codemirror_mode": {
    "name": "ipython",
    "version": 3
   },
   "file_extension": ".py",
   "mimetype": "text/x-python",
   "name": "python",
   "nbconvert_exporter": "python",
   "pygments_lexer": "ipython3",
   "version": "3.8.10"
  },
  "orig_nbformat": 4
 },
 "nbformat": 4,
 "nbformat_minor": 2
}
