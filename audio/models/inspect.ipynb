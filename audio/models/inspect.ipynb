{
 "cells": [
  {
   "cell_type": "code",
   "execution_count": 1,
   "metadata": {},
   "outputs": [],
   "source": [
    "import torch\n",
    "from lared_laughter.audio.models.resnet import get_pretrained_body, AudioSegmentationHead\n",
    "from torchinfo import summary"
   ]
  },
  {
   "cell_type": "code",
   "execution_count": 2,
   "metadata": {},
   "outputs": [
    {
     "name": "stdout",
     "output_type": "stream",
     "text": [
      "loaded pre-trained model\n",
      "missing keys []\n",
      "unexpected keys ['bn2.weight', 'bn2.bias', 'bn2.running_mean', 'bn2.running_var', 'bn2.num_batches_tracked', 'bn3.weight', 'bn3.bias', 'bn3.running_mean', 'bn3.running_var', 'bn3.num_batches_tracked', 'linear1.weight', 'linear1.bias', 'linear2.weight', 'linear2.bias']\n"
     ]
    }
   ],
   "source": [
    "e = get_pretrained_body()\n",
    "s = AudioSegmentationHead(num_channels=16, output_len=45)"
   ]
  },
  {
   "cell_type": "code",
   "execution_count": null,
   "metadata": {},
   "outputs": [],
   "source": []
  },
  {
   "cell_type": "code",
   "execution_count": 3,
   "metadata": {},
   "outputs": [
    {
     "data": {
      "text/plain": [
       "==========================================================================================\n",
       "Layer (type:depth-idx)                   Output Shape              Param #\n",
       "==========================================================================================\n",
       "ResNetBody                               [10, 16, 9, 16]           --\n",
       "├─Conv2d: 1-1                            [10, 64, 65, 128]         (576)\n",
       "├─BatchNorm2d: 1-2                       [10, 64, 65, 128]         (128)\n",
       "├─Sequential: 1-3                        [10, 64, 65, 128]         --\n",
       "│    └─ResidualBlock: 2-1                [10, 64, 65, 128]         --\n",
       "│    │    └─Conv2d: 3-1                  [10, 64, 65, 128]         (36,928)\n",
       "│    │    └─BatchNorm2d: 3-2             [10, 64, 65, 128]         (128)\n",
       "│    │    └─Conv2d: 3-3                  [10, 64, 65, 128]         (36,928)\n",
       "│    │    └─BatchNorm2d: 3-4             [10, 64, 65, 128]         (128)\n",
       "│    │    └─Sequential: 3-5              [10, 64, 65, 128]         --\n",
       "│    └─ResidualBlock: 2-2                [10, 64, 65, 128]         --\n",
       "│    │    └─Conv2d: 3-6                  [10, 64, 65, 128]         (36,928)\n",
       "│    │    └─BatchNorm2d: 3-7             [10, 64, 65, 128]         (128)\n",
       "│    │    └─Conv2d: 3-8                  [10, 64, 65, 128]         (36,928)\n",
       "│    │    └─BatchNorm2d: 3-9             [10, 64, 65, 128]         (128)\n",
       "│    │    └─Sequential: 3-10             [10, 64, 65, 128]         --\n",
       "├─Sequential: 1-4                        [10, 32, 33, 64]          --\n",
       "│    └─ResidualBlock: 2-3                [10, 32, 33, 64]          --\n",
       "│    │    └─Conv2d: 3-11                 [10, 32, 33, 64]          (18,464)\n",
       "│    │    └─BatchNorm2d: 3-12            [10, 32, 33, 64]          (64)\n",
       "│    │    └─Conv2d: 3-13                 [10, 32, 33, 64]          (9,248)\n",
       "│    │    └─BatchNorm2d: 3-14            [10, 32, 33, 64]          (64)\n",
       "│    │    └─Sequential: 3-15             [10, 32, 33, 64]          (2,112)\n",
       "│    └─ResidualBlock: 2-4                [10, 32, 33, 64]          --\n",
       "│    │    └─Conv2d: 3-16                 [10, 32, 33, 64]          (9,248)\n",
       "│    │    └─BatchNorm2d: 3-17            [10, 32, 33, 64]          (64)\n",
       "│    │    └─Conv2d: 3-18                 [10, 32, 33, 64]          (9,248)\n",
       "│    │    └─BatchNorm2d: 3-19            [10, 32, 33, 64]          (64)\n",
       "│    │    └─Sequential: 3-20             [10, 32, 33, 64]          --\n",
       "├─Sequential: 1-5                        [10, 16, 17, 32]          --\n",
       "│    └─ResidualBlock: 2-5                [10, 16, 17, 32]          --\n",
       "│    │    └─Conv2d: 3-21                 [10, 16, 17, 32]          (4,624)\n",
       "│    │    └─BatchNorm2d: 3-22            [10, 16, 17, 32]          (32)\n",
       "│    │    └─Conv2d: 3-23                 [10, 16, 17, 32]          (2,320)\n",
       "│    │    └─BatchNorm2d: 3-24            [10, 16, 17, 32]          (32)\n",
       "│    │    └─Sequential: 3-25             [10, 16, 17, 32]          (544)\n",
       "│    └─ResidualBlock: 2-6                [10, 16, 17, 32]          --\n",
       "│    │    └─Conv2d: 3-26                 [10, 16, 17, 32]          (2,320)\n",
       "│    │    └─BatchNorm2d: 3-27            [10, 16, 17, 32]          (32)\n",
       "│    │    └─Conv2d: 3-28                 [10, 16, 17, 32]          (2,320)\n",
       "│    │    └─BatchNorm2d: 3-29            [10, 16, 17, 32]          (32)\n",
       "│    │    └─Sequential: 3-30             [10, 16, 17, 32]          --\n",
       "├─Sequential: 1-6                        [10, 16, 9, 16]           --\n",
       "│    └─ResidualBlock: 2-7                [10, 16, 9, 16]           --\n",
       "│    │    └─Conv2d: 3-31                 [10, 16, 9, 16]           (2,320)\n",
       "│    │    └─BatchNorm2d: 3-32            [10, 16, 9, 16]           (32)\n",
       "│    │    └─Conv2d: 3-33                 [10, 16, 9, 16]           (2,320)\n",
       "│    │    └─BatchNorm2d: 3-34            [10, 16, 9, 16]           (32)\n",
       "│    │    └─Sequential: 3-35             [10, 16, 9, 16]           (288)\n",
       "│    └─ResidualBlock: 2-8                [10, 16, 9, 16]           --\n",
       "│    │    └─Conv2d: 3-36                 [10, 16, 9, 16]           (2,320)\n",
       "│    │    └─BatchNorm2d: 3-37            [10, 16, 9, 16]           (32)\n",
       "│    │    └─Conv2d: 3-38                 [10, 16, 9, 16]           (2,320)\n",
       "│    │    └─BatchNorm2d: 3-39            [10, 16, 9, 16]           (32)\n",
       "│    │    └─Sequential: 3-40             [10, 16, 9, 16]           --\n",
       "==========================================================================================\n",
       "Total params: 219,456\n",
       "Trainable params: 0\n",
       "Non-trainable params: 219,456\n",
       "Total mult-adds (G): 13.44\n",
       "==========================================================================================\n",
       "Input size (MB): 0.33\n",
       "Forward/backward pass size (MB): 488.86\n",
       "Params size (MB): 0.88\n",
       "Estimated Total Size (MB): 490.07\n",
       "=========================================================================================="
      ]
     },
     "execution_count": 3,
     "metadata": {},
     "output_type": "execute_result"
    }
   ],
   "source": [
    "summary(e, input_size=(10, 1, 65, 128), device='cuda')"
   ]
  },
  {
   "cell_type": "code",
   "execution_count": 4,
   "metadata": {},
   "outputs": [
    {
     "name": "stderr",
     "output_type": "stream",
     "text": [
      "/home/jose/miniconda3/lib/python3.8/site-packages/torch/nn/functional.py:3631: UserWarning: Default upsampling behavior when mode=linear is changed to align_corners=False since 0.4.0. Please specify align_corners=True if the old behavior is desired. See the documentation of nn.Upsample for details.\n",
      "  warnings.warn(\n"
     ]
    },
    {
     "data": {
      "text/plain": [
       "==========================================================================================\n",
       "Layer (type:depth-idx)                   Output Shape              Param #\n",
       "==========================================================================================\n",
       "AudioSegmentationHead                    [10, 45]                  --\n",
       "├─Sequential: 1-1                        [10, 1, 9, 1]             --\n",
       "│    └─ResidualBlock: 2-1                [10, 8, 9, 8]             --\n",
       "│    │    └─Conv2d: 3-1                  [10, 8, 9, 8]             1,160\n",
       "│    │    └─BatchNorm2d: 3-2             [10, 8, 9, 8]             16\n",
       "│    │    └─Conv2d: 3-3                  [10, 8, 9, 8]             584\n",
       "│    │    └─BatchNorm2d: 3-4             [10, 8, 9, 8]             16\n",
       "│    │    └─Sequential: 3-5              [10, 8, 9, 8]             144\n",
       "│    └─ResidualBlock: 2-2                [10, 1, 9, 4]             --\n",
       "│    │    └─Conv2d: 3-6                  [10, 1, 9, 4]             73\n",
       "│    │    └─BatchNorm2d: 3-7             [10, 1, 9, 4]             2\n",
       "│    │    └─Conv2d: 3-8                  [10, 1, 9, 4]             10\n",
       "│    │    └─BatchNorm2d: 3-9             [10, 1, 9, 4]             2\n",
       "│    │    └─Sequential: 3-10             [10, 1, 9, 4]             10\n",
       "│    └─AvgPool2d: 2-3                    [10, 1, 9, 1]             --\n",
       "├─Sequential: 1-2                        [10, 1, 45]               --\n",
       "│    └─Flatten: 2-4                      [10, 1, 9]                --\n",
       "│    └─Upsample: 2-5                     [10, 1, 45]               --\n",
       "==========================================================================================\n",
       "Total params: 2,017\n",
       "Trainable params: 2,017\n",
       "Non-trainable params: 0\n",
       "Total mult-adds (M): 1.38\n",
       "==========================================================================================\n",
       "Input size (MB): 0.09\n",
       "Forward/backward pass size (MB): 0.29\n",
       "Params size (MB): 0.01\n",
       "Estimated Total Size (MB): 0.39\n",
       "=========================================================================================="
      ]
     },
     "execution_count": 4,
     "metadata": {},
     "output_type": "execute_result"
    }
   ],
   "source": [
    "summary(s, input_size=(10, 16, 9, 16), device='cuda')\n",
    "# input is (batch_size, time, num_features)"
   ]
  },
  {
   "cell_type": "code",
   "execution_count": null,
   "metadata": {},
   "outputs": [],
   "source": []
  },
  {
   "cell_type": "code",
   "execution_count": null,
   "metadata": {},
   "outputs": [],
   "source": []
  },
  {
   "cell_type": "code",
   "execution_count": null,
   "metadata": {},
   "outputs": [],
   "source": []
  }
 ],
 "metadata": {
  "kernelspec": {
   "display_name": "Python 3.8.13 ('base')",
   "language": "python",
   "name": "python3"
  },
  "language_info": {
   "codemirror_mode": {
    "name": "ipython",
    "version": 3
   },
   "file_extension": ".py",
   "mimetype": "text/x-python",
   "name": "python",
   "nbconvert_exporter": "python",
   "pygments_lexer": "ipython3",
   "version": "3.8.13"
  },
  "orig_nbformat": 4,
  "vscode": {
   "interpreter": {
    "hash": "7ff63645dd16f55240e07095d3c46f4fac3f89ef16802cfaceca713f6cf38dfb"
   }
  }
 },
 "nbformat": 4,
 "nbformat_minor": 2
}
