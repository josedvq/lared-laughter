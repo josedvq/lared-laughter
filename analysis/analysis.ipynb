{
 "cells": [
  {
   "cell_type": "code",
   "execution_count": 36,
   "source": [
    "import os\n",
    "from pathlib import Path\n",
    "import json\n",
    "import pandas as pd\n",
    "import numpy as np\n",
    "from sklearn.metrics import cohen_kappa_score"
   ],
   "outputs": [],
   "metadata": {}
  },
  {
   "cell_type": "code",
   "execution_count": 7,
   "source": [
    "# open examples\n",
    "pilot_path = '/home/jose/drive/data/lared_laughter/pilot2'\n",
    "laughter_examples_df = pd.read_csv(os.path.join(pilot_path, 'laughter_examples', 'examples.csv'), index_col=0)\n",
    "laughter_examples_df = laughter_examples_df[laughter_examples_df['rect'].notnull()]\n",
    "speech_examples_df = pd.read_csv(os.path.join(pilot_path, 'speech_examples', 'examples.csv'), index_col=0)\n",
    "speech_examples_df = speech_examples_df[speech_examples_df['rect'].notnull()]"
   ],
   "outputs": [],
   "metadata": {}
  },
  {
   "cell_type": "code",
   "execution_count": 9,
   "source": [
    "# open pilot json\n",
    "pilot = json.load(open('../pilot.covfee.json'))"
   ],
   "outputs": [],
   "metadata": {}
  },
  {
   "cell_type": "code",
   "execution_count": 18,
   "source": [
    "# open results\n",
    "results_path = os.path.join(pilot_path, 'results/csv_download')\n",
    "p = Path(results_path)\n"
   ],
   "outputs": [],
   "metadata": {}
  },
  {
   "cell_type": "code",
   "execution_count": 19,
   "source": [],
   "outputs": [],
   "metadata": {}
  },
  {
   "cell_type": "code",
   "execution_count": 23,
   "source": [
    "hit_to_hittype = {\n",
    "    '2aa4cfd7a395f69d3e67a074bf63d3bb8f1ca0576daad5c22245f66e5afbf0da': 0,\n",
    "    'ebad2c51dc19502f1c8a4bad375c4e07087449b34790de075cb9b75d0ff548a7': 0,\n",
    "    'd4fbeffb2346462b59e7cb8ad392552c8ca2a44e0341892b489090d129b74e1d': 1,\n",
    "    '3f48cb8025cd905c1a0f7eda7e70e93a3122a8310af6dfc1411d69c36ee5c83f': 2\n",
    "}\n",
    "old_hits = [\n",
    "    '2aa4cfd7a395f69d3e67a074bf63d3bb8f1ca0576daad5c22245f66e5afbf0da',\n",
    "    'ebad2c51dc19502f1c8a4bad375c4e07087449b34790de075cb9b75d0ff548a7',\n",
    "    'd4fbeffb2346462b59e7cb8ad392552c8ca2a44e0341892b489090d129b74e1d'\n",
    "]"
   ],
   "outputs": [],
   "metadata": {}
  },
  {
   "cell_type": "code",
   "execution_count": 33,
   "source": [
    "continuous_annotations = []\n",
    "results_dict = []\n",
    "for dir in p.iterdir():\n",
    "    hit_id = os.path.basename(dir)\n",
    "    hit_type = hit_to_hittype[hit_id]\n",
    "\n",
    "    num_segments = 0\n",
    "    for csv_file in dir.glob('*.json'):\n",
    "        # get example index\n",
    "        fname = os.path.basename(csv_file)\n",
    "        if 'Rating' not in fname or 'Example' in fname or 'Calibration' in fname:\n",
    "            continue\n",
    "        index_in_hit = int(fname.split('_')[0])\n",
    "        if hit_id in old_hits:\n",
    "            index_in_hit += 7\n",
    "        example_url = pilot['hits'][hit_type]['tasks'][index_in_hit]['media']['url']\n",
    "        example_id = example_url.split('/')[-1].split('_')[1]\n",
    "\n",
    "        json_res = json.load(open(csv_file))['response']\n",
    "\n",
    "\n",
    "        results_dict.append({\n",
    "            'person': None, \n",
    "            'hit_id': hit_id, \n",
    "            'example_id': example_id,\n",
    "            # 'pressed_key': False,\n",
    "            # 'onset',\n",
    "            # 'offset',\n",
    "            'is_laughter': json_res['laughter'],\n",
    "            'confidence': json_res['confidence'],\n",
    "            'intensity': json_res['intensity']\n",
    "        })\n",
    "        num_segments += 1\n",
    "    print(f'HIT {hit_id}, segments: {num_segments}')"
   ],
   "outputs": [
    {
     "output_type": "stream",
     "name": "stdout",
     "text": [
      "HIT 2aa4cfd7a395f69d3e67a074bf63d3bb8f1ca0576daad5c22245f66e5afbf0da, segments: 120\n",
      "HIT ebad2c51dc19502f1c8a4bad375c4e07087449b34790de075cb9b75d0ff548a7, segments: 40\n",
      "HIT d4fbeffb2346462b59e7cb8ad392552c8ca2a44e0341892b489090d129b74e1d, segments: 120\n",
      "HIT 3f48cb8025cd905c1a0f7eda7e70e93a3122a8310af6dfc1411d69c36ee5c83f, segments: 120\n"
     ]
    }
   ],
   "metadata": {}
  },
  {
   "cell_type": "code",
   "execution_count": 34,
   "source": [
    "results = pd.DataFrame.from_dict(results_dict)\n",
    "len(results)"
   ],
   "outputs": [
    {
     "output_type": "execute_result",
     "data": {
      "text/plain": [
       "400"
      ]
     },
     "metadata": {},
     "execution_count": 34
    }
   ],
   "metadata": {}
  },
  {
   "cell_type": "code",
   "execution_count": 37,
   "source": [
    "results.head()"
   ],
   "outputs": [
    {
     "output_type": "execute_result",
     "data": {
      "text/plain": [
       "  person                                             hit_id  \\\n",
       "0   None  2aa4cfd7a395f69d3e67a074bf63d3bb8f1ca0576daad5...   \n",
       "1   None  2aa4cfd7a395f69d3e67a074bf63d3bb8f1ca0576daad5...   \n",
       "2   None  2aa4cfd7a395f69d3e67a074bf63d3bb8f1ca0576daad5...   \n",
       "3   None  2aa4cfd7a395f69d3e67a074bf63d3bb8f1ca0576daad5...   \n",
       "4   None  2aa4cfd7a395f69d3e67a074bf63d3bb8f1ca0576daad5...   \n",
       "\n",
       "                                          example_id  is_laughter  confidence  \\\n",
       "0  6272e578b6176b13435403979686b7cc00c746a1b37ecb...        False           7   \n",
       "1  b37bcb0997537153db15add71abd5d6a50864ac9578d7c...         True           7   \n",
       "2  c9476c7699c4a5152313994d31ae63059d373d55a12948...         True           7   \n",
       "3  0657210cea7baa9d453f7bc16852ff5fdcdd6091a2bb2f...         True           6   \n",
       "4  fe70ff90d467f3dccf863b11c9c6b6abdb11efeb727e1f...        False           3   \n",
       "\n",
       "   intensity  \n",
       "0          4  \n",
       "1          6  \n",
       "2          3  \n",
       "3          3  \n",
       "4          3  "
      ],
      "text/html": [
       "<div>\n",
       "<style scoped>\n",
       "    .dataframe tbody tr th:only-of-type {\n",
       "        vertical-align: middle;\n",
       "    }\n",
       "\n",
       "    .dataframe tbody tr th {\n",
       "        vertical-align: top;\n",
       "    }\n",
       "\n",
       "    .dataframe thead th {\n",
       "        text-align: right;\n",
       "    }\n",
       "</style>\n",
       "<table border=\"1\" class=\"dataframe\">\n",
       "  <thead>\n",
       "    <tr style=\"text-align: right;\">\n",
       "      <th></th>\n",
       "      <th>person</th>\n",
       "      <th>hit_id</th>\n",
       "      <th>example_id</th>\n",
       "      <th>is_laughter</th>\n",
       "      <th>confidence</th>\n",
       "      <th>intensity</th>\n",
       "    </tr>\n",
       "  </thead>\n",
       "  <tbody>\n",
       "    <tr>\n",
       "      <th>0</th>\n",
       "      <td>None</td>\n",
       "      <td>2aa4cfd7a395f69d3e67a074bf63d3bb8f1ca0576daad5...</td>\n",
       "      <td>6272e578b6176b13435403979686b7cc00c746a1b37ecb...</td>\n",
       "      <td>False</td>\n",
       "      <td>7</td>\n",
       "      <td>4</td>\n",
       "    </tr>\n",
       "    <tr>\n",
       "      <th>1</th>\n",
       "      <td>None</td>\n",
       "      <td>2aa4cfd7a395f69d3e67a074bf63d3bb8f1ca0576daad5...</td>\n",
       "      <td>b37bcb0997537153db15add71abd5d6a50864ac9578d7c...</td>\n",
       "      <td>True</td>\n",
       "      <td>7</td>\n",
       "      <td>6</td>\n",
       "    </tr>\n",
       "    <tr>\n",
       "      <th>2</th>\n",
       "      <td>None</td>\n",
       "      <td>2aa4cfd7a395f69d3e67a074bf63d3bb8f1ca0576daad5...</td>\n",
       "      <td>c9476c7699c4a5152313994d31ae63059d373d55a12948...</td>\n",
       "      <td>True</td>\n",
       "      <td>7</td>\n",
       "      <td>3</td>\n",
       "    </tr>\n",
       "    <tr>\n",
       "      <th>3</th>\n",
       "      <td>None</td>\n",
       "      <td>2aa4cfd7a395f69d3e67a074bf63d3bb8f1ca0576daad5...</td>\n",
       "      <td>0657210cea7baa9d453f7bc16852ff5fdcdd6091a2bb2f...</td>\n",
       "      <td>True</td>\n",
       "      <td>6</td>\n",
       "      <td>3</td>\n",
       "    </tr>\n",
       "    <tr>\n",
       "      <th>4</th>\n",
       "      <td>None</td>\n",
       "      <td>2aa4cfd7a395f69d3e67a074bf63d3bb8f1ca0576daad5...</td>\n",
       "      <td>fe70ff90d467f3dccf863b11c9c6b6abdb11efeb727e1f...</td>\n",
       "      <td>False</td>\n",
       "      <td>3</td>\n",
       "      <td>3</td>\n",
       "    </tr>\n",
       "  </tbody>\n",
       "</table>\n",
       "</div>"
      ]
     },
     "metadata": {},
     "execution_count": 37
    }
   ],
   "metadata": {}
  },
  {
   "cell_type": "code",
   "execution_count": 39,
   "source": [
    "results['hit_id'].unique()"
   ],
   "outputs": [
    {
     "output_type": "execute_result",
     "data": {
      "text/plain": [
       "array(['2aa4cfd7a395f69d3e67a074bf63d3bb8f1ca0576daad5c22245f66e5afbf0da',\n",
       "       'ebad2c51dc19502f1c8a4bad375c4e07087449b34790de075cb9b75d0ff548a7',\n",
       "       'd4fbeffb2346462b59e7cb8ad392552c8ca2a44e0341892b489090d129b74e1d',\n",
       "       '3f48cb8025cd905c1a0f7eda7e70e93a3122a8310af6dfc1411d69c36ee5c83f'],\n",
       "      dtype=object)"
      ]
     },
     "metadata": {},
     "execution_count": 39
    }
   ],
   "metadata": {}
  },
  {
   "cell_type": "code",
   "execution_count": 40,
   "source": [
    "def calc_kappas(var):\n",
    "    a = results[results['hit_id'] == '2aa4cfd7a395f69d3e67a074bf63d3bb8f1ca0576daad5c22245f66e5afbf0da']\n",
    "    b = results[results['hit_id'] == 'd4fbeffb2346462b59e7cb8ad392552c8ca2a44e0341892b489090d129b74e1d']\n",
    "\n",
    "    a_examples = a['example_id'].to_list()\n",
    "    b_examples = b['example_id'].to_list()\n",
    "    joint = {id: [] for id in a_examples if id in b_examples}"
   ],
   "outputs": [],
   "metadata": {}
  },
  {
   "cell_type": "code",
   "execution_count": 42,
   "source": [
    "calc_kappas()"
   ],
   "outputs": [
    {
     "output_type": "stream",
     "name": "stdout",
     "text": [
      "<class 'pandas.core.series.Series'>\n"
     ]
    }
   ],
   "metadata": {}
  },
  {
   "cell_type": "code",
   "execution_count": null,
   "source": [],
   "outputs": [],
   "metadata": {}
  }
 ],
 "metadata": {
  "orig_nbformat": 4,
  "language_info": {
   "name": "python"
  }
 },
 "nbformat": 4,
 "nbformat_minor": 2
}