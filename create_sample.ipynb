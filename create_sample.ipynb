{
 "cells": [
  {
   "cell_type": "code",
   "execution_count": 1,
   "metadata": {},
   "outputs": [],
   "source": [
    "%load_ext autoreload\n",
    "%autoreload 2"
   ]
  },
  {
   "cell_type": "code",
   "execution_count": 2,
   "metadata": {},
   "outputs": [],
   "source": [
    "import sys\n",
    "import pickle\n",
    "import json\n",
    "import copy\n",
    "import random\n",
    "from pathlib import Path\n",
    "sys.path.append('../lared')\n",
    "from data_loading.utils import get_video_caps, AudioFiles\n",
    "from dataset.example import VideoExample, AudioExample"
   ]
  },
  {
   "cell_type": "code",
   "execution_count": 3,
   "metadata": {},
   "outputs": [],
   "source": [
    "from tqdm.notebook import tqdm"
   ]
  },
  {
   "cell_type": "code",
   "execution_count": 4,
   "metadata": {
    "tags": []
   },
   "outputs": [],
   "source": [
    "from covfee.orm import Project"
   ]
  },
  {
   "cell_type": "code",
   "execution_count": 5,
   "metadata": {},
   "outputs": [],
   "source": [
    "outpath = '/home/jose/furnace/covfee-annotation'"
   ]
  },
  {
   "cell_type": "code",
   "execution_count": 6,
   "metadata": {},
   "outputs": [],
   "source": [
    "cloud_data_path = '/home/jose/drive/data/lared_laughter'\n",
    "VideoExample.init_caps(get_video_caps('/mnt/hdd/data/lared/concat'))\n",
    "audio_ds = AudioFiles('/mnt/hdd/data/lared/audio/trimmed')\n",
    "AudioExample.init_dataset(audio_ds)\n",
    "random.seed('25')"
   ]
  },
  {
   "cell_type": "code",
   "execution_count": 7,
   "metadata": {},
   "outputs": [],
   "source": [
    "examples = pickle.load(open(cloud_data_path + '/examples/examples.pkl', 'rb'))"
   ]
  },
  {
   "cell_type": "code",
   "execution_count": 8,
   "metadata": {},
   "outputs": [
    {
     "data": {
      "text/plain": [
       "{'id': 0,\n",
       " 'pid': 1,\n",
       " 'cam': 2,\n",
       " 'valid': None,\n",
       " 'ini_time': 1023.28,\n",
       " 'fin_time': 1033.08,\n",
       " 'labels': {'vad': None, 'label': None, 'vad_seg': None},\n",
       " 'rect': [273, 216, 170, 205]}"
      ]
     },
     "execution_count": 8,
     "metadata": {},
     "output_type": "execute_result"
    }
   ],
   "source": [
    "examples[0].__dict__"
   ]
  },
  {
   "cell_type": "code",
   "execution_count": 9,
   "metadata": {},
   "outputs": [
    {
     "data": {
      "text/plain": [
       "'1_0_cam_2'"
      ]
     },
     "execution_count": 9,
     "metadata": {},
     "output_type": "execute_result"
    }
   ],
   "source": [
    "examples[0].get_file_id()"
   ]
  },
  {
   "cell_type": "code",
   "execution_count": 1,
   "metadata": {},
   "outputs": [],
   "source": [
    "task = {\n",
    "    \"type\": \"QuestionnaireTask\",\n",
    "    \"form\": {\n",
    "        \"fields\": [\n",
    "            {\n",
    "                \"prompt\": \"Level of enjoyment: \",\n",
    "                \"input\": {\n",
    "                  \"type\": \"Slider\",\n",
    "                  \"defaultValue\": 50\n",
    "                }\n",
    "            }\n",
    "        ]\n",
    "    },\n",
    "    \"media\": {\n",
    "        \"type\": \"video\",\n",
    "        \"autoplay\": False,\n",
    "        \"controls\": True\n",
    "    }\n",
    "}"
   ]
  },
  {
   "cell_type": "code",
   "execution_count": 11,
   "metadata": {},
   "outputs": [],
   "source": [
    "examples = random.sample(examples, 20)"
   ]
  },
  {
   "cell_type": "code",
   "execution_count": 12,
   "metadata": {
    "tags": []
   },
   "outputs": [
    {
     "data": {
      "application/vnd.jupyter.widget-view+json": {
       "model_id": "ab69589a933347239d747da8606b9af4",
       "version_major": 2,
       "version_minor": 0
      },
      "text/plain": [
       "HBox(children=(HTML(value=''), FloatProgress(value=0.0, max=20.0), HTML(value='')))"
      ]
     },
     "metadata": {},
     "output_type": "display_data"
    },
    {
     "name": "stdout",
     "output_type": "stream",
     "text": [
      "/mnt/hdd/data/lared/audio/trimmed/chan_01_2.wav\n",
      "/mnt/hdd/data/lared/audio/trimmed/chan_02_2.wav\n",
      "/mnt/hdd/data/lared/audio/trimmed/chan_01_2.wav\n",
      "/mnt/hdd/data/lared/audio/trimmed/chan_02_2.wav\n",
      "\n"
     ]
    }
   ],
   "source": [
    "video_tasks = []\n",
    "audio_tasks = []\n",
    "av_tasks = []\n",
    "output_path = os.path.join(cloud_data_path, 'pilot')\n",
    "audio_path = os.path.join(output_path, 'audio')\n",
    "videos_path = os.path.join(output_path, 'video')\n",
    "av_path = os.path.join(output_path, 'av')\n",
    "\n",
    "for example in tqdm(examples):\n",
    "    t = copy.deepcopy(task)\n",
    "    t['media']['url'] = 'video/' + example.get_file_id() + '.mp4'\n",
    "    video_tasks.append(t)\n",
    "    t['media']['url'] = 'audio/' + example.get_file_id() + '.wav'\n",
    "    audio_tasks.append(t)\n",
    "    t['media']['url'] = 'av/' + example.get_file_id() + '.mp4'\n",
    "    av_tasks.append(t)\n",
    "    # write output files\n",
    "    example.write_video(videos_path)\n",
    "    example.write_audio(audio_path)\n",
    "    example.write_audiovisual(video_path=videos_path, audio_path=audio_path, fout_path=av_path)"
   ]
  },
  {
   "cell_type": "code",
   "execution_count": 13,
   "metadata": {},
   "outputs": [],
   "source": [
    "project = {\n",
    "    \"name\": \"Pilot\",\n",
    "    \"email\": \"example@example.com\",\n",
    "    \"hits\": [\n",
    "        {\n",
    "            \"type\": \"timeline\",\n",
    "            \"tasks\": [\n",
    "                {\n",
    "                    \"type\": \"VideoInstructionsTask\"\n",
    "                },\n",
    "                *video_tasks,\n",
    "                {\n",
    "                    \"type\": \"AudioInstructionsTask\"\n",
    "                },\n",
    "                *audio_tasks,\n",
    "                {\n",
    "                    \"type\": \"AVInstructionsTask\"\n",
    "                },\n",
    "                av_tasks\n",
    "            ]\n",
    "                \n",
    "        }\n",
    "    ]\n",
    "}"
   ]
  },
  {
   "cell_type": "code",
   "execution_count": 14,
   "metadata": {},
   "outputs": [],
   "source": [
    "json.dump(project, open(os.path.join(outpath, 'annot_visual_enjoyment.covfee.json'), 'w'), indent=2)"
   ]
  },
  {
   "cell_type": "code",
   "execution_count": null,
   "metadata": {},
   "outputs": [],
   "source": []
  }
 ],
 "metadata": {
  "kernelspec": {
   "display_name": "Python 3",
   "language": "python",
   "name": "python3"
  },
  "language_info": {
   "codemirror_mode": {
    "name": "ipython",
    "version": 3
   },
   "file_extension": ".py",
   "mimetype": "text/x-python",
   "name": "python",
   "nbconvert_exporter": "python",
   "pygments_lexer": "ipython3",
   "version": "3.8.5-final"
  }
 },
 "nbformat": 4,
 "nbformat_minor": 4
}