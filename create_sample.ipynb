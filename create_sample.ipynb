{
 "cells": [
  {
   "cell_type": "code",
   "execution_count": 1,
   "metadata": {},
   "outputs": [],
   "source": [
    "%load_ext autoreload\n",
    "%autoreload 2"
   ]
  },
  {
   "cell_type": "code",
   "execution_count": 2,
   "metadata": {},
   "outputs": [],
   "source": [
    "import sys\n",
    "import pickle\n",
    "import json\n",
    "import copy\n",
    "import random\n",
    "sys.path.append('../lared')"
   ]
  },
  {
   "cell_type": "code",
   "execution_count": 3,
   "metadata": {},
   "outputs": [],
   "source": [
    "from tqdm.notebook import tqdm"
   ]
  },
  {
   "cell_type": "code",
   "execution_count": 4,
   "metadata": {
    "tags": []
   },
   "outputs": [],
   "source": [
    "from covfee.orm import Project"
   ]
  },
  {
   "cell_type": "code",
   "execution_count": 5,
   "metadata": {},
   "outputs": [],
   "source": [
    "data_path = '/Users/josedvq/data/lared'\n",
    "cloud_data_path = '/Users/josedvq/gdrive/data/lared_laughter'\n",
    "random.seed('25')"
   ]
  },
  {
   "cell_type": "code",
   "execution_count": 6,
   "metadata": {},
   "outputs": [],
   "source": [
    "examples = pickle.load(open(cloud_data_path + '/examples/examples.pkl', 'rb'))"
   ]
  },
  {
   "cell_type": "code",
   "execution_count": 7,
   "metadata": {},
   "outputs": [
    {
     "output_type": "execute_result",
     "data": {
      "text/plain": [
       "'1_0_cam_2'"
      ]
     },
     "metadata": {},
     "execution_count": 7
    }
   ],
   "source": [
    "examples[0].get_file_id()"
   ]
  },
  {
   "cell_type": "code",
   "execution_count": 8,
   "metadata": {},
   "outputs": [],
   "source": [
    "task = {\n",
    "    \"type\": \"QuestionnaireTask\",\n",
    "    \"instructions\": \"Pay attention to the squared person. When you are ready, play the video and then answer the questions on the right.\",\n",
    "    \"form\": {\n",
    "        \"fields\": [\n",
    "            {\n",
    "                \"prompt\": \"Does the person in the video laugh?\",\n",
    "                \"input\": {\n",
    "                    \"type\": \"radio\",\n",
    "                    \"options\": [\n",
    "                        \"yes\",\n",
    "                        \"no\"\n",
    "                    ]\n",
    "                }\n",
    "            },\n",
    "            {\n",
    "                \"prompt\": \"What is the intensity of the laugh?\",\n",
    "                \"input\": {\n",
    "                    \"type\": \"radio\",\n",
    "                    \"options\": [\n",
    "                        \"1\",\n",
    "                        \"2\",\n",
    "                        \"3\",\n",
    "                        \"4\",\n",
    "                        \"5\",\n",
    "                        \"6\",\n",
    "                        \"7\"\n",
    "                    ]\n",
    "                }\n",
    "            }\n",
    "        ]\n",
    "    },\n",
    "    \"media\": {\n",
    "        \"type\": \"video\",\n",
    "        \"controls\": True\n",
    "    }\n",
    "}"
   ]
  },
  {
   "cell_type": "code",
   "execution_count": 9,
   "metadata": {},
   "outputs": [],
   "source": [
    "examples = random.sample(examples, 20)"
   ]
  },
  {
   "cell_type": "code",
   "execution_count": 10,
   "metadata": {
    "tags": []
   },
   "outputs": [
    {
     "output_type": "display_data",
     "data": {
      "text/plain": "HBox(children=(HTML(value=''), FloatProgress(value=0.0, max=20.0), HTML(value='')))",
      "application/vnd.jupyter.widget-view+json": {
       "version_major": 2,
       "version_minor": 0,
       "model_id": "57220c9ef8144fa1a84a7b66dd782e9d"
      }
     },
     "metadata": {}
    },
    {
     "output_type": "stream",
     "name": "stdout",
     "text": [
      "\n"
     ]
    }
   ],
   "source": [
    "tasks = []\n",
    "output_path = '/Users/josedvq/gdrive/data/lared_laughter/pilot'\n",
    "images_path = os.path.join(output_path, 'images')\n",
    "audio_path = os.path.join(output_path, 'audio')\n",
    "videos_path = os.path.join(output_path, 'video')\n",
    "av_path = os.path.join(output_path, 'audiovisual')\n",
    "\n",
    "for example in tqdm(examples):\n",
    "    t = copy.deepcopy(task)\n",
    "    t['media']['url'] = 'av/' + example.get_file_id() + '.mp4'\n",
    "    tasks.append(t)\n",
    "    # write output files\n",
    "    # example.write_first_image(images_path)\n",
    "    example.write_video(videos_path)\n",
    "    # example.write_audio(audio_path)\n",
    "    example.write_audiovisual(video_path=videos_path, audio_path=audio_path, fout_path=av_path)"
   ]
  },
  {
   "cell_type": "code",
   "execution_count": 12,
   "metadata": {},
   "outputs": [],
   "source": [
    "project = {\n",
    "    \"name\": \"Pilot\",\n",
    "    \"email\": \"example@example.com\",\n",
    "    \"hits\": [\n",
    "        {\n",
    "            \"type\": \"timeline\",\n",
    "            \"tasks\": [\n",
    "                {\n",
    "                    \"type\": \"VideoInstructionsTask\"\n",
    "                },\n",
    "                *tasks\n",
    "            ]\n",
    "                \n",
    "        }\n",
    "    ]\n",
    "}"
   ]
  },
  {
   "cell_type": "code",
   "execution_count": 13,
   "metadata": {},
   "outputs": [],
   "source": [
    "json.dump(project, open('pilot.covfee.json', 'w'), indent=2)"
   ]
  },
  {
   "cell_type": "code",
   "execution_count": null,
   "metadata": {},
   "outputs": [],
   "source": []
  }
 ],
 "metadata": {
  "kernelspec": {
   "name": "Python 3.8.5 64-bit ('lared')",
   "display_name": "Python 3.8.5 64-bit ('lared')",
   "metadata": {
    "interpreter": {
     "hash": "07cf01d138b93491b0e7b8cfc59be81e1e7147a825d0ef51aaf6f52b92eea237"
    }
   }
  }
 },
 "nbformat": 4,
 "nbformat_minor": 2
}