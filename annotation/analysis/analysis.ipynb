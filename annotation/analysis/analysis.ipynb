{
 "cells": [
  {
   "cell_type": "code",
   "execution_count": 1,
   "metadata": {
    "id": "tTTi8W2CraKl"
   },
   "outputs": [],
   "source": [
    "import os\n",
    "import itertools\n",
    "import pickle\n",
    "import math\n",
    "\n",
    "import numpy as np\n",
    "import pandas as pd\n",
    "import matplotlib\n",
    "import matplotlib.pyplot as plt\n",
    "import seaborn as sns\n",
    "from sklearn.metrics import precision_recall_fscore_support, cohen_kappa_score\n",
    "from scipy.stats import pearsonr\n",
    "import krippendorff\n",
    "pd.options.display.precision = 4\n",
    "\n",
    "from lared_laughter.constants import annot_exp_path"
   ]
  },
  {
   "cell_type": "code",
   "execution_count": 2,
   "metadata": {},
   "outputs": [],
   "source": [
    "matplotlib.rcParams.update({'font.size': 8})"
   ]
  },
  {
   "cell_type": "markdown",
   "metadata": {
    "id": "28HyVU3craKm"
   },
   "source": [
    "# Reading the data.."
   ]
  },
  {
   "cell_type": "code",
   "execution_count": 6,
   "metadata": {
    "id": "HEKtmpcVraKm",
    "outputId": "8a95d4c5-a2fc-413f-b4ea-1bc2e6d050c6"
   },
   "outputs": [],
   "source": [
    "results = pd.read_csv(os.path.join(annot_exp_path, 'processed', 'annotations_new.csv'), index_col=0)\n",
    "cont_annot = pickle.load(open(os.path.join(annot_exp_path, 'processed', 'continuous.pkl'), 'rb'))\n",
    "# assert len(results) == len(cont_annot), f'{len(results)} != {len(cont_annot)}'\n",
    "# results.drop(['hit_id', 'hash'], axis=1).tail(10)"
   ]
  },
  {
   "cell_type": "code",
   "execution_count": 7,
   "metadata": {},
   "outputs": [
    {
     "data": {
      "text/html": [
       "<div>\n",
       "<style scoped>\n",
       "    .dataframe tbody tr th:only-of-type {\n",
       "        vertical-align: middle;\n",
       "    }\n",
       "\n",
       "    .dataframe tbody tr th {\n",
       "        vertical-align: top;\n",
       "    }\n",
       "\n",
       "    .dataframe thead th {\n",
       "        text-align: right;\n",
       "    }\n",
       "</style>\n",
       "<table border=\"1\" class=\"dataframe\">\n",
       "  <thead>\n",
       "    <tr style=\"text-align: right;\">\n",
       "      <th></th>\n",
       "      <th>person</th>\n",
       "      <th>cam</th>\n",
       "      <th>hit_id</th>\n",
       "      <th>condition</th>\n",
       "      <th>calibration</th>\n",
       "      <th>hash</th>\n",
       "      <th>ini_time</th>\n",
       "      <th>end_time</th>\n",
       "      <th>_ini_time</th>\n",
       "      <th>_end_time</th>\n",
       "      <th>...</th>\n",
       "      <th>gt_offset</th>\n",
       "      <th>gt_laughter</th>\n",
       "      <th>is_laughter</th>\n",
       "      <th>confidence</th>\n",
       "      <th>intensity</th>\n",
       "      <th>rating_hash</th>\n",
       "      <th>attempt</th>\n",
       "      <th>pressed_key</th>\n",
       "      <th>onset</th>\n",
       "      <th>offset</th>\n",
       "    </tr>\n",
       "  </thead>\n",
       "  <tbody>\n",
       "    <tr>\n",
       "      <th>494</th>\n",
       "      <td>9</td>\n",
       "      <td>2</td>\n",
       "      <td>3b804f3cf294726af761efaff5fb5974e2712846ce485d...</td>\n",
       "      <td>av</td>\n",
       "      <td>False</td>\n",
       "      <td>002043005fa746f076c845dc38dd1bd97327bde09e17fc...</td>\n",
       "      <td>7963.610</td>\n",
       "      <td>7965.490</td>\n",
       "      <td>7960.6024</td>\n",
       "      <td>7968.5339</td>\n",
       "      <td>...</td>\n",
       "      <td>4.9239</td>\n",
       "      <td>True</td>\n",
       "      <td>True</td>\n",
       "      <td>6</td>\n",
       "      <td>4</td>\n",
       "      <td>bc4c6e6a8ceb18d918d35cabb3b0273c65e8729c43e4a0...</td>\n",
       "      <td>0</td>\n",
       "      <td>True</td>\n",
       "      <td>3.4600</td>\n",
       "      <td>3.8938</td>\n",
       "    </tr>\n",
       "    <tr>\n",
       "      <th>1405</th>\n",
       "      <td>9</td>\n",
       "      <td>2</td>\n",
       "      <td>99cd9c6d87f8785f6ee01ff22ea0245811dff0968a9b12...</td>\n",
       "      <td>audio</td>\n",
       "      <td>False</td>\n",
       "      <td>002043005fa746f076c845dc38dd1bd97327bde09e17fc...</td>\n",
       "      <td>7963.610</td>\n",
       "      <td>7965.490</td>\n",
       "      <td>7960.6024</td>\n",
       "      <td>7968.5339</td>\n",
       "      <td>...</td>\n",
       "      <td>4.9239</td>\n",
       "      <td>True</td>\n",
       "      <td>True</td>\n",
       "      <td>7</td>\n",
       "      <td>4</td>\n",
       "      <td>18a15d2afcdcc7fb98aa5f8478e3399ec5a5a65ebf306c...</td>\n",
       "      <td>0</td>\n",
       "      <td>True</td>\n",
       "      <td>3.3032</td>\n",
       "      <td>3.8632</td>\n",
       "    </tr>\n",
       "    <tr>\n",
       "      <th>2371</th>\n",
       "      <td>9</td>\n",
       "      <td>2</td>\n",
       "      <td>eaa13e4245933c97dc9849959a66fc45ab72c0d165d1d4...</td>\n",
       "      <td>audio</td>\n",
       "      <td>False</td>\n",
       "      <td>002043005fa746f076c845dc38dd1bd97327bde09e17fc...</td>\n",
       "      <td>7963.610</td>\n",
       "      <td>7965.490</td>\n",
       "      <td>7960.6024</td>\n",
       "      <td>7968.5339</td>\n",
       "      <td>...</td>\n",
       "      <td>4.9239</td>\n",
       "      <td>True</td>\n",
       "      <td>True</td>\n",
       "      <td>7</td>\n",
       "      <td>3</td>\n",
       "      <td>fe660ff7f60616a6950b10833e9360bfdc12a6d70837b0...</td>\n",
       "      <td>0</td>\n",
       "      <td>True</td>\n",
       "      <td>3.3032</td>\n",
       "      <td>4.1432</td>\n",
       "    </tr>\n",
       "    <tr>\n",
       "      <th>64</th>\n",
       "      <td>9</td>\n",
       "      <td>2</td>\n",
       "      <td>024a80de5a3a053d40e1b7f3086e70c34cd90fc2a9668c...</td>\n",
       "      <td>av</td>\n",
       "      <td>False</td>\n",
       "      <td>002043005fa746f076c845dc38dd1bd97327bde09e17fc...</td>\n",
       "      <td>7963.610</td>\n",
       "      <td>7965.490</td>\n",
       "      <td>7960.6024</td>\n",
       "      <td>7968.5339</td>\n",
       "      <td>...</td>\n",
       "      <td>4.9239</td>\n",
       "      <td>True</td>\n",
       "      <td>True</td>\n",
       "      <td>7</td>\n",
       "      <td>6</td>\n",
       "      <td>a9d236ff9a3dc04f8d8f62eff6ebdbbdd7cf32a564c18a...</td>\n",
       "      <td>1</td>\n",
       "      <td>True</td>\n",
       "      <td>3.3599</td>\n",
       "      <td>4.3609</td>\n",
       "    </tr>\n",
       "    <tr>\n",
       "      <th>2482</th>\n",
       "      <td>30</td>\n",
       "      <td>4</td>\n",
       "      <td>ec302308ddc965b13a5c7b458ad819f8b845f73d914215...</td>\n",
       "      <td>av</td>\n",
       "      <td>False</td>\n",
       "      <td>006f74addfc99845bf6c9f80d13d52ccc1893410315255...</td>\n",
       "      <td>8289.657</td>\n",
       "      <td>8292.107</td>\n",
       "      <td>8287.7300</td>\n",
       "      <td>8295.1772</td>\n",
       "      <td>...</td>\n",
       "      <td>5.5202</td>\n",
       "      <td>True</td>\n",
       "      <td>True</td>\n",
       "      <td>7</td>\n",
       "      <td>3</td>\n",
       "      <td>d75bf1619427846f65a85d95739f0867e93c7e9bd05f5b...</td>\n",
       "      <td>0</td>\n",
       "      <td>True</td>\n",
       "      <td>2.2588</td>\n",
       "      <td>4.2274</td>\n",
       "    </tr>\n",
       "  </tbody>\n",
       "</table>\n",
       "<p>5 rows × 21 columns</p>\n",
       "</div>"
      ],
      "text/plain": [
       "      person  cam                                             hit_id  \\\n",
       "494        9    2  3b804f3cf294726af761efaff5fb5974e2712846ce485d...   \n",
       "1405       9    2  99cd9c6d87f8785f6ee01ff22ea0245811dff0968a9b12...   \n",
       "2371       9    2  eaa13e4245933c97dc9849959a66fc45ab72c0d165d1d4...   \n",
       "64         9    2  024a80de5a3a053d40e1b7f3086e70c34cd90fc2a9668c...   \n",
       "2482      30    4  ec302308ddc965b13a5c7b458ad819f8b845f73d914215...   \n",
       "\n",
       "     condition  calibration  \\\n",
       "494         av        False   \n",
       "1405     audio        False   \n",
       "2371     audio        False   \n",
       "64          av        False   \n",
       "2482        av        False   \n",
       "\n",
       "                                                   hash  ini_time  end_time  \\\n",
       "494   002043005fa746f076c845dc38dd1bd97327bde09e17fc...  7963.610  7965.490   \n",
       "1405  002043005fa746f076c845dc38dd1bd97327bde09e17fc...  7963.610  7965.490   \n",
       "2371  002043005fa746f076c845dc38dd1bd97327bde09e17fc...  7963.610  7965.490   \n",
       "64    002043005fa746f076c845dc38dd1bd97327bde09e17fc...  7963.610  7965.490   \n",
       "2482  006f74addfc99845bf6c9f80d13d52ccc1893410315255...  8289.657  8292.107   \n",
       "\n",
       "      _ini_time  _end_time  ...  gt_offset  gt_laughter  is_laughter  \\\n",
       "494   7960.6024  7968.5339  ...     4.9239         True         True   \n",
       "1405  7960.6024  7968.5339  ...     4.9239         True         True   \n",
       "2371  7960.6024  7968.5339  ...     4.9239         True         True   \n",
       "64    7960.6024  7968.5339  ...     4.9239         True         True   \n",
       "2482  8287.7300  8295.1772  ...     5.5202         True         True   \n",
       "\n",
       "      confidence  intensity  \\\n",
       "494            6          4   \n",
       "1405           7          4   \n",
       "2371           7          3   \n",
       "64             7          6   \n",
       "2482           7          3   \n",
       "\n",
       "                                            rating_hash attempt  pressed_key  \\\n",
       "494   bc4c6e6a8ceb18d918d35cabb3b0273c65e8729c43e4a0...       0         True   \n",
       "1405  18a15d2afcdcc7fb98aa5f8478e3399ec5a5a65ebf306c...       0         True   \n",
       "2371  fe660ff7f60616a6950b10833e9360bfdc12a6d70837b0...       0         True   \n",
       "64    a9d236ff9a3dc04f8d8f62eff6ebdbbdd7cf32a564c18a...       1         True   \n",
       "2482  d75bf1619427846f65a85d95739f0867e93c7e9bd05f5b...       0         True   \n",
       "\n",
       "       onset  offset  \n",
       "494   3.4600  3.8938  \n",
       "1405  3.3032  3.8632  \n",
       "2371  3.3032  4.1432  \n",
       "64    3.3599  4.3609  \n",
       "2482  2.2588  4.2274  \n",
       "\n",
       "[5 rows x 21 columns]"
      ]
     },
     "execution_count": 7,
     "metadata": {},
     "output_type": "execute_result"
    }
   ],
   "source": [
    "results.sort_values(by='hash').head()"
   ]
  },
  {
   "cell_type": "code",
   "execution_count": 8,
   "metadata": {},
   "outputs": [
    {
     "data": {
      "text/plain": [
       "(2863, 2863)"
      ]
     },
     "execution_count": 8,
     "metadata": {},
     "output_type": "execute_result"
    }
   ],
   "source": [
    "len(results), len(cont_annot)"
   ]
  },
  {
   "cell_type": "markdown",
   "metadata": {},
   "source": [
    "# Filter out invalid HITs\n",
    "Some HITs never had a pressed key."
   ]
  },
  {
   "cell_type": "code",
   "execution_count": 9,
   "metadata": {},
   "outputs": [
    {
     "name": "stdout",
     "output_type": "stream",
     "text": [
      "47d05370e41ca3944898561425eb80a67ee2dbc340a69b1bf7fffc5a8a1d461c : av => pk: 12 / 12 | il:  12 / 12\n",
      "8a3a9686df3d4ce11340399cd22a0e7de4c37f858792f4765bddcf85d43a9d54 : audio => pk: 0 / 28 | il:  18 / 28\n",
      "8a3a9686df3d4ce11340399cd22a0e7de4c37f858792f4765bddcf85d43a9d54 : av => pk: 0 / 28 | il:  21 / 28\n",
      "8a3a9686df3d4ce11340399cd22a0e7de4c37f858792f4765bddcf85d43a9d54 : video => pk: 0 / 28 | il:  11 / 28\n"
     ]
    }
   ],
   "source": [
    "for hit_id in results['hit_id'].unique():\n",
    "    for cond in results['condition'].unique():\n",
    "        res = results.loc[(results['hit_id'] == hit_id) & (results['condition'] == cond) & (results['calibration'] == False) & results['pressed_key'].notnull()]\n",
    "        \n",
    "        if len(res['pressed_key'].unique()) == 1:\n",
    "            print(f'{hit_id} : {cond} => pk: {res[\"pressed_key\"].sum()} / {len(res)} | il:  {res[\"is_laughter\"].sum()} / {len(res)}')"
   ]
  },
  {
   "cell_type": "markdown",
   "metadata": {},
   "source": []
  },
  {
   "cell_type": "code",
   "execution_count": 10,
   "metadata": {},
   "outputs": [
    {
     "data": {
      "text/plain": [
       "(2863, 2773)"
      ]
     },
     "execution_count": 10,
     "metadata": {},
     "output_type": "execute_result"
    }
   ],
   "source": [
    "results_pk = results[(results['hit_id'] != '8a3a9686df3d4ce11340399cd22a0e7de4c37f858792f4765bddcf85d43a9d54')]\n",
    "(len(results), len(results_pk))"
   ]
  },
  {
   "cell_type": "markdown",
   "metadata": {},
   "source": [
    "# Repetition of the recognition step\n",
    "\n",
    "Here I look at how often different annotators repeated the recognition step\n",
    "- Every column is a different person.\n",
    "- *repeated* is the number of times they repeated a segment once\n",
    "- *total* is the number of segments they completed"
   ]
  },
  {
   "cell_type": "code",
   "execution_count": 11,
   "metadata": {},
   "outputs": [
    {
     "data": {
      "text/html": [
       "<div>\n",
       "<style scoped>\n",
       "    .dataframe tbody tr th:only-of-type {\n",
       "        vertical-align: middle;\n",
       "    }\n",
       "\n",
       "    .dataframe tbody tr th {\n",
       "        vertical-align: top;\n",
       "    }\n",
       "\n",
       "    .dataframe thead th {\n",
       "        text-align: right;\n",
       "    }\n",
       "</style>\n",
       "<table border=\"1\" class=\"dataframe\">\n",
       "  <thead>\n",
       "    <tr style=\"text-align: right;\">\n",
       "      <th></th>\n",
       "      <th>0</th>\n",
       "      <th>1</th>\n",
       "      <th>2</th>\n",
       "      <th>3</th>\n",
       "      <th>4</th>\n",
       "      <th>5</th>\n",
       "      <th>6</th>\n",
       "      <th>7</th>\n",
       "      <th>8</th>\n",
       "      <th>9</th>\n",
       "      <th>...</th>\n",
       "      <th>22</th>\n",
       "      <th>23</th>\n",
       "      <th>24</th>\n",
       "      <th>25</th>\n",
       "      <th>26</th>\n",
       "      <th>27</th>\n",
       "      <th>28</th>\n",
       "      <th>29</th>\n",
       "      <th>30</th>\n",
       "      <th>31</th>\n",
       "    </tr>\n",
       "  </thead>\n",
       "  <tbody>\n",
       "    <tr>\n",
       "      <th>repeated</th>\n",
       "      <td>3</td>\n",
       "      <td>0</td>\n",
       "      <td>1</td>\n",
       "      <td>4</td>\n",
       "      <td>1</td>\n",
       "      <td>13</td>\n",
       "      <td>0</td>\n",
       "      <td>4</td>\n",
       "      <td>5</td>\n",
       "      <td>0</td>\n",
       "      <td>...</td>\n",
       "      <td>0</td>\n",
       "      <td>4</td>\n",
       "      <td>0</td>\n",
       "      <td>0</td>\n",
       "      <td>1</td>\n",
       "      <td>7</td>\n",
       "      <td>16</td>\n",
       "      <td>0</td>\n",
       "      <td>2</td>\n",
       "      <td>4</td>\n",
       "    </tr>\n",
       "    <tr>\n",
       "      <th>total</th>\n",
       "      <td>90</td>\n",
       "      <td>90</td>\n",
       "      <td>90</td>\n",
       "      <td>90</td>\n",
       "      <td>90</td>\n",
       "      <td>90</td>\n",
       "      <td>90</td>\n",
       "      <td>73</td>\n",
       "      <td>90</td>\n",
       "      <td>90</td>\n",
       "      <td>...</td>\n",
       "      <td>90</td>\n",
       "      <td>90</td>\n",
       "      <td>90</td>\n",
       "      <td>90</td>\n",
       "      <td>90</td>\n",
       "      <td>90</td>\n",
       "      <td>90</td>\n",
       "      <td>90</td>\n",
       "      <td>90</td>\n",
       "      <td>90</td>\n",
       "    </tr>\n",
       "  </tbody>\n",
       "</table>\n",
       "<p>2 rows × 32 columns</p>\n",
       "</div>"
      ],
      "text/plain": [
       "          0   1   2   3   4   5   6   7   8   9   ...  22  23  24  25  26  27  \\\n",
       "repeated   3   0   1   4   1  13   0   4   5   0  ...   0   4   0   0   1   7   \n",
       "total     90  90  90  90  90  90  90  73  90  90  ...  90  90  90  90  90  90   \n",
       "\n",
       "          28  29  30  31  \n",
       "repeated  16   0   2   4  \n",
       "total     90  90  90  90  \n",
       "\n",
       "[2 rows x 32 columns]"
      ]
     },
     "execution_count": 11,
     "metadata": {},
     "output_type": "execute_result"
    }
   ],
   "source": [
    "df = []\n",
    "for hit_id in results['hit_id'].unique():\n",
    "    subject_data = results[results['hit_id'] == hit_id]\n",
    "    df.append({'repeated': subject_data['attempt'].sum(), 'total': len(subject_data)})\n",
    "pd.DataFrame(df, dtype=int).transpose()"
   ]
  },
  {
   "cell_type": "markdown",
   "metadata": {},
   "source": [
    "# Obvious / clear examples"
   ]
  },
  {
   "cell_type": "code",
   "execution_count": 12,
   "metadata": {},
   "outputs": [],
   "source": [
    "results['duh_score'] = (results['intensity'] - results['intensity'].mean()) / results['intensity'].std() * 1/2 \\\n",
    "                         + (results['confidence'] - results['confidence'].mean()) / results['confidence'].std() * 1/2"
   ]
  },
  {
   "cell_type": "code",
   "execution_count": 13,
   "metadata": {},
   "outputs": [],
   "source": [
    "duh_scores = []\n",
    "for hash in results['hash'].unique():\n",
    "    example_results = results[results['hash'] == hash]\n",
    "    duh_score = example_results['duh_score'].mean()\n",
    "    if len(example_results) >= 4:\n",
    "        duh_score  = duh_score * 2/3 + (1-example_results['onset'].std()) * 1/3\n",
    "    duh_scores.append({'hash': hash, 'score': duh_score, 'calib': example_results.iloc[0]['calibration']})"
   ]
  },
  {
   "cell_type": "code",
   "execution_count": 14,
   "metadata": {},
   "outputs": [
    {
     "data": {
      "text/plain": [
       "50"
      ]
     },
     "execution_count": 14,
     "metadata": {},
     "output_type": "execute_result"
    }
   ],
   "source": [
    "pd.options.display.max_colwidth"
   ]
  },
  {
   "cell_type": "code",
   "execution_count": 15,
   "metadata": {},
   "outputs": [
    {
     "data": {
      "text/html": [
       "<div>\n",
       "<style scoped>\n",
       "    .dataframe tbody tr th:only-of-type {\n",
       "        vertical-align: middle;\n",
       "    }\n",
       "\n",
       "    .dataframe tbody tr th {\n",
       "        vertical-align: top;\n",
       "    }\n",
       "\n",
       "    .dataframe thead th {\n",
       "        text-align: right;\n",
       "    }\n",
       "</style>\n",
       "<table border=\"1\" class=\"dataframe\">\n",
       "  <thead>\n",
       "    <tr style=\"text-align: right;\">\n",
       "      <th></th>\n",
       "      <th>hash</th>\n",
       "      <th>score</th>\n",
       "      <th>calib</th>\n",
       "    </tr>\n",
       "  </thead>\n",
       "  <tbody>\n",
       "    <tr>\n",
       "      <th>132</th>\n",
       "      <td>8fe32db8e94826b81b1b3bcd08d829ec73a7aa7f4c6e90eba4e949d891aece52</td>\n",
       "      <td>1.0657</td>\n",
       "      <td>False</td>\n",
       "    </tr>\n",
       "    <tr>\n",
       "      <th>119</th>\n",
       "      <td>54265351abec7e979caf5e967c8db5f4e36d8a80e99fd9a66685842e021f767f</td>\n",
       "      <td>1.0117</td>\n",
       "      <td>False</td>\n",
       "    </tr>\n",
       "    <tr>\n",
       "      <th>67</th>\n",
       "      <td>6f4bc952a214878c1268169ef4c18245d58fb805abaaa77c144c0f31be42c3f0</td>\n",
       "      <td>0.9969</td>\n",
       "      <td>False</td>\n",
       "    </tr>\n",
       "    <tr>\n",
       "      <th>263</th>\n",
       "      <td>9c35a317632066a07bc668ca298da67a1ae92f3117cef0f14a9480dc99ee8c68</td>\n",
       "      <td>0.9162</td>\n",
       "      <td>False</td>\n",
       "    </tr>\n",
       "    <tr>\n",
       "      <th>75</th>\n",
       "      <td>ced6e78fe7940c10fbc9d7c385273e68459ca399ccb668c8123cf5a66fa99819</td>\n",
       "      <td>0.8939</td>\n",
       "      <td>True</td>\n",
       "    </tr>\n",
       "  </tbody>\n",
       "</table>\n",
       "</div>"
      ],
      "text/plain": [
       "                                                                 hash   score  \\\n",
       "132  8fe32db8e94826b81b1b3bcd08d829ec73a7aa7f4c6e90eba4e949d891aece52  1.0657   \n",
       "119  54265351abec7e979caf5e967c8db5f4e36d8a80e99fd9a66685842e021f767f  1.0117   \n",
       "67   6f4bc952a214878c1268169ef4c18245d58fb805abaaa77c144c0f31be42c3f0  0.9969   \n",
       "263  9c35a317632066a07bc668ca298da67a1ae92f3117cef0f14a9480dc99ee8c68  0.9162   \n",
       "75   ced6e78fe7940c10fbc9d7c385273e68459ca399ccb668c8123cf5a66fa99819  0.8939   \n",
       "\n",
       "     calib  \n",
       "132  False  \n",
       "119  False  \n",
       "67   False  \n",
       "263  False  \n",
       "75    True  "
      ]
     },
     "execution_count": 15,
     "metadata": {},
     "output_type": "execute_result"
    }
   ],
   "source": [
    "pd.options.display.max_colwidth = 100\n",
    "pd.DataFrame(duh_scores).sort_values(by='score', ascending=False).head(5)"
   ]
  },
  {
   "cell_type": "markdown",
   "metadata": {
    "id": "1eW-VtnDraKm"
   },
   "source": [
    "# Duration of the experiment\n",
    "\n",
    "Here I just read the timestamps to figure out the time that it took people to complete the experiment."
   ]
  },
  {
   "cell_type": "markdown",
   "metadata": {
    "id": "2xxtBNsvraKm"
   },
   "source": [
    "# Comparing to GT\n",
    "\n",
    "Here I compare the results to my \"GT\" annotations in precision and recall. Especially interested in video-only and audio-only cases\n",
    "\n",
    "- Every row is a HIT or annotator"
   ]
  },
  {
   "cell_type": "code",
   "execution_count": 16,
   "metadata": {
    "id": "Z-WrPrSiraKn",
    "outputId": "20bb764b-ef4d-42ba-bd7e-7b937a09fa4e"
   },
   "outputs": [
    {
     "data": {
      "text/plain": [
       "audio_precision    0.9248\n",
       "audio_recall       0.8964\n",
       "av_precision       0.9232\n",
       "av_recall          0.9203\n",
       "video_precision    0.8685\n",
       "video_recall       0.6739\n",
       "dtype: float64"
      ]
     },
     "execution_count": 16,
     "metadata": {},
     "output_type": "execute_result"
    }
   ],
   "source": [
    "df = {}\n",
    "for hit_id in results['hit_id'].unique():\n",
    "    row = {}\n",
    "    for condition in results['condition'].unique():\n",
    "        \n",
    "        X = results.loc[(results['hit_id'] == hit_id) & (results['condition'] == condition) & (results['calibration'] == False) & results['pressed_key'].notnull()]\n",
    "        # comparing laughter recognition\n",
    "        precision, recall, _, _ = precision_recall_fscore_support(X['gt_laughter'].to_list(), X['pressed_key'].to_list(), labels=[0,1], zero_division=0)\n",
    "        row[f'{condition}_precision'] = precision[1]\n",
    "        row[f'{condition}_recall'] = recall[1]\n",
    "    df[hit_id] = row\n",
    "pd.DataFrame(df.values()).transpose().mean(axis=1)"
   ]
  },
  {
   "cell_type": "markdown",
   "metadata": {
    "id": "mHPHi4x0raKn"
   },
   "source": [
    "# Interannotator agreement\n",
    "\n",
    "Pairwise interrater agreement for the categorical variables\n",
    "- Laughter presence\n",
    "- Laughter intensity\n",
    "- Confidence"
   ]
  },
  {
   "cell_type": "code",
   "execution_count": 17,
   "metadata": {
    "id": "BqOSwSmIraKn"
   },
   "outputs": [],
   "source": [
    "def calc_agreement(results, var, agreement_fn):\n",
    "    \n",
    "    values = {}\n",
    "    std = {}\n",
    "    counts = {}\n",
    "    raw = {}\n",
    "    for condition in results['condition'].unique():\n",
    "        condition_values = []\n",
    "        hit_pairs = itertools.combinations(results['hit_id'].unique(), 2)\n",
    "\n",
    "        for hit_a, hit_b in hit_pairs:\n",
    "            a = results.loc[(results['hit_id'] == hit_a) & (results['condition'] == condition) & (results['calibration'] == False) & results[var].notnull()]\n",
    "            b = results.loc[(results['hit_id'] == hit_b) & (results['condition'] == condition) & (results['calibration'] == False) & results[var].notnull()]\n",
    "\n",
    "            # get the intersection of both annotator's examples\n",
    "            intersection = pd.merge(a, b, how='inner', on=['hash'])\n",
    "            if len(intersection) < 20:\n",
    "                continue\n",
    "            # print('calc')\n",
    "            try:\n",
    "                value = agreement_fn(intersection[f'{var}_x'].to_list(), intersection[f'{var}_y'].to_list())\n",
    "            except RuntimeWarning:\n",
    "                continue\n",
    "            if math.isnan(value):\n",
    "                print('nan')\n",
    "                continue\n",
    "\n",
    "            if value == 0:\n",
    "                print(f'zero agreement for A = {hit_a}, B={hit_b}, cond={condition}')\n",
    "            condition_values.append(value)\n",
    "\n",
    "        values[condition] = np.mean(condition_values)\n",
    "        std[condition] = np.std(condition_values)\n",
    "        counts[condition] = len(condition_values)\n",
    "        raw[condition] = condition_values\n",
    "\n",
    "    return values, std, counts, raw"
   ]
  },
  {
   "cell_type": "markdown",
   "metadata": {
    "id": "tDueoGtRraKn"
   },
   "source": [
    "## Kappa for binary variables\n",
    "\n",
    "Here I calculate cohen's kappa for the three conditions for:\n",
    "- pressed_key: the binarization of the continuous annotation\n",
    "- is_laughter: the switch on the Rating page"
   ]
  },
  {
   "cell_type": "code",
   "execution_count": 18,
   "metadata": {
    "id": "EqkfgBqeraKn"
   },
   "outputs": [],
   "source": [
    "def kappa_fn(a, b):\n",
    "    return cohen_kappa_score(a, b)"
   ]
  },
  {
   "cell_type": "code",
   "execution_count": 19,
   "metadata": {
    "id": "1nk6fztSraKn",
    "outputId": "ab9cc01b-6a4f-437c-c4b8-14bbf634f987"
   },
   "outputs": [],
   "source": [
    "values, std, counts, raw = calc_agreement(results_pk, 'pressed_key', kappa_fn)\n"
   ]
  },
  {
   "cell_type": "code",
   "execution_count": 20,
   "metadata": {},
   "outputs": [
    {
     "data": {
      "text/html": [
       "<div>\n",
       "<style scoped>\n",
       "    .dataframe tbody tr th:only-of-type {\n",
       "        vertical-align: middle;\n",
       "    }\n",
       "\n",
       "    .dataframe tbody tr th {\n",
       "        vertical-align: top;\n",
       "    }\n",
       "\n",
       "    .dataframe thead th {\n",
       "        text-align: right;\n",
       "    }\n",
       "</style>\n",
       "<table border=\"1\" class=\"dataframe\">\n",
       "  <thead>\n",
       "    <tr style=\"text-align: right;\">\n",
       "      <th></th>\n",
       "      <th>audio</th>\n",
       "      <th>av</th>\n",
       "      <th>video</th>\n",
       "    </tr>\n",
       "  </thead>\n",
       "  <tbody>\n",
       "    <tr>\n",
       "      <th>0</th>\n",
       "      <td>0.8441</td>\n",
       "      <td>0.8148</td>\n",
       "      <td>0.5723</td>\n",
       "    </tr>\n",
       "  </tbody>\n",
       "</table>\n",
       "</div>"
      ],
      "text/plain": [
       "    audio      av   video\n",
       "0  0.8441  0.8148  0.5723"
      ]
     },
     "execution_count": 20,
     "metadata": {},
     "output_type": "execute_result"
    }
   ],
   "source": [
    "pd.DataFrame([values])"
   ]
  },
  {
   "cell_type": "code",
   "execution_count": 21,
   "metadata": {
    "id": "z49O4b2nraKn",
    "outputId": "42d89459-f2e8-4069-c275-fcadbea462a4"
   },
   "outputs": [
    {
     "name": "stdout",
     "output_type": "stream",
     "text": [
      "zero agreement for A = bad9b2bbdc09dcd0f3dd68a24026050b13a2047e963574a54fd9f55d49b278ac, B=ca71c4394f8274421f05669317a99ce9d76a11a8fda92c6cc35260cf8f707ee1, cond=audio\n",
      "zero agreement for A = bad9b2bbdc09dcd0f3dd68a24026050b13a2047e963574a54fd9f55d49b278ac, B=ca71c4394f8274421f05669317a99ce9d76a11a8fda92c6cc35260cf8f707ee1, cond=av\n",
      "zero agreement for A = bad9b2bbdc09dcd0f3dd68a24026050b13a2047e963574a54fd9f55d49b278ac, B=ca71c4394f8274421f05669317a99ce9d76a11a8fda92c6cc35260cf8f707ee1, cond=video\n"
     ]
    }
   ],
   "source": [
    "values, std, counts, raw = calc_agreement(results, 'is_laughter', kappa_fn)"
   ]
  },
  {
   "cell_type": "code",
   "execution_count": 22,
   "metadata": {},
   "outputs": [
    {
     "data": {
      "text/html": [
       "<div>\n",
       "<style scoped>\n",
       "    .dataframe tbody tr th:only-of-type {\n",
       "        vertical-align: middle;\n",
       "    }\n",
       "\n",
       "    .dataframe tbody tr th {\n",
       "        vertical-align: top;\n",
       "    }\n",
       "\n",
       "    .dataframe thead th {\n",
       "        text-align: right;\n",
       "    }\n",
       "</style>\n",
       "<table border=\"1\" class=\"dataframe\">\n",
       "  <thead>\n",
       "    <tr style=\"text-align: right;\">\n",
       "      <th></th>\n",
       "      <th>audio</th>\n",
       "      <th>av</th>\n",
       "      <th>video</th>\n",
       "    </tr>\n",
       "  </thead>\n",
       "  <tbody>\n",
       "    <tr>\n",
       "      <th>0</th>\n",
       "      <td>0.7561</td>\n",
       "      <td>0.7809</td>\n",
       "      <td>0.5493</td>\n",
       "    </tr>\n",
       "  </tbody>\n",
       "</table>\n",
       "</div>"
      ],
      "text/plain": [
       "    audio      av   video\n",
       "0  0.7561  0.7809  0.5493"
      ]
     },
     "execution_count": 22,
     "metadata": {},
     "output_type": "execute_result"
    }
   ],
   "source": [
    "pd.DataFrame([values])"
   ]
  },
  {
   "cell_type": "markdown",
   "metadata": {
    "id": "p9nHDQieraKo"
   },
   "source": [
    "## Agreement in intensity and confidence\n",
    "\n",
    "For now I'm  calculating correelation for this. Could be that some Kappa measures or Krippendorfs alpha would be better measures"
   ]
  },
  {
   "cell_type": "code",
   "execution_count": 23,
   "metadata": {
    "id": "eYe-ItOKraKo"
   },
   "outputs": [],
   "source": [
    "def pearson_corr(a, b):\n",
    "    return pearsonr(a, b)[0]"
   ]
  },
  {
   "cell_type": "code",
   "execution_count": 24,
   "metadata": {},
   "outputs": [],
   "source": [
    "def kpd_alpha(a,b):\n",
    "    return krippendorff.alpha(np.vstack([a,b]))"
   ]
  },
  {
   "cell_type": "code",
   "execution_count": 26,
   "metadata": {},
   "outputs": [
    {
     "data": {
      "text/html": [
       "<div>\n",
       "<style scoped>\n",
       "    .dataframe tbody tr th:only-of-type {\n",
       "        vertical-align: middle;\n",
       "    }\n",
       "\n",
       "    .dataframe tbody tr th {\n",
       "        vertical-align: top;\n",
       "    }\n",
       "\n",
       "    .dataframe thead th {\n",
       "        text-align: right;\n",
       "    }\n",
       "</style>\n",
       "<table border=\"1\" class=\"dataframe\">\n",
       "  <thead>\n",
       "    <tr style=\"text-align: right;\">\n",
       "      <th></th>\n",
       "      <th>audio</th>\n",
       "      <th>av</th>\n",
       "      <th>video</th>\n",
       "    </tr>\n",
       "  </thead>\n",
       "  <tbody>\n",
       "    <tr>\n",
       "      <th>0</th>\n",
       "      <td>0.6184</td>\n",
       "      <td>0.6038</td>\n",
       "      <td>0.2001</td>\n",
       "    </tr>\n",
       "  </tbody>\n",
       "</table>\n",
       "</div>"
      ],
      "text/plain": [
       "    audio      av   video\n",
       "0  0.6184  0.6038  0.2001"
      ]
     },
     "execution_count": 26,
     "metadata": {},
     "output_type": "execute_result"
    }
   ],
   "source": [
    "values, std, counts, raw = calc_agreement(results, 'intensity', pearson_corr)\n",
    "pd.DataFrame([values])"
   ]
  },
  {
   "cell_type": "code",
   "execution_count": 27,
   "metadata": {
    "id": "CmVlPGGqraKo",
    "outputId": "c50a8681-3d09-47ee-8227-90cdb080572a"
   },
   "outputs": [
    {
     "data": {
      "text/html": [
       "<div>\n",
       "<style scoped>\n",
       "    .dataframe tbody tr th:only-of-type {\n",
       "        vertical-align: middle;\n",
       "    }\n",
       "\n",
       "    .dataframe tbody tr th {\n",
       "        vertical-align: top;\n",
       "    }\n",
       "\n",
       "    .dataframe thead th {\n",
       "        text-align: right;\n",
       "    }\n",
       "</style>\n",
       "<table border=\"1\" class=\"dataframe\">\n",
       "  <thead>\n",
       "    <tr style=\"text-align: right;\">\n",
       "      <th></th>\n",
       "      <th>audio</th>\n",
       "      <th>av</th>\n",
       "      <th>video</th>\n",
       "    </tr>\n",
       "  </thead>\n",
       "  <tbody>\n",
       "    <tr>\n",
       "      <th>0</th>\n",
       "      <td>0.5322</td>\n",
       "      <td>0.524</td>\n",
       "      <td>0.0885</td>\n",
       "    </tr>\n",
       "  </tbody>\n",
       "</table>\n",
       "</div>"
      ],
      "text/plain": [
       "    audio     av   video\n",
       "0  0.5322  0.524  0.0885"
      ]
     },
     "execution_count": 27,
     "metadata": {},
     "output_type": "execute_result"
    }
   ],
   "source": [
    "values, std, counts, raw = calc_agreement(results, 'intensity', kpd_alpha)\n",
    "pd.DataFrame([values])"
   ]
  },
  {
   "cell_type": "code",
   "execution_count": 143,
   "metadata": {},
   "outputs": [
    {
     "data": {
      "text/html": [
       "<div>\n",
       "<style scoped>\n",
       "    .dataframe tbody tr th:only-of-type {\n",
       "        vertical-align: middle;\n",
       "    }\n",
       "\n",
       "    .dataframe tbody tr th {\n",
       "        vertical-align: top;\n",
       "    }\n",
       "\n",
       "    .dataframe thead th {\n",
       "        text-align: right;\n",
       "    }\n",
       "</style>\n",
       "<table border=\"1\" class=\"dataframe\">\n",
       "  <thead>\n",
       "    <tr style=\"text-align: right;\">\n",
       "      <th></th>\n",
       "      <th>video</th>\n",
       "      <th>audio</th>\n",
       "      <th>av</th>\n",
       "    </tr>\n",
       "  </thead>\n",
       "  <tbody>\n",
       "    <tr>\n",
       "      <th>0</th>\n",
       "      <td>0.21</td>\n",
       "      <td>0.219</td>\n",
       "      <td>0.1411</td>\n",
       "    </tr>\n",
       "  </tbody>\n",
       "</table>\n",
       "</div>"
      ],
      "text/plain": [
       "   video  audio      av\n",
       "0   0.21  0.219  0.1411"
      ]
     },
     "execution_count": 143,
     "metadata": {},
     "output_type": "execute_result"
    }
   ],
   "source": [
    "values, std, counts, raw = calc_agreement(results_il, 'confidence', pearson_corr)\n",
    "pd.DataFrame([values])"
   ]
  },
  {
   "cell_type": "code",
   "execution_count": 28,
   "metadata": {
    "id": "fn8cNJferaKo",
    "outputId": "9d60e798-7550-4ebc-a79d-00745468f67d"
   },
   "outputs": [
    {
     "data": {
      "text/html": [
       "<div>\n",
       "<style scoped>\n",
       "    .dataframe tbody tr th:only-of-type {\n",
       "        vertical-align: middle;\n",
       "    }\n",
       "\n",
       "    .dataframe tbody tr th {\n",
       "        vertical-align: top;\n",
       "    }\n",
       "\n",
       "    .dataframe thead th {\n",
       "        text-align: right;\n",
       "    }\n",
       "</style>\n",
       "<table border=\"1\" class=\"dataframe\">\n",
       "  <thead>\n",
       "    <tr style=\"text-align: right;\">\n",
       "      <th></th>\n",
       "      <th>audio</th>\n",
       "      <th>av</th>\n",
       "      <th>video</th>\n",
       "    </tr>\n",
       "  </thead>\n",
       "  <tbody>\n",
       "    <tr>\n",
       "      <th>0</th>\n",
       "      <td>0.0482</td>\n",
       "      <td>-0.0398</td>\n",
       "      <td>0.1269</td>\n",
       "    </tr>\n",
       "  </tbody>\n",
       "</table>\n",
       "</div>"
      ],
      "text/plain": [
       "    audio      av   video\n",
       "0  0.0482 -0.0398  0.1269"
      ]
     },
     "execution_count": 28,
     "metadata": {},
     "output_type": "execute_result"
    }
   ],
   "source": [
    "values, std, counts, raw = calc_agreement(results, 'confidence', kpd_alpha)\n",
    "pd.DataFrame([values])"
   ]
  },
  {
   "cell_type": "markdown",
   "metadata": {},
   "source": [
    "# Correlating intensity and confidence"
   ]
  },
  {
   "cell_type": "code",
   "execution_count": 29,
   "metadata": {},
   "outputs": [
    {
     "data": {
      "text/plain": [
       "<seaborn.axisgrid.FacetGrid at 0x7f6e37746430>"
      ]
     },
     "execution_count": 29,
     "metadata": {},
     "output_type": "execute_result"
    },
    {
     "data": {
      "image/png": "[encoded data removed]",
      "text/plain": [
       "<Figure size 360x360 with 1 Axes>"
      ]
     },
     "metadata": {},
     "output_type": "display_data"
    }
   ],
   "source": [
    "sns.set(rc={'figure.figsize':(2,2)})\n",
    "fig = sns.displot(results, x='intensity', y='confidence', binwidth=1, binrange=[0.5,7.5]) \n",
    "fig.set_axis_labels('Intensity', 'Confidence')"
   ]
  },
  {
   "cell_type": "code",
   "execution_count": null,
   "metadata": {},
   "outputs": [],
   "source": []
  },
  {
   "cell_type": "code",
   "execution_count": 37,
   "metadata": {},
   "outputs": [],
   "source": [
    "from scipy.stats import spearmanr"
   ]
  },
  {
   "cell_type": "code",
   "execution_count": 38,
   "metadata": {},
   "outputs": [
    {
     "data": {
      "text/plain": [
       "SpearmanrResult(correlation=0.3558629711818479, pvalue=1.5621109160828781e-91)"
      ]
     },
     "execution_count": 38,
     "metadata": {},
     "output_type": "execute_result"
    }
   ],
   "source": [
    "spearmanr(results['intensity'], results['confidence'])"
   ]
  },
  {
   "cell_type": "code",
   "execution_count": 39,
   "metadata": {},
   "outputs": [],
   "source": [
    "fig.savefig('./figures/confidence_intensity.png', dpi=300, bbox_inches='tight')"
   ]
  },
  {
   "cell_type": "markdown",
   "metadata": {},
   "source": [
    "# Onset agreement\n",
    "\n",
    "Here I plot a histogram of the differences in onset between annotations of the same segment (per condition)\n",
    "\n",
    "- I only measure the differences when both annotators pressed the key\n",
    "- Interesting plot but I think I need more samples for it to be useful"
   ]
  },
  {
   "cell_type": "code",
   "execution_count": 30,
   "metadata": {},
   "outputs": [
    {
     "data": {
      "text/plain": [
       "array(['audio', 'av', 'video'], dtype=object)"
      ]
     },
     "execution_count": 30,
     "metadata": {},
     "output_type": "execute_result"
    }
   ],
   "source": [
    "results['condition'].unique()"
   ]
  },
  {
   "cell_type": "code",
   "execution_count": 31,
   "metadata": {},
   "outputs": [],
   "source": [
    "onset_diffs = {}\n",
    "for condition in results['condition'].unique():\n",
    "    onset_diffs[condition] = []\n",
    "\n",
    "    hit_pairs = itertools.combinations(results['hit_id'].unique(), 2)\n",
    "    for hit_a, hit_b in hit_pairs:\n",
    "        a = results.loc[(results['hit_id'] == hit_a) & (results['condition'] == condition) & (results['calibration'] == False)]\n",
    "        b = results.loc[(results['hit_id'] == hit_b) & (results['condition'] == condition) & (results['calibration'] == False)]\n",
    "\n",
    "        # get the intersection of both annotator's examples\n",
    "        intersection = pd.merge(a, b, how='inner', on=['hash'])\n",
    "        if len(intersection) < 20:\n",
    "            continue\n",
    "\n",
    "        rows = intersection.loc[intersection['onset_x'].notna() & intersection['onset_y'].notna()]\n",
    "        hit_diffs = np.abs(rows['onset_x'].to_numpy() - rows['onset_y'].to_numpy())\n",
    "        onset_diffs[condition].append(hit_diffs)"
   ]
  },
  {
   "cell_type": "code",
   "execution_count": 32,
   "metadata": {},
   "outputs": [
    {
     "data": {
      "image/png": "[encoded data removed]",
      "text/plain": [
       "<Figure size 640x160 with 3 Axes>"
      ]
     },
     "metadata": {},
     "output_type": "display_data"
    }
   ],
   "source": [
    "fig, ax = plt.subplots(1, 3, sharey=True, figsize=(8, 2), dpi=80)\n",
    "for i, (condition, diffs) in enumerate(onset_diffs.items()):\n",
    "    condition_diffs = np.concatenate(diffs)\n",
    "    ax[i].set_title(condition)\n",
    "    ax[i].set_xlabel('time (s)')\n",
    "    ax[i].hist(condition_diffs, bins=np.arange(0, 4 + 0.2, 0.2))"
   ]
  },
  {
   "cell_type": "markdown",
   "metadata": {},
   "source": [
    "# Resolution\n",
    "\n",
    "Here I calculate the fraction of skipped frames due to browser delay (user-specific)"
   ]
  },
  {
   "cell_type": "code",
   "execution_count": 43,
   "metadata": {},
   "outputs": [],
   "source": [
    "one_fractions = []\n",
    "num_all_zeroes = 0\n",
    "for i, ca in enumerate(cont_annot):\n",
    "    media_time = ca['media_time'].to_numpy()\n",
    "    try:\n",
    "        first_nonzero_idx = np.where(media_time != 0)[0][0]\n",
    "    except:\n",
    "        num_all_zeroes += 1\n",
    "        continue\n",
    "        # print(f'media time all zeroes for idx {i}')\n",
    "\n",
    "    valid_data = media_time[first_nonzero_idx:]\n",
    "\n",
    "    zero_idxs = np.where(valid_data == 0)[0]\n",
    "    if len(zero_idxs) <= 1:\n",
    "        first_zero_idx = len(zero_idxs) - 1\n",
    "    else:\n",
    "        first_zero_idx = zero_idxs[1]\n",
    "    valid_data = valid_data[:first_zero_idx-1]\n",
    "    one_fractions.append(np.sum(valid_data != 0) / len(valid_data))"
   ]
  },
  {
   "cell_type": "code",
   "execution_count": 44,
   "metadata": {},
   "outputs": [
    {
     "data": {
      "text/plain": [
       "(180, 3043)"
      ]
     },
     "execution_count": 44,
     "metadata": {},
     "output_type": "execute_result"
    }
   ],
   "source": [
    "(num_all_zeroes, len(cont_annot))"
   ]
  },
  {
   "cell_type": "code",
   "execution_count": 45,
   "metadata": {},
   "outputs": [
    {
     "data": {
      "text/plain": [
       "0.9154732797764583"
      ]
     },
     "execution_count": 45,
     "metadata": {},
     "output_type": "execute_result"
    }
   ],
   "source": [
    "np.sum(np.array(one_fractions) == 1) / len(one_fractions)"
   ]
  },
  {
   "cell_type": "code",
   "execution_count": 46,
   "metadata": {},
   "outputs": [
    {
     "data": {
      "text/plain": [
       "0.9991050848613752"
      ]
     },
     "execution_count": 46,
     "metadata": {},
     "output_type": "execute_result"
    }
   ],
   "source": [
    "np.mean(one_fractions)"
   ]
  },
  {
   "cell_type": "markdown",
   "metadata": {},
   "source": [
    "# Annotation diagrams\n",
    "\n",
    "Here I created diagrams of annotation onset and offset"
   ]
  },
  {
   "cell_type": "code",
   "execution_count": 33,
   "metadata": {},
   "outputs": [
    {
     "data": {
      "text/html": [
       "<div>\n",
       "<style scoped>\n",
       "    .dataframe tbody tr th:only-of-type {\n",
       "        vertical-align: middle;\n",
       "    }\n",
       "\n",
       "    .dataframe tbody tr th {\n",
       "        vertical-align: top;\n",
       "    }\n",
       "\n",
       "    .dataframe thead th {\n",
       "        text-align: right;\n",
       "    }\n",
       "</style>\n",
       "<table border=\"1\" class=\"dataframe\">\n",
       "  <thead>\n",
       "    <tr style=\"text-align: right;\">\n",
       "      <th></th>\n",
       "      <th>person</th>\n",
       "      <th>cam</th>\n",
       "      <th>hit_id</th>\n",
       "      <th>condition</th>\n",
       "      <th>calibration</th>\n",
       "      <th>hash</th>\n",
       "      <th>ini_time</th>\n",
       "      <th>end_time</th>\n",
       "      <th>_ini_time</th>\n",
       "      <th>_end_time</th>\n",
       "      <th>...</th>\n",
       "      <th>gt_laughter</th>\n",
       "      <th>is_laughter</th>\n",
       "      <th>confidence</th>\n",
       "      <th>intensity</th>\n",
       "      <th>rating_hash</th>\n",
       "      <th>attempt</th>\n",
       "      <th>pressed_key</th>\n",
       "      <th>onset</th>\n",
       "      <th>offset</th>\n",
       "      <th>duh_score</th>\n",
       "    </tr>\n",
       "  </thead>\n",
       "  <tbody>\n",
       "    <tr>\n",
       "      <th>0</th>\n",
       "      <td>21</td>\n",
       "      <td>1</td>\n",
       "      <td>024a80de5a3a053d40e1b7f3086e70c34cd90fc2a9668ccc6c47f7293425a185</td>\n",
       "      <td>audio</td>\n",
       "      <td>False</td>\n",
       "      <td>fec1e2585d21cffcf094c615b68e22dcc88dba1d31287773b2f11bf14e09043c</td>\n",
       "      <td>4117.1980</td>\n",
       "      <td>4117.6820</td>\n",
       "      <td>4115.6439</td>\n",
       "      <td>4119.5185</td>\n",
       "      <td>...</td>\n",
       "      <td>True</td>\n",
       "      <td>False</td>\n",
       "      <td>7</td>\n",
       "      <td>4</td>\n",
       "      <td>80686f50a88183c844460e76d34085728602fdcf45e98a3dfbfc59257dd5e619</td>\n",
       "      <td>0</td>\n",
       "      <td>False</td>\n",
       "      <td>NaN</td>\n",
       "      <td>NaN</td>\n",
       "      <td>0.4411</td>\n",
       "    </tr>\n",
       "    <tr>\n",
       "      <th>1</th>\n",
       "      <td>17</td>\n",
       "      <td>1</td>\n",
       "      <td>024a80de5a3a053d40e1b7f3086e70c34cd90fc2a9668ccc6c47f7293425a185</td>\n",
       "      <td>audio</td>\n",
       "      <td>False</td>\n",
       "      <td>ec84022e240482976063d686d8e9b1d59e0cbf9b46e763f658e8f2d130d15bbe</td>\n",
       "      <td>3480.7383</td>\n",
       "      <td>3488.2258</td>\n",
       "      <td>3480.7383</td>\n",
       "      <td>3488.2258</td>\n",
       "      <td>...</td>\n",
       "      <td>False</td>\n",
       "      <td>False</td>\n",
       "      <td>7</td>\n",
       "      <td>4</td>\n",
       "      <td>b646fb8e3448094fdee87a11bdc2d667f2e55dd801b2db473a4e182b350f4dd0</td>\n",
       "      <td>0</td>\n",
       "      <td>False</td>\n",
       "      <td>NaN</td>\n",
       "      <td>NaN</td>\n",
       "      <td>0.4411</td>\n",
       "    </tr>\n",
       "    <tr>\n",
       "      <th>2</th>\n",
       "      <td>7</td>\n",
       "      <td>1</td>\n",
       "      <td>024a80de5a3a053d40e1b7f3086e70c34cd90fc2a9668ccc6c47f7293425a185</td>\n",
       "      <td>audio</td>\n",
       "      <td>False</td>\n",
       "      <td>0987eb7c8da769fc6a38242d2cc4ab1daad329bb952aa8a88e7774d38d8c6c9f</td>\n",
       "      <td>5824.9800</td>\n",
       "      <td>5825.8800</td>\n",
       "      <td>5822.7343</td>\n",
       "      <td>5829.0501</td>\n",
       "      <td>...</td>\n",
       "      <td>True</td>\n",
       "      <td>True</td>\n",
       "      <td>7</td>\n",
       "      <td>6</td>\n",
       "      <td>6b6745682546434a956c6ef947b015d0b35500ca71326b48d99a7f141d4d0076</td>\n",
       "      <td>0</td>\n",
       "      <td>True</td>\n",
       "      <td>2.9432</td>\n",
       "      <td>4.1432</td>\n",
       "      <td>1.0930</td>\n",
       "    </tr>\n",
       "    <tr>\n",
       "      <th>3</th>\n",
       "      <td>23</td>\n",
       "      <td>1</td>\n",
       "      <td>024a80de5a3a053d40e1b7f3086e70c34cd90fc2a9668ccc6c47f7293425a185</td>\n",
       "      <td>audio</td>\n",
       "      <td>False</td>\n",
       "      <td>bbcf04f61b50904b044dee510cfec23030cb52006c0785094ef891be02ac13ee</td>\n",
       "      <td>7329.0950</td>\n",
       "      <td>7329.6790</td>\n",
       "      <td>7326.2076</td>\n",
       "      <td>7331.6872</td>\n",
       "      <td>...</td>\n",
       "      <td>True</td>\n",
       "      <td>True</td>\n",
       "      <td>7</td>\n",
       "      <td>3</td>\n",
       "      <td>cee709b18eea784f4eb6f0408b86fa5224f032c6d99806b9a1a4cf08b138d249</td>\n",
       "      <td>0</td>\n",
       "      <td>True</td>\n",
       "      <td>3.5032</td>\n",
       "      <td>3.9832</td>\n",
       "      <td>0.1151</td>\n",
       "    </tr>\n",
       "    <tr>\n",
       "      <th>4</th>\n",
       "      <td>7</td>\n",
       "      <td>2</td>\n",
       "      <td>024a80de5a3a053d40e1b7f3086e70c34cd90fc2a9668ccc6c47f7293425a185</td>\n",
       "      <td>audio</td>\n",
       "      <td>False</td>\n",
       "      <td>08755169b187562233dc5fabd6268a969fa61915c0d14cc70c37a9b4aa3e38e7</td>\n",
       "      <td>4187.7300</td>\n",
       "      <td>4193.8637</td>\n",
       "      <td>4187.7300</td>\n",
       "      <td>4193.8637</td>\n",
       "      <td>...</td>\n",
       "      <td>False</td>\n",
       "      <td>False</td>\n",
       "      <td>7</td>\n",
       "      <td>4</td>\n",
       "      <td>04cf4d5ce06b3f1488685bcd2e85c04a763923bf971ab01c8f25c6024a803f41</td>\n",
       "      <td>0</td>\n",
       "      <td>False</td>\n",
       "      <td>NaN</td>\n",
       "      <td>NaN</td>\n",
       "      <td>0.4411</td>\n",
       "    </tr>\n",
       "  </tbody>\n",
       "</table>\n",
       "<p>5 rows × 22 columns</p>\n",
       "</div>"
      ],
      "text/plain": [
       "   person  cam  \\\n",
       "0      21    1   \n",
       "1      17    1   \n",
       "2       7    1   \n",
       "3      23    1   \n",
       "4       7    2   \n",
       "\n",
       "                                                             hit_id condition  \\\n",
       "0  024a80de5a3a053d40e1b7f3086e70c34cd90fc2a9668ccc6c47f7293425a185     audio   \n",
       "1  024a80de5a3a053d40e1b7f3086e70c34cd90fc2a9668ccc6c47f7293425a185     audio   \n",
       "2  024a80de5a3a053d40e1b7f3086e70c34cd90fc2a9668ccc6c47f7293425a185     audio   \n",
       "3  024a80de5a3a053d40e1b7f3086e70c34cd90fc2a9668ccc6c47f7293425a185     audio   \n",
       "4  024a80de5a3a053d40e1b7f3086e70c34cd90fc2a9668ccc6c47f7293425a185     audio   \n",
       "\n",
       "   calibration  \\\n",
       "0        False   \n",
       "1        False   \n",
       "2        False   \n",
       "3        False   \n",
       "4        False   \n",
       "\n",
       "                                                               hash  \\\n",
       "0  fec1e2585d21cffcf094c615b68e22dcc88dba1d31287773b2f11bf14e09043c   \n",
       "1  ec84022e240482976063d686d8e9b1d59e0cbf9b46e763f658e8f2d130d15bbe   \n",
       "2  0987eb7c8da769fc6a38242d2cc4ab1daad329bb952aa8a88e7774d38d8c6c9f   \n",
       "3  bbcf04f61b50904b044dee510cfec23030cb52006c0785094ef891be02ac13ee   \n",
       "4  08755169b187562233dc5fabd6268a969fa61915c0d14cc70c37a9b4aa3e38e7   \n",
       "\n",
       "    ini_time   end_time  _ini_time  _end_time  ...  gt_laughter  is_laughter  \\\n",
       "0  4117.1980  4117.6820  4115.6439  4119.5185  ...         True        False   \n",
       "1  3480.7383  3488.2258  3480.7383  3488.2258  ...        False        False   \n",
       "2  5824.9800  5825.8800  5822.7343  5829.0501  ...         True         True   \n",
       "3  7329.0950  7329.6790  7326.2076  7331.6872  ...         True         True   \n",
       "4  4187.7300  4193.8637  4187.7300  4193.8637  ...        False        False   \n",
       "\n",
       "   confidence  intensity  \\\n",
       "0           7          4   \n",
       "1           7          4   \n",
       "2           7          6   \n",
       "3           7          3   \n",
       "4           7          4   \n",
       "\n",
       "                                                        rating_hash  attempt  \\\n",
       "0  80686f50a88183c844460e76d34085728602fdcf45e98a3dfbfc59257dd5e619        0   \n",
       "1  b646fb8e3448094fdee87a11bdc2d667f2e55dd801b2db473a4e182b350f4dd0        0   \n",
       "2  6b6745682546434a956c6ef947b015d0b35500ca71326b48d99a7f141d4d0076        0   \n",
       "3  cee709b18eea784f4eb6f0408b86fa5224f032c6d99806b9a1a4cf08b138d249        0   \n",
       "4  04cf4d5ce06b3f1488685bcd2e85c04a763923bf971ab01c8f25c6024a803f41        0   \n",
       "\n",
       "  pressed_key   onset  offset  duh_score  \n",
       "0       False     NaN     NaN     0.4411  \n",
       "1       False     NaN     NaN     0.4411  \n",
       "2        True  2.9432  4.1432     1.0930  \n",
       "3        True  3.5032  3.9832     0.1151  \n",
       "4       False     NaN     NaN     0.4411  \n",
       "\n",
       "[5 rows x 22 columns]"
      ]
     },
     "execution_count": 33,
     "metadata": {},
     "output_type": "execute_result"
    }
   ],
   "source": [
    "results.head()"
   ]
  },
  {
   "cell_type": "code",
   "execution_count": 49,
   "metadata": {},
   "outputs": [],
   "source": [
    "def make_annot_diagram(ax, condition, reference='gt_ini', intensity=[1,7], confidence=[1,7]):\n",
    "    # ignore samples without gt laughter\n",
    "    df = results.loc[\n",
    "        (results['intensity'] >= intensity[0]) & \n",
    "        (results['intensity'] <= intensity[1]) & \n",
    "        (results['confidence'] >= confidence[0]) & \n",
    "        (results['confidence'] <= confidence[1]) & \n",
    "        (results['condition'] == condition) & \n",
    "        (results[reference].notna()) & \n",
    "        results['pressed_key']]\n",
    "\n",
    "    cont_annots = np.full((len(df), 30*6+1), np.nan) # 6 seconds @ 30fps\n",
    "    for i, (index, response) in enumerate(df.iterrows()):\n",
    "        ca = cont_annot[index]\n",
    "        for index, row in ca.iterrows():\n",
    "            if row['media_time'] == 0: # ignore skipped values\n",
    "                continue\n",
    "            sample_index = round(90 + (row['media_time'] - response[reference]) * 30)\n",
    "            try:\n",
    "                cont_annots[i, sample_index] = row['data0']\n",
    "            except IndexError:\n",
    "                pass\n",
    "\n",
    "    mean_annots = np.nanmean(cont_annots, axis=0)\n",
    "    times = np.arange(-3, 3+1/30, 1/30)\n",
    "        \n",
    "    ax.plot(times, mean_annots, linewidth=0.5)\n",
    "    ax.axvline(x=0, linestyle='--', color='r', linewidth=0.5)\n",
    "    ax.set_xticks(ticks=np.arange(-3,3,1))\n",
    "    ax.set_xticks(ticks=np.arange(-3,3,0.2), minor=True)"
   ]
  },
  {
   "cell_type": "code",
   "execution_count": 50,
   "metadata": {},
   "outputs": [],
   "source": [
    "def make_onset_offset_fig(intensity=[1,7], confidence=[1,7]):\n",
    "    fig, ((ax1, ax2, ax3), (ax4, ax5, ax6)) = plt.subplots(2, 3, figsize=(8, 4), sharey=True, sharex=True, dpi=150)\n",
    "    make_annot_diagram(ax1, 'video', 'gt_ini', intensity, confidence)\n",
    "    make_annot_diagram(ax2, 'audio', 'gt_ini', intensity, confidence)\n",
    "    make_annot_diagram(ax3, 'av', 'gt_ini', intensity, confidence)\n",
    "    make_annot_diagram(ax4, 'video', 'gt_end', intensity, confidence)\n",
    "    make_annot_diagram(ax5, 'audio', 'gt_end', intensity, confidence)\n",
    "    make_annot_diagram(ax6, 'av', 'gt_end', intensity, confidence)\n",
    "    ax1.set_title('Video')\n",
    "    ax2.set_title('Audio')\n",
    "    ax3.set_title('Audiovisual')\n",
    "    ax5.set_xlabel('time (s)')\n",
    "    ax1.set_ylabel('mean(annotations)')\n",
    "    ax4.set_ylabel('mean(annotations)')\n",
    "    fig.savefig('./figures/onsets_offsets.png', dpi=300, bbox_inches='tight')"
   ]
  },
  {
   "cell_type": "code",
   "execution_count": 51,
   "metadata": {},
   "outputs": [
    {
     "data": {
      "image/png": "[encoded data removed]",
      "text/plain": [
       "<Figure size 1200x600 with 6 Axes>"
      ]
     },
     "metadata": {},
     "output_type": "display_data"
    }
   ],
   "source": [
    "make_onset_offset_fig()"
   ]
  },
  {
   "cell_type": "code",
   "execution_count": 52,
   "metadata": {},
   "outputs": [
    {
     "data": {
      "image/png": "[encoded data removed]",
      "text/plain": [
       "<Figure size 1200x600 with 6 Axes>"
      ]
     },
     "metadata": {},
     "output_type": "display_data"
    }
   ],
   "source": [
    "make_onset_offset_fig(confidence=[5,7])"
   ]
  },
  {
   "cell_type": "code",
   "execution_count": null,
   "metadata": {},
   "outputs": [],
   "source": []
  },
  {
   "cell_type": "markdown",
   "metadata": {},
   "source": [
    "# Reaction times"
   ]
  },
  {
   "cell_type": "code",
   "execution_count": 53,
   "metadata": {},
   "outputs": [],
   "source": [
    "def make_reaction_time_diagram(ax, results, intervals):\n",
    "    # ignore samples without gt laughter\n",
    "    video_len = len(results[0])\n",
    "\n",
    "    video_len = np.max([len(r['data']) for r in results])\n",
    "\n",
    "    data = []\n",
    "    for res in results:\n",
    "        if len(res['data']) != video_len:\n",
    "            print(f'unusual length for hit_id {res[\"hit_id\"]}')\n",
    "            continue\n",
    "        data.append(res['data']['data0'].to_numpy())\n",
    "\n",
    "\n",
    "    data = np.vstack(data)\n",
    "        \n",
    "    ax.plot(np.arange(data.shape[1])*1/30, np.nanmean(data, axis=0), linewidth=0.5, color='black')\n",
    "    for intval in intervals:\n",
    "        ini = round(intval[0])\n",
    "        end = round(intval[1])\n",
    "        # ax.axvline(x=ini, linestyle='--', color='r', linewidth=0.5)\n",
    "        # ax.axvline(x=end, linestyle='--', color='r', linewidth=0.5)\n",
    "        ax.axvspan(ini, end, facecolor='0.2', alpha=0.2)\n",
    "    # ax.set_xticks(ticks=np.arange(-3,3,1))\n",
    "    # ax.set_xticks(ticks=np.arange(-3,3,0.2), minor=True)"
   ]
  },
  {
   "cell_type": "code",
   "execution_count": 54,
   "metadata": {},
   "outputs": [],
   "source": [
    "def make_reaction_time_fig(reaction_time_results):\n",
    "\n",
    "    example0_results = [ex for ex in reaction_time_results if ex['example_id'] == 0]\n",
    "    example2_results = [ex for ex in reaction_time_results if ex['example_id'] == 2]\n",
    "    example4_results = [ex for ex in reaction_time_results if ex['example_id'] == 4]\n",
    "\n",
    "    fig, ((ax1, ax2, ax3)) = plt.subplots(3, 1, figsize=(4, 5), sharey=True, sharex=True, dpi=150)\n",
    "    make_reaction_time_diagram(ax1, example0_results, example0_results[0]['gt_intervals'])\n",
    "    make_reaction_time_diagram(ax2, example2_results, example2_results[0]['gt_intervals'])\n",
    "    make_reaction_time_diagram(ax3, example4_results, example4_results[0]['gt_intervals'])\n",
    "    # sns.set_style(\"whitegrid\")\n",
    "    ax3.set_xlabel('time (s)')\n",
    "    ax1.set_ylabel('mean(annotations)')\n",
    "    ax2.set_ylabel('mean(annotations)')\n",
    "    ax3.set_ylabel('mean(annotations)')\n",
    "    ax1.yaxis.grid(True)\n",
    "    ax1.xaxis.grid(False)\n",
    "    ax2.yaxis.grid(True)\n",
    "    ax2.xaxis.grid(False)\n",
    "    ax3.yaxis.grid(True)\n",
    "    ax3.xaxis.grid(False)\n",
    "    ax1.set_xticks(range(0,12), minor=True)\n",
    "    fig.savefig('./figures/reaction_times.png', dpi=300, bbox_inches='tight')"
   ]
  },
  {
   "cell_type": "code",
   "execution_count": 55,
   "metadata": {},
   "outputs": [],
   "source": [
    "reaction_time_results = pickle.load(open(os.path.join(pilot_path, 'reaction_time_results.pkl'), 'rb'))"
   ]
  },
  {
   "cell_type": "code",
   "execution_count": 56,
   "metadata": {},
   "outputs": [
    {
     "name": "stdout",
     "output_type": "stream",
     "text": [
      "unusual length for hit_id 694a4fa5b2a7733614c89f9c82605b95a39706c5f91a510d635dec64e994e19c\n",
      "unusual length for hit_id ca937e8850406d600f550a0c751af3dce5cc45059621f4c530e1f8d6dbd17355\n",
      "unusual length for hit_id 694a4fa5b2a7733614c89f9c82605b95a39706c5f91a510d635dec64e994e19c\n",
      "unusual length for hit_id ca937e8850406d600f550a0c751af3dce5cc45059621f4c530e1f8d6dbd17355\n"
     ]
    },
    {
     "data": {
      "image/png": "[encoded data removed]",
      "text/plain": [
       "<Figure size 600x750 with 3 Axes>"
      ]
     },
     "metadata": {},
     "output_type": "display_data"
    }
   ],
   "source": [
    "make_reaction_time_fig(reaction_time_results)"
   ]
  },
  {
   "cell_type": "markdown",
   "metadata": {},
   "source": [
    "# Correction of delays\n",
    "\n",
    "Here I correct the delays using the Calibration samples"
   ]
  },
  {
   "cell_type": "code",
   "execution_count": 57,
   "metadata": {},
   "outputs": [],
   "source": [
    "calibration_examples = results[results['calibration']]"
   ]
  },
  {
   "cell_type": "code",
   "execution_count": 58,
   "metadata": {},
   "outputs": [
    {
     "data": {
      "text/html": [
       "<div>\n",
       "<style scoped>\n",
       "    .dataframe tbody tr th:only-of-type {\n",
       "        vertical-align: middle;\n",
       "    }\n",
       "\n",
       "    .dataframe tbody tr th {\n",
       "        vertical-align: top;\n",
       "    }\n",
       "\n",
       "    .dataframe thead th {\n",
       "        text-align: right;\n",
       "    }\n",
       "</style>\n",
       "<table border=\"1\" class=\"dataframe\">\n",
       "  <thead>\n",
       "    <tr style=\"text-align: right;\">\n",
       "      <th></th>\n",
       "      <th>person</th>\n",
       "      <th>hit_id</th>\n",
       "      <th>condition</th>\n",
       "      <th>calibration</th>\n",
       "      <th>hash</th>\n",
       "      <th>gt_ini</th>\n",
       "      <th>gt_end</th>\n",
       "      <th>gt_laughter</th>\n",
       "      <th>is_laughter</th>\n",
       "      <th>confidence</th>\n",
       "      <th>intensity</th>\n",
       "      <th>attempt</th>\n",
       "      <th>pressed_key</th>\n",
       "      <th>onset</th>\n",
       "      <th>offset</th>\n",
       "      <th>duh_score</th>\n",
       "    </tr>\n",
       "  </thead>\n",
       "  <tbody>\n",
       "    <tr>\n",
       "      <th>5</th>\n",
       "      <td>NaN</td>\n",
       "      <td>9c45e4f0c5442e796eb93e73e94dc6c2dfca7b9c4c54ff9314ab0956fc1f454a</td>\n",
       "      <td>av</td>\n",
       "      <td>True</td>\n",
       "      <td>bb6337eea970487ce9cd4ff26ea78c7acc6d5d1a355b7aa50029a3229f115b21</td>\n",
       "      <td>4478.9183</td>\n",
       "      <td>4485.8292</td>\n",
       "      <td>True</td>\n",
       "      <td>True</td>\n",
       "      <td>7</td>\n",
       "      <td>5</td>\n",
       "      <td>0</td>\n",
       "      <td>True</td>\n",
       "      <td>2.1253</td>\n",
       "      <td>5.3285</td>\n",
       "      <td>0.7805</td>\n",
       "    </tr>\n",
       "    <tr>\n",
       "      <th>25</th>\n",
       "      <td>NaN</td>\n",
       "      <td>9c45e4f0c5442e796eb93e73e94dc6c2dfca7b9c4c54ff9314ab0956fc1f454a</td>\n",
       "      <td>audio</td>\n",
       "      <td>True</td>\n",
       "      <td>68d229cf19eec82f37580265ea93892117dd5b559b04d22489da3593315f18e7</td>\n",
       "      <td>1749.8260</td>\n",
       "      <td>1756.9123</td>\n",
       "      <td>True</td>\n",
       "      <td>True</td>\n",
       "      <td>7</td>\n",
       "      <td>4</td>\n",
       "      <td>0</td>\n",
       "      <td>True</td>\n",
       "      <td>3.3832</td>\n",
       "      <td>4.9432</td>\n",
       "      <td>0.4544</td>\n",
       "    </tr>\n",
       "    <tr>\n",
       "      <th>40</th>\n",
       "      <td>NaN</td>\n",
       "      <td>9c45e4f0c5442e796eb93e73e94dc6c2dfca7b9c4c54ff9314ab0956fc1f454a</td>\n",
       "      <td>av</td>\n",
       "      <td>True</td>\n",
       "      <td>ced6e78fe7940c10fbc9d7c385273e68459ca399ccb668c8123cf5a66fa99819</td>\n",
       "      <td>1472.9351</td>\n",
       "      <td>1484.6599</td>\n",
       "      <td>True</td>\n",
       "      <td>True</td>\n",
       "      <td>7</td>\n",
       "      <td>5</td>\n",
       "      <td>0</td>\n",
       "      <td>True</td>\n",
       "      <td>2.8594</td>\n",
       "      <td>8.2314</td>\n",
       "      <td>0.7805</td>\n",
       "    </tr>\n",
       "    <tr>\n",
       "      <th>61</th>\n",
       "      <td>NaN</td>\n",
       "      <td>9c45e4f0c5442e796eb93e73e94dc6c2dfca7b9c4c54ff9314ab0956fc1f454a</td>\n",
       "      <td>video</td>\n",
       "      <td>True</td>\n",
       "      <td>64a92aea9395ace7ac9d60eab34911e419fc66610cd76f1e29df4b4fd16f230f</td>\n",
       "      <td>5740.4963</td>\n",
       "      <td>5746.5375</td>\n",
       "      <td>True</td>\n",
       "      <td>True</td>\n",
       "      <td>7</td>\n",
       "      <td>6</td>\n",
       "      <td>0</td>\n",
       "      <td>True</td>\n",
       "      <td>3.9373</td>\n",
       "      <td>6.0060</td>\n",
       "      <td>1.1065</td>\n",
       "    </tr>\n",
       "    <tr>\n",
       "      <th>64</th>\n",
       "      <td>NaN</td>\n",
       "      <td>9c45e4f0c5442e796eb93e73e94dc6c2dfca7b9c4c54ff9314ab0956fc1f454a</td>\n",
       "      <td>audio</td>\n",
       "      <td>True</td>\n",
       "      <td>b438e94f7fdcc80ea7927e320946c7b407b7c850fe04baa60a07a5df7d92a711</td>\n",
       "      <td>7978.6138</td>\n",
       "      <td>7985.9294</td>\n",
       "      <td>True</td>\n",
       "      <td>True</td>\n",
       "      <td>7</td>\n",
       "      <td>7</td>\n",
       "      <td>0</td>\n",
       "      <td>True</td>\n",
       "      <td>3.5432</td>\n",
       "      <td>5.1032</td>\n",
       "      <td>1.4325</td>\n",
       "    </tr>\n",
       "    <tr>\n",
       "      <th>...</th>\n",
       "      <td>...</td>\n",
       "      <td>...</td>\n",
       "      <td>...</td>\n",
       "      <td>...</td>\n",
       "      <td>...</td>\n",
       "      <td>...</td>\n",
       "      <td>...</td>\n",
       "      <td>...</td>\n",
       "      <td>...</td>\n",
       "      <td>...</td>\n",
       "      <td>...</td>\n",
       "      <td>...</td>\n",
       "      <td>...</td>\n",
       "      <td>...</td>\n",
       "      <td>...</td>\n",
       "      <td>...</td>\n",
       "    </tr>\n",
       "    <tr>\n",
       "      <th>2981</th>\n",
       "      <td>NaN</td>\n",
       "      <td>35f50eef5e40d005a0a8062d9e72a6adc5d9400e5ad7a91ff7e47e2cc073428f</td>\n",
       "      <td>audio</td>\n",
       "      <td>True</td>\n",
       "      <td>68d229cf19eec82f37580265ea93892117dd5b559b04d22489da3593315f18e7</td>\n",
       "      <td>1749.8260</td>\n",
       "      <td>1756.9123</td>\n",
       "      <td>True</td>\n",
       "      <td>True</td>\n",
       "      <td>7</td>\n",
       "      <td>6</td>\n",
       "      <td>0</td>\n",
       "      <td>True</td>\n",
       "      <td>3.4632</td>\n",
       "      <td>5.9032</td>\n",
       "      <td>1.1065</td>\n",
       "    </tr>\n",
       "    <tr>\n",
       "      <th>2995</th>\n",
       "      <td>NaN</td>\n",
       "      <td>35f50eef5e40d005a0a8062d9e72a6adc5d9400e5ad7a91ff7e47e2cc073428f</td>\n",
       "      <td>av</td>\n",
       "      <td>True</td>\n",
       "      <td>ced6e78fe7940c10fbc9d7c385273e68459ca399ccb668c8123cf5a66fa99819</td>\n",
       "      <td>1472.9351</td>\n",
       "      <td>1484.6599</td>\n",
       "      <td>True</td>\n",
       "      <td>True</td>\n",
       "      <td>7</td>\n",
       "      <td>6</td>\n",
       "      <td>0</td>\n",
       "      <td>True</td>\n",
       "      <td>3.1597</td>\n",
       "      <td>9.4326</td>\n",
       "      <td>1.1065</td>\n",
       "    </tr>\n",
       "    <tr>\n",
       "      <th>3004</th>\n",
       "      <td>NaN</td>\n",
       "      <td>35f50eef5e40d005a0a8062d9e72a6adc5d9400e5ad7a91ff7e47e2cc073428f</td>\n",
       "      <td>audio</td>\n",
       "      <td>True</td>\n",
       "      <td>b438e94f7fdcc80ea7927e320946c7b407b7c850fe04baa60a07a5df7d92a711</td>\n",
       "      <td>7978.6138</td>\n",
       "      <td>7985.9294</td>\n",
       "      <td>True</td>\n",
       "      <td>True</td>\n",
       "      <td>7</td>\n",
       "      <td>6</td>\n",
       "      <td>0</td>\n",
       "      <td>True</td>\n",
       "      <td>3.3432</td>\n",
       "      <td>5.8632</td>\n",
       "      <td>1.1065</td>\n",
       "    </tr>\n",
       "    <tr>\n",
       "      <th>3011</th>\n",
       "      <td>NaN</td>\n",
       "      <td>35f50eef5e40d005a0a8062d9e72a6adc5d9400e5ad7a91ff7e47e2cc073428f</td>\n",
       "      <td>video</td>\n",
       "      <td>True</td>\n",
       "      <td>85aac70ec91eb3be1b313b33e0b7828394bbe4e4edc6a956d1e7061dfc8b250e</td>\n",
       "      <td>5785.1085</td>\n",
       "      <td>5790.4775</td>\n",
       "      <td>True</td>\n",
       "      <td>True</td>\n",
       "      <td>7</td>\n",
       "      <td>5</td>\n",
       "      <td>0</td>\n",
       "      <td>True</td>\n",
       "      <td>2.3357</td>\n",
       "      <td>4.4711</td>\n",
       "      <td>0.7805</td>\n",
       "    </tr>\n",
       "    <tr>\n",
       "      <th>3028</th>\n",
       "      <td>NaN</td>\n",
       "      <td>35f50eef5e40d005a0a8062d9e72a6adc5d9400e5ad7a91ff7e47e2cc073428f</td>\n",
       "      <td>video</td>\n",
       "      <td>True</td>\n",
       "      <td>64a92aea9395ace7ac9d60eab34911e419fc66610cd76f1e29df4b4fd16f230f</td>\n",
       "      <td>5740.4963</td>\n",
       "      <td>5746.5375</td>\n",
       "      <td>True</td>\n",
       "      <td>True</td>\n",
       "      <td>7</td>\n",
       "      <td>7</td>\n",
       "      <td>0</td>\n",
       "      <td>True</td>\n",
       "      <td>4.0374</td>\n",
       "      <td>5.0717</td>\n",
       "      <td>1.4325</td>\n",
       "    </tr>\n",
       "  </tbody>\n",
       "</table>\n",
       "<p>203 rows × 16 columns</p>\n",
       "</div>"
      ],
      "text/plain": [
       "      person  \\\n",
       "5        NaN   \n",
       "25       NaN   \n",
       "40       NaN   \n",
       "61       NaN   \n",
       "64       NaN   \n",
       "...      ...   \n",
       "2981     NaN   \n",
       "2995     NaN   \n",
       "3004     NaN   \n",
       "3011     NaN   \n",
       "3028     NaN   \n",
       "\n",
       "                                                                hit_id  \\\n",
       "5     9c45e4f0c5442e796eb93e73e94dc6c2dfca7b9c4c54ff9314ab0956fc1f454a   \n",
       "25    9c45e4f0c5442e796eb93e73e94dc6c2dfca7b9c4c54ff9314ab0956fc1f454a   \n",
       "40    9c45e4f0c5442e796eb93e73e94dc6c2dfca7b9c4c54ff9314ab0956fc1f454a   \n",
       "61    9c45e4f0c5442e796eb93e73e94dc6c2dfca7b9c4c54ff9314ab0956fc1f454a   \n",
       "64    9c45e4f0c5442e796eb93e73e94dc6c2dfca7b9c4c54ff9314ab0956fc1f454a   \n",
       "...                                                                ...   \n",
       "2981  35f50eef5e40d005a0a8062d9e72a6adc5d9400e5ad7a91ff7e47e2cc073428f   \n",
       "2995  35f50eef5e40d005a0a8062d9e72a6adc5d9400e5ad7a91ff7e47e2cc073428f   \n",
       "3004  35f50eef5e40d005a0a8062d9e72a6adc5d9400e5ad7a91ff7e47e2cc073428f   \n",
       "3011  35f50eef5e40d005a0a8062d9e72a6adc5d9400e5ad7a91ff7e47e2cc073428f   \n",
       "3028  35f50eef5e40d005a0a8062d9e72a6adc5d9400e5ad7a91ff7e47e2cc073428f   \n",
       "\n",
       "     condition  calibration  \\\n",
       "5           av         True   \n",
       "25       audio         True   \n",
       "40          av         True   \n",
       "61       video         True   \n",
       "64       audio         True   \n",
       "...        ...          ...   \n",
       "2981     audio         True   \n",
       "2995        av         True   \n",
       "3004     audio         True   \n",
       "3011     video         True   \n",
       "3028     video         True   \n",
       "\n",
       "                                                                  hash  \\\n",
       "5     bb6337eea970487ce9cd4ff26ea78c7acc6d5d1a355b7aa50029a3229f115b21   \n",
       "25    68d229cf19eec82f37580265ea93892117dd5b559b04d22489da3593315f18e7   \n",
       "40    ced6e78fe7940c10fbc9d7c385273e68459ca399ccb668c8123cf5a66fa99819   \n",
       "61    64a92aea9395ace7ac9d60eab34911e419fc66610cd76f1e29df4b4fd16f230f   \n",
       "64    b438e94f7fdcc80ea7927e320946c7b407b7c850fe04baa60a07a5df7d92a711   \n",
       "...                                                                ...   \n",
       "2981  68d229cf19eec82f37580265ea93892117dd5b559b04d22489da3593315f18e7   \n",
       "2995  ced6e78fe7940c10fbc9d7c385273e68459ca399ccb668c8123cf5a66fa99819   \n",
       "3004  b438e94f7fdcc80ea7927e320946c7b407b7c850fe04baa60a07a5df7d92a711   \n",
       "3011  85aac70ec91eb3be1b313b33e0b7828394bbe4e4edc6a956d1e7061dfc8b250e   \n",
       "3028  64a92aea9395ace7ac9d60eab34911e419fc66610cd76f1e29df4b4fd16f230f   \n",
       "\n",
       "         gt_ini     gt_end  gt_laughter  is_laughter  confidence  intensity  \\\n",
       "5     4478.9183  4485.8292         True         True           7          5   \n",
       "25    1749.8260  1756.9123         True         True           7          4   \n",
       "40    1472.9351  1484.6599         True         True           7          5   \n",
       "61    5740.4963  5746.5375         True         True           7          6   \n",
       "64    7978.6138  7985.9294         True         True           7          7   \n",
       "...         ...        ...          ...          ...         ...        ...   \n",
       "2981  1749.8260  1756.9123         True         True           7          6   \n",
       "2995  1472.9351  1484.6599         True         True           7          6   \n",
       "3004  7978.6138  7985.9294         True         True           7          6   \n",
       "3011  5785.1085  5790.4775         True         True           7          5   \n",
       "3028  5740.4963  5746.5375         True         True           7          7   \n",
       "\n",
       "      attempt  pressed_key   onset  offset  duh_score  \n",
       "5           0         True  2.1253  5.3285     0.7805  \n",
       "25          0         True  3.3832  4.9432     0.4544  \n",
       "40          0         True  2.8594  8.2314     0.7805  \n",
       "61          0         True  3.9373  6.0060     1.1065  \n",
       "64          0         True  3.5432  5.1032     1.4325  \n",
       "...       ...          ...     ...     ...        ...  \n",
       "2981        0         True  3.4632  5.9032     1.1065  \n",
       "2995        0         True  3.1597  9.4326     1.1065  \n",
       "3004        0         True  3.3432  5.8632     1.1065  \n",
       "3011        0         True  2.3357  4.4711     0.7805  \n",
       "3028        0         True  4.0374  5.0717     1.4325  \n",
       "\n",
       "[203 rows x 16 columns]"
      ]
     },
     "execution_count": 58,
     "metadata": {},
     "output_type": "execute_result"
    }
   ],
   "source": [
    "calibration_examples"
   ]
  },
  {
   "cell_type": "code",
   "execution_count": 59,
   "metadata": {},
   "outputs": [
    {
     "data": {
      "text/html": [
       "<div>\n",
       "<style scoped>\n",
       "    .dataframe tbody tr th:only-of-type {\n",
       "        vertical-align: middle;\n",
       "    }\n",
       "\n",
       "    .dataframe tbody tr th {\n",
       "        vertical-align: top;\n",
       "    }\n",
       "\n",
       "    .dataframe thead th {\n",
       "        text-align: right;\n",
       "    }\n",
       "</style>\n",
       "<table border=\"1\" class=\"dataframe\">\n",
       "  <thead>\n",
       "    <tr style=\"text-align: right;\">\n",
       "      <th></th>\n",
       "      <th>condition</th>\n",
       "      <th>person0</th>\n",
       "      <th>person1</th>\n",
       "      <th>person2</th>\n",
       "      <th>person3</th>\n",
       "      <th>person4</th>\n",
       "      <th>person5</th>\n",
       "      <th>person6</th>\n",
       "      <th>person7</th>\n",
       "      <th>person8</th>\n",
       "      <th>...</th>\n",
       "      <th>person24</th>\n",
       "      <th>person25</th>\n",
       "      <th>person26</th>\n",
       "      <th>person27</th>\n",
       "      <th>person28</th>\n",
       "      <th>person29</th>\n",
       "      <th>person30</th>\n",
       "      <th>person31</th>\n",
       "      <th>person32</th>\n",
       "      <th>person33</th>\n",
       "    </tr>\n",
       "  </thead>\n",
       "  <tbody>\n",
       "    <tr>\n",
       "      <th>example0</th>\n",
       "      <td>audio</td>\n",
       "      <td>-1746.4428</td>\n",
       "      <td>-1746.4028</td>\n",
       "      <td>-1745.9628</td>\n",
       "      <td>NaN</td>\n",
       "      <td>-1746.2828</td>\n",
       "      <td>-1746.4028</td>\n",
       "      <td>-1745.4428</td>\n",
       "      <td>-1746.4428</td>\n",
       "      <td>-1746.4428</td>\n",
       "      <td>...</td>\n",
       "      <td>-1746.2028</td>\n",
       "      <td>-1746.2028</td>\n",
       "      <td>-1746.1628</td>\n",
       "      <td>-1746.3628</td>\n",
       "      <td>-1746.4028</td>\n",
       "      <td>NaN</td>\n",
       "      <td>-1746.4028</td>\n",
       "      <td>-1746.4428</td>\n",
       "      <td>-1746.2828</td>\n",
       "      <td>-1746.3628</td>\n",
       "    </tr>\n",
       "    <tr>\n",
       "      <th>example1</th>\n",
       "      <td>audio</td>\n",
       "      <td>-7975.0705</td>\n",
       "      <td>-7978.2705</td>\n",
       "      <td>-7975.1105</td>\n",
       "      <td>NaN</td>\n",
       "      <td>-7975.3105</td>\n",
       "      <td>-7975.3505</td>\n",
       "      <td>-7975.1905</td>\n",
       "      <td>-7975.1105</td>\n",
       "      <td>-7975.3105</td>\n",
       "      <td>...</td>\n",
       "      <td>-7975.1105</td>\n",
       "      <td>-7975.0705</td>\n",
       "      <td>-7975.2705</td>\n",
       "      <td>-7975.3105</td>\n",
       "      <td>-7975.1505</td>\n",
       "      <td>NaN</td>\n",
       "      <td>-7975.2705</td>\n",
       "      <td>-7975.3505</td>\n",
       "      <td>-7975.2705</td>\n",
       "      <td>-7975.2705</td>\n",
       "    </tr>\n",
       "    <tr>\n",
       "      <th>example2</th>\n",
       "      <td>av</td>\n",
       "      <td>-4476.7930</td>\n",
       "      <td>-4477.0600</td>\n",
       "      <td>-4477.0266</td>\n",
       "      <td>NaN</td>\n",
       "      <td>NaN</td>\n",
       "      <td>-4477.0600</td>\n",
       "      <td>-4477.0600</td>\n",
       "      <td>-4477.2602</td>\n",
       "      <td>-4477.1601</td>\n",
       "      <td>...</td>\n",
       "      <td>-4476.9599</td>\n",
       "      <td>-4478.5281</td>\n",
       "      <td>-4476.9932</td>\n",
       "      <td>-4477.2268</td>\n",
       "      <td>-4477.2268</td>\n",
       "      <td>NaN</td>\n",
       "      <td>-4477.1601</td>\n",
       "      <td>NaN</td>\n",
       "      <td>-4476.8264</td>\n",
       "      <td>-4477.1267</td>\n",
       "    </tr>\n",
       "    <tr>\n",
       "      <th>example3</th>\n",
       "      <td>av</td>\n",
       "      <td>-1470.0757</td>\n",
       "      <td>-1469.2415</td>\n",
       "      <td>-1470.0090</td>\n",
       "      <td>NaN</td>\n",
       "      <td>-1470.0090</td>\n",
       "      <td>-1470.0423</td>\n",
       "      <td>-1469.8755</td>\n",
       "      <td>-1469.9756</td>\n",
       "      <td>-1469.9422</td>\n",
       "      <td>...</td>\n",
       "      <td>-1469.8088</td>\n",
       "      <td>-1469.8421</td>\n",
       "      <td>-1470.0423</td>\n",
       "      <td>-1470.0757</td>\n",
       "      <td>-1469.9756</td>\n",
       "      <td>NaN</td>\n",
       "      <td>-1469.9756</td>\n",
       "      <td>-1470.0090</td>\n",
       "      <td>-1469.9756</td>\n",
       "      <td>-1469.7754</td>\n",
       "    </tr>\n",
       "    <tr>\n",
       "      <th>example4</th>\n",
       "      <td>video</td>\n",
       "      <td>-5736.5590</td>\n",
       "      <td>-5736.5257</td>\n",
       "      <td>NaN</td>\n",
       "      <td>NaN</td>\n",
       "      <td>-5736.4589</td>\n",
       "      <td>-5736.4923</td>\n",
       "      <td>-5736.4589</td>\n",
       "      <td>-5736.4923</td>\n",
       "      <td>-5736.8593</td>\n",
       "      <td>...</td>\n",
       "      <td>-5736.2587</td>\n",
       "      <td>-5736.2587</td>\n",
       "      <td>-5736.3255</td>\n",
       "      <td>-5736.5257</td>\n",
       "      <td>-5736.4589</td>\n",
       "      <td>NaN</td>\n",
       "      <td>-5739.4953</td>\n",
       "      <td>-5737.0262</td>\n",
       "      <td>-5736.4589</td>\n",
       "      <td>-5736.4589</td>\n",
       "    </tr>\n",
       "    <tr>\n",
       "      <th>example5</th>\n",
       "      <td>video</td>\n",
       "      <td>-5782.6727</td>\n",
       "      <td>-5782.3057</td>\n",
       "      <td>-5782.6727</td>\n",
       "      <td>NaN</td>\n",
       "      <td>-5782.6393</td>\n",
       "      <td>-5782.1722</td>\n",
       "      <td>-5782.6393</td>\n",
       "      <td>-5782.8395</td>\n",
       "      <td>-5782.4391</td>\n",
       "      <td>...</td>\n",
       "      <td>-5782.5059</td>\n",
       "      <td>-5782.5392</td>\n",
       "      <td>-5782.6393</td>\n",
       "      <td>-5782.5726</td>\n",
       "      <td>-5782.7061</td>\n",
       "      <td>NaN</td>\n",
       "      <td>-5782.5392</td>\n",
       "      <td>-5782.6393</td>\n",
       "      <td>-5782.5392</td>\n",
       "      <td>-5782.7728</td>\n",
       "    </tr>\n",
       "  </tbody>\n",
       "</table>\n",
       "<p>6 rows × 35 columns</p>\n",
       "</div>"
      ],
      "text/plain": [
       "         condition    person0    person1    person2  person3    person4  \\\n",
       "example0     audio -1746.4428 -1746.4028 -1745.9628      NaN -1746.2828   \n",
       "example1     audio -7975.0705 -7978.2705 -7975.1105      NaN -7975.3105   \n",
       "example2        av -4476.7930 -4477.0600 -4477.0266      NaN        NaN   \n",
       "example3        av -1470.0757 -1469.2415 -1470.0090      NaN -1470.0090   \n",
       "example4     video -5736.5590 -5736.5257        NaN      NaN -5736.4589   \n",
       "example5     video -5782.6727 -5782.3057 -5782.6727      NaN -5782.6393   \n",
       "\n",
       "            person5    person6    person7    person8  ...   person24  \\\n",
       "example0 -1746.4028 -1745.4428 -1746.4428 -1746.4428  ... -1746.2028   \n",
       "example1 -7975.3505 -7975.1905 -7975.1105 -7975.3105  ... -7975.1105   \n",
       "example2 -4477.0600 -4477.0600 -4477.2602 -4477.1601  ... -4476.9599   \n",
       "example3 -1470.0423 -1469.8755 -1469.9756 -1469.9422  ... -1469.8088   \n",
       "example4 -5736.4923 -5736.4589 -5736.4923 -5736.8593  ... -5736.2587   \n",
       "example5 -5782.1722 -5782.6393 -5782.8395 -5782.4391  ... -5782.5059   \n",
       "\n",
       "           person25   person26   person27   person28  person29   person30  \\\n",
       "example0 -1746.2028 -1746.1628 -1746.3628 -1746.4028       NaN -1746.4028   \n",
       "example1 -7975.0705 -7975.2705 -7975.3105 -7975.1505       NaN -7975.2705   \n",
       "example2 -4478.5281 -4476.9932 -4477.2268 -4477.2268       NaN -4477.1601   \n",
       "example3 -1469.8421 -1470.0423 -1470.0757 -1469.9756       NaN -1469.9756   \n",
       "example4 -5736.2587 -5736.3255 -5736.5257 -5736.4589       NaN -5739.4953   \n",
       "example5 -5782.5392 -5782.6393 -5782.5726 -5782.7061       NaN -5782.5392   \n",
       "\n",
       "           person31   person32   person33  \n",
       "example0 -1746.4428 -1746.2828 -1746.3628  \n",
       "example1 -7975.3505 -7975.2705 -7975.2705  \n",
       "example2        NaN -4476.8264 -4477.1267  \n",
       "example3 -1470.0090 -1469.9756 -1469.7754  \n",
       "example4 -5737.0262 -5736.4589 -5736.4589  \n",
       "example5 -5782.6393 -5782.5392 -5782.7728  \n",
       "\n",
       "[6 rows x 35 columns]"
      ]
     },
     "execution_count": 59,
     "metadata": {},
     "output_type": "execute_result"
    }
   ],
   "source": [
    "df = []\n",
    "for hit_id in calibration_examples['hit_id'].unique():\n",
    "    exs = calibration_examples[calibration_examples['hit_id'] == hit_id].sort_values(['condition', 'hash'])\n",
    "    exs = exs[['hash', 'onset', 'gt_ini', 'condition']].set_index('hash')\n",
    "    exs['delay'] = exs['onset'] - exs['gt_ini']\n",
    "    df.append(exs['delay'].to_dict())\n",
    "df = pd.DataFrame(df).transpose().reset_index(drop=True)\n",
    "df.columns = [f'person{i}' for i in range(len(df.columns))]\n",
    "df.index = [f'example{i}' for i in range(len(df.index))]\n",
    "\n",
    "exs = calibration_examples[calibration_examples['hit_id'] == calibration_examples['hit_id'].unique()[0]].sort_values(['condition', 'hash'])\n",
    "df.insert(0, 'condition', exs['condition'].to_list())\n",
    "df"
   ]
  },
  {
   "cell_type": "markdown",
   "metadata": {
    "id": "-ihCM_NAraKo"
   },
   "source": [
    "## Delay and IoU analysis\n",
    "\n",
    "Here I compare the onsets and overlaps with the GT directly (before correction)"
   ]
  },
  {
   "cell_type": "code",
   "execution_count": 60,
   "metadata": {
    "id": "D7dLfOqRraKo"
   },
   "outputs": [],
   "source": [
    "def intersection_over_union(a, b):\n",
    "    return np.sum(np.logical_and(a, b)) / np.sum(np.logical_or(a, b))\n",
    "def calc_ious(rows, correction=0.3):\n",
    "    ious = []\n",
    "    for i, row in rows.iterrows():\n",
    "        annot = cont_annot[i]\n",
    "\n",
    "        # create artificial signals from gt_ini and gt_end\n",
    "        gt = annot.copy()\n",
    "        gt['data0'] = 0\n",
    "        gt.loc[(gt['media_time'] >= row['gt_ini'] + correction) & (gt['media_time'] <= row['gt_end'] + correction), 'data0'] = 1\n",
    "        ious.append( intersection_over_union(annot['data0'].to_numpy(), gt['data0'].to_numpy()) )\n",
    "    return ious"
   ]
  },
  {
   "cell_type": "code",
   "execution_count": 61,
   "metadata": {
    "id": "oeBgxaBfraKo"
   },
   "outputs": [],
   "source": [
    "ious = {}\n",
    "corrections = np.arange(-0.5,1.5,0.1)\n",
    "for condition in ['video', 'audio', 'av']:\n",
    "    rows = results.loc[(results['condition'] == condition) & (results['gt_laughter'] == True) & (results['pressed_key'] == True), :]\n",
    "    ious[condition] = [np.mean(calc_ious(rows, c)) for c in corrections]"
   ]
  },
  {
   "cell_type": "code",
   "execution_count": 62,
   "metadata": {},
   "outputs": [
    {
     "data": {
      "text/plain": [
       "Text(0, 0.5, 'Mean IoU')"
      ]
     },
     "execution_count": 62,
     "metadata": {},
     "output_type": "execute_result"
    },
    {
     "data": {
      "image/png": "[encoded data removed]",
      "text/plain": [
       "<Figure size 750x300 with 1 Axes>"
      ]
     },
     "metadata": {},
     "output_type": "display_data"
    }
   ],
   "source": [
    "sns.set_style(\"whitegrid\")\n",
    "sns.set_palette(\"muted\")\n",
    "matplotlib.rcParams.update({'font.size': 6})\n",
    "fig, ax = plt.subplots(1, 1, figsize=(5, 2), dpi=150)\n",
    "x = corrections\n",
    "sns.lineplot(ax=ax, x=x, y=ious['video'],label='Video', marker='o', linewidth=1, markersize=3)\n",
    "sns.lineplot(ax=ax, x=x, y=ious['audio'], label= 'Audio', marker='o', linewidth=1, markersize=3)\n",
    "sns.lineplot(ax=ax, x=x, y=ious['av'], label='Audiovisual', marker='o', linewidth=1, markersize=3)\n",
    "ax.legend(loc='upper left')\n",
    "ax.set_xlabel('Delay (s)')\n",
    "ax.set_ylabel('Mean IoU')"
   ]
  },
  {
   "cell_type": "code",
   "execution_count": 63,
   "metadata": {},
   "outputs": [],
   "source": [
    "fig.savefig('./figures/ious.png', dpi=300, bbox_inches='tight')"
   ]
  },
  {
   "cell_type": "markdown",
   "metadata": {
    "id": "rnViHhinraKo"
   },
   "source": [
    "### IoUs accross conditions\n",
    "\n",
    "These are the average IoUs for the three different conditions, only in cases where:\n",
    "- the example contained laughter (per GT)\n",
    "- the example was annotated as laughter"
   ]
  },
  {
   "cell_type": "code",
   "execution_count": 64,
   "metadata": {
    "id": "qlOpw-a-raKo",
    "outputId": "b45ee2e6-7e8a-4ee8-a060-9db7a0ed61d6"
   },
   "outputs": [
    {
     "data": {
      "text/html": [
       "<div>\n",
       "<style scoped>\n",
       "    .dataframe tbody tr th:only-of-type {\n",
       "        vertical-align: middle;\n",
       "    }\n",
       "\n",
       "    .dataframe tbody tr th {\n",
       "        vertical-align: top;\n",
       "    }\n",
       "\n",
       "    .dataframe thead th {\n",
       "        text-align: right;\n",
       "    }\n",
       "</style>\n",
       "<table border=\"1\" class=\"dataframe\">\n",
       "  <thead>\n",
       "    <tr style=\"text-align: right;\">\n",
       "      <th></th>\n",
       "      <th>video</th>\n",
       "      <th>audio</th>\n",
       "      <th>av</th>\n",
       "    </tr>\n",
       "  </thead>\n",
       "  <tbody>\n",
       "    <tr>\n",
       "      <th>0</th>\n",
       "      <td>0.2408</td>\n",
       "      <td>0.2533</td>\n",
       "      <td>0.261</td>\n",
       "    </tr>\n",
       "  </tbody>\n",
       "</table>\n",
       "</div>"
      ],
      "text/plain": [
       "    video   audio     av\n",
       "0  0.2408  0.2533  0.261"
      ]
     },
     "execution_count": 64,
     "metadata": {},
     "output_type": "execute_result"
    }
   ],
   "source": [
    "pd.DataFrame([{k: np.mean(v) for k, v in ious.items()}])"
   ]
  },
  {
   "cell_type": "code",
   "execution_count": 65,
   "metadata": {},
   "outputs": [],
   "source": [
    "\n",
    "ious_video = []"
   ]
  },
  {
   "cell_type": "markdown",
   "metadata": {},
   "source": [
    "# Bout-level analysis"
   ]
  },
  {
   "cell_type": "code",
   "execution_count": 66,
   "metadata": {},
   "outputs": [],
   "source": [
    "def get_num_bouts(arr):\n",
    "    arr = arr[arr[:,0] != 0]\n",
    "    diff = np.diff(arr[:, 1])\n",
    "    num_bouts = np.sum(diff == 1)\n",
    "    return num_bouts"
   ]
  },
  {
   "cell_type": "code",
   "execution_count": 67,
   "metadata": {},
   "outputs": [],
   "source": [
    "num_bouts = []\n",
    "for arr in cont_annot:\n",
    "    num_bouts.append(get_num_bouts(arr.to_numpy()))\n",
    "results['num_bouts'] = num_bouts"
   ]
  },
  {
   "cell_type": "markdown",
   "metadata": {},
   "source": [
    "## How often do annotators annotate >1 bout?\n",
    "\n",
    "Here I counted the bouts and gather some statistics on the number of bouts per annotator\n",
    "\n",
    "- Each column is one annotator.\n",
    "\n",
    "Clearly some people tend to consistently annotate more bouts than others, but everybody annotated 2 bouts or more at least once."
   ]
  },
  {
   "cell_type": "code",
   "execution_count": 68,
   "metadata": {},
   "outputs": [
    {
     "data": {
      "text/html": [
       "<div>\n",
       "<style scoped>\n",
       "    .dataframe tbody tr th:only-of-type {\n",
       "        vertical-align: middle;\n",
       "    }\n",
       "\n",
       "    .dataframe tbody tr th {\n",
       "        vertical-align: top;\n",
       "    }\n",
       "\n",
       "    .dataframe thead th {\n",
       "        text-align: right;\n",
       "    }\n",
       "</style>\n",
       "<table border=\"1\" class=\"dataframe\">\n",
       "  <thead>\n",
       "    <tr style=\"text-align: right;\">\n",
       "      <th></th>\n",
       "      <th>0</th>\n",
       "      <th>1</th>\n",
       "      <th>2</th>\n",
       "      <th>3</th>\n",
       "      <th>4</th>\n",
       "      <th>5</th>\n",
       "      <th>6</th>\n",
       "      <th>7</th>\n",
       "      <th>8</th>\n",
       "      <th>9</th>\n",
       "      <th>...</th>\n",
       "      <th>24</th>\n",
       "      <th>25</th>\n",
       "      <th>26</th>\n",
       "      <th>27</th>\n",
       "      <th>28</th>\n",
       "      <th>29</th>\n",
       "      <th>30</th>\n",
       "      <th>31</th>\n",
       "      <th>32</th>\n",
       "      <th>33</th>\n",
       "    </tr>\n",
       "  </thead>\n",
       "  <tbody>\n",
       "    <tr>\n",
       "      <th>0 bouts</th>\n",
       "      <td>28</td>\n",
       "      <td>36</td>\n",
       "      <td>36</td>\n",
       "      <td>90</td>\n",
       "      <td>23</td>\n",
       "      <td>25</td>\n",
       "      <td>27</td>\n",
       "      <td>27</td>\n",
       "      <td>32</td>\n",
       "      <td>31</td>\n",
       "      <td>...</td>\n",
       "      <td>24</td>\n",
       "      <td>27</td>\n",
       "      <td>32</td>\n",
       "      <td>26</td>\n",
       "      <td>31</td>\n",
       "      <td>90</td>\n",
       "      <td>23</td>\n",
       "      <td>29</td>\n",
       "      <td>36</td>\n",
       "      <td>33</td>\n",
       "    </tr>\n",
       "    <tr>\n",
       "      <th>1 bout</th>\n",
       "      <td>48</td>\n",
       "      <td>44</td>\n",
       "      <td>43</td>\n",
       "      <td>0</td>\n",
       "      <td>34</td>\n",
       "      <td>44</td>\n",
       "      <td>48</td>\n",
       "      <td>47</td>\n",
       "      <td>53</td>\n",
       "      <td>51</td>\n",
       "      <td>...</td>\n",
       "      <td>44</td>\n",
       "      <td>50</td>\n",
       "      <td>42</td>\n",
       "      <td>42</td>\n",
       "      <td>44</td>\n",
       "      <td>0</td>\n",
       "      <td>53</td>\n",
       "      <td>56</td>\n",
       "      <td>42</td>\n",
       "      <td>49</td>\n",
       "    </tr>\n",
       "    <tr>\n",
       "      <th>2 bouts</th>\n",
       "      <td>11</td>\n",
       "      <td>8</td>\n",
       "      <td>8</td>\n",
       "      <td>0</td>\n",
       "      <td>12</td>\n",
       "      <td>14</td>\n",
       "      <td>12</td>\n",
       "      <td>12</td>\n",
       "      <td>5</td>\n",
       "      <td>7</td>\n",
       "      <td>...</td>\n",
       "      <td>16</td>\n",
       "      <td>13</td>\n",
       "      <td>13</td>\n",
       "      <td>16</td>\n",
       "      <td>14</td>\n",
       "      <td>0</td>\n",
       "      <td>9</td>\n",
       "      <td>5</td>\n",
       "      <td>10</td>\n",
       "      <td>5</td>\n",
       "    </tr>\n",
       "    <tr>\n",
       "      <th>&gt;2 bouts</th>\n",
       "      <td>3</td>\n",
       "      <td>2</td>\n",
       "      <td>3</td>\n",
       "      <td>0</td>\n",
       "      <td>4</td>\n",
       "      <td>7</td>\n",
       "      <td>3</td>\n",
       "      <td>4</td>\n",
       "      <td>0</td>\n",
       "      <td>1</td>\n",
       "      <td>...</td>\n",
       "      <td>6</td>\n",
       "      <td>0</td>\n",
       "      <td>3</td>\n",
       "      <td>6</td>\n",
       "      <td>1</td>\n",
       "      <td>0</td>\n",
       "      <td>5</td>\n",
       "      <td>0</td>\n",
       "      <td>2</td>\n",
       "      <td>3</td>\n",
       "    </tr>\n",
       "    <tr>\n",
       "      <th>total</th>\n",
       "      <td>90</td>\n",
       "      <td>90</td>\n",
       "      <td>90</td>\n",
       "      <td>90</td>\n",
       "      <td>73</td>\n",
       "      <td>90</td>\n",
       "      <td>90</td>\n",
       "      <td>90</td>\n",
       "      <td>90</td>\n",
       "      <td>90</td>\n",
       "      <td>...</td>\n",
       "      <td>90</td>\n",
       "      <td>90</td>\n",
       "      <td>90</td>\n",
       "      <td>90</td>\n",
       "      <td>90</td>\n",
       "      <td>90</td>\n",
       "      <td>90</td>\n",
       "      <td>90</td>\n",
       "      <td>90</td>\n",
       "      <td>90</td>\n",
       "    </tr>\n",
       "  </tbody>\n",
       "</table>\n",
       "<p>5 rows × 34 columns</p>\n",
       "</div>"
      ],
      "text/plain": [
       "          0   1   2   3   4   5   6   7   8   9   ...  24  25  26  27  28  29  \\\n",
       "0 bouts   28  36  36  90  23  25  27  27  32  31  ...  24  27  32  26  31  90   \n",
       "1 bout    48  44  43   0  34  44  48  47  53  51  ...  44  50  42  42  44   0   \n",
       "2 bouts   11   8   8   0  12  14  12  12   5   7  ...  16  13  13  16  14   0   \n",
       ">2 bouts   3   2   3   0   4   7   3   4   0   1  ...   6   0   3   6   1   0   \n",
       "total     90  90  90  90  73  90  90  90  90  90  ...  90  90  90  90  90  90   \n",
       "\n",
       "          30  31  32  33  \n",
       "0 bouts   23  29  36  33  \n",
       "1 bout    53  56  42  49  \n",
       "2 bouts    9   5  10   5  \n",
       ">2 bouts   5   0   2   3  \n",
       "total     90  90  90  90  \n",
       "\n",
       "[5 rows x 34 columns]"
      ]
     },
     "execution_count": 68,
     "metadata": {},
     "output_type": "execute_result"
    }
   ],
   "source": [
    "df = []\n",
    "for hit_id in results['hit_id'].unique():\n",
    "    subject_data = results[results['hit_id'] == hit_id]\n",
    "    df.append({\n",
    "        '0 bouts': len(subject_data[subject_data['num_bouts'] == 0]),\n",
    "        '1 bout': len(subject_data[subject_data['num_bouts'] == 1]),\n",
    "        '2 bouts': len(subject_data[subject_data['num_bouts'] == 2]),\n",
    "        '>2 bouts': len(subject_data[subject_data['num_bouts'] > 2]),\n",
    "        'total': len(subject_data)\n",
    "    })\n",
    "pd.DataFrame(df).transpose()"
   ]
  },
  {
   "cell_type": "code",
   "execution_count": null,
   "metadata": {},
   "outputs": [],
   "source": []
  },
  {
   "cell_type": "code",
   "execution_count": null,
   "metadata": {},
   "outputs": [],
   "source": []
  },
  {
   "cell_type": "markdown",
   "metadata": {},
   "source": []
  }
 ],
 "metadata": {
  "colab": {
   "name": "analysis.ipynb",
   "provenance": []
  },
  "interpreter": {
   "hash": "31f2aee4e71d21fbe5cf8b01ff0e069b9275f58929596ceb00d14d90e3e16cd6"
  },
  "kernelspec": {
   "display_name": "Python 3.8.10 64-bit",
   "name": "python3"
  },
  "language_info": {
   "codemirror_mode": {
    "name": "ipython",
    "version": 3
   },
   "file_extension": ".py",
   "mimetype": "text/x-python",
   "name": "python",
   "nbconvert_exporter": "python",
   "pygments_lexer": "ipython3",
   "version": "3.8.10"
  }
 },
 "nbformat": 4,
 "nbformat_minor": 1
}
