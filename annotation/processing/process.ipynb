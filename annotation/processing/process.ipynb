{
 "cells": [
  {
   "cell_type": "code",
   "execution_count": 1,
   "metadata": {},
   "outputs": [],
   "source": [
    "%load_ext autoreload\n",
    "%autoreload 2"
   ]
  },
  {
   "cell_type": "code",
   "execution_count": 2,
   "metadata": {},
   "outputs": [],
   "source": [
    "import os\n",
    "import json\n",
    "import pickle\n",
    "from pathlib import Path\n",
    "\n",
    "import pandas as pd\n",
    "import numpy as np\n",
    "import seaborn as sns\n",
    "import pyperclip\n",
    "\n",
    "from scipy.interpolate import interp1d\n",
    "\n",
    "from lared_laughter.constants import annot_exp_path, dataset_path\n",
    "from utils import CovfeeParser, get_hit_stats, interp_30fps"
   ]
  },
  {
   "cell_type": "markdown",
   "metadata": {},
   "source": [
    "# Annotation processing\n",
    "\n",
    "This file processes the covfee outputs into a single dataframe that aggregates the results of the human annotation experiments.\n",
    "An additional pkl file is produced with the continuous results"
   ]
  },
  {
   "cell_type": "code",
   "execution_count": 3,
   "metadata": {},
   "outputs": [],
   "source": [
    "# open examples\n",
    "laughter_examples_df = pd.read_csv(os.path.join(annot_exp_path, 'laughter_examples', 'examples_with_rect.csv'), index_col=0)\n",
    "speech_examples_df = pd.read_csv(os.path.join(annot_exp_path, 'speech_examples', 'examples_with_rect.csv'), index_col=0)\n",
    "calibration_examples_df = pd.read_csv(os.path.join(annot_exp_path, 'calibration_examples', 'examples.csv'))"
   ]
  },
  {
   "cell_type": "code",
   "execution_count": 4,
   "metadata": {},
   "outputs": [],
   "source": [
    "laughter_examples_df['onset_time']     = laughter_examples_df['ini_time'] - laughter_examples_df['_ini_time']\n",
    "laughter_examples_df['offset_time']    = laughter_examples_df['_end_time'] - laughter_examples_df['ini_time']\n",
    "speech_examples_df['onset_time']       = speech_examples_df['ini_time'] - speech_examples_df['_ini_time']\n",
    "speech_examples_df['offset_time']      = speech_examples_df['_end_time'] - speech_examples_df['ini_time']\n",
    "calibration_examples_df['onset_time']  = calibration_examples_df['ini_time'] - calibration_examples_df['_ini_time']\n",
    "calibration_examples_df['offset_time'] = calibration_examples_df['_end_time'] - calibration_examples_df['ini_time']"
   ]
  },
  {
   "cell_type": "code",
   "execution_count": 5,
   "metadata": {},
   "outputs": [
    {
     "name": "stdout",
     "output_type": "stream",
     "text": [
      "(1684, 785, 6)\n"
     ]
    }
   ],
   "source": [
    "laughter_examples = {row['hash']: row.to_dict() for _, row in laughter_examples_df.iterrows()}\n",
    "speech_examples = {row['hash']: row.to_dict() for _, row in speech_examples_df.iterrows()}\n",
    "calibration_examples = {row['hash']: row.to_dict() for _, row in calibration_examples_df.iterrows()}\n",
    "print((len(laughter_examples), len(speech_examples), len(calibration_examples)))"
   ]
  },
  {
   "cell_type": "code",
   "execution_count": 6,
   "metadata": {},
   "outputs": [],
   "source": [
    "results_path_1 = os.path.join(annot_exp_path, 'covfee1')\n",
    "results_path_2 = os.path.join(annot_exp_path, 'covfee2')"
   ]
  },
  {
   "cell_type": "code",
   "execution_count": 7,
   "metadata": {},
   "outputs": [],
   "source": [
    "# open covfee results\n",
    "hits = json.load(open('../laughter2.covfee.json', 'rb'))\n",
    "parser = CovfeeParser(laughter_examples, speech_examples, calibration_examples, hits)"
   ]
  },
  {
   "cell_type": "code",
   "execution_count": 8,
   "metadata": {},
   "outputs": [
    {
     "name": "stdout",
     "output_type": "stream",
     "text": [
      "json_res is None for file /mnt/c/Users/Jose/gdrive/data/lared_laughter/annotation_experiment_2/covfee1/4198c11729cea33268040a725998f16478a6564d4af091b2d40b84d727e35aaa/111_rating_0219ab2467ec6269e71c5445002aaece1e03a2ea4f65aedf1f4da0a75aeffbcb_video_1_0_0.json\n"
     ]
    }
   ],
   "source": [
    "all_results_1 = parser.parse_v1(results_path_1)\n",
    "all_results_2 = parser.parse_v2(results_path_2)"
   ]
  },
  {
   "cell_type": "code",
   "execution_count": 9,
   "metadata": {},
   "outputs": [],
   "source": [
    "all_results = {**all_results_1, **all_results_2}"
   ]
  },
  {
   "cell_type": "code",
   "execution_count": 10,
   "metadata": {},
   "outputs": [],
   "source": [
    "hits_df = pd.DataFrame([get_hit_stats(hit) for hit in all_results.values()]).sort_values(by=['hit_group', 'hit_num'])"
   ]
  },
  {
   "cell_type": "code",
   "execution_count": 11,
   "metadata": {},
   "outputs": [
    {
     "data": {
      "text/html": [
       "<div>\n",
       "<style scoped>\n",
       "    .dataframe tbody tr th:only-of-type {\n",
       "        vertical-align: middle;\n",
       "    }\n",
       "\n",
       "    .dataframe tbody tr th {\n",
       "        vertical-align: top;\n",
       "    }\n",
       "\n",
       "    .dataframe thead th {\n",
       "        text-align: right;\n",
       "    }\n",
       "</style>\n",
       "<table border=\"1\" class=\"dataframe\">\n",
       "  <thead>\n",
       "    <tr style=\"text-align: right;\">\n",
       "      <th></th>\n",
       "      <th>id</th>\n",
       "      <th>hit_group</th>\n",
       "      <th>hit_num</th>\n",
       "      <th>cont</th>\n",
       "      <th>pressed</th>\n",
       "      <th>is_laughter</th>\n",
       "      <th>intensity_not_none</th>\n",
       "      <th>intensities</th>\n",
       "      <th>confidences</th>\n",
       "      <th>duration</th>\n",
       "      <th>rating</th>\n",
       "    </tr>\n",
       "  </thead>\n",
       "  <tbody>\n",
       "    <tr>\n",
       "      <th>2</th>\n",
       "      <td>1_1d181a</td>\n",
       "      <td>0</td>\n",
       "      <td>1</td>\n",
       "      <td>84/84</td>\n",
       "      <td>53/84</td>\n",
       "      <td>53/84</td>\n",
       "      <td>84/84</td>\n",
       "      <td>13-11-11-09-06-03-00</td>\n",
       "      <td>03-09-07-07-08-15-35</td>\n",
       "      <td>43.000000</td>\n",
       "      <td>4.0</td>\n",
       "    </tr>\n",
       "    <tr>\n",
       "      <th>32</th>\n",
       "      <td>2_1d181a</td>\n",
       "      <td>0</td>\n",
       "      <td>1</td>\n",
       "      <td>84/84</td>\n",
       "      <td>55/84</td>\n",
       "      <td>56/84</td>\n",
       "      <td>84/84</td>\n",
       "      <td>17-19-09-05-04-02-00</td>\n",
       "      <td>02-02-08-06-06-13-47</td>\n",
       "      <td>45.516667</td>\n",
       "      <td>4.0</td>\n",
       "    </tr>\n",
       "    <tr>\n",
       "      <th>12</th>\n",
       "      <td>1_99c625</td>\n",
       "      <td>0</td>\n",
       "      <td>2</td>\n",
       "      <td>84/84</td>\n",
       "      <td>49/84</td>\n",
       "      <td>52/84</td>\n",
       "      <td>49/84</td>\n",
       "      <td>10-11-12-04-08-02-02</td>\n",
       "      <td>03-04-09-03-15-16-27</td>\n",
       "      <td>41.600000</td>\n",
       "      <td>4.0</td>\n",
       "    </tr>\n",
       "    <tr>\n",
       "      <th>25</th>\n",
       "      <td>1_ec3023</td>\n",
       "      <td>0</td>\n",
       "      <td>2</td>\n",
       "      <td>84/84</td>\n",
       "      <td>61/84</td>\n",
       "      <td>61/84</td>\n",
       "      <td>50/84</td>\n",
       "      <td>08-10-10-01-12-08-00</td>\n",
       "      <td>00-00-01-01-08-15-54</td>\n",
       "      <td>41.866667</td>\n",
       "      <td>5.0</td>\n",
       "    </tr>\n",
       "    <tr>\n",
       "      <th>26</th>\n",
       "      <td>1_eda1bf</td>\n",
       "      <td>0</td>\n",
       "      <td>3</td>\n",
       "      <td>84/84</td>\n",
       "      <td>56/84</td>\n",
       "      <td>55/84</td>\n",
       "      <td>84/84</td>\n",
       "      <td>03-10-21-15-02-03-01</td>\n",
       "      <td>03-00-01-44-24-11-01</td>\n",
       "      <td>93.783333</td>\n",
       "      <td>3.0</td>\n",
       "    </tr>\n",
       "  </tbody>\n",
       "</table>\n",
       "</div>"
      ],
      "text/plain": [
       "          id hit_group hit_num   cont pressed is_laughter intensity_not_none  \\\n",
       "2   1_1d181a         0       1  84/84   53/84       53/84              84/84   \n",
       "32  2_1d181a         0       1  84/84   55/84       56/84              84/84   \n",
       "12  1_99c625         0       2  84/84   49/84       52/84              49/84   \n",
       "25  1_ec3023         0       2  84/84   61/84       61/84              50/84   \n",
       "26  1_eda1bf         0       3  84/84   56/84       55/84              84/84   \n",
       "\n",
       "             intensities           confidences   duration  rating  \n",
       "2   13-11-11-09-06-03-00  03-09-07-07-08-15-35  43.000000     4.0  \n",
       "32  17-19-09-05-04-02-00  02-02-08-06-06-13-47  45.516667     4.0  \n",
       "12  10-11-12-04-08-02-02  03-04-09-03-15-16-27  41.600000     4.0  \n",
       "25  08-10-10-01-12-08-00  00-00-01-01-08-15-54  41.866667     5.0  \n",
       "26  03-10-21-15-02-03-01  03-00-01-44-24-11-01  93.783333     3.0  "
      ]
     },
     "execution_count": 11,
     "metadata": {},
     "output_type": "execute_result"
    }
   ],
   "source": [
    "hits_df.head()"
   ]
  },
  {
   "cell_type": "code",
   "execution_count": 14,
   "metadata": {},
   "outputs": [
    {
     "name": "stderr",
     "output_type": "stream",
     "text": [
      "/tmp/ipykernel_2642/237448400.py:9: FutureWarning: In future versions `DataFrame.to_latex` is expected to utilise the base implementation of `Styler.to_latex` for formatting and rendering. The arguments signature may therefore change. It is recommended instead to use `DataFrame.style.to_latex` which also contains additional functionality.\n",
      "  pyperclip.copy(hits_df.to_latex(\n"
     ]
    }
   ],
   "source": [
    "hits_df['annot_id'] = range(1, len(hits_df)+1)\n",
    "hits_df['rating'] = hits_df['rating'].astype(float)\n",
    "hits_df['duration'] = hits_df['duration'].astype(float)\n",
    "hits_df['rating'].fillna(-1, inplace=True)\n",
    "def format_rating(f):\n",
    "    if f == -1: return '-'\n",
    "    return str(int(f))+'/5'\n",
    "    \n",
    "pyperclip.copy(hits_df.to_latex(\n",
    "    columns=['annot_id', 'hit_group', 'hit_num', 'pressed', 'intensities', 'confidences', 'duration', 'rating'], \n",
    "    header=['Annotator ID', 'G', 'N', '# positive', 'Intensity', 'Confidence', 'Time taken', 'Rating'],\n",
    "    formatters={'rating': format_rating, 'duration': '{:.1f}'.format},\n",
    "    index=False,\n",
    "    label='tab:hit_details',\n",
    "    caption='Details of the annotation HITs. \\\\textit{G} indicates the HIT group. HITs within the same group contain the same laughter/non-laughter samples. \\\\textit{N} indicates the HIT number within the group. HITs with the same \\\\textit{N} are identical, except for the (random) ordering of the samples within each condition. HITs with different \\\\textit{N} contain the same samples but assigned to different conditions. Each row corresponds to one annotator (HIT). \\\\textit{\\# positive} indicates the number of times laughter was detected by this person. \\\\textit{Intensities} indicates the histogram of laughter intensities by each annotator (positive examples only). Each number (in order) corresponds to one step in the Likert scale (1-7).'\n",
    "    ))"
   ]
  },
  {
   "cell_type": "markdown",
   "metadata": {},
   "source": [
    "## Interpolate"
   ]
  },
  {
   "cell_type": "code",
   "execution_count": 95,
   "metadata": {},
   "outputs": [],
   "source": [
    "results = []\n",
    "annotations = {}\n",
    "for res in all_results.values():\n",
    "    for ex_hash, example in res['tasks'].items():\n",
    "        results.append(res['tasks'][ex_hash])\n",
    "\n",
    "        try:\n",
    "            continuous_data = res['continuous'][ex_hash]\n",
    "        except KeyError:\n",
    "            print(f'Error in instance {example[\"instance_id\"]}')\n",
    "            continue\n",
    "\n",
    "        annot = interp_30fps(\n",
    "            continuous_data,\n",
    "            example_len=(example['_end_time']-example['_ini_time'])\n",
    "        )\n",
    "        annotations[(example['instance_id'], example['hash'], example['condition'])] = annot"
   ]
  },
  {
   "cell_type": "code",
   "execution_count": 110,
   "metadata": {},
   "outputs": [],
   "source": [
    "examples = pd.DataFrame.from_dict(results)\n",
    "calibration_examples = examples[examples['calibration']]\n",
    "examples = examples[~examples['calibration']]\n",
    "# create a new hash column containing a rating-specific hash\n",
    "# calculated from the combination of hit and example hash"
   ]
  },
  {
   "cell_type": "code",
   "execution_count": 111,
   "metadata": {},
   "outputs": [
    {
     "data": {
      "text/plain": [
       "(3954, 4242, 3954)"
      ]
     },
     "execution_count": 111,
     "metadata": {},
     "output_type": "execute_result"
    }
   ],
   "source": [
    "len(examples), len(annotations), len(examples[examples['has_continuous'] == True])"
   ]
  },
  {
   "cell_type": "code",
   "execution_count": 117,
   "metadata": {},
   "outputs": [],
   "source": [
    "def filter_examples_missing_modalities():\n",
    "    computational_examples = []\n",
    "    for hash in examples['hash'].unique():\n",
    "        hash_examples = examples[examples['hash'] == hash]\n",
    "        \n",
    "        video_examples = hash_examples[hash_examples['condition'] == 'video']\n",
    "        audio_examples = hash_examples[hash_examples['condition'] == 'audio']\n",
    "        av_examples = hash_examples[hash_examples['condition'] == 'av']\n",
    "\n",
    "        num_examples = min(len(video_examples), len(audio_examples), len(av_examples))\n",
    "\n",
    "        computational_examples.append(video_examples.iloc[:num_examples, :])\n",
    "        computational_examples.append(audio_examples.iloc[:num_examples, :])\n",
    "        computational_examples.append(av_examples.iloc[:num_examples, :])\n",
    "    return pd.concat(computational_examples)"
   ]
  },
  {
   "cell_type": "code",
   "execution_count": 118,
   "metadata": {},
   "outputs": [],
   "source": [
    "computational_examples_df = filter_examples_missing_modalities()"
   ]
  },
  {
   "cell_type": "code",
   "execution_count": 121,
   "metadata": {},
   "outputs": [],
   "source": [
    "out_path = os.path.join(annot_exp_path, 'processed')\n",
    "computational_examples_df.to_csv(os.path.join(out_path, 'examples_without_calibration.csv'))\n",
    "pickle.dump(annotations, open(os.path.join(out_path, 'continuous.pkl'), 'wb'))"
   ]
  },
  {
   "cell_type": "code",
   "execution_count": null,
   "metadata": {},
   "outputs": [],
   "source": []
  },
  {
   "cell_type": "code",
   "execution_count": null,
   "metadata": {},
   "outputs": [],
   "source": []
  },
  {
   "cell_type": "code",
   "execution_count": null,
   "metadata": {},
   "outputs": [],
   "source": []
  },
  {
   "cell_type": "code",
   "execution_count": null,
   "metadata": {},
   "outputs": [],
   "source": []
  },
  {
   "cell_type": "markdown",
   "metadata": {},
   "source": [
    "# HIT information"
   ]
  },
  {
   "cell_type": "code",
   "execution_count": 103,
   "metadata": {},
   "outputs": [],
   "source": [
    "pd.set_option('display.max_colwidth', 150)\n",
    "feedback_df = pd.DataFrame(hit_info).transpose()\n",
    "feedback_df['annot_id'] = range(1, len(hits_df)+1)\n",
    "feedback_df['feedback'].fillna('-', inplace=True)\n",
    "feedback_df['rating'] = feedback_df['rating'].astype(float)\n",
    "feedback_df['duration'] = feedback_df['duration'].astype(float)\n",
    "feedback_df['rating'].fillna(-1, inplace=True)"
   ]
  },
  {
   "cell_type": "code",
   "execution_count": 104,
   "metadata": {},
   "outputs": [
    {
     "data": {
      "text/html": [
       "<div>\n",
       "<style scoped>\n",
       "    .dataframe tbody tr th:only-of-type {\n",
       "        vertical-align: middle;\n",
       "    }\n",
       "\n",
       "    .dataframe tbody tr th {\n",
       "        vertical-align: top;\n",
       "    }\n",
       "\n",
       "    .dataframe thead th {\n",
       "        text-align: right;\n",
       "    }\n",
       "</style>\n",
       "<table border=\"1\" class=\"dataframe\">\n",
       "  <thead>\n",
       "    <tr style=\"text-align: right;\">\n",
       "      <th></th>\n",
       "      <th>duration</th>\n",
       "      <th>rating</th>\n",
       "      <th>feedback</th>\n",
       "      <th>annot_id</th>\n",
       "    </tr>\n",
       "  </thead>\n",
       "  <tbody>\n",
       "    <tr>\n",
       "      <th>2_7e49a08cdbcac9a9ad7658116b8a160dfa526831777981919e31172426ecc669</th>\n",
       "      <td>72.150000</td>\n",
       "      <td>4.0</td>\n",
       "      <td>-</td>\n",
       "      <td>39</td>\n",
       "    </tr>\n",
       "    <tr>\n",
       "      <th>2_8bfd003817f3348a53d7292c84d0a155c4ec793a5c3ef2dfe2a5f6e0a272d505</th>\n",
       "      <td>41.950000</td>\n",
       "      <td>-1.0</td>\n",
       "      <td>-</td>\n",
       "      <td>40</td>\n",
       "    </tr>\n",
       "    <tr>\n",
       "      <th>2_96bc549cc2a7b0e3df2888482f5199982b80d32254f53df9f4684309d9181403</th>\n",
       "      <td>32.233333</td>\n",
       "      <td>5.0</td>\n",
       "      <td>The tools were working perfectly and the process was smooth.</td>\n",
       "      <td>41</td>\n",
       "    </tr>\n",
       "    <tr>\n",
       "      <th>2_bd45ce15933da0e06d4d544f27a95cb5de3147aaf592557feb5bae9fa0a5d583</th>\n",
       "      <td>39.400000</td>\n",
       "      <td>4.0</td>\n",
       "      <td>At the beginning was a little bit complicated.</td>\n",
       "      <td>42</td>\n",
       "    </tr>\n",
       "    <tr>\n",
       "      <th>2_be99f777836ba4bffac2e20cc4e75a717d766fd5d2ccbe236dc1147d579b490b</th>\n",
       "      <td>54.566667</td>\n",
       "      <td>5.0</td>\n",
       "      <td>It was interesting to see how much difficult was to recognize the laughs of people when it was only video. Im confident a higher quality on it wou...</td>\n",
       "      <td>43</td>\n",
       "    </tr>\n",
       "    <tr>\n",
       "      <th>2_c9c20f2eee48c8f1f8120bb25055b3bbb167d1f9284f31b9ee303f548f2da9bd</th>\n",
       "      <td>73.150000</td>\n",
       "      <td>4.0</td>\n",
       "      <td>I just found it a bit long but interesting and I did not have an issue with the tool.</td>\n",
       "      <td>44</td>\n",
       "    </tr>\n",
       "    <tr>\n",
       "      <th>2_da567d02513f82ff3b0fe0c5d6237e4226ffadf44f1d9897a2efea683c0479ff</th>\n",
       "      <td>35.483333</td>\n",
       "      <td>-1.0</td>\n",
       "      <td>-</td>\n",
       "      <td>45</td>\n",
       "    </tr>\n",
       "    <tr>\n",
       "      <th>2_dc19285db2b452c1d3a7d625dcf0f302ee9e2eb3f690bddcddaf7ae22e58335f</th>\n",
       "      <td>40.050000</td>\n",
       "      <td>5.0</td>\n",
       "      <td>It was a kinda long but not too much.</td>\n",
       "      <td>46</td>\n",
       "    </tr>\n",
       "    <tr>\n",
       "      <th>2_eda1bf4c0b1962f12a7a92dbb3159f85887d48334e764f225aeedee9b4b7db16</th>\n",
       "      <td>33.400000</td>\n",
       "      <td>5.0</td>\n",
       "      <td>-</td>\n",
       "      <td>47</td>\n",
       "    </tr>\n",
       "    <tr>\n",
       "      <th>2_ff9b4ba9e0d4e962b5a1c5f584409289edb280057543ca3c98cedf9a1d31b0eb</th>\n",
       "      <td>60.266667</td>\n",
       "      <td>5.0</td>\n",
       "      <td>It was indeed a unique, one-of-a-kind research, although being a bit long, I felt alright generally. A \"break\" of some sort in the middle would be...</td>\n",
       "      <td>48</td>\n",
       "    </tr>\n",
       "  </tbody>\n",
       "</table>\n",
       "</div>"
      ],
      "text/plain": [
       "                                                                     duration  \\\n",
       "2_7e49a08cdbcac9a9ad7658116b8a160dfa526831777981919e31172426ecc669  72.150000   \n",
       "2_8bfd003817f3348a53d7292c84d0a155c4ec793a5c3ef2dfe2a5f6e0a272d505  41.950000   \n",
       "2_96bc549cc2a7b0e3df2888482f5199982b80d32254f53df9f4684309d9181403  32.233333   \n",
       "2_bd45ce15933da0e06d4d544f27a95cb5de3147aaf592557feb5bae9fa0a5d583  39.400000   \n",
       "2_be99f777836ba4bffac2e20cc4e75a717d766fd5d2ccbe236dc1147d579b490b  54.566667   \n",
       "2_c9c20f2eee48c8f1f8120bb25055b3bbb167d1f9284f31b9ee303f548f2da9bd  73.150000   \n",
       "2_da567d02513f82ff3b0fe0c5d6237e4226ffadf44f1d9897a2efea683c0479ff  35.483333   \n",
       "2_dc19285db2b452c1d3a7d625dcf0f302ee9e2eb3f690bddcddaf7ae22e58335f  40.050000   \n",
       "2_eda1bf4c0b1962f12a7a92dbb3159f85887d48334e764f225aeedee9b4b7db16  33.400000   \n",
       "2_ff9b4ba9e0d4e962b5a1c5f584409289edb280057543ca3c98cedf9a1d31b0eb  60.266667   \n",
       "\n",
       "                                                                    rating  \\\n",
       "2_7e49a08cdbcac9a9ad7658116b8a160dfa526831777981919e31172426ecc669     4.0   \n",
       "2_8bfd003817f3348a53d7292c84d0a155c4ec793a5c3ef2dfe2a5f6e0a272d505    -1.0   \n",
       "2_96bc549cc2a7b0e3df2888482f5199982b80d32254f53df9f4684309d9181403     5.0   \n",
       "2_bd45ce15933da0e06d4d544f27a95cb5de3147aaf592557feb5bae9fa0a5d583     4.0   \n",
       "2_be99f777836ba4bffac2e20cc4e75a717d766fd5d2ccbe236dc1147d579b490b     5.0   \n",
       "2_c9c20f2eee48c8f1f8120bb25055b3bbb167d1f9284f31b9ee303f548f2da9bd     4.0   \n",
       "2_da567d02513f82ff3b0fe0c5d6237e4226ffadf44f1d9897a2efea683c0479ff    -1.0   \n",
       "2_dc19285db2b452c1d3a7d625dcf0f302ee9e2eb3f690bddcddaf7ae22e58335f     5.0   \n",
       "2_eda1bf4c0b1962f12a7a92dbb3159f85887d48334e764f225aeedee9b4b7db16     5.0   \n",
       "2_ff9b4ba9e0d4e962b5a1c5f584409289edb280057543ca3c98cedf9a1d31b0eb     5.0   \n",
       "\n",
       "                                                                                                                                                                                                                 feedback  \\\n",
       "2_7e49a08cdbcac9a9ad7658116b8a160dfa526831777981919e31172426ecc669                                                                                                                                                      -   \n",
       "2_8bfd003817f3348a53d7292c84d0a155c4ec793a5c3ef2dfe2a5f6e0a272d505                                                                                                                                                      -   \n",
       "2_96bc549cc2a7b0e3df2888482f5199982b80d32254f53df9f4684309d9181403                                                                                           The tools were working perfectly and the process was smooth.   \n",
       "2_bd45ce15933da0e06d4d544f27a95cb5de3147aaf592557feb5bae9fa0a5d583                                                                                                         At the beginning was a little bit complicated.   \n",
       "2_be99f777836ba4bffac2e20cc4e75a717d766fd5d2ccbe236dc1147d579b490b  It was interesting to see how much difficult was to recognize the laughs of people when it was only video. Im confident a higher quality on it wou...   \n",
       "2_c9c20f2eee48c8f1f8120bb25055b3bbb167d1f9284f31b9ee303f548f2da9bd                                                                 I just found it a bit long but interesting and I did not have an issue with the tool.    \n",
       "2_da567d02513f82ff3b0fe0c5d6237e4226ffadf44f1d9897a2efea683c0479ff                                                                                                                                                      -   \n",
       "2_dc19285db2b452c1d3a7d625dcf0f302ee9e2eb3f690bddcddaf7ae22e58335f                                                                                                                  It was a kinda long but not too much.   \n",
       "2_eda1bf4c0b1962f12a7a92dbb3159f85887d48334e764f225aeedee9b4b7db16                                                                                                                                                      -   \n",
       "2_ff9b4ba9e0d4e962b5a1c5f584409289edb280057543ca3c98cedf9a1d31b0eb  It was indeed a unique, one-of-a-kind research, although being a bit long, I felt alright generally. A \"break\" of some sort in the middle would be...   \n",
       "\n",
       "                                                                    annot_id  \n",
       "2_7e49a08cdbcac9a9ad7658116b8a160dfa526831777981919e31172426ecc669        39  \n",
       "2_8bfd003817f3348a53d7292c84d0a155c4ec793a5c3ef2dfe2a5f6e0a272d505        40  \n",
       "2_96bc549cc2a7b0e3df2888482f5199982b80d32254f53df9f4684309d9181403        41  \n",
       "2_bd45ce15933da0e06d4d544f27a95cb5de3147aaf592557feb5bae9fa0a5d583        42  \n",
       "2_be99f777836ba4bffac2e20cc4e75a717d766fd5d2ccbe236dc1147d579b490b        43  \n",
       "2_c9c20f2eee48c8f1f8120bb25055b3bbb167d1f9284f31b9ee303f548f2da9bd        44  \n",
       "2_da567d02513f82ff3b0fe0c5d6237e4226ffadf44f1d9897a2efea683c0479ff        45  \n",
       "2_dc19285db2b452c1d3a7d625dcf0f302ee9e2eb3f690bddcddaf7ae22e58335f        46  \n",
       "2_eda1bf4c0b1962f12a7a92dbb3159f85887d48334e764f225aeedee9b4b7db16        47  \n",
       "2_ff9b4ba9e0d4e962b5a1c5f584409289edb280057543ca3c98cedf9a1d31b0eb        48  "
      ]
     },
     "execution_count": 104,
     "metadata": {},
     "output_type": "execute_result"
    }
   ],
   "source": [
    "feedback_df.tail(10)"
   ]
  },
  {
   "cell_type": "code",
   "execution_count": 107,
   "metadata": {},
   "outputs": [],
   "source": []
  },
  {
   "cell_type": "code",
   "execution_count": 109,
   "metadata": {},
   "outputs": [
    {
     "name": "stderr",
     "output_type": "stream",
     "text": [
      "/tmp/ipykernel_1949/3810216713.py:2: FutureWarning: In future versions `DataFrame.to_latex` is expected to utilise the base implementation of `Styler.to_latex` for formatting and rendering. The arguments signature may therefore change. It is recommended instead to use `DataFrame.style.to_latex` which also contains additional functionality.\n",
      "  feedback_df.to_latex(\n"
     ]
    }
   ],
   "source": [
    "pyperclip.copy(\n",
    "    feedback_df.to_latex(\n",
    "    columns=['annot_id', 'duration', 'rating', 'feedback'], \n",
    "    header=['Annotator ID', 'Time taken (s)', 'Rating', 'Feedback'],\n",
    "    # float_format=\"{:.1f}\".format,\n",
    "    formatters={'rating': format_rating, 'duration': '{:.1f}'.format},\n",
    "    column_format='',\n",
    "    index=False,\n",
    "    label='tab:hit_feedback',\n",
    "    caption='Feedback given by annotators after completing the experiment.'\n",
    "    ))"
   ]
  },
  {
   "cell_type": "code",
   "execution_count": null,
   "metadata": {},
   "outputs": [],
   "source": []
  },
  {
   "cell_type": "code",
   "execution_count": null,
   "metadata": {},
   "outputs": [],
   "source": []
  }
 ],
 "metadata": {
  "kernelspec": {
   "display_name": "Python 3.8.13 ('base')",
   "language": "python",
   "name": "python3"
  },
  "language_info": {
   "codemirror_mode": {
    "name": "ipython",
    "version": 3
   },
   "file_extension": ".py",
   "mimetype": "text/x-python",
   "name": "python",
   "nbconvert_exporter": "python",
   "pygments_lexer": "ipython3",
   "version": "3.8.13"
  },
  "orig_nbformat": 4,
  "vscode": {
   "interpreter": {
    "hash": "7ff63645dd16f55240e07095d3c46f4fac3f89ef16802cfaceca713f6cf38dfb"
   }
  }
 },
 "nbformat": 4,
 "nbformat_minor": 2
}
