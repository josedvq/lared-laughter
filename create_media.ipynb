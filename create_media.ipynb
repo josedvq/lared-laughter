{
 "cells": [
  {
   "cell_type": "code",
   "execution_count": 1,
   "metadata": {},
   "outputs": [],
   "source": [
    "import os"
   ]
  },
  {
   "cell_type": "code",
   "execution_count": 2,
   "metadata": {},
   "outputs": [],
   "source": [
    "import pandas as pd\n",
    "import pandas as pd\n",
    "import numpy as np\n",
    "from matplotlib import pyplot as plt\n",
    "from tqdm.notebook import tqdm"
   ]
  },
  {
   "cell_type": "code",
   "execution_count": 3,
   "metadata": {},
   "outputs": [],
   "source": [
    "from jose.helpers import file_functions\n",
    "from lared.dataset.example import VideoExample, AudioExample, FullExample\n",
    "from lared.data_loading.utils import get_video_caps, AudioFiles\n",
    "from annotation.coco_reader import CocoReader\n",
    "from lared_laughter.constants import raw_video_path, raw_audio_path, \\\n",
    "    processed_data_path, datasets_path, annot_exp_path as original_exp_path\n",
    "from example_generation import make_folders, generate_media"
   ]
  },
  {
   "cell_type": "code",
   "execution_count": 4,
   "metadata": {},
   "outputs": [],
   "source": [
    "VideoExample.init_caps(get_video_caps(raw_video_path))\n",
    "VideoExample.init_camera_annotation(os.path.join(processed_data_path, 'elan_out/camera.txt'))\n",
    "AudioExample.init_dataset(AudioFiles(raw_audio_path))"
   ]
  },
  {
   "cell_type": "code",
   "execution_count": 5,
   "metadata": {},
   "outputs": [],
   "source": [
    "annot_exp_path = os.path.join(os.environ['PROC_DATA_PATH'], 'lared_laughter', 'annotation_experiment_2')"
   ]
  },
  {
   "cell_type": "markdown",
   "metadata": {},
   "source": [
    "## Laughter examples"
   ]
  },
  {
   "cell_type": "code",
   "execution_count": 6,
   "metadata": {},
   "outputs": [
    {
     "data": {
      "application/vnd.jupyter.widget-view+json": {
       "model_id": "37acfa3a9ebf499faaa6a49d688b3966",
       "version_major": 2,
       "version_minor": 0
      },
      "text/plain": [
       "  0%|          | 0/1684 [00:00<?, ?it/s]"
      ]
     },
     "metadata": {},
     "output_type": "display_data"
    }
   ],
   "source": [
    "examples_path = os.path.join(annot_exp_path, 'laughter_examples', 'examples.csv')\n",
    "cvat_path = os.path.join(annot_exp_path, 'laughter_examples', 'cvat.json')\n",
    "out_path = os.path.join(annot_exp_path, 'laughter_examples')\n",
    "make_folders(out_path)\n",
    "examples = generate_media(cvat_path, examples_path, out_path)"
   ]
  },
  {
   "cell_type": "code",
   "execution_count": 7,
   "metadata": {},
   "outputs": [],
   "source": [
    "examples_dicts = [ex.to_dict() for ex in examples.values()]\n",
    "pd.DataFrame(examples_dicts).to_csv(os.path.join(annot_exp_path, 'laughter_examples', 'examples_with_rect.csv'))"
   ]
  },
  {
   "cell_type": "markdown",
   "metadata": {},
   "source": [
    "## Speech examples"
   ]
  },
  {
   "cell_type": "code",
   "execution_count": 6,
   "metadata": {},
   "outputs": [
    {
     "data": {
      "application/vnd.jupyter.widget-view+json": {
       "model_id": "a0fad75e32a44a4da0ec4b2823dd08a2",
       "version_major": 2,
       "version_minor": 0
      },
      "text/plain": [
       "  0%|          | 0/444 [00:00<?, ?it/s]"
      ]
     },
     "metadata": {},
     "output_type": "display_data"
    }
   ],
   "source": [
    "examples_path = os.path.join(annot_exp_path, 'speech_examples', 'examples1.csv')\n",
    "cvat_path = os.path.join(annot_exp_path, 'speech_examples', 'cvat1.json')\n",
    "out_path = os.path.join(annot_exp_path, 'speech_examples')\n",
    "make_folders(out_path)\n",
    "examples1 = generate_media(cvat_path, examples_path, out_path)"
   ]
  },
  {
   "cell_type": "code",
   "execution_count": 7,
   "metadata": {},
   "outputs": [
    {
     "data": {
      "application/vnd.jupyter.widget-view+json": {
       "model_id": "f329213a7d814c758af888ce9e92f976",
       "version_major": 2,
       "version_minor": 0
      },
      "text/plain": [
       "  0%|          | 0/341 [00:00<?, ?it/s]"
      ]
     },
     "metadata": {},
     "output_type": "display_data"
    }
   ],
   "source": [
    "examples_path = os.path.join(annot_exp_path, 'speech_examples', 'examples2.csv')\n",
    "cvat_path = os.path.join(annot_exp_path, 'speech_examples', 'cvat2.json')\n",
    "examples2 = generate_media(cvat_path, examples_path, out_path)"
   ]
  },
  {
   "cell_type": "code",
   "execution_count": 10,
   "metadata": {},
   "outputs": [],
   "source": [
    "examples = {**examples1, **examples2}\n",
    "examples_dicts = [ex.to_dict() for ex in examples.values()]\n",
    "pd.DataFrame(examples_dicts).to_csv(os.path.join(annot_exp_path, 'speech_examples', 'examples_with_rect.csv'))"
   ]
  },
  {
   "cell_type": "code",
   "execution_count": null,
   "metadata": {},
   "outputs": [],
   "source": []
  }
 ],
 "metadata": {
  "kernelspec": {
   "display_name": "Python 3.8.13 ('base')",
   "language": "python",
   "name": "python3"
  },
  "language_info": {
   "codemirror_mode": {
    "name": "ipython",
    "version": 3
   },
   "file_extension": ".py",
   "mimetype": "text/x-python",
   "name": "python",
   "nbconvert_exporter": "python",
   "pygments_lexer": "ipython3",
   "version": "3.8.13"
  },
  "orig_nbformat": 4,
  "vscode": {
   "interpreter": {
    "hash": "7ff63645dd16f55240e07095d3c46f4fac3f89ef16802cfaceca713f6cf38dfb"
   }
  }
 },
 "nbformat": 4,
 "nbformat_minor": 2
}
